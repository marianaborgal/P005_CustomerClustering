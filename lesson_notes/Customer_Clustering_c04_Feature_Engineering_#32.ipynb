{
 "cells": [
  {
   "cell_type": "markdown",
   "id": "incorporated-lucas",
   "metadata": {},
   "source": [
    "<font size=6, font color=blue>**PA005: Customer Clustering**"
   ]
  },
  {
   "cell_type": "markdown",
   "id": "swiss-mozambique",
   "metadata": {
    "heading_collapsed": true
   },
   "source": [
    "# Solution Planning"
   ]
  },
  {
   "cell_type": "markdown",
   "id": "worldwide-administration",
   "metadata": {
    "heading_collapsed": true,
    "hidden": true
   },
   "source": [
    "## Input"
   ]
  },
  {
   "cell_type": "markdown",
   "id": "concerned-truth",
   "metadata": {
    "hidden": true
   },
   "source": [
    "- Business Problem\n",
    "    * Select most valuable customers to create a loyalty program called Insiders\n",
    "\n",
    "\n",
    "- Data\n",
    "    * One year of e-commerce sales"
   ]
  },
  {
   "cell_type": "markdown",
   "id": "israeli-rescue",
   "metadata": {
    "heading_collapsed": true,
    "hidden": true
   },
   "source": [
    "## Output"
   ]
  },
  {
   "cell_type": "markdown",
   "id": "latter-chocolate",
   "metadata": {
    "hidden": true
   },
   "source": [
    "* A list of customers that will be part of Insiders\n",
    "* A report answering business questions\n",
    "    1. Who are the eligible customers to participate in the Insiders program? \n",
    "    2. How many customers will be part of the program?\n",
    "    3. What are the main characteristics of these customers? \n",
    "    4. What revenue percentage comes from Insiders?\n",
    "    5. What is the Insiders' expected revenue for the coming months?\n",
    "    6. What are the conditions for a customer to be eligible for the Insiders program? \n",
    "    7. What are the conditions for a customer to be removed from the Insiders program?\n",
    "    8. What is the guarantee that the Insiders program is better than the regular customer database? \n",
    "    9. What actions can the marketing team make to increase the revenue?"
   ]
  },
  {
   "cell_type": "markdown",
   "id": "honey-omega",
   "metadata": {
    "heading_collapsed": true,
    "hidden": true
   },
   "source": [
    "## Tasks"
   ]
  },
  {
   "cell_type": "markdown",
   "id": "portuguese-divide",
   "metadata": {
    "hidden": true
   },
   "source": [
    "* A report answering business questions:\n",
    "    1. Who are the eligible customers to participate in the Insiders program?\n",
    "        - Understand the criteria to a eligible customer. \n",
    "        - Criteria examples:\n",
    "            * Revenue\n",
    "                * High average ticket\n",
    "                * High LTV (lifetime value)\n",
    "                * Low recency\n",
    "                * High basket size\n",
    "                * Low churn probability\n",
    "            * Expenses\n",
    "                * Return rate\n",
    "            * Buying Experience\n",
    "                * High average notes on reviews<br><br>\n",
    "                \n",
    "    2. How many customers will be part of the program?\n",
    "        - Calculate the percentage of customers that belong to Insiders program over the total number of customers.<br><br>\n",
    "                \n",
    "    3. What are the main characteristics of these customers? \n",
    "        - Indicate customer characteristics:\n",
    "            * Age\n",
    "            * City\n",
    "            * Education level\n",
    "            * Localization, etc.\n",
    "        - Indicate consumption characteristics:\n",
    "            * Clusters attributes<br><br>\n",
    "                \n",
    "    4. What revenue percentage comes from Insiders?\n",
    "        - Calculate the percentage of Insiders revenue over the total revenue.<br><br>\n",
    "                \n",
    "    5. What is the Insiders' expected revenue for the coming months?\n",
    "        - Calculate Insiders' LTV\n",
    "        - Calculate Cohort Analysis.<br><br>\n",
    "        \n",
    "    6. What are the conditions for a customer to be eligible for the Insiders program? \n",
    "        - Define verification periodicity (monthly, quarterly, etc.) \n",
    "        - The customer must be similar to a customer on Insiders.<br><br>\n",
    "                \n",
    "    7. What are the conditions for a customer to be removed from the Insiders program?\n",
    "        - Define verification periodicity (monthly, quarterly, etc.) \n",
    "        - The customer must be dissimilar to a customer on Insiders.<br><br>\n",
    "            \n",
    "    8. What is the guarantee that the Insiders program is better than the regular customer database? \n",
    "        - Perform A/B Test\n",
    "        - Perform A/B Bayesian Test  \n",
    "        - Perform Hypothesis Test <br><br>\n",
    "                        \n",
    "    9. What actions can the marketing team make to increase the revenue?\n",
    "        - Discount\n",
    "        - Buying preferences\n",
    "        - Shipping options\n",
    "        - Promote a visit to the company, etc."
   ]
  },
  {
   "cell_type": "markdown",
   "id": "fabulous-compound",
   "metadata": {
    "hidden": true
   },
   "source": [
    "* Solution Benchmark\n",
    "    - Desk Research <br>\n",
    "        <font color=red>* INSERIR EXEMPLOS APLICADOS NO MERCADO </font><br>\n",
    "        * "
   ]
  },
  {
   "cell_type": "markdown",
   "id": "specified-terry",
   "metadata": {
    "heading_collapsed": true
   },
   "source": [
    "# Imports"
   ]
  },
  {
   "cell_type": "code",
   "execution_count": 1,
   "id": "collected-costa",
   "metadata": {
    "ExecuteTime": {
     "end_time": "2021-08-29T15:49:09.700351Z",
     "start_time": "2021-08-29T15:48:57.336381Z"
    },
    "hidden": true
   },
   "outputs": [],
   "source": [
    "import numpy       as np\n",
    "import pandas      as pd\n",
    "import seaborn     as sns\n",
    "import umap.umap_  as umap\n",
    "import regex       as re\n",
    "\n",
    "from IPython.core.display  import HTML\n",
    "from matplotlib            import pyplot           as plt\n",
    "from plotly                import express          as px\n",
    "\n",
    "from sklearn               import cluster          as c\n",
    "from sklearn               import metrics          as m\n",
    "from sklearn               import preprocessing    as pp\n",
    "from yellowbrick.cluster   import KElbowVisualizer, SilhouetteVisualizer "
   ]
  },
  {
   "cell_type": "markdown",
   "id": "ranking-irrigation",
   "metadata": {
    "heading_collapsed": true,
    "hidden": true
   },
   "source": [
    "## Helper Functions"
   ]
  },
  {
   "cell_type": "code",
   "execution_count": 2,
   "id": "reverse-johnston",
   "metadata": {
    "ExecuteTime": {
     "end_time": "2021-08-29T15:49:09.716365Z",
     "start_time": "2021-08-29T15:49:09.701352Z"
    },
    "hidden": true
   },
   "outputs": [],
   "source": [
    "def personal_settings():\n",
    "    # plotly settings\n",
    "    plt.style.use( 'bmh' )\n",
    "    plt.rcParams['figure.figsize'] = [20, 10]\n",
    "    plt.rcParams['font.size'] = 24\n",
    "        \n",
    "    # notebook settings\n",
    "    display(HTML('<style>.container{width:90% !important;}</style>'))\n",
    "    np.set_printoptions(suppress=True)\n",
    "    pd.set_option('display.float_format', '{:.2f}'.format)\n",
    "        \n",
    "    # seaborn settings\n",
    "    sns.set(rc={'figure.figsize':(20,10)})\n",
    "    sns.set_theme(style = 'darkgrid', font_scale = 1.5)"
   ]
  },
  {
   "cell_type": "code",
   "execution_count": 3,
   "id": "amino-detective",
   "metadata": {
    "ExecuteTime": {
     "end_time": "2021-08-29T15:49:09.732380Z",
     "start_time": "2021-08-29T15:49:09.717366Z"
    },
    "hidden": true
   },
   "outputs": [
    {
     "data": {
      "text/html": [
       "<style>.container{width:90% !important;}</style>"
      ],
      "text/plain": [
       "<IPython.core.display.HTML object>"
      ]
     },
     "metadata": {},
     "output_type": "display_data"
    }
   ],
   "source": [
    "personal_settings()"
   ]
  },
  {
   "cell_type": "markdown",
   "id": "raised-ordering",
   "metadata": {
    "heading_collapsed": true,
    "hidden": true
   },
   "source": [
    "## Load Dataset"
   ]
  },
  {
   "cell_type": "code",
   "execution_count": 4,
   "id": "registered-farming",
   "metadata": {
    "ExecuteTime": {
     "end_time": "2021-08-29T15:49:10.244845Z",
     "start_time": "2021-08-29T15:49:09.733381Z"
    },
    "hidden": true
   },
   "outputs": [],
   "source": [
    "df_raw = pd.read_csv(r'../data/raw/ecommerce.csv')"
   ]
  },
  {
   "cell_type": "code",
   "execution_count": 5,
   "id": "manual-shipping",
   "metadata": {
    "ExecuteTime": {
     "end_time": "2021-08-29T15:49:10.260859Z",
     "start_time": "2021-08-29T15:49:10.245846Z"
    },
    "hidden": true
   },
   "outputs": [
    {
     "data": {
      "text/html": [
       "<div>\n",
       "<style scoped>\n",
       "    .dataframe tbody tr th:only-of-type {\n",
       "        vertical-align: middle;\n",
       "    }\n",
       "\n",
       "    .dataframe tbody tr th {\n",
       "        vertical-align: top;\n",
       "    }\n",
       "\n",
       "    .dataframe thead th {\n",
       "        text-align: right;\n",
       "    }\n",
       "</style>\n",
       "<table border=\"1\" class=\"dataframe\">\n",
       "  <thead>\n",
       "    <tr style=\"text-align: right;\">\n",
       "      <th></th>\n",
       "      <th>InvoiceNo</th>\n",
       "      <th>StockCode</th>\n",
       "      <th>Description</th>\n",
       "      <th>Quantity</th>\n",
       "      <th>InvoiceDate</th>\n",
       "      <th>UnitPrice</th>\n",
       "      <th>CustomerID</th>\n",
       "      <th>Country</th>\n",
       "      <th>Unnamed: 8</th>\n",
       "    </tr>\n",
       "  </thead>\n",
       "  <tbody>\n",
       "    <tr>\n",
       "      <th>0</th>\n",
       "      <td>536365</td>\n",
       "      <td>85123A</td>\n",
       "      <td>WHITE HANGING HEART T-LIGHT HOLDER</td>\n",
       "      <td>6</td>\n",
       "      <td>29-Nov-16</td>\n",
       "      <td>2.55</td>\n",
       "      <td>17850.00</td>\n",
       "      <td>United Kingdom</td>\n",
       "      <td>NaN</td>\n",
       "    </tr>\n",
       "    <tr>\n",
       "      <th>1</th>\n",
       "      <td>536365</td>\n",
       "      <td>71053</td>\n",
       "      <td>WHITE METAL LANTERN</td>\n",
       "      <td>6</td>\n",
       "      <td>29-Nov-16</td>\n",
       "      <td>3.39</td>\n",
       "      <td>17850.00</td>\n",
       "      <td>United Kingdom</td>\n",
       "      <td>NaN</td>\n",
       "    </tr>\n",
       "    <tr>\n",
       "      <th>2</th>\n",
       "      <td>536365</td>\n",
       "      <td>84406B</td>\n",
       "      <td>CREAM CUPID HEARTS COAT HANGER</td>\n",
       "      <td>8</td>\n",
       "      <td>29-Nov-16</td>\n",
       "      <td>2.75</td>\n",
       "      <td>17850.00</td>\n",
       "      <td>United Kingdom</td>\n",
       "      <td>NaN</td>\n",
       "    </tr>\n",
       "    <tr>\n",
       "      <th>3</th>\n",
       "      <td>536365</td>\n",
       "      <td>84029G</td>\n",
       "      <td>KNITTED UNION FLAG HOT WATER BOTTLE</td>\n",
       "      <td>6</td>\n",
       "      <td>29-Nov-16</td>\n",
       "      <td>3.39</td>\n",
       "      <td>17850.00</td>\n",
       "      <td>United Kingdom</td>\n",
       "      <td>NaN</td>\n",
       "    </tr>\n",
       "    <tr>\n",
       "      <th>4</th>\n",
       "      <td>536365</td>\n",
       "      <td>84029E</td>\n",
       "      <td>RED WOOLLY HOTTIE WHITE HEART.</td>\n",
       "      <td>6</td>\n",
       "      <td>29-Nov-16</td>\n",
       "      <td>3.39</td>\n",
       "      <td>17850.00</td>\n",
       "      <td>United Kingdom</td>\n",
       "      <td>NaN</td>\n",
       "    </tr>\n",
       "  </tbody>\n",
       "</table>\n",
       "</div>"
      ],
      "text/plain": [
       "  InvoiceNo StockCode                          Description  Quantity  \\\n",
       "0    536365    85123A   WHITE HANGING HEART T-LIGHT HOLDER         6   \n",
       "1    536365     71053                  WHITE METAL LANTERN         6   \n",
       "2    536365    84406B       CREAM CUPID HEARTS COAT HANGER         8   \n",
       "3    536365    84029G  KNITTED UNION FLAG HOT WATER BOTTLE         6   \n",
       "4    536365    84029E       RED WOOLLY HOTTIE WHITE HEART.         6   \n",
       "\n",
       "  InvoiceDate  UnitPrice  CustomerID         Country  Unnamed: 8  \n",
       "0   29-Nov-16       2.55    17850.00  United Kingdom         NaN  \n",
       "1   29-Nov-16       3.39    17850.00  United Kingdom         NaN  \n",
       "2   29-Nov-16       2.75    17850.00  United Kingdom         NaN  \n",
       "3   29-Nov-16       3.39    17850.00  United Kingdom         NaN  \n",
       "4   29-Nov-16       3.39    17850.00  United Kingdom         NaN  "
      ]
     },
     "execution_count": 5,
     "metadata": {},
     "output_type": "execute_result"
    }
   ],
   "source": [
    "df_raw.head()"
   ]
  },
  {
   "cell_type": "code",
   "execution_count": 6,
   "id": "innovative-salmon",
   "metadata": {
    "ExecuteTime": {
     "end_time": "2021-08-29T15:49:10.292889Z",
     "start_time": "2021-08-29T15:49:10.261860Z"
    },
    "hidden": true
   },
   "outputs": [],
   "source": [
    "# drop 'unnamed: 8' column\n",
    "df_raw = df_raw.drop(columns=['Unnamed: 8'], axis =1)"
   ]
  },
  {
   "cell_type": "markdown",
   "id": "incorporated-casting",
   "metadata": {
    "ExecuteTime": {
     "end_time": "2021-05-10T20:38:59.394034Z",
     "start_time": "2021-05-10T20:38:59.382023Z"
    },
    "heading_collapsed": true
   },
   "source": [
    "# Data Description"
   ]
  },
  {
   "cell_type": "code",
   "execution_count": 7,
   "id": "minor-reservoir",
   "metadata": {
    "ExecuteTime": {
     "end_time": "2021-08-29T15:49:10.308903Z",
     "start_time": "2021-08-29T15:49:10.293890Z"
    },
    "hidden": true
   },
   "outputs": [],
   "source": [
    "df2 = df_raw.copy()"
   ]
  },
  {
   "cell_type": "markdown",
   "id": "floating-nigeria",
   "metadata": {
    "heading_collapsed": true,
    "hidden": true
   },
   "source": [
    "## Rename Columns"
   ]
  },
  {
   "cell_type": "code",
   "execution_count": 8,
   "id": "needed-husband",
   "metadata": {
    "ExecuteTime": {
     "end_time": "2021-08-29T15:49:10.324918Z",
     "start_time": "2021-08-29T15:49:10.310905Z"
    },
    "hidden": true
   },
   "outputs": [
    {
     "data": {
      "text/plain": [
       "Index(['InvoiceNo', 'StockCode', 'Description', 'Quantity', 'InvoiceDate',\n",
       "       'UnitPrice', 'CustomerID', 'Country'],\n",
       "      dtype='object')"
      ]
     },
     "execution_count": 8,
     "metadata": {},
     "output_type": "execute_result"
    }
   ],
   "source": [
    "df_raw.columns"
   ]
  },
  {
   "cell_type": "code",
   "execution_count": 9,
   "id": "combined-chicken",
   "metadata": {
    "ExecuteTime": {
     "end_time": "2021-08-29T15:49:10.340932Z",
     "start_time": "2021-08-29T15:49:10.325919Z"
    },
    "hidden": true
   },
   "outputs": [
    {
     "data": {
      "text/html": [
       "<div>\n",
       "<style scoped>\n",
       "    .dataframe tbody tr th:only-of-type {\n",
       "        vertical-align: middle;\n",
       "    }\n",
       "\n",
       "    .dataframe tbody tr th {\n",
       "        vertical-align: top;\n",
       "    }\n",
       "\n",
       "    .dataframe thead th {\n",
       "        text-align: right;\n",
       "    }\n",
       "</style>\n",
       "<table border=\"1\" class=\"dataframe\">\n",
       "  <thead>\n",
       "    <tr style=\"text-align: right;\">\n",
       "      <th></th>\n",
       "      <th>invoice_no</th>\n",
       "      <th>stock_code</th>\n",
       "      <th>description</th>\n",
       "      <th>quantity</th>\n",
       "      <th>invoice_date</th>\n",
       "      <th>unit_price</th>\n",
       "      <th>customer_id</th>\n",
       "      <th>country</th>\n",
       "    </tr>\n",
       "  </thead>\n",
       "  <tbody>\n",
       "    <tr>\n",
       "      <th>0</th>\n",
       "      <td>536365</td>\n",
       "      <td>85123A</td>\n",
       "      <td>WHITE HANGING HEART T-LIGHT HOLDER</td>\n",
       "      <td>6</td>\n",
       "      <td>29-Nov-16</td>\n",
       "      <td>2.55</td>\n",
       "      <td>17850.00</td>\n",
       "      <td>United Kingdom</td>\n",
       "    </tr>\n",
       "    <tr>\n",
       "      <th>1</th>\n",
       "      <td>536365</td>\n",
       "      <td>71053</td>\n",
       "      <td>WHITE METAL LANTERN</td>\n",
       "      <td>6</td>\n",
       "      <td>29-Nov-16</td>\n",
       "      <td>3.39</td>\n",
       "      <td>17850.00</td>\n",
       "      <td>United Kingdom</td>\n",
       "    </tr>\n",
       "    <tr>\n",
       "      <th>2</th>\n",
       "      <td>536365</td>\n",
       "      <td>84406B</td>\n",
       "      <td>CREAM CUPID HEARTS COAT HANGER</td>\n",
       "      <td>8</td>\n",
       "      <td>29-Nov-16</td>\n",
       "      <td>2.75</td>\n",
       "      <td>17850.00</td>\n",
       "      <td>United Kingdom</td>\n",
       "    </tr>\n",
       "    <tr>\n",
       "      <th>3</th>\n",
       "      <td>536365</td>\n",
       "      <td>84029G</td>\n",
       "      <td>KNITTED UNION FLAG HOT WATER BOTTLE</td>\n",
       "      <td>6</td>\n",
       "      <td>29-Nov-16</td>\n",
       "      <td>3.39</td>\n",
       "      <td>17850.00</td>\n",
       "      <td>United Kingdom</td>\n",
       "    </tr>\n",
       "    <tr>\n",
       "      <th>4</th>\n",
       "      <td>536365</td>\n",
       "      <td>84029E</td>\n",
       "      <td>RED WOOLLY HOTTIE WHITE HEART.</td>\n",
       "      <td>6</td>\n",
       "      <td>29-Nov-16</td>\n",
       "      <td>3.39</td>\n",
       "      <td>17850.00</td>\n",
       "      <td>United Kingdom</td>\n",
       "    </tr>\n",
       "  </tbody>\n",
       "</table>\n",
       "</div>"
      ],
      "text/plain": [
       "  invoice_no stock_code                          description  quantity  \\\n",
       "0     536365     85123A   WHITE HANGING HEART T-LIGHT HOLDER         6   \n",
       "1     536365      71053                  WHITE METAL LANTERN         6   \n",
       "2     536365     84406B       CREAM CUPID HEARTS COAT HANGER         8   \n",
       "3     536365     84029G  KNITTED UNION FLAG HOT WATER BOTTLE         6   \n",
       "4     536365     84029E       RED WOOLLY HOTTIE WHITE HEART.         6   \n",
       "\n",
       "  invoice_date  unit_price  customer_id         country  \n",
       "0    29-Nov-16        2.55     17850.00  United Kingdom  \n",
       "1    29-Nov-16        3.39     17850.00  United Kingdom  \n",
       "2    29-Nov-16        2.75     17850.00  United Kingdom  \n",
       "3    29-Nov-16        3.39     17850.00  United Kingdom  \n",
       "4    29-Nov-16        3.39     17850.00  United Kingdom  "
      ]
     },
     "execution_count": 9,
     "metadata": {},
     "output_type": "execute_result"
    }
   ],
   "source": [
    "cols_new = ['invoice_no','stock_code','description','quantity','invoice_date','unit_price','customer_id','country']\n",
    "df2.columns = cols_new\n",
    "df2.head()"
   ]
  },
  {
   "cell_type": "markdown",
   "id": "genetic-hazard",
   "metadata": {
    "heading_collapsed": true,
    "hidden": true
   },
   "source": [
    "## Data Dimensions"
   ]
  },
  {
   "cell_type": "code",
   "execution_count": 10,
   "id": "communist-township",
   "metadata": {
    "ExecuteTime": {
     "end_time": "2021-08-29T15:49:10.356947Z",
     "start_time": "2021-08-29T15:49:10.341933Z"
    },
    "hidden": true
   },
   "outputs": [
    {
     "name": "stdout",
     "output_type": "stream",
     "text": [
      "Number of rows: 541909\n",
      "Number of cols: 8\n"
     ]
    }
   ],
   "source": [
    "print('Number of rows: {}'.format(df2.shape[0]))\n",
    "print('Number of cols: {}'.format(df2.shape[1]))"
   ]
  },
  {
   "cell_type": "markdown",
   "id": "settled-uganda",
   "metadata": {
    "heading_collapsed": true,
    "hidden": true
   },
   "source": [
    "## Data Types"
   ]
  },
  {
   "cell_type": "code",
   "execution_count": 11,
   "id": "medieval-complaint",
   "metadata": {
    "ExecuteTime": {
     "end_time": "2021-08-29T15:49:10.372961Z",
     "start_time": "2021-08-29T15:49:10.357948Z"
    },
    "hidden": true
   },
   "outputs": [
    {
     "data": {
      "text/plain": [
       "invoice_no       object\n",
       "stock_code       object\n",
       "description      object\n",
       "quantity          int64\n",
       "invoice_date     object\n",
       "unit_price      float64\n",
       "customer_id     float64\n",
       "country          object\n",
       "dtype: object"
      ]
     },
     "execution_count": 11,
     "metadata": {},
     "output_type": "execute_result"
    }
   ],
   "source": [
    "df2.dtypes"
   ]
  },
  {
   "cell_type": "code",
   "execution_count": 12,
   "id": "identified-concert",
   "metadata": {
    "ExecuteTime": {
     "end_time": "2021-08-29T15:49:10.388976Z",
     "start_time": "2021-08-29T15:49:10.373962Z"
    },
    "hidden": true
   },
   "outputs": [
    {
     "data": {
      "text/html": [
       "<div>\n",
       "<style scoped>\n",
       "    .dataframe tbody tr th:only-of-type {\n",
       "        vertical-align: middle;\n",
       "    }\n",
       "\n",
       "    .dataframe tbody tr th {\n",
       "        vertical-align: top;\n",
       "    }\n",
       "\n",
       "    .dataframe thead th {\n",
       "        text-align: right;\n",
       "    }\n",
       "</style>\n",
       "<table border=\"1\" class=\"dataframe\">\n",
       "  <thead>\n",
       "    <tr style=\"text-align: right;\">\n",
       "      <th></th>\n",
       "      <th>invoice_no</th>\n",
       "      <th>stock_code</th>\n",
       "      <th>description</th>\n",
       "      <th>quantity</th>\n",
       "      <th>invoice_date</th>\n",
       "      <th>unit_price</th>\n",
       "      <th>customer_id</th>\n",
       "      <th>country</th>\n",
       "    </tr>\n",
       "  </thead>\n",
       "  <tbody>\n",
       "    <tr>\n",
       "      <th>0</th>\n",
       "      <td>536365</td>\n",
       "      <td>85123A</td>\n",
       "      <td>WHITE HANGING HEART T-LIGHT HOLDER</td>\n",
       "      <td>6</td>\n",
       "      <td>29-Nov-16</td>\n",
       "      <td>2.55</td>\n",
       "      <td>17850.00</td>\n",
       "      <td>United Kingdom</td>\n",
       "    </tr>\n",
       "    <tr>\n",
       "      <th>1</th>\n",
       "      <td>536365</td>\n",
       "      <td>71053</td>\n",
       "      <td>WHITE METAL LANTERN</td>\n",
       "      <td>6</td>\n",
       "      <td>29-Nov-16</td>\n",
       "      <td>3.39</td>\n",
       "      <td>17850.00</td>\n",
       "      <td>United Kingdom</td>\n",
       "    </tr>\n",
       "    <tr>\n",
       "      <th>2</th>\n",
       "      <td>536365</td>\n",
       "      <td>84406B</td>\n",
       "      <td>CREAM CUPID HEARTS COAT HANGER</td>\n",
       "      <td>8</td>\n",
       "      <td>29-Nov-16</td>\n",
       "      <td>2.75</td>\n",
       "      <td>17850.00</td>\n",
       "      <td>United Kingdom</td>\n",
       "    </tr>\n",
       "    <tr>\n",
       "      <th>3</th>\n",
       "      <td>536365</td>\n",
       "      <td>84029G</td>\n",
       "      <td>KNITTED UNION FLAG HOT WATER BOTTLE</td>\n",
       "      <td>6</td>\n",
       "      <td>29-Nov-16</td>\n",
       "      <td>3.39</td>\n",
       "      <td>17850.00</td>\n",
       "      <td>United Kingdom</td>\n",
       "    </tr>\n",
       "    <tr>\n",
       "      <th>4</th>\n",
       "      <td>536365</td>\n",
       "      <td>84029E</td>\n",
       "      <td>RED WOOLLY HOTTIE WHITE HEART.</td>\n",
       "      <td>6</td>\n",
       "      <td>29-Nov-16</td>\n",
       "      <td>3.39</td>\n",
       "      <td>17850.00</td>\n",
       "      <td>United Kingdom</td>\n",
       "    </tr>\n",
       "  </tbody>\n",
       "</table>\n",
       "</div>"
      ],
      "text/plain": [
       "  invoice_no stock_code                          description  quantity  \\\n",
       "0     536365     85123A   WHITE HANGING HEART T-LIGHT HOLDER         6   \n",
       "1     536365      71053                  WHITE METAL LANTERN         6   \n",
       "2     536365     84406B       CREAM CUPID HEARTS COAT HANGER         8   \n",
       "3     536365     84029G  KNITTED UNION FLAG HOT WATER BOTTLE         6   \n",
       "4     536365     84029E       RED WOOLLY HOTTIE WHITE HEART.         6   \n",
       "\n",
       "  invoice_date  unit_price  customer_id         country  \n",
       "0    29-Nov-16        2.55     17850.00  United Kingdom  \n",
       "1    29-Nov-16        3.39     17850.00  United Kingdom  \n",
       "2    29-Nov-16        2.75     17850.00  United Kingdom  \n",
       "3    29-Nov-16        3.39     17850.00  United Kingdom  \n",
       "4    29-Nov-16        3.39     17850.00  United Kingdom  "
      ]
     },
     "execution_count": 12,
     "metadata": {},
     "output_type": "execute_result"
    }
   ],
   "source": [
    "df2.head()"
   ]
  },
  {
   "cell_type": "markdown",
   "id": "peaceful-scholarship",
   "metadata": {
    "heading_collapsed": true,
    "hidden": true
   },
   "source": [
    "## Check NA"
   ]
  },
  {
   "cell_type": "code",
   "execution_count": 13,
   "id": "chemical-straight",
   "metadata": {
    "ExecuteTime": {
     "end_time": "2021-08-29T15:49:10.501077Z",
     "start_time": "2021-08-29T15:49:10.389977Z"
    },
    "hidden": true
   },
   "outputs": [
    {
     "data": {
      "text/plain": [
       "invoice_no           0\n",
       "stock_code           0\n",
       "description       1454\n",
       "quantity             0\n",
       "invoice_date         0\n",
       "unit_price           0\n",
       "customer_id     135080\n",
       "country              0\n",
       "dtype: int64"
      ]
     },
     "execution_count": 13,
     "metadata": {},
     "output_type": "execute_result"
    }
   ],
   "source": [
    "df2.isna().sum()"
   ]
  },
  {
   "cell_type": "markdown",
   "id": "separate-tissue",
   "metadata": {
    "heading_collapsed": true,
    "hidden": true
   },
   "source": [
    "## Replace NA"
   ]
  },
  {
   "cell_type": "code",
   "execution_count": 14,
   "id": "pressed-scenario",
   "metadata": {
    "ExecuteTime": {
     "end_time": "2021-08-29T15:49:14.114677Z",
     "start_time": "2021-08-29T15:49:14.105669Z"
    },
    "hidden": true
   },
   "outputs": [],
   "source": [
    "# # c01 - removing NA\n",
    "# df2 = df2.dropna(subset=['description','customer_id'])\n",
    "# print ('Removed data: {:.2f}'.format(1 - df2.shape[0]/df_raw.shape[0]))"
   ]
  },
  {
   "cell_type": "code",
   "execution_count": 15,
   "id": "upper-extraction",
   "metadata": {
    "ExecuteTime": {
     "end_time": "2021-08-29T15:49:14.402939Z",
     "start_time": "2021-08-29T15:49:14.347889Z"
    },
    "hidden": true
   },
   "outputs": [
    {
     "name": "stdout",
     "output_type": "stream",
     "text": [
      "Number of transitions without 'customer_id': 135080\n",
      "Number of transitions with 'customer_id': 406829 \n",
      "\n",
      "\n",
      "Checking if there is 'invoice_no' from dataset without 'customer_id' on the dataset that has 'customer_id':\n",
      "Empty DataFrame\n",
      "Columns: [invoice_no, stock_code, description, quantity, invoice_date, unit_price, customer_id, country]\n",
      "Index: []\n",
      "\n",
      "No values found\n"
     ]
    }
   ],
   "source": [
    "# c.04 - checking if there is the same 'invoice_no' with and without 'customer_id'\n",
    "df_missingID = df2.loc[df2['customer_id'].isna(),:]\n",
    "df_notmissingID = df2.loc[~df2['customer_id'].isna(),:]\n",
    "\n",
    "print(\"Number of transitions without 'customer_id':\", df_missingID.shape[0])\n",
    "print(\"Number of transitions with 'customer_id':\", df_notmissingID.shape[0], \"\\n\\n\")\n",
    "\n",
    "# creating a list of 'invoice_no' that doesn't have 'customer_id'\n",
    "missingID_invoice = df_missingID['invoice_no'].drop_duplicates().tolist()\n",
    "\n",
    "# checking values from 'missingID_invoice' in 'df_missingID' dataset\n",
    "print(\"Checking if there is 'invoice_no' from dataset without 'customer_id' on the dataset that has 'customer_id':\")\n",
    "print( df_notmissingID.loc[df_notmissingID['invoice_no'].isin(missingID_invoice),:] )\n",
    "print(\"\\nNo values found\")"
   ]
  },
  {
   "cell_type": "code",
   "execution_count": 16,
   "id": "several-blowing",
   "metadata": {
    "ExecuteTime": {
     "end_time": "2021-08-29T15:49:14.851346Z",
     "start_time": "2021-08-29T15:49:14.610127Z"
    },
    "hidden": true
   },
   "outputs": [
    {
     "data": {
      "text/html": [
       "<div>\n",
       "<style scoped>\n",
       "    .dataframe tbody tr th:only-of-type {\n",
       "        vertical-align: middle;\n",
       "    }\n",
       "\n",
       "    .dataframe tbody tr th {\n",
       "        vertical-align: top;\n",
       "    }\n",
       "\n",
       "    .dataframe thead th {\n",
       "        text-align: right;\n",
       "    }\n",
       "</style>\n",
       "<table border=\"1\" class=\"dataframe\">\n",
       "  <thead>\n",
       "    <tr style=\"text-align: right;\">\n",
       "      <th></th>\n",
       "      <th>invoice_no</th>\n",
       "      <th>stock_code</th>\n",
       "      <th>description</th>\n",
       "      <th>quantity</th>\n",
       "      <th>invoice_date</th>\n",
       "      <th>unit_price</th>\n",
       "      <th>customer_id</th>\n",
       "      <th>country</th>\n",
       "    </tr>\n",
       "  </thead>\n",
       "  <tbody>\n",
       "    <tr>\n",
       "      <th>0</th>\n",
       "      <td>536365</td>\n",
       "      <td>85123A</td>\n",
       "      <td>WHITE HANGING HEART T-LIGHT HOLDER</td>\n",
       "      <td>6</td>\n",
       "      <td>29-Nov-16</td>\n",
       "      <td>2.55</td>\n",
       "      <td>17850.00</td>\n",
       "      <td>United Kingdom</td>\n",
       "    </tr>\n",
       "    <tr>\n",
       "      <th>1</th>\n",
       "      <td>536365</td>\n",
       "      <td>71053</td>\n",
       "      <td>WHITE METAL LANTERN</td>\n",
       "      <td>6</td>\n",
       "      <td>29-Nov-16</td>\n",
       "      <td>3.39</td>\n",
       "      <td>17850.00</td>\n",
       "      <td>United Kingdom</td>\n",
       "    </tr>\n",
       "    <tr>\n",
       "      <th>2</th>\n",
       "      <td>536365</td>\n",
       "      <td>84406B</td>\n",
       "      <td>CREAM CUPID HEARTS COAT HANGER</td>\n",
       "      <td>8</td>\n",
       "      <td>29-Nov-16</td>\n",
       "      <td>2.75</td>\n",
       "      <td>17850.00</td>\n",
       "      <td>United Kingdom</td>\n",
       "    </tr>\n",
       "    <tr>\n",
       "      <th>3</th>\n",
       "      <td>536365</td>\n",
       "      <td>84029G</td>\n",
       "      <td>KNITTED UNION FLAG HOT WATER BOTTLE</td>\n",
       "      <td>6</td>\n",
       "      <td>29-Nov-16</td>\n",
       "      <td>3.39</td>\n",
       "      <td>17850.00</td>\n",
       "      <td>United Kingdom</td>\n",
       "    </tr>\n",
       "    <tr>\n",
       "      <th>4</th>\n",
       "      <td>536365</td>\n",
       "      <td>84029E</td>\n",
       "      <td>RED WOOLLY HOTTIE WHITE HEART.</td>\n",
       "      <td>6</td>\n",
       "      <td>29-Nov-16</td>\n",
       "      <td>3.39</td>\n",
       "      <td>17850.00</td>\n",
       "      <td>United Kingdom</td>\n",
       "    </tr>\n",
       "  </tbody>\n",
       "</table>\n",
       "</div>"
      ],
      "text/plain": [
       "  invoice_no stock_code                          description  quantity  \\\n",
       "0     536365     85123A   WHITE HANGING HEART T-LIGHT HOLDER         6   \n",
       "1     536365      71053                  WHITE METAL LANTERN         6   \n",
       "2     536365     84406B       CREAM CUPID HEARTS COAT HANGER         8   \n",
       "3     536365     84029G  KNITTED UNION FLAG HOT WATER BOTTLE         6   \n",
       "4     536365     84029E       RED WOOLLY HOTTIE WHITE HEART.         6   \n",
       "\n",
       "  invoice_date  unit_price  customer_id         country  \n",
       "0    29-Nov-16        2.55     17850.00  United Kingdom  \n",
       "1    29-Nov-16        3.39     17850.00  United Kingdom  \n",
       "2    29-Nov-16        2.75     17850.00  United Kingdom  \n",
       "3    29-Nov-16        3.39     17850.00  United Kingdom  \n",
       "4    29-Nov-16        3.39     17850.00  United Kingdom  "
      ]
     },
     "execution_count": 16,
     "metadata": {},
     "output_type": "execute_result"
    }
   ],
   "source": [
    "# c.04 - creating new 'customer_id'\n",
    "\n",
    "# creating reference\n",
    "df_invoices_noID = pd.DataFrame(df_missingID['invoice_no'].drop_duplicates())\n",
    "df_invoices_noID['new_customer_id'] = np.arange(19000, 19000+len(df_invoices_noID), 1)\n",
    "df_invoices_noID.head()\n",
    "\n",
    "# merging original (df2) with reference (df_invoices_noID)\n",
    "df2 = pd.merge(df2, df_invoices_noID, on='invoice_no', how='left')\n",
    "\n",
    "# combining the id's columns and dropping 'new_customer_id' column\n",
    "df2['customer_id'] = df2['customer_id'].combine_first(df2['new_customer_id'])\n",
    "df2 = df2.drop(columns=['new_customer_id'], axis=1)\n",
    "df2.head()"
   ]
  },
  {
   "cell_type": "code",
   "execution_count": 17,
   "id": "suspended-chemistry",
   "metadata": {
    "ExecuteTime": {
     "end_time": "2021-08-29T15:49:14.979462Z",
     "start_time": "2021-08-29T15:49:14.889380Z"
    },
    "hidden": true
   },
   "outputs": [
    {
     "data": {
      "text/plain": [
       "invoice_no         0\n",
       "stock_code         0\n",
       "description     1454\n",
       "quantity           0\n",
       "invoice_date       0\n",
       "unit_price         0\n",
       "customer_id        0\n",
       "country            0\n",
       "dtype: int64"
      ]
     },
     "execution_count": 17,
     "metadata": {},
     "output_type": "execute_result"
    }
   ],
   "source": [
    "df2.isna().sum()"
   ]
  },
  {
   "cell_type": "markdown",
   "id": "cordless-london",
   "metadata": {
    "heading_collapsed": true,
    "hidden": true
   },
   "source": [
    "## Change dtypes"
   ]
  },
  {
   "cell_type": "code",
   "execution_count": 18,
   "id": "harmful-creation",
   "metadata": {
    "ExecuteTime": {
     "end_time": "2021-08-29T15:49:15.379825Z",
     "start_time": "2021-08-29T15:49:15.373820Z"
    },
    "hidden": true
   },
   "outputs": [
    {
     "data": {
      "text/plain": [
       "invoice_no       object\n",
       "stock_code       object\n",
       "description      object\n",
       "quantity          int64\n",
       "invoice_date     object\n",
       "unit_price      float64\n",
       "customer_id     float64\n",
       "country          object\n",
       "dtype: object"
      ]
     },
     "execution_count": 18,
     "metadata": {},
     "output_type": "execute_result"
    }
   ],
   "source": [
    "df2.dtypes"
   ]
  },
  {
   "cell_type": "code",
   "execution_count": 19,
   "id": "preliminary-reality",
   "metadata": {
    "ExecuteTime": {
     "end_time": "2021-08-29T15:49:15.604028Z",
     "start_time": "2021-08-29T15:49:15.590016Z"
    },
    "hidden": true
   },
   "outputs": [
    {
     "data": {
      "text/html": [
       "<div>\n",
       "<style scoped>\n",
       "    .dataframe tbody tr th:only-of-type {\n",
       "        vertical-align: middle;\n",
       "    }\n",
       "\n",
       "    .dataframe tbody tr th {\n",
       "        vertical-align: top;\n",
       "    }\n",
       "\n",
       "    .dataframe thead th {\n",
       "        text-align: right;\n",
       "    }\n",
       "</style>\n",
       "<table border=\"1\" class=\"dataframe\">\n",
       "  <thead>\n",
       "    <tr style=\"text-align: right;\">\n",
       "      <th></th>\n",
       "      <th>invoice_no</th>\n",
       "      <th>stock_code</th>\n",
       "      <th>description</th>\n",
       "      <th>quantity</th>\n",
       "      <th>invoice_date</th>\n",
       "      <th>unit_price</th>\n",
       "      <th>customer_id</th>\n",
       "      <th>country</th>\n",
       "    </tr>\n",
       "  </thead>\n",
       "  <tbody>\n",
       "    <tr>\n",
       "      <th>0</th>\n",
       "      <td>536365</td>\n",
       "      <td>85123A</td>\n",
       "      <td>WHITE HANGING HEART T-LIGHT HOLDER</td>\n",
       "      <td>6</td>\n",
       "      <td>29-Nov-16</td>\n",
       "      <td>2.55</td>\n",
       "      <td>17850.00</td>\n",
       "      <td>United Kingdom</td>\n",
       "    </tr>\n",
       "    <tr>\n",
       "      <th>1</th>\n",
       "      <td>536365</td>\n",
       "      <td>71053</td>\n",
       "      <td>WHITE METAL LANTERN</td>\n",
       "      <td>6</td>\n",
       "      <td>29-Nov-16</td>\n",
       "      <td>3.39</td>\n",
       "      <td>17850.00</td>\n",
       "      <td>United Kingdom</td>\n",
       "    </tr>\n",
       "    <tr>\n",
       "      <th>2</th>\n",
       "      <td>536365</td>\n",
       "      <td>84406B</td>\n",
       "      <td>CREAM CUPID HEARTS COAT HANGER</td>\n",
       "      <td>8</td>\n",
       "      <td>29-Nov-16</td>\n",
       "      <td>2.75</td>\n",
       "      <td>17850.00</td>\n",
       "      <td>United Kingdom</td>\n",
       "    </tr>\n",
       "    <tr>\n",
       "      <th>3</th>\n",
       "      <td>536365</td>\n",
       "      <td>84029G</td>\n",
       "      <td>KNITTED UNION FLAG HOT WATER BOTTLE</td>\n",
       "      <td>6</td>\n",
       "      <td>29-Nov-16</td>\n",
       "      <td>3.39</td>\n",
       "      <td>17850.00</td>\n",
       "      <td>United Kingdom</td>\n",
       "    </tr>\n",
       "    <tr>\n",
       "      <th>4</th>\n",
       "      <td>536365</td>\n",
       "      <td>84029E</td>\n",
       "      <td>RED WOOLLY HOTTIE WHITE HEART.</td>\n",
       "      <td>6</td>\n",
       "      <td>29-Nov-16</td>\n",
       "      <td>3.39</td>\n",
       "      <td>17850.00</td>\n",
       "      <td>United Kingdom</td>\n",
       "    </tr>\n",
       "  </tbody>\n",
       "</table>\n",
       "</div>"
      ],
      "text/plain": [
       "  invoice_no stock_code                          description  quantity  \\\n",
       "0     536365     85123A   WHITE HANGING HEART T-LIGHT HOLDER         6   \n",
       "1     536365      71053                  WHITE METAL LANTERN         6   \n",
       "2     536365     84406B       CREAM CUPID HEARTS COAT HANGER         8   \n",
       "3     536365     84029G  KNITTED UNION FLAG HOT WATER BOTTLE         6   \n",
       "4     536365     84029E       RED WOOLLY HOTTIE WHITE HEART.         6   \n",
       "\n",
       "  invoice_date  unit_price  customer_id         country  \n",
       "0    29-Nov-16        2.55     17850.00  United Kingdom  \n",
       "1    29-Nov-16        3.39     17850.00  United Kingdom  \n",
       "2    29-Nov-16        2.75     17850.00  United Kingdom  \n",
       "3    29-Nov-16        3.39     17850.00  United Kingdom  \n",
       "4    29-Nov-16        3.39     17850.00  United Kingdom  "
      ]
     },
     "execution_count": 19,
     "metadata": {},
     "output_type": "execute_result"
    }
   ],
   "source": [
    "df2.head()"
   ]
  },
  {
   "cell_type": "code",
   "execution_count": 20,
   "id": "soviet-lightning",
   "metadata": {
    "ExecuteTime": {
     "end_time": "2021-08-29T15:49:15.954346Z",
     "start_time": "2021-08-29T15:49:15.882281Z"
    },
    "hidden": true,
    "scrolled": true
   },
   "outputs": [
    {
     "data": {
      "text/html": [
       "<div>\n",
       "<style scoped>\n",
       "    .dataframe tbody tr th:only-of-type {\n",
       "        vertical-align: middle;\n",
       "    }\n",
       "\n",
       "    .dataframe tbody tr th {\n",
       "        vertical-align: top;\n",
       "    }\n",
       "\n",
       "    .dataframe thead th {\n",
       "        text-align: right;\n",
       "    }\n",
       "</style>\n",
       "<table border=\"1\" class=\"dataframe\">\n",
       "  <thead>\n",
       "    <tr style=\"text-align: right;\">\n",
       "      <th></th>\n",
       "      <th>invoice_no</th>\n",
       "      <th>stock_code</th>\n",
       "      <th>description</th>\n",
       "      <th>quantity</th>\n",
       "      <th>invoice_date</th>\n",
       "      <th>unit_price</th>\n",
       "      <th>customer_id</th>\n",
       "      <th>country</th>\n",
       "    </tr>\n",
       "  </thead>\n",
       "  <tbody>\n",
       "    <tr>\n",
       "      <th>0</th>\n",
       "      <td>536365</td>\n",
       "      <td>85123A</td>\n",
       "      <td>WHITE HANGING HEART T-LIGHT HOLDER</td>\n",
       "      <td>6</td>\n",
       "      <td>2016-11-29</td>\n",
       "      <td>2.55</td>\n",
       "      <td>17850.00</td>\n",
       "      <td>United Kingdom</td>\n",
       "    </tr>\n",
       "    <tr>\n",
       "      <th>1</th>\n",
       "      <td>536365</td>\n",
       "      <td>71053</td>\n",
       "      <td>WHITE METAL LANTERN</td>\n",
       "      <td>6</td>\n",
       "      <td>2016-11-29</td>\n",
       "      <td>3.39</td>\n",
       "      <td>17850.00</td>\n",
       "      <td>United Kingdom</td>\n",
       "    </tr>\n",
       "    <tr>\n",
       "      <th>2</th>\n",
       "      <td>536365</td>\n",
       "      <td>84406B</td>\n",
       "      <td>CREAM CUPID HEARTS COAT HANGER</td>\n",
       "      <td>8</td>\n",
       "      <td>2016-11-29</td>\n",
       "      <td>2.75</td>\n",
       "      <td>17850.00</td>\n",
       "      <td>United Kingdom</td>\n",
       "    </tr>\n",
       "    <tr>\n",
       "      <th>3</th>\n",
       "      <td>536365</td>\n",
       "      <td>84029G</td>\n",
       "      <td>KNITTED UNION FLAG HOT WATER BOTTLE</td>\n",
       "      <td>6</td>\n",
       "      <td>2016-11-29</td>\n",
       "      <td>3.39</td>\n",
       "      <td>17850.00</td>\n",
       "      <td>United Kingdom</td>\n",
       "    </tr>\n",
       "    <tr>\n",
       "      <th>4</th>\n",
       "      <td>536365</td>\n",
       "      <td>84029E</td>\n",
       "      <td>RED WOOLLY HOTTIE WHITE HEART.</td>\n",
       "      <td>6</td>\n",
       "      <td>2016-11-29</td>\n",
       "      <td>3.39</td>\n",
       "      <td>17850.00</td>\n",
       "      <td>United Kingdom</td>\n",
       "    </tr>\n",
       "  </tbody>\n",
       "</table>\n",
       "</div>"
      ],
      "text/plain": [
       "  invoice_no stock_code                          description  quantity  \\\n",
       "0     536365     85123A   WHITE HANGING HEART T-LIGHT HOLDER         6   \n",
       "1     536365      71053                  WHITE METAL LANTERN         6   \n",
       "2     536365     84406B       CREAM CUPID HEARTS COAT HANGER         8   \n",
       "3     536365     84029G  KNITTED UNION FLAG HOT WATER BOTTLE         6   \n",
       "4     536365     84029E       RED WOOLLY HOTTIE WHITE HEART.         6   \n",
       "\n",
       "  invoice_date  unit_price  customer_id         country  \n",
       "0   2016-11-29        2.55     17850.00  United Kingdom  \n",
       "1   2016-11-29        3.39     17850.00  United Kingdom  \n",
       "2   2016-11-29        2.75     17850.00  United Kingdom  \n",
       "3   2016-11-29        3.39     17850.00  United Kingdom  \n",
       "4   2016-11-29        3.39     17850.00  United Kingdom  "
      ]
     },
     "execution_count": 20,
     "metadata": {},
     "output_type": "execute_result"
    }
   ],
   "source": [
    "# changing 'invoice_date'\n",
    "df2['invoice_date'] = pd.to_datetime (df2['invoice_date'], format='%d-%b-%y')\n",
    "df2.head()"
   ]
  },
  {
   "cell_type": "code",
   "execution_count": 21,
   "id": "uniform-therapy",
   "metadata": {
    "ExecuteTime": {
     "end_time": "2021-08-29T15:49:16.112490Z",
     "start_time": "2021-08-29T15:49:16.107485Z"
    },
    "hidden": true
   },
   "outputs": [],
   "source": [
    "# changing 'customer_id'\n",
    "df2['customer_id'] = df2['customer_id'].astype('int64')"
   ]
  },
  {
   "cell_type": "code",
   "execution_count": 22,
   "id": "coastal-mistake",
   "metadata": {
    "ExecuteTime": {
     "end_time": "2021-08-29T15:49:16.350706Z",
     "start_time": "2021-08-29T15:49:16.347703Z"
    },
    "hidden": true
   },
   "outputs": [
    {
     "data": {
      "text/plain": [
       "invoice_no              object\n",
       "stock_code              object\n",
       "description             object\n",
       "quantity                 int64\n",
       "invoice_date    datetime64[ns]\n",
       "unit_price             float64\n",
       "customer_id              int64\n",
       "country                 object\n",
       "dtype: object"
      ]
     },
     "execution_count": 22,
     "metadata": {},
     "output_type": "execute_result"
    }
   ],
   "source": [
    "df2.dtypes"
   ]
  },
  {
   "cell_type": "markdown",
   "id": "balanced-moisture",
   "metadata": {
    "heading_collapsed": true,
    "hidden": true
   },
   "source": [
    "## Descriptive Statistics"
   ]
  },
  {
   "cell_type": "code",
   "execution_count": 23,
   "id": "helpful-wagon",
   "metadata": {
    "ExecuteTime": {
     "end_time": "2021-08-29T15:49:16.859167Z",
     "start_time": "2021-08-29T15:49:16.825137Z"
    },
    "hidden": true
   },
   "outputs": [],
   "source": [
    "num_df2 = df2.select_dtypes(include=['int64','float64'])\n",
    "cat_df2 = df2.select_dtypes(exclude=['int64','float64','datetime64[ns]'])"
   ]
  },
  {
   "cell_type": "markdown",
   "id": "similar-logging",
   "metadata": {
    "heading_collapsed": true,
    "hidden": true
   },
   "source": [
    "## Numerical Attributes"
   ]
  },
  {
   "cell_type": "code",
   "execution_count": 24,
   "id": "cardiac-kentucky",
   "metadata": {
    "ExecuteTime": {
     "end_time": "2021-08-29T15:49:17.673906Z",
     "start_time": "2021-08-29T15:49:17.352615Z"
    },
    "hidden": true
   },
   "outputs": [
    {
     "data": {
      "text/html": [
       "<div>\n",
       "<style scoped>\n",
       "    .dataframe tbody tr th:only-of-type {\n",
       "        vertical-align: middle;\n",
       "    }\n",
       "\n",
       "    .dataframe tbody tr th {\n",
       "        vertical-align: top;\n",
       "    }\n",
       "\n",
       "    .dataframe thead th {\n",
       "        text-align: right;\n",
       "    }\n",
       "</style>\n",
       "<table border=\"1\" class=\"dataframe\">\n",
       "  <thead>\n",
       "    <tr style=\"text-align: right;\">\n",
       "      <th></th>\n",
       "      <th>attributes</th>\n",
       "      <th>min</th>\n",
       "      <th>max</th>\n",
       "      <th>range</th>\n",
       "      <th>mean</th>\n",
       "      <th>median</th>\n",
       "      <th>std</th>\n",
       "      <th>skew</th>\n",
       "      <th>kurtosis</th>\n",
       "    </tr>\n",
       "  </thead>\n",
       "  <tbody>\n",
       "    <tr>\n",
       "      <th>0</th>\n",
       "      <td>quantity</td>\n",
       "      <td>-80995.00</td>\n",
       "      <td>80995.00</td>\n",
       "      <td>161990.00</td>\n",
       "      <td>9.55</td>\n",
       "      <td>3.00</td>\n",
       "      <td>218.08</td>\n",
       "      <td>-0.26</td>\n",
       "      <td>119769.16</td>\n",
       "    </tr>\n",
       "    <tr>\n",
       "      <th>1</th>\n",
       "      <td>unit_price</td>\n",
       "      <td>-11062.06</td>\n",
       "      <td>38970.00</td>\n",
       "      <td>50032.06</td>\n",
       "      <td>4.61</td>\n",
       "      <td>2.08</td>\n",
       "      <td>96.76</td>\n",
       "      <td>186.51</td>\n",
       "      <td>59005.72</td>\n",
       "    </tr>\n",
       "    <tr>\n",
       "      <th>2</th>\n",
       "      <td>customer_id</td>\n",
       "      <td>12346.00</td>\n",
       "      <td>22709.00</td>\n",
       "      <td>10363.00</td>\n",
       "      <td>16688.84</td>\n",
       "      <td>16249.00</td>\n",
       "      <td>2911.41</td>\n",
       "      <td>0.49</td>\n",
       "      <td>-0.80</td>\n",
       "    </tr>\n",
       "  </tbody>\n",
       "</table>\n",
       "</div>"
      ],
      "text/plain": [
       "    attributes       min      max     range     mean   median     std   skew  \\\n",
       "0     quantity -80995.00 80995.00 161990.00     9.55     3.00  218.08  -0.26   \n",
       "1   unit_price -11062.06 38970.00  50032.06     4.61     2.08   96.76 186.51   \n",
       "2  customer_id  12346.00 22709.00  10363.00 16688.84 16249.00 2911.41   0.49   \n",
       "\n",
       "   kurtosis  \n",
       "0 119769.16  \n",
       "1  59005.72  \n",
       "2     -0.80  "
      ]
     },
     "execution_count": 24,
     "metadata": {},
     "output_type": "execute_result"
    }
   ],
   "source": [
    "# central tendendy - mean, median\n",
    "ct1 = pd.DataFrame(num_df2.apply(np.mean)).T\n",
    "ct2 = pd.DataFrame(num_df2.apply(np.median)).T\n",
    "\n",
    "# dispersion - std, min, max, range, skew, kurtosis\n",
    "d1 = pd.DataFrame(num_df2.apply(np.std)).T\n",
    "d2 = pd.DataFrame(num_df2.apply(min)).T\n",
    "d3 = pd.DataFrame(num_df2.apply(max)).T\n",
    "d4 = pd.DataFrame(num_df2.apply(lambda x: x.max() - x.min())).T\n",
    "d5 = pd.DataFrame(num_df2.apply(lambda x: x.skew())).T\n",
    "d6 = pd.DataFrame(num_df2.apply(lambda x: x.kurtosis())).T\n",
    "\n",
    "# concatenate \n",
    "m = pd.concat([d2,d3,d4,ct1,ct2,d1,d5,d6]).T.reset_index()\n",
    "m.columns = ['attributes','min','max','range','mean','median','std','skew','kurtosis']\n",
    "m"
   ]
  },
  {
   "cell_type": "markdown",
   "id": "julian-genesis",
   "metadata": {
    "heading_collapsed": true,
    "hidden": true
   },
   "source": [
    "### <font color=red>Numerical Attributes Investigation"
   ]
  },
  {
   "cell_type": "code",
   "execution_count": 25,
   "id": "subjective-recruitment",
   "metadata": {
    "ExecuteTime": {
     "end_time": "2021-08-29T15:49:17.896108Z",
     "start_time": "2021-08-29T15:49:17.890102Z"
    },
    "hidden": true
   },
   "outputs": [],
   "source": [
    "# Negative 'quantity' means devolution?\n",
    "\n",
    "# 'unit_price' equals 0 means promotion?"
   ]
  },
  {
   "cell_type": "markdown",
   "id": "based-provision",
   "metadata": {
    "heading_collapsed": true,
    "hidden": true
   },
   "source": [
    "## Categorical Attributes"
   ]
  },
  {
   "cell_type": "code",
   "execution_count": 26,
   "id": "willing-calibration",
   "metadata": {
    "ExecuteTime": {
     "end_time": "2021-08-29T15:49:18.544200Z",
     "start_time": "2021-08-29T15:49:18.527185Z"
    },
    "hidden": true
   },
   "outputs": [
    {
     "data": {
      "text/html": [
       "<div>\n",
       "<style scoped>\n",
       "    .dataframe tbody tr th:only-of-type {\n",
       "        vertical-align: middle;\n",
       "    }\n",
       "\n",
       "    .dataframe tbody tr th {\n",
       "        vertical-align: top;\n",
       "    }\n",
       "\n",
       "    .dataframe thead th {\n",
       "        text-align: right;\n",
       "    }\n",
       "</style>\n",
       "<table border=\"1\" class=\"dataframe\">\n",
       "  <thead>\n",
       "    <tr style=\"text-align: right;\">\n",
       "      <th></th>\n",
       "      <th>invoice_no</th>\n",
       "      <th>stock_code</th>\n",
       "      <th>description</th>\n",
       "      <th>country</th>\n",
       "    </tr>\n",
       "  </thead>\n",
       "  <tbody>\n",
       "    <tr>\n",
       "      <th>0</th>\n",
       "      <td>536365</td>\n",
       "      <td>85123A</td>\n",
       "      <td>WHITE HANGING HEART T-LIGHT HOLDER</td>\n",
       "      <td>United Kingdom</td>\n",
       "    </tr>\n",
       "    <tr>\n",
       "      <th>1</th>\n",
       "      <td>536365</td>\n",
       "      <td>71053</td>\n",
       "      <td>WHITE METAL LANTERN</td>\n",
       "      <td>United Kingdom</td>\n",
       "    </tr>\n",
       "    <tr>\n",
       "      <th>2</th>\n",
       "      <td>536365</td>\n",
       "      <td>84406B</td>\n",
       "      <td>CREAM CUPID HEARTS COAT HANGER</td>\n",
       "      <td>United Kingdom</td>\n",
       "    </tr>\n",
       "    <tr>\n",
       "      <th>3</th>\n",
       "      <td>536365</td>\n",
       "      <td>84029G</td>\n",
       "      <td>KNITTED UNION FLAG HOT WATER BOTTLE</td>\n",
       "      <td>United Kingdom</td>\n",
       "    </tr>\n",
       "    <tr>\n",
       "      <th>4</th>\n",
       "      <td>536365</td>\n",
       "      <td>84029E</td>\n",
       "      <td>RED WOOLLY HOTTIE WHITE HEART.</td>\n",
       "      <td>United Kingdom</td>\n",
       "    </tr>\n",
       "  </tbody>\n",
       "</table>\n",
       "</div>"
      ],
      "text/plain": [
       "  invoice_no stock_code                          description         country\n",
       "0     536365     85123A   WHITE HANGING HEART T-LIGHT HOLDER  United Kingdom\n",
       "1     536365      71053                  WHITE METAL LANTERN  United Kingdom\n",
       "2     536365     84406B       CREAM CUPID HEARTS COAT HANGER  United Kingdom\n",
       "3     536365     84029G  KNITTED UNION FLAG HOT WATER BOTTLE  United Kingdom\n",
       "4     536365     84029E       RED WOOLLY HOTTIE WHITE HEART.  United Kingdom"
      ]
     },
     "execution_count": 26,
     "metadata": {},
     "output_type": "execute_result"
    }
   ],
   "source": [
    "cat_df2.head()"
   ]
  },
  {
   "cell_type": "code",
   "execution_count": 27,
   "id": "missing-apparel",
   "metadata": {
    "ExecuteTime": {
     "end_time": "2021-08-29T15:49:20.151230Z",
     "start_time": "2021-08-29T15:49:18.801433Z"
    },
    "hidden": true
   },
   "outputs": [
    {
     "name": "stdout",
     "output_type": "stream",
     "text": [
      "Number of invoices that have at least one letter: 9291\n",
      "Number of invoices that have at least one letter and have NEGATIVE \"quantity\": 9288 \n",
      "\n",
      "Therefore, all invoices that have at least one letter can be a return.\n"
     ]
    }
   ],
   "source": [
    "# === 'invoice_no' \n",
    "\n",
    "# checking 'invoice_no' that have at least one letter\n",
    "invoice_no_oneletter = df2.loc[df2['invoice_no'].apply(lambda x: bool(re.search('[^0-9]+', x))),:]\n",
    "print('Number of invoices that have at least one letter:', invoice_no_oneletter.shape[0])\n",
    "print('Number of invoices that have at least one letter and have NEGATIVE \"quantity\":', invoice_no_oneletter[invoice_no_oneletter['quantity']<0].shape[0],'\\n')\n",
    "print('Therefore, all invoices that have at least one letter can be a return.')"
   ]
  },
  {
   "cell_type": "code",
   "execution_count": 28,
   "id": "professional-tiffany",
   "metadata": {
    "ExecuteTime": {
     "end_time": "2021-08-29T15:49:22.943763Z",
     "start_time": "2021-08-29T15:49:20.152230Z"
    },
    "hidden": true
   },
   "outputs": [
    {
     "name": "stdout",
     "output_type": "stream",
     "text": [
      "Number of stock codes that have at least one letter: 54873\n",
      "Number of stock codes that have at least one letter and have NEGATIVE \"quantity\": 1637 \n",
      "\n",
      "\n",
      "Number of stock codes that have only letters: 2759\n",
      "Unique values of stock codes that have only letters:\n",
      " ['POST' 'D' 'DOT' 'M' 'S' 'AMAZONFEE' 'm' 'DCGSSBOY' 'DCGSSGIRL' 'PADS'\n",
      " 'B' 'CRUK']\n",
      "Unique values of \"description\" from stock codes that have only letters:\n",
      " ['POSTAGE' 'Discount' 'DOTCOM POSTAGE' 'Manual' 'SAMPLES' 'AMAZON FEE' nan\n",
      " 'BOYS PARTY BAG' 'GIRLS PARTY BAG' 'PADS TO MATCH ALL CUSHIONS'\n",
      " 'Adjust bad debt' 'CRUK Commission']\n"
     ]
    }
   ],
   "source": [
    "# === 'stock_code'\n",
    "\n",
    "# checking 'stock_code' that have at least ONE letter\n",
    "stockcode_oneletter = df2.loc[df2['stock_code'].apply(lambda x: bool(re.search('[^0-9]+', x))),:]\n",
    "print('Number of stock codes that have at least one letter:', stockcode_oneletter.shape[0])\n",
    "print('Number of stock codes that have at least one letter and have NEGATIVE \"quantity\":', stockcode_oneletter[stockcode_oneletter['quantity']<0].shape[0],'\\n')\n",
    "\n",
    "# checking 'stock_code' that have ONLY letters\n",
    "stockcode_onlyletters = df2.loc[df2['stock_code'].apply(lambda x: bool(re.search('^[a-zA-Z]+$', x))),:]\n",
    "print('\\nNumber of stock codes that have only letters:', stockcode_onlyletters.shape[0])\n",
    "print('Unique values of stock codes that have only letters:\\n', stockcode_onlyletters['stock_code'].unique())\n",
    "print('Unique values of \"description\" from stock codes that have only letters:\\n', stockcode_onlyletters['description'].unique())\n",
    "\n",
    "# next cycle, remove stockcode_onlyletters"
   ]
  },
  {
   "cell_type": "code",
   "execution_count": 29,
   "id": "exposed-brooklyn",
   "metadata": {
    "ExecuteTime": {
     "end_time": "2021-08-29T15:49:23.023836Z",
     "start_time": "2021-08-29T15:49:22.944764Z"
    },
    "hidden": true
   },
   "outputs": [
    {
     "name": "stdout",
     "output_type": "stream",
     "text": [
      "Unique countries: 38\n"
     ]
    },
    {
     "data": {
      "text/plain": [
       "United Kingdom   0.91\n",
       "Germany          0.02\n",
       "France           0.02\n",
       "EIRE             0.02\n",
       "Spain            0.00\n",
       "Name: country, dtype: float64"
      ]
     },
     "execution_count": 29,
     "metadata": {},
     "output_type": "execute_result"
    }
   ],
   "source": [
    "# === 'country'\n",
    "print('Unique countries:', df2['country'].unique().shape[0])\n",
    "df2['country'].value_counts(normalize=True).head()"
   ]
  },
  {
   "cell_type": "markdown",
   "id": "organized-nicaragua",
   "metadata": {
    "heading_collapsed": true
   },
   "source": [
    "# Variable Filtering"
   ]
  },
  {
   "cell_type": "code",
   "execution_count": 30,
   "id": "numeric-wales",
   "metadata": {
    "ExecuteTime": {
     "end_time": "2021-08-29T15:49:23.039850Z",
     "start_time": "2021-08-29T15:49:23.024837Z"
    },
    "hidden": true
   },
   "outputs": [
    {
     "data": {
      "text/html": [
       "<div>\n",
       "<style scoped>\n",
       "    .dataframe tbody tr th:only-of-type {\n",
       "        vertical-align: middle;\n",
       "    }\n",
       "\n",
       "    .dataframe tbody tr th {\n",
       "        vertical-align: top;\n",
       "    }\n",
       "\n",
       "    .dataframe thead th {\n",
       "        text-align: right;\n",
       "    }\n",
       "</style>\n",
       "<table border=\"1\" class=\"dataframe\">\n",
       "  <thead>\n",
       "    <tr style=\"text-align: right;\">\n",
       "      <th></th>\n",
       "      <th>invoice_no</th>\n",
       "      <th>stock_code</th>\n",
       "      <th>description</th>\n",
       "      <th>quantity</th>\n",
       "      <th>invoice_date</th>\n",
       "      <th>unit_price</th>\n",
       "      <th>customer_id</th>\n",
       "      <th>country</th>\n",
       "    </tr>\n",
       "  </thead>\n",
       "  <tbody>\n",
       "    <tr>\n",
       "      <th>0</th>\n",
       "      <td>536365</td>\n",
       "      <td>85123A</td>\n",
       "      <td>WHITE HANGING HEART T-LIGHT HOLDER</td>\n",
       "      <td>6</td>\n",
       "      <td>2016-11-29</td>\n",
       "      <td>2.55</td>\n",
       "      <td>17850</td>\n",
       "      <td>United Kingdom</td>\n",
       "    </tr>\n",
       "    <tr>\n",
       "      <th>1</th>\n",
       "      <td>536365</td>\n",
       "      <td>71053</td>\n",
       "      <td>WHITE METAL LANTERN</td>\n",
       "      <td>6</td>\n",
       "      <td>2016-11-29</td>\n",
       "      <td>3.39</td>\n",
       "      <td>17850</td>\n",
       "      <td>United Kingdom</td>\n",
       "    </tr>\n",
       "  </tbody>\n",
       "</table>\n",
       "</div>"
      ],
      "text/plain": [
       "  invoice_no stock_code                         description  quantity  \\\n",
       "0     536365     85123A  WHITE HANGING HEART T-LIGHT HOLDER         6   \n",
       "1     536365      71053                 WHITE METAL LANTERN         6   \n",
       "\n",
       "  invoice_date  unit_price  customer_id         country  \n",
       "0   2016-11-29        2.55        17850  United Kingdom  \n",
       "1   2016-11-29        3.39        17850  United Kingdom  "
      ]
     },
     "execution_count": 30,
     "metadata": {},
     "output_type": "execute_result"
    }
   ],
   "source": [
    "df3 = df2.copy()\n",
    "df3.head(2)"
   ]
  },
  {
   "cell_type": "code",
   "execution_count": 31,
   "id": "durable-budapest",
   "metadata": {
    "ExecuteTime": {
     "end_time": "2021-08-29T15:49:23.212006Z",
     "start_time": "2021-08-29T15:49:23.040852Z"
    },
    "hidden": true
   },
   "outputs": [],
   "source": [
    "# 'stock_code' is not only letters\n",
    "df3 = df3.loc[~df3['stock_code'].isin(stockcode_onlyletters['stock_code'].unique())]\n",
    "\n",
    "# 'description'\n",
    "df3 = df3.drop(columns='description', axis=1)\n",
    "\n",
    "# 'unit_price' > 0.0\n",
    "df3 = df3.loc[df3['unit_price']>=0.04,:]\n",
    "\n",
    "# country\n",
    "df3 = df3[~df3['country'].isin(['European Community', 'Unspecified'])]\n",
    "\n",
    "# 'quantity' is negative/positive\n",
    "df3_returns = df3.loc[df3['quantity']<0,:]\n",
    "df3_purchases = df3.loc[df3['quantity']>0,:]"
   ]
  },
  {
   "cell_type": "markdown",
   "id": "increased-overhead",
   "metadata": {},
   "source": [
    "# Feature Engineering"
   ]
  },
  {
   "cell_type": "code",
   "execution_count": 135,
   "id": "compact-granny",
   "metadata": {
    "ExecuteTime": {
     "end_time": "2021-08-29T17:58:51.308812Z",
     "start_time": "2021-08-29T17:58:51.286792Z"
    }
   },
   "outputs": [],
   "source": [
    "df4 = df3.copy()"
   ]
  },
  {
   "cell_type": "markdown",
   "id": "other-poetry",
   "metadata": {},
   "source": [
    "## Feature Creation"
   ]
  },
  {
   "cell_type": "code",
   "execution_count": 136,
   "id": "expanded-header",
   "metadata": {
    "ExecuteTime": {
     "end_time": "2021-08-29T17:58:51.853306Z",
     "start_time": "2021-08-29T17:58:51.827282Z"
    }
   },
   "outputs": [
    {
     "name": "stdout",
     "output_type": "stream",
     "text": [
      "Data reference shape: (5787, 1)\n"
     ]
    },
    {
     "data": {
      "text/html": [
       "<div>\n",
       "<style scoped>\n",
       "    .dataframe tbody tr th:only-of-type {\n",
       "        vertical-align: middle;\n",
       "    }\n",
       "\n",
       "    .dataframe tbody tr th {\n",
       "        vertical-align: top;\n",
       "    }\n",
       "\n",
       "    .dataframe thead th {\n",
       "        text-align: right;\n",
       "    }\n",
       "</style>\n",
       "<table border=\"1\" class=\"dataframe\">\n",
       "  <thead>\n",
       "    <tr style=\"text-align: right;\">\n",
       "      <th></th>\n",
       "      <th>customer_id</th>\n",
       "    </tr>\n",
       "  </thead>\n",
       "  <tbody>\n",
       "    <tr>\n",
       "      <th>0</th>\n",
       "      <td>17850</td>\n",
       "    </tr>\n",
       "    <tr>\n",
       "      <th>1</th>\n",
       "      <td>13047</td>\n",
       "    </tr>\n",
       "    <tr>\n",
       "      <th>2</th>\n",
       "      <td>12583</td>\n",
       "    </tr>\n",
       "    <tr>\n",
       "      <th>3</th>\n",
       "      <td>13748</td>\n",
       "    </tr>\n",
       "    <tr>\n",
       "      <th>4</th>\n",
       "      <td>15100</td>\n",
       "    </tr>\n",
       "  </tbody>\n",
       "</table>\n",
       "</div>"
      ],
      "text/plain": [
       "   customer_id\n",
       "0        17850\n",
       "1        13047\n",
       "2        12583\n",
       "3        13748\n",
       "4        15100"
      ]
     },
     "execution_count": 136,
     "metadata": {},
     "output_type": "execute_result"
    }
   ],
   "source": [
    "# data reference\n",
    "df_ref = df4.drop(['invoice_no','stock_code', 'quantity','invoice_date','unit_price','country'],\n",
    "                  axis=1).drop_duplicates(ignore_index=True)\n",
    "print('Data reference shape:', df_ref.shape)\n",
    "df_ref.head()"
   ]
  },
  {
   "cell_type": "markdown",
   "id": "unable-stewart",
   "metadata": {},
   "source": [
    "### Gross Revenue"
   ]
  },
  {
   "cell_type": "code",
   "execution_count": 137,
   "id": "wound-format",
   "metadata": {
    "ExecuteTime": {
     "end_time": "2021-08-29T17:58:51.933378Z",
     "start_time": "2021-08-29T17:58:51.893342Z"
    }
   },
   "outputs": [
    {
     "name": "stderr",
     "output_type": "stream",
     "text": [
      "C:\\Users\\Mariana\\Documents\\anaconda3\\envs\\pa005_customerclustering\\lib\\site-packages\\pandas\\core\\indexing.py:1676: SettingWithCopyWarning: \n",
      "A value is trying to be set on a copy of a slice from a DataFrame.\n",
      "Try using .loc[row_indexer,col_indexer] = value instead\n",
      "\n",
      "See the caveats in the documentation: https://pandas.pydata.org/pandas-docs/stable/user_guide/indexing.html#returning-a-view-versus-a-copy\n",
      "  self._setitem_single_column(ilocs[0], value, pi)\n"
     ]
    },
    {
     "data": {
      "text/plain": [
       "customer_id       0\n",
       "gross_revenue    91\n",
       "dtype: int64"
      ]
     },
     "execution_count": 137,
     "metadata": {},
     "output_type": "execute_result"
    }
   ],
   "source": [
    "# === GROSS REVENUE - how much each 'customer_id' spent (quantity*price)\n",
    "\n",
    "# gross revenue = quantity * price\n",
    "df3_purchases.loc[:,'gross_revenue'] = df3_purchases.loc[:,'quantity']*df3_purchases.loc[:,'unit_price']\n",
    "df_monetary = df3_purchases.loc[:,['customer_id','gross_revenue']].groupby('customer_id').sum().reset_index()\n",
    "\n",
    "# merging dataframes\n",
    "df_ref = pd.merge(df_ref, df_monetary, on='customer_id', how='left')\n",
    "df_ref.isna().sum() # checking NA\n",
    "\n",
    "# --- Note\n",
    "# The 91 NA refers to customers that only returned something\n",
    "# This can happen due to the date range on the dataset"
   ]
  },
  {
   "cell_type": "markdown",
   "id": "alert-railway",
   "metadata": {
    "heading_collapsed": true
   },
   "source": [
    "### Recency "
   ]
  },
  {
   "cell_type": "code",
   "execution_count": 138,
   "id": "bronze-fourth",
   "metadata": {
    "ExecuteTime": {
     "end_time": "2021-08-29T17:58:51.995436Z",
     "start_time": "2021-08-29T17:58:51.960404Z"
    },
    "hidden": true
   },
   "outputs": [
    {
     "data": {
      "text/plain": [
       "customer_id       0\n",
       "gross_revenue    91\n",
       "recency_days     91\n",
       "dtype: int64"
      ]
     },
     "execution_count": 138,
     "metadata": {},
     "output_type": "execute_result"
    }
   ],
   "source": [
    "# === RECENCY - last day of purchase of each 'customer_id'\n",
    "\n",
    "# selecting last 'invoice_date' by 'customer_id'\n",
    "df_recency = df3_purchases.loc[:,['customer_id','invoice_date']].groupby('customer_id').max().reset_index()\n",
    "df_recency['recency_days'] = (df3_purchases['invoice_date'].max() - df_recency['invoice_date']).dt.days # dt vectorize the series to apply 'days' command\n",
    "df_recency = df_recency[['customer_id','recency_days']].copy()\n",
    "\n",
    "# merging dataframes\n",
    "df_ref = pd.merge(df_ref, df_recency, on='customer_id',how='left')\n",
    "df_ref.isna().sum() # checking NA"
   ]
  },
  {
   "cell_type": "markdown",
   "id": "established-order",
   "metadata": {
    "heading_collapsed": true
   },
   "source": [
    "### Quantity of baskets"
   ]
  },
  {
   "cell_type": "code",
   "execution_count": 139,
   "id": "documentary-growth",
   "metadata": {
    "ExecuteTime": {
     "end_time": "2021-08-29T17:58:52.091522Z",
     "start_time": "2021-08-29T17:58:52.019457Z"
    },
    "hidden": true
   },
   "outputs": [
    {
     "data": {
      "text/plain": [
       "customer_id       0\n",
       "gross_revenue    91\n",
       "recency_days     91\n",
       "qty_baskets      91\n",
       "dtype: int64"
      ]
     },
     "execution_count": 139,
     "metadata": {},
     "output_type": "execute_result"
    }
   ],
   "source": [
    "# === QUANTITY OF BASKETS - number of purchases per 'customer_id'\n",
    "\n",
    "# grouping 'invoice_no' by 'customer_id'\n",
    "df_qty_baskets = df3_purchases.loc[:, ['customer_id','invoice_no']].drop_duplicates().groupby('customer_id').count().reset_index()\n",
    "df_qty_baskets = df_qty_baskets.rename(columns={'customer_id': 'customer_id','invoice_no': 'qty_baskets'}) # changing columns names\n",
    "df_qty_baskets.head()\n",
    "\n",
    "# merging dataframes\n",
    "df_ref = pd.merge(df_ref, df_qty_baskets, on='customer_id', how='left')\n",
    "df_ref.isna().sum() # checking NA"
   ]
  },
  {
   "cell_type": "markdown",
   "id": "increased-pocket",
   "metadata": {
    "heading_collapsed": true
   },
   "source": [
    "### Quantity of Items"
   ]
  },
  {
   "cell_type": "code",
   "execution_count": 140,
   "id": "charged-diagram",
   "metadata": {
    "ExecuteTime": {
     "end_time": "2021-08-29T17:58:52.123551Z",
     "start_time": "2021-08-29T17:58:52.092524Z"
    },
    "hidden": true
   },
   "outputs": [
    {
     "data": {
      "text/plain": [
       "customer_id       0\n",
       "gross_revenue    91\n",
       "recency_days     91\n",
       "qty_baskets      91\n",
       "qty_items        91\n",
       "dtype: int64"
      ]
     },
     "execution_count": 140,
     "metadata": {},
     "output_type": "execute_result"
    }
   ],
   "source": [
    "# === QUANTITY OF ITEMS - sum of number of produts per 'customer_id'\n",
    "\n",
    "# grouping 'quantity' by 'customer_id'\n",
    "df_qty_items = df3_purchases.loc[:, ['customer_id','quantity']].groupby('customer_id').sum().reset_index()\n",
    "df_qty_items = df_qty_items.rename(columns={'customer_id': 'customer_id','quantity': 'qty_items'}) # changing columns names\n",
    "df_qty_items.head()\n",
    "\n",
    "# merging dataframes\n",
    "df_ref = pd.merge(df_ref, df_qty_items, on='customer_id', how='left')\n",
    "df_ref.isna().sum() # checking NA"
   ]
  },
  {
   "cell_type": "markdown",
   "id": "decent-dylan",
   "metadata": {
    "heading_collapsed": true
   },
   "source": [
    "### Avg Ticket"
   ]
  },
  {
   "cell_type": "code",
   "execution_count": 141,
   "id": "exclusive-assurance",
   "metadata": {
    "ExecuteTime": {
     "end_time": "2021-08-29T17:58:52.201622Z",
     "start_time": "2021-08-29T17:58:52.162586Z"
    },
    "hidden": true
   },
   "outputs": [
    {
     "data": {
      "text/plain": [
       "customer_id       0\n",
       "gross_revenue    91\n",
       "recency_days     91\n",
       "qty_baskets      91\n",
       "qty_items        91\n",
       "avg_ticket       91\n",
       "dtype: int64"
      ]
     },
     "execution_count": 141,
     "metadata": {},
     "output_type": "execute_result"
    }
   ],
   "source": [
    "# === AVG TICKET - how much is spend in average per 'customer_id'\n",
    "\n",
    "# grouping 'gross_revenue' by 'customer_id'\n",
    "df_avgticket = df3_purchases.loc[:,['customer_id','gross_revenue']].groupby('customer_id').mean().reset_index()\n",
    "df_avgticket = df_avgticket.rename(columns={'gross_revenue':'avg_ticket'})\n",
    "\n",
    "# merging dataframes\n",
    "df_ref = pd.merge(df_ref, df_avgticket, on='customer_id', how='left')\n",
    "df_ref.isna().sum() # checking NA"
   ]
  },
  {
   "cell_type": "markdown",
   "id": "occasional-refund",
   "metadata": {
    "heading_collapsed": true
   },
   "source": [
    "### Avg Recency Days"
   ]
  },
  {
   "cell_type": "code",
   "execution_count": 142,
   "id": "nonprofit-reset",
   "metadata": {
    "ExecuteTime": {
     "end_time": "2021-08-29T17:58:53.233558Z",
     "start_time": "2021-08-29T17:58:52.684060Z"
    },
    "hidden": true
   },
   "outputs": [
    {
     "data": {
      "text/plain": [
       "customer_id            0\n",
       "gross_revenue         91\n",
       "recency_days          91\n",
       "qty_baskets           91\n",
       "qty_items             91\n",
       "avg_ticket            91\n",
       "avg_recency_days    2816\n",
       "dtype: int64"
      ]
     },
     "execution_count": 142,
     "metadata": {},
     "output_type": "execute_result"
    }
   ],
   "source": [
    "# === AVG RECENCY DAYS - how many days between purchases (baskets)\n",
    "\n",
    "# sorting 'invoice_date' ============= POR QUE NÃO USAR DF3_PURCHASES?\n",
    "df_last_recency = df4[['customer_id', 'invoice_date']].drop_duplicates().sort_values(['customer_id', 'invoice_date'], ascending=['False', 'False'])\n",
    "\n",
    "# shifting 'customer_id' and 'invoice_date' to next lines below\n",
    "df_last_recency['customer_id_shift'] = df_last_recency['customer_id'].shift()\n",
    "df_last_recency['invoice_date_shift'] = df_last_recency['invoice_date'].shift()\n",
    "\n",
    "# calculating days between invoices if same 'customer_id'\n",
    "df_last_recency['last_recency'] = df_last_recency.apply(lambda x: (x['invoice_date'] - x['invoice_date_shift']).days if x['customer_id']==x['customer_id_shift'] else np.nan, axis=1)\n",
    "\n",
    "# dropping selected columns and NaN // note: this will also delete the customer id manually created in section 2.5\n",
    "df_last_recency = df_last_recency.drop(['invoice_date', 'customer_id_shift', 'invoice_date_shift'], axis=1).dropna()\n",
    "\n",
    "# === avg recency days\n",
    "# grouping 'last_recency' by 'customer_id'\n",
    "df_avg_recency_days = df_last_recency.groupby('customer_id').mean().reset_index()\n",
    "df_avg_recency_days = df_avg_recency_days.rename(columns={'customer_id':'customer_id','last_recency':'avg_recency_days'})\n",
    "df_avg_recency_days.head()\n",
    "\n",
    "# merging on Data Reference (df_ref)\n",
    "df_ref = pd.merge(df_ref, df_avg_recency_days, on='customer_id', how='left')\n",
    "df_ref.isna().sum() # checking NA"
   ]
  },
  {
   "cell_type": "markdown",
   "id": "floating-remains",
   "metadata": {},
   "source": [
    "### Purchase Frequency"
   ]
  },
  {
   "cell_type": "code",
   "execution_count": 143,
   "id": "hidden-greenhouse",
   "metadata": {
    "ExecuteTime": {
     "end_time": "2021-08-29T17:58:54.078324Z",
     "start_time": "2021-08-29T17:58:53.234559Z"
    }
   },
   "outputs": [
    {
     "data": {
      "text/plain": [
       "customer_id            0\n",
       "gross_revenue         91\n",
       "recency_days          91\n",
       "qty_baskets           91\n",
       "qty_items             91\n",
       "avg_ticket            91\n",
       "avg_recency_days    2816\n",
       "frequency              0\n",
       "dtype: int64"
      ]
     },
     "execution_count": 143,
     "metadata": {},
     "output_type": "execute_result"
    }
   ],
   "source": [
    "# PURCHASE FREQUENCY - number of purchases per 'customer_id\n",
    "\n",
    "# grouping by 'customer_id', selecting min/max 'invoice_date', and counting 'invoice_no'\n",
    "df_purchasefreq = ( df3[['customer_id','invoice_no', 'invoice_date']].drop_duplicates().groupby('customer_id')\n",
    "                                                                     .agg( max_      = ('invoice_date', 'max'),\n",
    "                                                                           min_      = ('invoice_date', 'min'),\n",
    "                                                                           days_     = ('invoice_date', lambda x: ((x.max() - x.min()).days) + 1),\n",
    "                                                                           purchases = ('invoice_no', 'count') ) ).reset_index()\n",
    "\n",
    "# calculating 'frequency'\n",
    "df_purchasefreq['frequency'] = df_purchasefreq[['purchases','days_']].apply(lambda x: (x['purchases']/x['days_']) if x['days_']!=0 else 0, axis=1)\n",
    "df_purchasefreq.sort_values('frequency', ascending=False).head(10)\n",
    "\n",
    "\n",
    "# === merging on Data Reference (df_ref)\n",
    "df_ref = pd.merge(df_ref, df_purchasefreq[['customer_id','frequency']], on='customer_id', how='left')\n",
    "df_ref.isna().sum() # checking NA"
   ]
  },
  {
   "cell_type": "markdown",
   "id": "critical-stuff",
   "metadata": {
    "heading_collapsed": true
   },
   "source": [
    "### Returns"
   ]
  },
  {
   "cell_type": "code",
   "execution_count": 144,
   "id": "iraqi-collect",
   "metadata": {
    "ExecuteTime": {
     "end_time": "2021-08-29T17:58:54.094339Z",
     "start_time": "2021-08-29T17:58:54.079326Z"
    },
    "hidden": true
   },
   "outputs": [
    {
     "data": {
      "text/plain": [
       "customer_id             0\n",
       "gross_revenue          91\n",
       "recency_days           91\n",
       "qty_baskets            91\n",
       "qty_items              91\n",
       "avg_ticket             91\n",
       "avg_recency_days     2816\n",
       "frequency               0\n",
       "qty_prod_returned       0\n",
       "dtype: int64"
      ]
     },
     "execution_count": 144,
     "metadata": {},
     "output_type": "execute_result"
    }
   ],
   "source": [
    "# === RETURNS (quantity of devolutions)\n",
    "\n",
    "# grouping 'quantity' by 'customer_id'\n",
    "df_returns = df3_returns[['customer_id','quantity']].groupby('customer_id').sum().reset_index().rename(columns={'customer_id':'customer_id', 'quantity': 'qty_prod_returned'})\n",
    "df_returns['qty_prod_returned'] = df_returns['qty_prod_returned']*-1 # turning quantities into positive numbers\n",
    "df_returns.head(20)\n",
    "\n",
    "# merging dataframes\n",
    "df_ref = pd.merge(df_ref, df_returns, how='left', on='customer_id')\n",
    "df_ref.loc[df_ref['qty_prod_returned'].isna(), 'qty_prod_returned'] = 0 # NA in 'qty_prod_returns' indicates customers that did not return any product, so it can be '0'.\n",
    "df_ref.isna().sum() # checking NA"
   ]
  },
  {
   "cell_type": "markdown",
   "id": "refined-manor",
   "metadata": {
    "heading_collapsed": true
   },
   "source": [
    "### Avg Basket Size"
   ]
  },
  {
   "cell_type": "code",
   "execution_count": 145,
   "id": "seventh-genome",
   "metadata": {
    "ExecuteTime": {
     "end_time": "2021-08-29T17:58:54.204439Z",
     "start_time": "2021-08-29T17:58:54.095340Z"
    },
    "hidden": true
   },
   "outputs": [
    {
     "data": {
      "text/html": [
       "<div>\n",
       "<style scoped>\n",
       "    .dataframe tbody tr th:only-of-type {\n",
       "        vertical-align: middle;\n",
       "    }\n",
       "\n",
       "    .dataframe tbody tr th {\n",
       "        vertical-align: top;\n",
       "    }\n",
       "\n",
       "    .dataframe thead th {\n",
       "        text-align: right;\n",
       "    }\n",
       "</style>\n",
       "<table border=\"1\" class=\"dataframe\">\n",
       "  <thead>\n",
       "    <tr style=\"text-align: right;\">\n",
       "      <th></th>\n",
       "      <th>customer_id</th>\n",
       "      <th>qty_baskets_b</th>\n",
       "      <th>qty_items_b</th>\n",
       "      <th>avg_basket_size</th>\n",
       "    </tr>\n",
       "  </thead>\n",
       "  <tbody>\n",
       "    <tr>\n",
       "      <th>0</th>\n",
       "      <td>12346</td>\n",
       "      <td>1</td>\n",
       "      <td>74215</td>\n",
       "      <td>74215.00</td>\n",
       "    </tr>\n",
       "    <tr>\n",
       "      <th>1</th>\n",
       "      <td>12347</td>\n",
       "      <td>7</td>\n",
       "      <td>2458</td>\n",
       "      <td>351.14</td>\n",
       "    </tr>\n",
       "    <tr>\n",
       "      <th>2</th>\n",
       "      <td>12348</td>\n",
       "      <td>4</td>\n",
       "      <td>2332</td>\n",
       "      <td>583.00</td>\n",
       "    </tr>\n",
       "    <tr>\n",
       "      <th>3</th>\n",
       "      <td>12349</td>\n",
       "      <td>1</td>\n",
       "      <td>630</td>\n",
       "      <td>630.00</td>\n",
       "    </tr>\n",
       "    <tr>\n",
       "      <th>4</th>\n",
       "      <td>12350</td>\n",
       "      <td>1</td>\n",
       "      <td>196</td>\n",
       "      <td>196.00</td>\n",
       "    </tr>\n",
       "  </tbody>\n",
       "</table>\n",
       "</div>"
      ],
      "text/plain": [
       "   customer_id  qty_baskets_b  qty_items_b  avg_basket_size\n",
       "0        12346              1        74215         74215.00\n",
       "1        12347              7         2458           351.14\n",
       "2        12348              4         2332           583.00\n",
       "3        12349              1          630           630.00\n",
       "4        12350              1          196           196.00"
      ]
     },
     "metadata": {},
     "output_type": "display_data"
    },
    {
     "data": {
      "text/plain": [
       "customer_id             0\n",
       "gross_revenue          91\n",
       "recency_days           91\n",
       "qty_baskets            91\n",
       "qty_items              91\n",
       "avg_ticket             91\n",
       "avg_recency_days     2816\n",
       "frequency               0\n",
       "qty_prod_returned       0\n",
       "avg_basket_size        91\n",
       "dtype: int64"
      ]
     },
     "execution_count": 145,
     "metadata": {},
     "output_type": "execute_result"
    }
   ],
   "source": [
    "# === AVG BASKET SIZE - average sum of 'quantity' per 'invoice_no'\n",
    "\n",
    "# grouping by 'customer_id', counting unique 'invoice_no' and the sum of 'quantity'\n",
    "df_basket_size = ( df3_purchases.loc [:, ['customer_id', 'invoice_no', 'quantity']].groupby('customer_id')\n",
    "                                                                                   .agg( qty_baskets_b  = ('invoice_no', 'nunique'),\n",
    "                                                                                         qty_items_b    = ('quantity', 'sum') ) \n",
    "                                                                                   .reset_index() )\n",
    "\n",
    "# calculating avg basket size\n",
    "df_basket_size['avg_basket_size'] = df_basket_size['qty_items_b'] / df_basket_size['qty_baskets_b']\n",
    "display(df_basket_size.head())\n",
    "\n",
    "# === merging dataframes\n",
    "df_ref = pd.merge(df_ref, df_basket_size[['customer_id', 'avg_basket_size']], on='customer_id', how='left')\n",
    "df_ref.isna().sum() # checking NA"
   ]
  },
  {
   "cell_type": "markdown",
   "id": "intensive-honor",
   "metadata": {
    "heading_collapsed": true
   },
   "source": [
    "### Avg Unique Products per Basket"
   ]
  },
  {
   "cell_type": "code",
   "execution_count": 146,
   "id": "minute-resort",
   "metadata": {
    "ExecuteTime": {
     "end_time": "2021-08-29T17:58:54.957122Z",
     "start_time": "2021-08-29T17:58:54.708897Z"
    },
    "hidden": true
   },
   "outputs": [
    {
     "data": {
      "text/html": [
       "<div>\n",
       "<style scoped>\n",
       "    .dataframe tbody tr th:only-of-type {\n",
       "        vertical-align: middle;\n",
       "    }\n",
       "\n",
       "    .dataframe tbody tr th {\n",
       "        vertical-align: top;\n",
       "    }\n",
       "\n",
       "    .dataframe thead th {\n",
       "        text-align: right;\n",
       "    }\n",
       "</style>\n",
       "<table border=\"1\" class=\"dataframe\">\n",
       "  <thead>\n",
       "    <tr style=\"text-align: right;\">\n",
       "      <th></th>\n",
       "      <th>customer_id</th>\n",
       "      <th>qty_baskets_up</th>\n",
       "      <th>qty_unique_products_up</th>\n",
       "      <th>avg_unique_products</th>\n",
       "    </tr>\n",
       "  </thead>\n",
       "  <tbody>\n",
       "    <tr>\n",
       "      <th>0</th>\n",
       "      <td>12346</td>\n",
       "      <td>1</td>\n",
       "      <td>1</td>\n",
       "      <td>1.00</td>\n",
       "    </tr>\n",
       "    <tr>\n",
       "      <th>1</th>\n",
       "      <td>12347</td>\n",
       "      <td>7</td>\n",
       "      <td>103</td>\n",
       "      <td>14.71</td>\n",
       "    </tr>\n",
       "    <tr>\n",
       "      <th>2</th>\n",
       "      <td>12348</td>\n",
       "      <td>4</td>\n",
       "      <td>21</td>\n",
       "      <td>5.25</td>\n",
       "    </tr>\n",
       "    <tr>\n",
       "      <th>3</th>\n",
       "      <td>12349</td>\n",
       "      <td>1</td>\n",
       "      <td>72</td>\n",
       "      <td>72.00</td>\n",
       "    </tr>\n",
       "    <tr>\n",
       "      <th>4</th>\n",
       "      <td>12350</td>\n",
       "      <td>1</td>\n",
       "      <td>16</td>\n",
       "      <td>16.00</td>\n",
       "    </tr>\n",
       "  </tbody>\n",
       "</table>\n",
       "</div>"
      ],
      "text/plain": [
       "   customer_id  qty_baskets_up  qty_unique_products_up  avg_unique_products\n",
       "0        12346               1                       1                 1.00\n",
       "1        12347               7                     103                14.71\n",
       "2        12348               4                      21                 5.25\n",
       "3        12349               1                      72                72.00\n",
       "4        12350               1                      16                16.00"
      ]
     },
     "metadata": {},
     "output_type": "display_data"
    },
    {
     "data": {
      "text/plain": [
       "customer_id               0\n",
       "gross_revenue            91\n",
       "recency_days             91\n",
       "qty_baskets              91\n",
       "qty_items                91\n",
       "avg_ticket               91\n",
       "avg_recency_days       2816\n",
       "frequency                 0\n",
       "qty_prod_returned         0\n",
       "avg_basket_size          91\n",
       "avg_unique_products      91\n",
       "dtype: int64"
      ]
     },
     "execution_count": 146,
     "metadata": {},
     "output_type": "execute_result"
    }
   ],
   "source": [
    "# === AVG UNIQUE PRODUCTS PER BASKET - average quantity of unique 'stock_code' per basket\n",
    "\n",
    "# grouping by 'customer_id', counting unique 'invoice_no' and counting unique 'stock_code'\n",
    "df_avg_unique_products = ( df3_purchases.loc [:, ['customer_id', 'invoice_no', 'stock_code']].groupby('customer_id')\n",
    "                                                                                            .agg( qty_baskets_up         = ('invoice_no', 'nunique'),\n",
    "                                                                                                  qty_unique_products_up = ('stock_code', 'nunique') ) \n",
    "                                                                                            .reset_index() )\n",
    "# calculating avg unique products per basket\n",
    "df_avg_unique_products['avg_unique_products'] = df_avg_unique_products['qty_unique_products_up'] / df_avg_unique_products['qty_baskets_up']\n",
    "display(df_avg_unique_products.head())\n",
    "\n",
    "\n",
    "# === merging dataframes\n",
    "df_ref = pd.merge(df_ref, df_avg_unique_products[['customer_id', 'avg_unique_products']], on='customer_id', how='left')\n",
    "df_ref.isna().sum() # checking NA"
   ]
  },
  {
   "cell_type": "markdown",
   "id": "alive-specific",
   "metadata": {},
   "source": [
    "### DF_REF - Dataset with Features"
   ]
  },
  {
   "cell_type": "code",
   "execution_count": 147,
   "id": "unlimited-relaxation",
   "metadata": {
    "ExecuteTime": {
     "end_time": "2021-08-29T18:04:16.076016Z",
     "start_time": "2021-08-29T18:04:16.055998Z"
    }
   },
   "outputs": [
    {
     "data": {
      "text/html": [
       "<div>\n",
       "<style scoped>\n",
       "    .dataframe tbody tr th:only-of-type {\n",
       "        vertical-align: middle;\n",
       "    }\n",
       "\n",
       "    .dataframe tbody tr th {\n",
       "        vertical-align: top;\n",
       "    }\n",
       "\n",
       "    .dataframe thead th {\n",
       "        text-align: right;\n",
       "    }\n",
       "</style>\n",
       "<table border=\"1\" class=\"dataframe\">\n",
       "  <thead>\n",
       "    <tr style=\"text-align: right;\">\n",
       "      <th></th>\n",
       "      <th>customer_id</th>\n",
       "      <th>gross_revenue</th>\n",
       "      <th>recency_days</th>\n",
       "      <th>qty_baskets</th>\n",
       "      <th>qty_items</th>\n",
       "      <th>avg_ticket</th>\n",
       "      <th>avg_recency_days</th>\n",
       "      <th>frequency</th>\n",
       "      <th>qty_prod_returned</th>\n",
       "      <th>avg_basket_size</th>\n",
       "      <th>avg_unique_products</th>\n",
       "    </tr>\n",
       "  </thead>\n",
       "  <tbody>\n",
       "    <tr>\n",
       "      <th>0</th>\n",
       "      <td>17850</td>\n",
       "      <td>5391.21</td>\n",
       "      <td>372.00</td>\n",
       "      <td>34.00</td>\n",
       "      <td>1733.00</td>\n",
       "      <td>18.15</td>\n",
       "      <td>35.50</td>\n",
       "      <td>0.49</td>\n",
       "      <td>40.00</td>\n",
       "      <td>50.97</td>\n",
       "      <td>0.62</td>\n",
       "    </tr>\n",
       "    <tr>\n",
       "      <th>1</th>\n",
       "      <td>13047</td>\n",
       "      <td>3232.59</td>\n",
       "      <td>56.00</td>\n",
       "      <td>9.00</td>\n",
       "      <td>1390.00</td>\n",
       "      <td>18.90</td>\n",
       "      <td>27.25</td>\n",
       "      <td>0.05</td>\n",
       "      <td>35.00</td>\n",
       "      <td>154.44</td>\n",
       "      <td>11.67</td>\n",
       "    </tr>\n",
       "    <tr>\n",
       "      <th>2</th>\n",
       "      <td>12583</td>\n",
       "      <td>6705.38</td>\n",
       "      <td>2.00</td>\n",
       "      <td>15.00</td>\n",
       "      <td>5028.00</td>\n",
       "      <td>28.90</td>\n",
       "      <td>23.19</td>\n",
       "      <td>0.05</td>\n",
       "      <td>50.00</td>\n",
       "      <td>335.20</td>\n",
       "      <td>7.60</td>\n",
       "    </tr>\n",
       "    <tr>\n",
       "      <th>3</th>\n",
       "      <td>13748</td>\n",
       "      <td>948.25</td>\n",
       "      <td>95.00</td>\n",
       "      <td>5.00</td>\n",
       "      <td>439.00</td>\n",
       "      <td>33.87</td>\n",
       "      <td>92.67</td>\n",
       "      <td>0.02</td>\n",
       "      <td>0.00</td>\n",
       "      <td>87.80</td>\n",
       "      <td>4.80</td>\n",
       "    </tr>\n",
       "    <tr>\n",
       "      <th>4</th>\n",
       "      <td>15100</td>\n",
       "      <td>876.00</td>\n",
       "      <td>333.00</td>\n",
       "      <td>3.00</td>\n",
       "      <td>80.00</td>\n",
       "      <td>292.00</td>\n",
       "      <td>8.60</td>\n",
       "      <td>0.14</td>\n",
       "      <td>22.00</td>\n",
       "      <td>26.67</td>\n",
       "      <td>0.33</td>\n",
       "    </tr>\n",
       "  </tbody>\n",
       "</table>\n",
       "</div>"
      ],
      "text/plain": [
       "   customer_id  gross_revenue  recency_days  qty_baskets  qty_items  \\\n",
       "0        17850        5391.21        372.00        34.00    1733.00   \n",
       "1        13047        3232.59         56.00         9.00    1390.00   \n",
       "2        12583        6705.38          2.00        15.00    5028.00   \n",
       "3        13748         948.25         95.00         5.00     439.00   \n",
       "4        15100         876.00        333.00         3.00      80.00   \n",
       "\n",
       "   avg_ticket  avg_recency_days  frequency  qty_prod_returned  \\\n",
       "0       18.15             35.50       0.49              40.00   \n",
       "1       18.90             27.25       0.05              35.00   \n",
       "2       28.90             23.19       0.05              50.00   \n",
       "3       33.87             92.67       0.02               0.00   \n",
       "4      292.00              8.60       0.14              22.00   \n",
       "\n",
       "   avg_basket_size  avg_unique_products  \n",
       "0            50.97                 0.62  \n",
       "1           154.44                11.67  \n",
       "2           335.20                 7.60  \n",
       "3            87.80                 4.80  \n",
       "4            26.67                 0.33  "
      ]
     },
     "execution_count": 147,
     "metadata": {},
     "output_type": "execute_result"
    }
   ],
   "source": [
    "df_ref.head()"
   ]
  },
  {
   "cell_type": "markdown",
   "id": "based-surgery",
   "metadata": {},
   "source": [
    "# EDA (Exploratory Data Analysis)"
   ]
  },
  {
   "cell_type": "code",
   "execution_count": 84,
   "id": "activated-front",
   "metadata": {
    "ExecuteTime": {
     "end_time": "2021-08-22T18:50:53.054945Z",
     "start_time": "2021-08-22T18:50:53.040932Z"
    }
   },
   "outputs": [
    {
     "data": {
      "text/plain": [
       "customer_id      0\n",
       "gross_revenue    0\n",
       "recency_days     0\n",
       "invoice_freq     0\n",
       "avg_ticket       0\n",
       "dtype: int64"
      ]
     },
     "execution_count": 84,
     "metadata": {},
     "output_type": "execute_result"
    }
   ],
   "source": [
    "df5 = df_ref.dropna().copy()\n",
    "df5.isna().sum()"
   ]
  },
  {
   "cell_type": "markdown",
   "id": "fuzzy-reaction",
   "metadata": {
    "heading_collapsed": true
   },
   "source": [
    "# Data Preparation"
   ]
  },
  {
   "cell_type": "code",
   "execution_count": 87,
   "id": "synthetic-delight",
   "metadata": {
    "ExecuteTime": {
     "end_time": "2021-08-22T18:51:31.806266Z",
     "start_time": "2021-08-22T18:51:31.796257Z"
    },
    "hidden": true
   },
   "outputs": [],
   "source": [
    "df6 = df5.copy()"
   ]
  },
  {
   "cell_type": "code",
   "execution_count": 110,
   "id": "manual-cabinet",
   "metadata": {
    "ExecuteTime": {
     "end_time": "2021-08-22T18:59:44.119418Z",
     "start_time": "2021-08-22T18:59:44.092393Z"
    },
    "hidden": true
   },
   "outputs": [],
   "source": [
    "ss = pp.StandardScaler()\n",
    "\n",
    "df6['gross_revenue'] = ss.fit_transform(df6[['gross_revenue']])\n",
    "df6['recency_days'] = ss.fit_transform(df6[['recency_days']])\n",
    "df6['invoice_freq'] = ss.fit_transform(df6[['invoice_freq']])\n",
    "df6['avg_ticket'] = ss.fit_transform(df6[['avg_ticket']])\n",
    "#df6['returns'] = ss.fit_transform(df6[['returns']])"
   ]
  },
  {
   "cell_type": "code",
   "execution_count": 89,
   "id": "fresh-syndicate",
   "metadata": {
    "ExecuteTime": {
     "end_time": "2021-08-22T18:51:32.732108Z",
     "start_time": "2021-08-22T18:51:32.711089Z"
    },
    "hidden": true
   },
   "outputs": [
    {
     "data": {
      "text/html": [
       "<div>\n",
       "<style scoped>\n",
       "    .dataframe tbody tr th:only-of-type {\n",
       "        vertical-align: middle;\n",
       "    }\n",
       "\n",
       "    .dataframe tbody tr th {\n",
       "        vertical-align: top;\n",
       "    }\n",
       "\n",
       "    .dataframe thead th {\n",
       "        text-align: right;\n",
       "    }\n",
       "</style>\n",
       "<table border=\"1\" class=\"dataframe\">\n",
       "  <thead>\n",
       "    <tr style=\"text-align: right;\">\n",
       "      <th></th>\n",
       "      <th>customer_id</th>\n",
       "      <th>gross_revenue</th>\n",
       "      <th>recency_days</th>\n",
       "      <th>invoice_freq</th>\n",
       "      <th>avg_ticket</th>\n",
       "    </tr>\n",
       "  </thead>\n",
       "  <tbody>\n",
       "    <tr>\n",
       "      <th>0</th>\n",
       "      <td>17850</td>\n",
       "      <td>5391.21</td>\n",
       "      <td>372.00</td>\n",
       "      <td>34.00</td>\n",
       "      <td>18.15</td>\n",
       "    </tr>\n",
       "    <tr>\n",
       "      <th>1</th>\n",
       "      <td>13047</td>\n",
       "      <td>3232.59</td>\n",
       "      <td>56.00</td>\n",
       "      <td>9.00</td>\n",
       "      <td>18.90</td>\n",
       "    </tr>\n",
       "    <tr>\n",
       "      <th>2</th>\n",
       "      <td>12583</td>\n",
       "      <td>6705.38</td>\n",
       "      <td>2.00</td>\n",
       "      <td>15.00</td>\n",
       "      <td>28.90</td>\n",
       "    </tr>\n",
       "    <tr>\n",
       "      <th>3</th>\n",
       "      <td>13748</td>\n",
       "      <td>948.25</td>\n",
       "      <td>95.00</td>\n",
       "      <td>5.00</td>\n",
       "      <td>33.87</td>\n",
       "    </tr>\n",
       "    <tr>\n",
       "      <th>4</th>\n",
       "      <td>15100</td>\n",
       "      <td>876.00</td>\n",
       "      <td>333.00</td>\n",
       "      <td>3.00</td>\n",
       "      <td>292.00</td>\n",
       "    </tr>\n",
       "  </tbody>\n",
       "</table>\n",
       "</div>"
      ],
      "text/plain": [
       "   customer_id  gross_revenue  recency_days  invoice_freq  avg_ticket\n",
       "0        17850        5391.21        372.00         34.00       18.15\n",
       "1        13047        3232.59         56.00          9.00       18.90\n",
       "2        12583        6705.38          2.00         15.00       28.90\n",
       "3        13748         948.25         95.00          5.00       33.87\n",
       "4        15100         876.00        333.00          3.00      292.00"
      ]
     },
     "execution_count": 89,
     "metadata": {},
     "output_type": "execute_result"
    }
   ],
   "source": [
    "df6.head()"
   ]
  },
  {
   "cell_type": "markdown",
   "id": "incorporated-brass",
   "metadata": {
    "heading_collapsed": true
   },
   "source": [
    "# Feature Selection"
   ]
  },
  {
   "cell_type": "code",
   "execution_count": 111,
   "id": "competitive-society",
   "metadata": {
    "ExecuteTime": {
     "end_time": "2021-08-22T19:01:10.916249Z",
     "start_time": "2021-08-22T19:01:10.901235Z"
    },
    "hidden": true
   },
   "outputs": [
    {
     "data": {
      "text/html": [
       "<div>\n",
       "<style scoped>\n",
       "    .dataframe tbody tr th:only-of-type {\n",
       "        vertical-align: middle;\n",
       "    }\n",
       "\n",
       "    .dataframe tbody tr th {\n",
       "        vertical-align: top;\n",
       "    }\n",
       "\n",
       "    .dataframe thead th {\n",
       "        text-align: right;\n",
       "    }\n",
       "</style>\n",
       "<table border=\"1\" class=\"dataframe\">\n",
       "  <thead>\n",
       "    <tr style=\"text-align: right;\">\n",
       "      <th></th>\n",
       "      <th>customer_id</th>\n",
       "      <th>gross_revenue</th>\n",
       "      <th>recency_days</th>\n",
       "      <th>invoice_freq</th>\n",
       "      <th>avg_ticket</th>\n",
       "    </tr>\n",
       "  </thead>\n",
       "  <tbody>\n",
       "    <tr>\n",
       "      <th>0</th>\n",
       "      <td>17850</td>\n",
       "      <td>0.38</td>\n",
       "      <td>2.79</td>\n",
       "      <td>3.89</td>\n",
       "      <td>-0.03</td>\n",
       "    </tr>\n",
       "    <tr>\n",
       "      <th>1</th>\n",
       "      <td>13047</td>\n",
       "      <td>0.14</td>\n",
       "      <td>-0.36</td>\n",
       "      <td>0.62</td>\n",
       "      <td>-0.03</td>\n",
       "    </tr>\n",
       "    <tr>\n",
       "      <th>2</th>\n",
       "      <td>12583</td>\n",
       "      <td>0.52</td>\n",
       "      <td>-0.90</td>\n",
       "      <td>1.41</td>\n",
       "      <td>-0.03</td>\n",
       "    </tr>\n",
       "    <tr>\n",
       "      <th>3</th>\n",
       "      <td>13748</td>\n",
       "      <td>-0.12</td>\n",
       "      <td>0.03</td>\n",
       "      <td>0.10</td>\n",
       "      <td>-0.02</td>\n",
       "    </tr>\n",
       "    <tr>\n",
       "      <th>4</th>\n",
       "      <td>15100</td>\n",
       "      <td>-0.13</td>\n",
       "      <td>2.40</td>\n",
       "      <td>-0.16</td>\n",
       "      <td>0.15</td>\n",
       "    </tr>\n",
       "  </tbody>\n",
       "</table>\n",
       "</div>"
      ],
      "text/plain": [
       "   customer_id  gross_revenue  recency_days  invoice_freq  avg_ticket\n",
       "0        17850           0.38          2.79          3.89       -0.03\n",
       "1        13047           0.14         -0.36          0.62       -0.03\n",
       "2        12583           0.52         -0.90          1.41       -0.03\n",
       "3        13748          -0.12          0.03          0.10       -0.02\n",
       "4        15100          -0.13          2.40         -0.16        0.15"
      ]
     },
     "execution_count": 111,
     "metadata": {},
     "output_type": "execute_result"
    }
   ],
   "source": [
    "df7 = df6.copy()\n",
    "df7.head()"
   ]
  },
  {
   "cell_type": "markdown",
   "id": "double-audience",
   "metadata": {
    "heading_collapsed": true
   },
   "source": [
    "# Hypermarameter Fine-Tunning"
   ]
  },
  {
   "cell_type": "code",
   "execution_count": 112,
   "id": "transsexual-likelihood",
   "metadata": {
    "ExecuteTime": {
     "end_time": "2021-08-22T19:01:11.283582Z",
     "start_time": "2021-08-22T19:01:11.267568Z"
    },
    "hidden": true
   },
   "outputs": [
    {
     "data": {
      "text/html": [
       "<div>\n",
       "<style scoped>\n",
       "    .dataframe tbody tr th:only-of-type {\n",
       "        vertical-align: middle;\n",
       "    }\n",
       "\n",
       "    .dataframe tbody tr th {\n",
       "        vertical-align: top;\n",
       "    }\n",
       "\n",
       "    .dataframe thead th {\n",
       "        text-align: right;\n",
       "    }\n",
       "</style>\n",
       "<table border=\"1\" class=\"dataframe\">\n",
       "  <thead>\n",
       "    <tr style=\"text-align: right;\">\n",
       "      <th></th>\n",
       "      <th>gross_revenue</th>\n",
       "      <th>recency_days</th>\n",
       "      <th>invoice_freq</th>\n",
       "      <th>avg_ticket</th>\n",
       "    </tr>\n",
       "  </thead>\n",
       "  <tbody>\n",
       "    <tr>\n",
       "      <th>0</th>\n",
       "      <td>0.38</td>\n",
       "      <td>2.79</td>\n",
       "      <td>3.89</td>\n",
       "      <td>-0.03</td>\n",
       "    </tr>\n",
       "    <tr>\n",
       "      <th>1</th>\n",
       "      <td>0.14</td>\n",
       "      <td>-0.36</td>\n",
       "      <td>0.62</td>\n",
       "      <td>-0.03</td>\n",
       "    </tr>\n",
       "    <tr>\n",
       "      <th>2</th>\n",
       "      <td>0.52</td>\n",
       "      <td>-0.90</td>\n",
       "      <td>1.41</td>\n",
       "      <td>-0.03</td>\n",
       "    </tr>\n",
       "    <tr>\n",
       "      <th>3</th>\n",
       "      <td>-0.12</td>\n",
       "      <td>0.03</td>\n",
       "      <td>0.10</td>\n",
       "      <td>-0.02</td>\n",
       "    </tr>\n",
       "    <tr>\n",
       "      <th>4</th>\n",
       "      <td>-0.13</td>\n",
       "      <td>2.40</td>\n",
       "      <td>-0.16</td>\n",
       "      <td>0.15</td>\n",
       "    </tr>\n",
       "  </tbody>\n",
       "</table>\n",
       "</div>"
      ],
      "text/plain": [
       "   gross_revenue  recency_days  invoice_freq  avg_ticket\n",
       "0           0.38          2.79          3.89       -0.03\n",
       "1           0.14         -0.36          0.62       -0.03\n",
       "2           0.52         -0.90          1.41       -0.03\n",
       "3          -0.12          0.03          0.10       -0.02\n",
       "4          -0.13          2.40         -0.16        0.15"
      ]
     },
     "execution_count": 112,
     "metadata": {},
     "output_type": "execute_result"
    }
   ],
   "source": [
    "df8 = df7.copy()\n",
    "X = df8.drop(columns=['customer_id'])\n",
    "X.head()"
   ]
  },
  {
   "cell_type": "code",
   "execution_count": 113,
   "id": "proof-booking",
   "metadata": {
    "ExecuteTime": {
     "end_time": "2021-08-22T19:01:17.359953Z",
     "start_time": "2021-08-22T19:01:17.344939Z"
    },
    "hidden": true
   },
   "outputs": [],
   "source": [
    "clusters = [2,3,4,5,6,7]"
   ]
  },
  {
   "cell_type": "markdown",
   "id": "faced-hazard",
   "metadata": {
    "ExecuteTime": {
     "end_time": "2021-05-10T22:06:18.835557Z",
     "start_time": "2021-05-10T22:06:18.827550Z"
    },
    "heading_collapsed": true,
    "hidden": true
   },
   "source": [
    "## Within-Cluster Sum of Square (WSS) vs. Silhouette Score (SS)"
   ]
  },
  {
   "cell_type": "code",
   "execution_count": 114,
   "id": "understood-boundary",
   "metadata": {
    "ExecuteTime": {
     "end_time": "2021-08-22T19:01:18.396896Z",
     "start_time": "2021-08-22T19:01:17.772328Z"
    },
    "cell_style": "split",
    "code_folding": [],
    "hidden": true
   },
   "outputs": [
    {
     "data": {
      "image/png": "[encoded data removed]",
      "text/plain": [
       "<Figure size 1440x720 with 1 Axes>"
      ]
     },
     "metadata": {},
     "output_type": "display_data"
    }
   ],
   "source": [
    "# WSS\n",
    "kmeans_y = KElbowVisualizer(c.KMeans(), k=clusters, timings=False);\n",
    "kmeans_y.fit(X);\n",
    "kmeans_y.show();"
   ]
  },
  {
   "cell_type": "code",
   "execution_count": 115,
   "id": "requested-dressing",
   "metadata": {
    "ExecuteTime": {
     "end_time": "2021-08-22T19:01:20.380699Z",
     "start_time": "2021-08-22T19:01:18.397896Z"
    },
    "cell_style": "split",
    "hidden": true
   },
   "outputs": [
    {
     "data": {
      "image/png": "[encoded data removed]",
      "text/plain": [
       "<Figure size 1440x720 with 1 Axes>"
      ]
     },
     "metadata": {},
     "output_type": "display_data"
    }
   ],
   "source": [
    "# SS\n",
    "kmeans_y = KElbowVisualizer(c.KMeans(), k=clusters, metric='silhouette', timings=False);\n",
    "kmeans_y.fit(X);\n",
    "kmeans_y.show();"
   ]
  },
  {
   "cell_type": "markdown",
   "id": "processed-wesley",
   "metadata": {
    "heading_collapsed": true,
    "hidden": true
   },
   "source": [
    "## Silhouette Analysis"
   ]
  },
  {
   "cell_type": "code",
   "execution_count": 116,
   "id": "developing-massage",
   "metadata": {
    "ExecuteTime": {
     "end_time": "2021-08-22T19:01:20.396713Z",
     "start_time": "2021-08-22T19:01:20.381699Z"
    },
    "hidden": true
   },
   "outputs": [
    {
     "name": "stdout",
     "output_type": "stream",
     "text": [
      "2 1\n"
     ]
    }
   ],
   "source": [
    "# == note reminder\n",
    "# divmod input are numerator and denominator\n",
    "# divmod output are quotient and remainder\n",
    "# example:\n",
    "x, y = divmod(5,2)\n",
    "print(x, y)"
   ]
  },
  {
   "cell_type": "code",
   "execution_count": 117,
   "id": "instructional-profit",
   "metadata": {
    "ExecuteTime": {
     "end_time": "2021-08-22T19:01:26.225816Z",
     "start_time": "2021-08-22T19:01:20.397714Z"
    },
    "hidden": true
   },
   "outputs": [
    {
     "data": {
      "text/html": [
       "<style>.container{width:90% !important;}</style>"
      ],
      "text/plain": [
       "<IPython.core.display.HTML object>"
      ]
     },
     "metadata": {},
     "output_type": "display_data"
    },
    {
     "data": {
      "image/png": "[encoded data removed]",
      "text/plain": [
       "<Figure size 1800x1440 with 6 Axes>"
      ]
     },
     "metadata": {},
     "output_type": "display_data"
    }
   ],
   "source": [
    "fig, ax = plt.subplots(3,2, figsize=(25,20))\n",
    "\n",
    "\n",
    "for k in clusters:\n",
    "    km = c.KMeans (n_clusters=k, init='random', n_init=10, max_iter=100, random_state=42)\n",
    "    q, r = divmod(k,2) # quotient and remainder will determine plot position\n",
    "    visualizer = SilhouetteVisualizer(km, colors='yellowbrick', ax=ax[q-1][r])\n",
    "    visualizer.fit(X)\n",
    "    visualizer.finalize()\n",
    "    plt.tight_layout()\n",
    "    \n",
    "personal_settings()"
   ]
  },
  {
   "cell_type": "markdown",
   "id": "white-overall",
   "metadata": {
    "heading_collapsed": true
   },
   "source": [
    "# Model training"
   ]
  },
  {
   "cell_type": "code",
   "execution_count": 256,
   "id": "hispanic-residence",
   "metadata": {
    "ExecuteTime": {
     "end_time": "2021-08-22T05:03:57.116099Z",
     "start_time": "2021-08-22T05:03:57.101085Z"
    },
    "hidden": true
   },
   "outputs": [],
   "source": [
    "#df9 = df8.copy()"
   ]
  },
  {
   "cell_type": "markdown",
   "id": "printable-batman",
   "metadata": {
    "heading_collapsed": true,
    "hidden": true
   },
   "source": [
    "## K-Means"
   ]
  },
  {
   "cell_type": "code",
   "execution_count": 118,
   "id": "competent-marble",
   "metadata": {
    "ExecuteTime": {
     "end_time": "2021-08-22T19:01:41.064110Z",
     "start_time": "2021-08-22T19:01:40.981034Z"
    },
    "hidden": true
   },
   "outputs": [
    {
     "name": "stdout",
     "output_type": "stream",
     "text": [
      "[1 0 0 ... 0 0 0]\n"
     ]
    }
   ],
   "source": [
    "# model definition\n",
    "k = 3\n",
    "kmeans = c.KMeans(init='random', n_clusters=k, n_init=10, max_iter=300, random_state=42)\n",
    "\n",
    "# model training\n",
    "kmeans.fit(X)\n",
    "\n",
    "# model clustering\n",
    "# labels = kmeans.predict(X) # another way\n",
    "labels = kmeans.labels_\n",
    "print(labels)"
   ]
  },
  {
   "cell_type": "markdown",
   "id": "minus-ceremony",
   "metadata": {
    "heading_collapsed": true,
    "hidden": true
   },
   "source": [
    "## Cluster Validation"
   ]
  },
  {
   "cell_type": "code",
   "execution_count": 119,
   "id": "rotary-smoke",
   "metadata": {
    "ExecuteTime": {
     "end_time": "2021-08-22T19:01:42.837721Z",
     "start_time": "2021-08-22T19:01:42.828713Z"
    },
    "hidden": true
   },
   "outputs": [
    {
     "name": "stdout",
     "output_type": "stream",
     "text": [
      "WSS value: 9404.844768603278\n"
     ]
    },
    {
     "ename": "AttributeError",
     "evalue": "'DataFrame' object has no attribute 'silhouette_score'",
     "output_type": "error",
     "traceback": [
      "\u001b[1;31m---------------------------------------------------------------------------\u001b[0m",
      "\u001b[1;31mAttributeError\u001b[0m                            Traceback (most recent call last)",
      "\u001b[1;32m<ipython-input-119-72988ecd7c94>\u001b[0m in \u001b[0;36m<module>\u001b[1;34m\u001b[0m\n\u001b[0;32m      3\u001b[0m \u001b[1;33m\u001b[0m\u001b[0m\n\u001b[0;32m      4\u001b[0m \u001b[1;31m# SS\u001b[0m\u001b[1;33m\u001b[0m\u001b[1;33m\u001b[0m\u001b[1;33m\u001b[0m\u001b[0m\n\u001b[1;32m----> 5\u001b[1;33m \u001b[0mprint\u001b[0m\u001b[1;33m(\u001b[0m\u001b[1;34m'SS value:  {}'\u001b[0m\u001b[1;33m.\u001b[0m\u001b[0mformat\u001b[0m\u001b[1;33m(\u001b[0m\u001b[0mm\u001b[0m\u001b[1;33m.\u001b[0m\u001b[0msilhouette_score\u001b[0m\u001b[1;33m(\u001b[0m\u001b[0mX\u001b[0m\u001b[1;33m,\u001b[0m \u001b[0mlabels\u001b[0m\u001b[1;33m,\u001b[0m \u001b[0mmetric\u001b[0m\u001b[1;33m=\u001b[0m\u001b[1;34m'euclidean'\u001b[0m\u001b[1;33m)\u001b[0m\u001b[1;33m)\u001b[0m\u001b[1;33m)\u001b[0m\u001b[1;33m\u001b[0m\u001b[1;33m\u001b[0m\u001b[0m\n\u001b[0m",
      "\u001b[1;32m~\\Documents\\anaconda3\\envs\\pa005_customerclustering\\lib\\site-packages\\pandas\\core\\generic.py\u001b[0m in \u001b[0;36m__getattr__\u001b[1;34m(self, name)\u001b[0m\n\u001b[0;32m   5460\u001b[0m             \u001b[1;32mif\u001b[0m \u001b[0mself\u001b[0m\u001b[1;33m.\u001b[0m\u001b[0m_info_axis\u001b[0m\u001b[1;33m.\u001b[0m\u001b[0m_can_hold_identifiers_and_holds_name\u001b[0m\u001b[1;33m(\u001b[0m\u001b[0mname\u001b[0m\u001b[1;33m)\u001b[0m\u001b[1;33m:\u001b[0m\u001b[1;33m\u001b[0m\u001b[1;33m\u001b[0m\u001b[0m\n\u001b[0;32m   5461\u001b[0m                 \u001b[1;32mreturn\u001b[0m \u001b[0mself\u001b[0m\u001b[1;33m[\u001b[0m\u001b[0mname\u001b[0m\u001b[1;33m]\u001b[0m\u001b[1;33m\u001b[0m\u001b[1;33m\u001b[0m\u001b[0m\n\u001b[1;32m-> 5462\u001b[1;33m             \u001b[1;32mreturn\u001b[0m \u001b[0mobject\u001b[0m\u001b[1;33m.\u001b[0m\u001b[0m__getattribute__\u001b[0m\u001b[1;33m(\u001b[0m\u001b[0mself\u001b[0m\u001b[1;33m,\u001b[0m \u001b[0mname\u001b[0m\u001b[1;33m)\u001b[0m\u001b[1;33m\u001b[0m\u001b[1;33m\u001b[0m\u001b[0m\n\u001b[0m\u001b[0;32m   5463\u001b[0m \u001b[1;33m\u001b[0m\u001b[0m\n\u001b[0;32m   5464\u001b[0m     \u001b[1;32mdef\u001b[0m \u001b[0m__setattr__\u001b[0m\u001b[1;33m(\u001b[0m\u001b[0mself\u001b[0m\u001b[1;33m,\u001b[0m \u001b[0mname\u001b[0m\u001b[1;33m:\u001b[0m \u001b[0mstr\u001b[0m\u001b[1;33m,\u001b[0m \u001b[0mvalue\u001b[0m\u001b[1;33m)\u001b[0m \u001b[1;33m->\u001b[0m \u001b[1;32mNone\u001b[0m\u001b[1;33m:\u001b[0m\u001b[1;33m\u001b[0m\u001b[1;33m\u001b[0m\u001b[0m\n",
      "\u001b[1;31mAttributeError\u001b[0m: 'DataFrame' object has no attribute 'silhouette_score'"
     ]
    }
   ],
   "source": [
    "# WSS \n",
    "print('WSS value: {}'.format(kmeans.inertia_))\n",
    "\n",
    "# SS \n",
    "print('SS value:  {}'.format(m.silhouette_score(X, labels, metric='euclidean')))"
   ]
  },
  {
   "cell_type": "markdown",
   "id": "wrapped-victorian",
   "metadata": {
    "heading_collapsed": true
   },
   "source": [
    "# Cluster Analysis"
   ]
  },
  {
   "cell_type": "code",
   "execution_count": 120,
   "id": "unavailable-cricket",
   "metadata": {
    "ExecuteTime": {
     "end_time": "2021-08-22T19:01:44.434678Z",
     "start_time": "2021-08-22T19:01:44.414660Z"
    },
    "hidden": true
   },
   "outputs": [
    {
     "data": {
      "text/html": [
       "<div>\n",
       "<style scoped>\n",
       "    .dataframe tbody tr th:only-of-type {\n",
       "        vertical-align: middle;\n",
       "    }\n",
       "\n",
       "    .dataframe tbody tr th {\n",
       "        vertical-align: top;\n",
       "    }\n",
       "\n",
       "    .dataframe thead th {\n",
       "        text-align: right;\n",
       "    }\n",
       "</style>\n",
       "<table border=\"1\" class=\"dataframe\">\n",
       "  <thead>\n",
       "    <tr style=\"text-align: right;\">\n",
       "      <th></th>\n",
       "      <th>customer_id</th>\n",
       "      <th>gross_revenue</th>\n",
       "      <th>recency_days</th>\n",
       "      <th>invoice_freq</th>\n",
       "      <th>avg_ticket</th>\n",
       "      <th>clusters</th>\n",
       "    </tr>\n",
       "  </thead>\n",
       "  <tbody>\n",
       "    <tr>\n",
       "      <th>0</th>\n",
       "      <td>17850</td>\n",
       "      <td>0.38</td>\n",
       "      <td>2.79</td>\n",
       "      <td>3.89</td>\n",
       "      <td>-0.03</td>\n",
       "      <td>1</td>\n",
       "    </tr>\n",
       "    <tr>\n",
       "      <th>1</th>\n",
       "      <td>13047</td>\n",
       "      <td>0.14</td>\n",
       "      <td>-0.36</td>\n",
       "      <td>0.62</td>\n",
       "      <td>-0.03</td>\n",
       "      <td>0</td>\n",
       "    </tr>\n",
       "    <tr>\n",
       "      <th>2</th>\n",
       "      <td>12583</td>\n",
       "      <td>0.52</td>\n",
       "      <td>-0.90</td>\n",
       "      <td>1.41</td>\n",
       "      <td>-0.03</td>\n",
       "      <td>0</td>\n",
       "    </tr>\n",
       "    <tr>\n",
       "      <th>3</th>\n",
       "      <td>13748</td>\n",
       "      <td>-0.12</td>\n",
       "      <td>0.03</td>\n",
       "      <td>0.10</td>\n",
       "      <td>-0.02</td>\n",
       "      <td>0</td>\n",
       "    </tr>\n",
       "    <tr>\n",
       "      <th>4</th>\n",
       "      <td>15100</td>\n",
       "      <td>-0.13</td>\n",
       "      <td>2.40</td>\n",
       "      <td>-0.16</td>\n",
       "      <td>0.15</td>\n",
       "      <td>1</td>\n",
       "    </tr>\n",
       "  </tbody>\n",
       "</table>\n",
       "</div>"
      ],
      "text/plain": [
       "   customer_id  gross_revenue  recency_days  invoice_freq  avg_ticket  \\\n",
       "0        17850           0.38          2.79          3.89       -0.03   \n",
       "1        13047           0.14         -0.36          0.62       -0.03   \n",
       "2        12583           0.52         -0.90          1.41       -0.03   \n",
       "3        13748          -0.12          0.03          0.10       -0.02   \n",
       "4        15100          -0.13          2.40         -0.16        0.15   \n",
       "\n",
       "   clusters  \n",
       "0         1  \n",
       "1         0  \n",
       "2         0  \n",
       "3         0  \n",
       "4         1  "
      ]
     },
     "execution_count": 120,
     "metadata": {},
     "output_type": "execute_result"
    }
   ],
   "source": [
    "df10=df7.copy()\n",
    "df10['clusters'] = labels\n",
    "df10.head()"
   ]
  },
  {
   "cell_type": "markdown",
   "id": "figured-restriction",
   "metadata": {
    "heading_collapsed": true,
    "hidden": true
   },
   "source": [
    "## Visualization Inspection"
   ]
  },
  {
   "cell_type": "code",
   "execution_count": 121,
   "id": "arctic-party",
   "metadata": {
    "ExecuteTime": {
     "end_time": "2021-08-22T19:01:46.653979Z",
     "start_time": "2021-08-22T19:01:45.911305Z"
    },
    "hidden": true
   },
   "outputs": [
    {
     "data": {
      "image/png": "[encoded data removed]",
      "text/plain": [
       "<Figure size 1440x720 with 1 Axes>"
      ]
     },
     "metadata": {},
     "output_type": "display_data"
    }
   ],
   "source": [
    "visualizer = SilhouetteVisualizer(kmeans, colors='yellowbrick')\n",
    "visualizer.fit(X)\n",
    "visualizer.finalize()"
   ]
  },
  {
   "cell_type": "markdown",
   "id": "fatty-thumb",
   "metadata": {
    "heading_collapsed": true,
    "hidden": true
   },
   "source": [
    "## 2D Plot"
   ]
  },
  {
   "cell_type": "code",
   "execution_count": 122,
   "id": "thermal-peoples",
   "metadata": {
    "ExecuteTime": {
     "end_time": "2021-08-22T19:02:38.300929Z",
     "start_time": "2021-08-22T19:02:38.284915Z"
    },
    "hidden": true
   },
   "outputs": [
    {
     "data": {
      "text/html": [
       "<div>\n",
       "<style scoped>\n",
       "    .dataframe tbody tr th:only-of-type {\n",
       "        vertical-align: middle;\n",
       "    }\n",
       "\n",
       "    .dataframe tbody tr th {\n",
       "        vertical-align: top;\n",
       "    }\n",
       "\n",
       "    .dataframe thead th {\n",
       "        text-align: right;\n",
       "    }\n",
       "</style>\n",
       "<table border=\"1\" class=\"dataframe\">\n",
       "  <thead>\n",
       "    <tr style=\"text-align: right;\">\n",
       "      <th></th>\n",
       "      <th>customer_id</th>\n",
       "      <th>gross_revenue</th>\n",
       "      <th>recency_days</th>\n",
       "      <th>invoice_freq</th>\n",
       "      <th>avg_ticket</th>\n",
       "      <th>clusters</th>\n",
       "    </tr>\n",
       "  </thead>\n",
       "  <tbody>\n",
       "    <tr>\n",
       "      <th>0</th>\n",
       "      <td>17850</td>\n",
       "      <td>0.38</td>\n",
       "      <td>2.79</td>\n",
       "      <td>3.89</td>\n",
       "      <td>-0.03</td>\n",
       "      <td>1</td>\n",
       "    </tr>\n",
       "    <tr>\n",
       "      <th>1</th>\n",
       "      <td>13047</td>\n",
       "      <td>0.14</td>\n",
       "      <td>-0.36</td>\n",
       "      <td>0.62</td>\n",
       "      <td>-0.03</td>\n",
       "      <td>0</td>\n",
       "    </tr>\n",
       "    <tr>\n",
       "      <th>2</th>\n",
       "      <td>12583</td>\n",
       "      <td>0.52</td>\n",
       "      <td>-0.90</td>\n",
       "      <td>1.41</td>\n",
       "      <td>-0.03</td>\n",
       "      <td>0</td>\n",
       "    </tr>\n",
       "    <tr>\n",
       "      <th>3</th>\n",
       "      <td>13748</td>\n",
       "      <td>-0.12</td>\n",
       "      <td>0.03</td>\n",
       "      <td>0.10</td>\n",
       "      <td>-0.02</td>\n",
       "      <td>0</td>\n",
       "    </tr>\n",
       "    <tr>\n",
       "      <th>4</th>\n",
       "      <td>15100</td>\n",
       "      <td>-0.13</td>\n",
       "      <td>2.40</td>\n",
       "      <td>-0.16</td>\n",
       "      <td>0.15</td>\n",
       "      <td>1</td>\n",
       "    </tr>\n",
       "  </tbody>\n",
       "</table>\n",
       "</div>"
      ],
      "text/plain": [
       "   customer_id  gross_revenue  recency_days  invoice_freq  avg_ticket  \\\n",
       "0        17850           0.38          2.79          3.89       -0.03   \n",
       "1        13047           0.14         -0.36          0.62       -0.03   \n",
       "2        12583           0.52         -0.90          1.41       -0.03   \n",
       "3        13748          -0.12          0.03          0.10       -0.02   \n",
       "4        15100          -0.13          2.40         -0.16        0.15   \n",
       "\n",
       "   clusters  \n",
       "0         1  \n",
       "1         0  \n",
       "2         0  \n",
       "3         0  \n",
       "4         1  "
      ]
     },
     "execution_count": 122,
     "metadata": {},
     "output_type": "execute_result"
    }
   ],
   "source": [
    "df10.head()"
   ]
  },
  {
   "cell_type": "code",
   "execution_count": 123,
   "id": "packed-scale",
   "metadata": {
    "ExecuteTime": {
     "end_time": "2021-08-22T19:02:43.304981Z",
     "start_time": "2021-08-22T19:02:38.476088Z"
    },
    "hidden": true
   },
   "outputs": [
    {
     "data": {
      "image/png": "[encoded data removed]",
      "text/plain": [
       "<Figure size 1083.58x1008 with 20 Axes>"
      ]
     },
     "metadata": {},
     "output_type": "display_data"
    }
   ],
   "source": [
    "df_viz = df10.drop(columns='customer_id', axis=1)\n",
    "sns.pairplot(df_viz, hue='clusters', height=3.5);"
   ]
  },
  {
   "cell_type": "markdown",
   "id": "through-receptor",
   "metadata": {
    "heading_collapsed": true,
    "hidden": true
   },
   "source": [
    "## UMAP"
   ]
  },
  {
   "cell_type": "code",
   "execution_count": 124,
   "id": "concerned-investor",
   "metadata": {
    "ExecuteTime": {
     "end_time": "2021-08-22T19:02:43.320996Z",
     "start_time": "2021-08-22T19:02:43.305982Z"
    },
    "hidden": true
   },
   "outputs": [
    {
     "data": {
      "text/html": [
       "<div>\n",
       "<style scoped>\n",
       "    .dataframe tbody tr th:only-of-type {\n",
       "        vertical-align: middle;\n",
       "    }\n",
       "\n",
       "    .dataframe tbody tr th {\n",
       "        vertical-align: top;\n",
       "    }\n",
       "\n",
       "    .dataframe thead th {\n",
       "        text-align: right;\n",
       "    }\n",
       "</style>\n",
       "<table border=\"1\" class=\"dataframe\">\n",
       "  <thead>\n",
       "    <tr style=\"text-align: right;\">\n",
       "      <th></th>\n",
       "      <th>gross_revenue</th>\n",
       "      <th>recency_days</th>\n",
       "      <th>invoice_freq</th>\n",
       "      <th>avg_ticket</th>\n",
       "    </tr>\n",
       "  </thead>\n",
       "  <tbody>\n",
       "    <tr>\n",
       "      <th>0</th>\n",
       "      <td>0.38</td>\n",
       "      <td>2.79</td>\n",
       "      <td>3.89</td>\n",
       "      <td>-0.03</td>\n",
       "    </tr>\n",
       "    <tr>\n",
       "      <th>1</th>\n",
       "      <td>0.14</td>\n",
       "      <td>-0.36</td>\n",
       "      <td>0.62</td>\n",
       "      <td>-0.03</td>\n",
       "    </tr>\n",
       "    <tr>\n",
       "      <th>2</th>\n",
       "      <td>0.52</td>\n",
       "      <td>-0.90</td>\n",
       "      <td>1.41</td>\n",
       "      <td>-0.03</td>\n",
       "    </tr>\n",
       "    <tr>\n",
       "      <th>3</th>\n",
       "      <td>-0.12</td>\n",
       "      <td>0.03</td>\n",
       "      <td>0.10</td>\n",
       "      <td>-0.02</td>\n",
       "    </tr>\n",
       "    <tr>\n",
       "      <th>4</th>\n",
       "      <td>-0.13</td>\n",
       "      <td>2.40</td>\n",
       "      <td>-0.16</td>\n",
       "      <td>0.15</td>\n",
       "    </tr>\n",
       "  </tbody>\n",
       "</table>\n",
       "</div>"
      ],
      "text/plain": [
       "   gross_revenue  recency_days  invoice_freq  avg_ticket\n",
       "0           0.38          2.79          3.89       -0.03\n",
       "1           0.14         -0.36          0.62       -0.03\n",
       "2           0.52         -0.90          1.41       -0.03\n",
       "3          -0.12          0.03          0.10       -0.02\n",
       "4          -0.13          2.40         -0.16        0.15"
      ]
     },
     "execution_count": 124,
     "metadata": {},
     "output_type": "execute_result"
    }
   ],
   "source": [
    "X.head() # X = df_ref without 'customer_id' column"
   ]
  },
  {
   "cell_type": "code",
   "execution_count": 125,
   "id": "theoretical-conditions",
   "metadata": {
    "ExecuteTime": {
     "end_time": "2021-08-22T19:02:51.058326Z",
     "start_time": "2021-08-22T19:02:43.321997Z"
    },
    "hidden": true
   },
   "outputs": [],
   "source": [
    "# reducing high dimensionality\n",
    "reducer = umap.UMAP(n_neighbors=40, random_state=42) # n_neighbors changes clusteres visualization, kind of \"zoom in/zoom out\"\n",
    "\n",
    "# projected space\n",
    "embedding = reducer.fit_transform(X)"
   ]
  },
  {
   "cell_type": "code",
   "execution_count": 126,
   "id": "composite-string",
   "metadata": {
    "ExecuteTime": {
     "end_time": "2021-08-22T19:02:51.362602Z",
     "start_time": "2021-08-22T19:02:51.059327Z"
    },
    "hidden": true
   },
   "outputs": [
    {
     "data": {
      "image/png": "[encoded data removed]",
      "text/plain": [
       "<Figure size 1440x720 with 1 Axes>"
      ]
     },
     "metadata": {},
     "output_type": "display_data"
    }
   ],
   "source": [
    "# embedding\n",
    "df_viz['embedding_x'] = embedding[:,0]\n",
    "df_viz['embedding_y'] = embedding[:,1]\n",
    "\n",
    "# plot UMAP\n",
    "sns.scatterplot(x='embedding_x', y='embedding_y',\n",
    "                hue='clusters',\n",
    "                palette=sns.color_palette('hls', n_colors=len(df_viz['clusters'].unique())),\n",
    "                data=df_viz);"
   ]
  },
  {
   "cell_type": "markdown",
   "id": "exact-interim",
   "metadata": {
    "heading_collapsed": true,
    "hidden": true
   },
   "source": [
    "## Cluster Profile"
   ]
  },
  {
   "cell_type": "code",
   "execution_count": 127,
   "id": "virtual-breed",
   "metadata": {
    "ExecuteTime": {
     "end_time": "2021-08-22T19:02:51.378617Z",
     "start_time": "2021-08-22T19:02:51.363603Z"
    },
    "hidden": true
   },
   "outputs": [
    {
     "data": {
      "text/html": [
       "<div>\n",
       "<style scoped>\n",
       "    .dataframe tbody tr th:only-of-type {\n",
       "        vertical-align: middle;\n",
       "    }\n",
       "\n",
       "    .dataframe tbody tr th {\n",
       "        vertical-align: top;\n",
       "    }\n",
       "\n",
       "    .dataframe thead th {\n",
       "        text-align: right;\n",
       "    }\n",
       "</style>\n",
       "<table border=\"1\" class=\"dataframe\">\n",
       "  <thead>\n",
       "    <tr style=\"text-align: right;\">\n",
       "      <th></th>\n",
       "      <th>customer_id</th>\n",
       "      <th>gross_revenue</th>\n",
       "      <th>recency_days</th>\n",
       "      <th>invoice_freq</th>\n",
       "      <th>avg_ticket</th>\n",
       "      <th>clusters</th>\n",
       "    </tr>\n",
       "  </thead>\n",
       "  <tbody>\n",
       "    <tr>\n",
       "      <th>0</th>\n",
       "      <td>17850</td>\n",
       "      <td>0.38</td>\n",
       "      <td>2.79</td>\n",
       "      <td>3.89</td>\n",
       "      <td>-0.03</td>\n",
       "      <td>1</td>\n",
       "    </tr>\n",
       "    <tr>\n",
       "      <th>1</th>\n",
       "      <td>13047</td>\n",
       "      <td>0.14</td>\n",
       "      <td>-0.36</td>\n",
       "      <td>0.62</td>\n",
       "      <td>-0.03</td>\n",
       "      <td>0</td>\n",
       "    </tr>\n",
       "    <tr>\n",
       "      <th>2</th>\n",
       "      <td>12583</td>\n",
       "      <td>0.52</td>\n",
       "      <td>-0.90</td>\n",
       "      <td>1.41</td>\n",
       "      <td>-0.03</td>\n",
       "      <td>0</td>\n",
       "    </tr>\n",
       "    <tr>\n",
       "      <th>3</th>\n",
       "      <td>13748</td>\n",
       "      <td>-0.12</td>\n",
       "      <td>0.03</td>\n",
       "      <td>0.10</td>\n",
       "      <td>-0.02</td>\n",
       "      <td>0</td>\n",
       "    </tr>\n",
       "    <tr>\n",
       "      <th>4</th>\n",
       "      <td>15100</td>\n",
       "      <td>-0.13</td>\n",
       "      <td>2.40</td>\n",
       "      <td>-0.16</td>\n",
       "      <td>0.15</td>\n",
       "      <td>1</td>\n",
       "    </tr>\n",
       "  </tbody>\n",
       "</table>\n",
       "</div>"
      ],
      "text/plain": [
       "   customer_id  gross_revenue  recency_days  invoice_freq  avg_ticket  \\\n",
       "0        17850           0.38          2.79          3.89       -0.03   \n",
       "1        13047           0.14         -0.36          0.62       -0.03   \n",
       "2        12583           0.52         -0.90          1.41       -0.03   \n",
       "3        13748          -0.12          0.03          0.10       -0.02   \n",
       "4        15100          -0.13          2.40         -0.16        0.15   \n",
       "\n",
       "   clusters  \n",
       "0         1  \n",
       "1         0  \n",
       "2         0  \n",
       "3         0  \n",
       "4         1  "
      ]
     },
     "execution_count": 127,
     "metadata": {},
     "output_type": "execute_result"
    }
   ],
   "source": [
    "df10.head()"
   ]
  },
  {
   "cell_type": "code",
   "execution_count": 128,
   "id": "atomic-illness",
   "metadata": {
    "ExecuteTime": {
     "end_time": "2021-08-22T19:02:51.536761Z",
     "start_time": "2021-08-22T19:02:51.379618Z"
    },
    "hidden": true
   },
   "outputs": [
    {
     "data": {
      "text/html": [
       "<div>\n",
       "<style scoped>\n",
       "    .dataframe tbody tr th:only-of-type {\n",
       "        vertical-align: middle;\n",
       "    }\n",
       "\n",
       "    .dataframe tbody tr th {\n",
       "        vertical-align: top;\n",
       "    }\n",
       "\n",
       "    .dataframe thead th {\n",
       "        text-align: right;\n",
       "    }\n",
       "</style>\n",
       "<table border=\"1\" class=\"dataframe\">\n",
       "  <thead>\n",
       "    <tr style=\"text-align: right;\">\n",
       "      <th></th>\n",
       "      <th>clusters</th>\n",
       "      <th>customer_id</th>\n",
       "      <th>customer_percentage</th>\n",
       "      <th>gross_revenue</th>\n",
       "      <th>recency_days</th>\n",
       "      <th>invoice_freq</th>\n",
       "      <th>avg_ticket</th>\n",
       "    </tr>\n",
       "  </thead>\n",
       "  <tbody>\n",
       "    <tr>\n",
       "      <th>2</th>\n",
       "      <td>2</td>\n",
       "      <td>22</td>\n",
       "      <td>0.51</td>\n",
       "      <td>10.34</td>\n",
       "      <td>-0.72</td>\n",
       "      <td>8.44</td>\n",
       "      <td>4.19</td>\n",
       "    </tr>\n",
       "    <tr>\n",
       "      <th>0</th>\n",
       "      <td>0</td>\n",
       "      <td>3222</td>\n",
       "      <td>74.41</td>\n",
       "      <td>-0.02</td>\n",
       "      <td>-0.51</td>\n",
       "      <td>0.06</td>\n",
       "      <td>-0.03</td>\n",
       "    </tr>\n",
       "    <tr>\n",
       "      <th>1</th>\n",
       "      <td>1</td>\n",
       "      <td>1086</td>\n",
       "      <td>25.08</td>\n",
       "      <td>-0.16</td>\n",
       "      <td>1.54</td>\n",
       "      <td>-0.35</td>\n",
       "      <td>-0.01</td>\n",
       "    </tr>\n",
       "  </tbody>\n",
       "</table>\n",
       "</div>"
      ],
      "text/plain": [
       "   clusters  customer_id  customer_percentage  gross_revenue  recency_days  \\\n",
       "2         2           22                 0.51          10.34         -0.72   \n",
       "0         0         3222                74.41          -0.02         -0.51   \n",
       "1         1         1086                25.08          -0.16          1.54   \n",
       "\n",
       "   invoice_freq  avg_ticket  \n",
       "2          8.44        4.19  \n",
       "0          0.06       -0.03  \n",
       "1         -0.35       -0.01  "
      ]
     },
     "execution_count": 128,
     "metadata": {},
     "output_type": "execute_result"
    }
   ],
   "source": [
    "# number of customers on each cluster\n",
    "df_cluster = df10[['customer_id','clusters']].groupby('clusters').count().reset_index()\n",
    "df_cluster['customer_percentage'] = (df_cluster['customer_id'] / df_cluster['customer_id'].sum())*100\n",
    "\n",
    "# avg gross_revenue\n",
    "df_avg_grossrevenue = df10[['gross_revenue','clusters']].groupby('clusters').mean().reset_index()\n",
    "df_cluster = pd.merge(df_cluster, df_avg_grossrevenue, how='inner', on='clusters')\n",
    "\n",
    "# avg recency_days\n",
    "df_avg_recencydays = df10[['recency_days','clusters']].groupby('clusters').mean().reset_index()\n",
    "df_cluster = pd.merge(df_cluster, df_avg_recencydays, how='inner', on='clusters')\n",
    "\n",
    "# avg incoive_freq\n",
    "df_avg_invoicefreq = df10[['invoice_freq','clusters']].groupby('clusters').mean().reset_index()\n",
    "df_cluster = pd.merge(df_cluster, df_avg_invoicefreq, how='inner', on='clusters')\n",
    "\n",
    "# avg ticket\n",
    "df_avg_ticket = df10[['avg_ticket','clusters']].groupby('clusters').mean().reset_index()\n",
    "df_cluster = pd.merge(df_cluster, df_avg_ticket, how='inner', on='clusters')\n",
    "\n",
    "df_cluster.sort_values('gross_revenue', ascending=False)"
   ]
  },
  {
   "cell_type": "markdown",
   "id": "innovative-updating",
   "metadata": {
    "ExecuteTime": {
     "end_time": "2021-08-15T19:22:03.406462Z",
     "start_time": "2021-08-15T19:22:03.399455Z"
    },
    "heading_collapsed": true,
    "hidden": true
   },
   "source": [
    "### <font color=red> Cluster 00:  Insiders\n",
    "    - Number of Customers:: 6 (0.14% of total of customers)\n",
    "    - Avg Recency Days: 7 \n",
    "    - Avg Quantity of Invoices: 89\n",
    "    - Avg Gross Revenue: $182,181.98\t\n",
    "        \n",
    "###  <font color=red> Cluster 01:\n",
    "    - Number of Customers: 28 (0.64% of total of customers)\n",
    "    - Avg Recency Days: 6\n",
    "    - Avg Quantity of Invoices: 58\n",
    "    - Avg Gross Revenue: $42,614.39\n",
    "    \n",
    "###  <font color=red> Cluster 03:\n",
    "    - Number of Customers: 267 (6.11% of total of customers)\n",
    "    - Avg Recency Days: 20\n",
    "    - Avg Quantity of Invoices: 20\n",
    "    - Avg Gross Revenue: $8,089.03\n",
    "\n",
    "### <font color=red>  Cluster 02:\n",
    "    - Number of Customers: 4.071 (93,12% of total of customers)\n",
    "    - Avg Recency Days: 97\n",
    "    - Avg Quantity of Invoices: 4\n",
    "    - Avg Gross Revenue: $946.70"
   ]
  },
  {
   "cell_type": "markdown",
   "id": "hindu-congo",
   "metadata": {
    "heading_collapsed": true
   },
   "source": [
    "# Deploy to Production"
   ]
  },
  {
   "cell_type": "code",
   "execution_count": null,
   "id": "alpha-bathroom",
   "metadata": {
    "hidden": true
   },
   "outputs": [],
   "source": []
  }
 ],
 "metadata": {
  "kernelspec": {
   "display_name": "Python 3 (ipykernel)",
   "language": "python",
   "name": "python3"
  },
  "language_info": {
   "codemirror_mode": {
    "name": "ipython",
    "version": 3
   },
   "file_extension": ".py",
   "mimetype": "text/x-python",
   "name": "python",
   "nbconvert_exporter": "python",
   "pygments_lexer": "ipython3",
   "version": "3.8.10"
  },
  "toc": {
   "base_numbering": "0",
   "nav_menu": {
    "height": "298.993px",
    "width": "160px"
   },
   "number_sections": true,
   "sideBar": false,
   "skip_h1_title": false,
   "title_cell": "Table of Contents",
   "title_sidebar": "Contents",
   "toc_cell": false,
   "toc_position": {
    "height": "642.535px",
    "left": "1762.95px",
    "top": "434.135px",
    "width": "279.653px"
   },
   "toc_section_display": true,
   "toc_window_display": true
  }
 },
 "nbformat": 4,
 "nbformat_minor": 5
}
