{
 "cells": [
  {
   "cell_type": "markdown",
   "id": "broadband-agent",
   "metadata": {
    "heading_collapsed": true
   },
   "source": [
    "# Imports"
   ]
  },
  {
   "cell_type": "code",
   "execution_count": 1,
   "id": "collected-costa",
   "metadata": {
    "ExecuteTime": {
     "end_time": "2021-06-08T18:17:55.151916Z",
     "start_time": "2021-06-08T18:17:41.671157Z"
    },
    "hidden": true
   },
   "outputs": [],
   "source": [
    "import numpy      as np\n",
    "import regex      as re\n",
    "import pandas     as pd\n",
    "import seaborn    as sns\n",
    "import umap.umap_ as umap\n",
    "\n",
    "from plotly              import express         as px\n",
    "from sklearn             import cluster         as c\n",
    "from sklearn             import preprocessing   as pp\n",
    "from sklearn             import metrics         as m\n",
    "from matplotlib          import pyplot          as plt\n",
    "from IPython.display     import HTML\n",
    "from yellowbrick.cluster import KElbowVisualizer, SilhouetteVisualizer\n",
    "from pandas_profiling    import ProfileReport"
   ]
  },
  {
   "cell_type": "markdown",
   "id": "ranking-irrigation",
   "metadata": {
    "heading_collapsed": true,
    "hidden": true
   },
   "source": [
    "## Helper Functions"
   ]
  },
  {
   "cell_type": "code",
   "execution_count": 2,
   "id": "reverse-johnston",
   "metadata": {
    "ExecuteTime": {
     "end_time": "2021-06-08T18:17:55.167930Z",
     "start_time": "2021-06-08T18:17:55.152917Z"
    },
    "hidden": true
   },
   "outputs": [
    {
     "data": {
      "text/html": [
       "<style>.container { width:100% !important; }</style>"
      ],
      "text/plain": [
       "<IPython.core.display.HTML object>"
      ]
     },
     "metadata": {},
     "output_type": "display_data"
    }
   ],
   "source": [
    "def jupyter_settings():\n",
    "#     %matplotlib inline\n",
    "#     %pylab inline\n",
    "#     %config InlineBackend.figure_format = 'retina'\n",
    "\n",
    "    plt.style.use('ggplot')\n",
    "    plt.rcParams['figure.figsize'] = [15, 7]\n",
    "    plt.rcParams['font.size'] = 24\n",
    "\n",
    "    display(HTML('<style>.container { width:100% !important; }</style>'))\n",
    "    pd.options.display.max_columns = None\n",
    "    pd.options.display.max_rows = None\n",
    "    pd.options.display.float_format = '{:,.2f}'.format\n",
    "    pd.set_option('display.expand_frame_repr', False)\n",
    "    pd.set_option('display.max_columns', None)\n",
    "    pd.set_option('display.max_rows', None)\n",
    "\n",
    "    sns.set()\n",
    "    \n",
    "jupyter_settings()"
   ]
  },
  {
   "cell_type": "markdown",
   "id": "raised-ordering",
   "metadata": {
    "heading_collapsed": true,
    "hidden": true
   },
   "source": [
    "## Load Dataset"
   ]
  },
  {
   "cell_type": "code",
   "execution_count": 3,
   "id": "registered-farming",
   "metadata": {
    "ExecuteTime": {
     "end_time": "2021-06-08T18:17:55.677393Z",
     "start_time": "2021-06-08T18:17:55.168932Z"
    },
    "hidden": true
   },
   "outputs": [],
   "source": [
    "df_raw = pd.read_csv(r'../data/raw/ecommerce.csv')"
   ]
  },
  {
   "cell_type": "code",
   "execution_count": 4,
   "id": "manual-shipping",
   "metadata": {
    "ExecuteTime": {
     "end_time": "2021-06-08T18:17:55.693408Z",
     "start_time": "2021-06-08T18:17:55.678394Z"
    },
    "hidden": true
   },
   "outputs": [
    {
     "data": {
      "text/html": [
       "<div>\n",
       "<style scoped>\n",
       "    .dataframe tbody tr th:only-of-type {\n",
       "        vertical-align: middle;\n",
       "    }\n",
       "\n",
       "    .dataframe tbody tr th {\n",
       "        vertical-align: top;\n",
       "    }\n",
       "\n",
       "    .dataframe thead th {\n",
       "        text-align: right;\n",
       "    }\n",
       "</style>\n",
       "<table border=\"1\" class=\"dataframe\">\n",
       "  <thead>\n",
       "    <tr style=\"text-align: right;\">\n",
       "      <th></th>\n",
       "      <th>InvoiceNo</th>\n",
       "      <th>StockCode</th>\n",
       "      <th>Description</th>\n",
       "      <th>Quantity</th>\n",
       "      <th>InvoiceDate</th>\n",
       "      <th>UnitPrice</th>\n",
       "      <th>CustomerID</th>\n",
       "      <th>Country</th>\n",
       "      <th>Unnamed: 8</th>\n",
       "    </tr>\n",
       "  </thead>\n",
       "  <tbody>\n",
       "    <tr>\n",
       "      <th>0</th>\n",
       "      <td>536365</td>\n",
       "      <td>85123A</td>\n",
       "      <td>WHITE HANGING HEART T-LIGHT HOLDER</td>\n",
       "      <td>6</td>\n",
       "      <td>29-Nov-16</td>\n",
       "      <td>2.55</td>\n",
       "      <td>17,850.00</td>\n",
       "      <td>United Kingdom</td>\n",
       "      <td>NaN</td>\n",
       "    </tr>\n",
       "    <tr>\n",
       "      <th>1</th>\n",
       "      <td>536365</td>\n",
       "      <td>71053</td>\n",
       "      <td>WHITE METAL LANTERN</td>\n",
       "      <td>6</td>\n",
       "      <td>29-Nov-16</td>\n",
       "      <td>3.39</td>\n",
       "      <td>17,850.00</td>\n",
       "      <td>United Kingdom</td>\n",
       "      <td>NaN</td>\n",
       "    </tr>\n",
       "    <tr>\n",
       "      <th>2</th>\n",
       "      <td>536365</td>\n",
       "      <td>84406B</td>\n",
       "      <td>CREAM CUPID HEARTS COAT HANGER</td>\n",
       "      <td>8</td>\n",
       "      <td>29-Nov-16</td>\n",
       "      <td>2.75</td>\n",
       "      <td>17,850.00</td>\n",
       "      <td>United Kingdom</td>\n",
       "      <td>NaN</td>\n",
       "    </tr>\n",
       "    <tr>\n",
       "      <th>3</th>\n",
       "      <td>536365</td>\n",
       "      <td>84029G</td>\n",
       "      <td>KNITTED UNION FLAG HOT WATER BOTTLE</td>\n",
       "      <td>6</td>\n",
       "      <td>29-Nov-16</td>\n",
       "      <td>3.39</td>\n",
       "      <td>17,850.00</td>\n",
       "      <td>United Kingdom</td>\n",
       "      <td>NaN</td>\n",
       "    </tr>\n",
       "    <tr>\n",
       "      <th>4</th>\n",
       "      <td>536365</td>\n",
       "      <td>84029E</td>\n",
       "      <td>RED WOOLLY HOTTIE WHITE HEART.</td>\n",
       "      <td>6</td>\n",
       "      <td>29-Nov-16</td>\n",
       "      <td>3.39</td>\n",
       "      <td>17,850.00</td>\n",
       "      <td>United Kingdom</td>\n",
       "      <td>NaN</td>\n",
       "    </tr>\n",
       "  </tbody>\n",
       "</table>\n",
       "</div>"
      ],
      "text/plain": [
       "  InvoiceNo StockCode                          Description  Quantity InvoiceDate  UnitPrice  CustomerID         Country  Unnamed: 8\n",
       "0    536365    85123A   WHITE HANGING HEART T-LIGHT HOLDER         6   29-Nov-16       2.55   17,850.00  United Kingdom         NaN\n",
       "1    536365     71053                  WHITE METAL LANTERN         6   29-Nov-16       3.39   17,850.00  United Kingdom         NaN\n",
       "2    536365    84406B       CREAM CUPID HEARTS COAT HANGER         8   29-Nov-16       2.75   17,850.00  United Kingdom         NaN\n",
       "3    536365    84029G  KNITTED UNION FLAG HOT WATER BOTTLE         6   29-Nov-16       3.39   17,850.00  United Kingdom         NaN\n",
       "4    536365    84029E       RED WOOLLY HOTTIE WHITE HEART.         6   29-Nov-16       3.39   17,850.00  United Kingdom         NaN"
      ]
     },
     "execution_count": 4,
     "metadata": {},
     "output_type": "execute_result"
    }
   ],
   "source": [
    "df_raw.head()"
   ]
  },
  {
   "cell_type": "code",
   "execution_count": 5,
   "id": "innovative-salmon",
   "metadata": {
    "ExecuteTime": {
     "end_time": "2021-06-08T18:17:55.725437Z",
     "start_time": "2021-06-08T18:17:55.694409Z"
    },
    "hidden": true
   },
   "outputs": [],
   "source": [
    "# drop 'unnamed: 8' column\n",
    "df_raw = df_raw.drop(columns=['Unnamed: 8'], axis =1)"
   ]
  },
  {
   "cell_type": "markdown",
   "id": "incorporated-casting",
   "metadata": {
    "ExecuteTime": {
     "end_time": "2021-05-10T20:38:59.394034Z",
     "start_time": "2021-05-10T20:38:59.382023Z"
    },
    "heading_collapsed": true
   },
   "source": [
    "# Data Description"
   ]
  },
  {
   "cell_type": "code",
   "execution_count": 6,
   "id": "minor-reservoir",
   "metadata": {
    "ExecuteTime": {
     "end_time": "2021-06-08T18:17:55.741451Z",
     "start_time": "2021-06-08T18:17:55.726438Z"
    },
    "hidden": true
   },
   "outputs": [],
   "source": [
    "df1 = df_raw.copy()"
   ]
  },
  {
   "cell_type": "markdown",
   "id": "floating-nigeria",
   "metadata": {
    "heading_collapsed": true,
    "hidden": true
   },
   "source": [
    "## Rename Columns"
   ]
  },
  {
   "cell_type": "code",
   "execution_count": 7,
   "id": "needed-husband",
   "metadata": {
    "ExecuteTime": {
     "end_time": "2021-06-08T18:17:55.757466Z",
     "start_time": "2021-06-08T18:17:55.741451Z"
    },
    "hidden": true
   },
   "outputs": [
    {
     "data": {
      "text/plain": [
       "Index(['InvoiceNo', 'StockCode', 'Description', 'Quantity', 'InvoiceDate',\n",
       "       'UnitPrice', 'CustomerID', 'Country'],\n",
       "      dtype='object')"
      ]
     },
     "execution_count": 7,
     "metadata": {},
     "output_type": "execute_result"
    }
   ],
   "source": [
    "df_raw.columns"
   ]
  },
  {
   "cell_type": "code",
   "execution_count": 8,
   "id": "combined-chicken",
   "metadata": {
    "ExecuteTime": {
     "end_time": "2021-06-08T18:17:55.773480Z",
     "start_time": "2021-06-08T18:17:55.759468Z"
    },
    "hidden": true
   },
   "outputs": [
    {
     "data": {
      "text/html": [
       "<div>\n",
       "<style scoped>\n",
       "    .dataframe tbody tr th:only-of-type {\n",
       "        vertical-align: middle;\n",
       "    }\n",
       "\n",
       "    .dataframe tbody tr th {\n",
       "        vertical-align: top;\n",
       "    }\n",
       "\n",
       "    .dataframe thead th {\n",
       "        text-align: right;\n",
       "    }\n",
       "</style>\n",
       "<table border=\"1\" class=\"dataframe\">\n",
       "  <thead>\n",
       "    <tr style=\"text-align: right;\">\n",
       "      <th></th>\n",
       "      <th>invoice_no</th>\n",
       "      <th>stock_code</th>\n",
       "      <th>description</th>\n",
       "      <th>quantity</th>\n",
       "      <th>invoice_date</th>\n",
       "      <th>unit_price</th>\n",
       "      <th>customer_id</th>\n",
       "      <th>country</th>\n",
       "    </tr>\n",
       "  </thead>\n",
       "  <tbody>\n",
       "    <tr>\n",
       "      <th>0</th>\n",
       "      <td>536365</td>\n",
       "      <td>85123A</td>\n",
       "      <td>WHITE HANGING HEART T-LIGHT HOLDER</td>\n",
       "      <td>6</td>\n",
       "      <td>29-Nov-16</td>\n",
       "      <td>2.55</td>\n",
       "      <td>17,850.00</td>\n",
       "      <td>United Kingdom</td>\n",
       "    </tr>\n",
       "    <tr>\n",
       "      <th>1</th>\n",
       "      <td>536365</td>\n",
       "      <td>71053</td>\n",
       "      <td>WHITE METAL LANTERN</td>\n",
       "      <td>6</td>\n",
       "      <td>29-Nov-16</td>\n",
       "      <td>3.39</td>\n",
       "      <td>17,850.00</td>\n",
       "      <td>United Kingdom</td>\n",
       "    </tr>\n",
       "    <tr>\n",
       "      <th>2</th>\n",
       "      <td>536365</td>\n",
       "      <td>84406B</td>\n",
       "      <td>CREAM CUPID HEARTS COAT HANGER</td>\n",
       "      <td>8</td>\n",
       "      <td>29-Nov-16</td>\n",
       "      <td>2.75</td>\n",
       "      <td>17,850.00</td>\n",
       "      <td>United Kingdom</td>\n",
       "    </tr>\n",
       "    <tr>\n",
       "      <th>3</th>\n",
       "      <td>536365</td>\n",
       "      <td>84029G</td>\n",
       "      <td>KNITTED UNION FLAG HOT WATER BOTTLE</td>\n",
       "      <td>6</td>\n",
       "      <td>29-Nov-16</td>\n",
       "      <td>3.39</td>\n",
       "      <td>17,850.00</td>\n",
       "      <td>United Kingdom</td>\n",
       "    </tr>\n",
       "    <tr>\n",
       "      <th>4</th>\n",
       "      <td>536365</td>\n",
       "      <td>84029E</td>\n",
       "      <td>RED WOOLLY HOTTIE WHITE HEART.</td>\n",
       "      <td>6</td>\n",
       "      <td>29-Nov-16</td>\n",
       "      <td>3.39</td>\n",
       "      <td>17,850.00</td>\n",
       "      <td>United Kingdom</td>\n",
       "    </tr>\n",
       "  </tbody>\n",
       "</table>\n",
       "</div>"
      ],
      "text/plain": [
       "  invoice_no stock_code                          description  quantity invoice_date  unit_price  customer_id         country\n",
       "0     536365     85123A   WHITE HANGING HEART T-LIGHT HOLDER         6    29-Nov-16        2.55    17,850.00  United Kingdom\n",
       "1     536365      71053                  WHITE METAL LANTERN         6    29-Nov-16        3.39    17,850.00  United Kingdom\n",
       "2     536365     84406B       CREAM CUPID HEARTS COAT HANGER         8    29-Nov-16        2.75    17,850.00  United Kingdom\n",
       "3     536365     84029G  KNITTED UNION FLAG HOT WATER BOTTLE         6    29-Nov-16        3.39    17,850.00  United Kingdom\n",
       "4     536365     84029E       RED WOOLLY HOTTIE WHITE HEART.         6    29-Nov-16        3.39    17,850.00  United Kingdom"
      ]
     },
     "execution_count": 8,
     "metadata": {},
     "output_type": "execute_result"
    }
   ],
   "source": [
    "cols_new = ['invoice_no','stock_code','description','quantity','invoice_date','unit_price','customer_id','country']\n",
    "df1.columns = cols_new\n",
    "df1.head()"
   ]
  },
  {
   "cell_type": "markdown",
   "id": "genetic-hazard",
   "metadata": {
    "heading_collapsed": true,
    "hidden": true
   },
   "source": [
    "## Data Dimensions"
   ]
  },
  {
   "cell_type": "code",
   "execution_count": 9,
   "id": "communist-township",
   "metadata": {
    "ExecuteTime": {
     "end_time": "2021-06-08T18:17:55.789495Z",
     "start_time": "2021-06-08T18:17:55.774482Z"
    },
    "hidden": true
   },
   "outputs": [
    {
     "name": "stdout",
     "output_type": "stream",
     "text": [
      "Number of rows: 541909\n",
      "Number of cols: 8\n"
     ]
    }
   ],
   "source": [
    "print('Number of rows: {}'.format(df1.shape[0]))\n",
    "print('Number of cols: {}'.format(df1.shape[1]))"
   ]
  },
  {
   "cell_type": "code",
   "execution_count": null,
   "id": "copyrighted-lafayette",
   "metadata": {
    "hidden": true
   },
   "outputs": [],
   "source": []
  },
  {
   "cell_type": "markdown",
   "id": "settled-uganda",
   "metadata": {
    "heading_collapsed": true,
    "hidden": true
   },
   "source": [
    "## Data Types"
   ]
  },
  {
   "cell_type": "code",
   "execution_count": 10,
   "id": "medieval-complaint",
   "metadata": {
    "ExecuteTime": {
     "end_time": "2021-06-08T18:17:55.805509Z",
     "start_time": "2021-06-08T18:17:55.790496Z"
    },
    "hidden": true
   },
   "outputs": [
    {
     "data": {
      "text/plain": [
       "invoice_no       object\n",
       "stock_code       object\n",
       "description      object\n",
       "quantity          int64\n",
       "invoice_date     object\n",
       "unit_price      float64\n",
       "customer_id     float64\n",
       "country          object\n",
       "dtype: object"
      ]
     },
     "execution_count": 10,
     "metadata": {},
     "output_type": "execute_result"
    }
   ],
   "source": [
    "df1.dtypes"
   ]
  },
  {
   "cell_type": "code",
   "execution_count": 11,
   "id": "identified-concert",
   "metadata": {
    "ExecuteTime": {
     "end_time": "2021-06-08T18:17:55.821524Z",
     "start_time": "2021-06-08T18:17:55.806510Z"
    },
    "hidden": true
   },
   "outputs": [
    {
     "data": {
      "text/html": [
       "<div>\n",
       "<style scoped>\n",
       "    .dataframe tbody tr th:only-of-type {\n",
       "        vertical-align: middle;\n",
       "    }\n",
       "\n",
       "    .dataframe tbody tr th {\n",
       "        vertical-align: top;\n",
       "    }\n",
       "\n",
       "    .dataframe thead th {\n",
       "        text-align: right;\n",
       "    }\n",
       "</style>\n",
       "<table border=\"1\" class=\"dataframe\">\n",
       "  <thead>\n",
       "    <tr style=\"text-align: right;\">\n",
       "      <th></th>\n",
       "      <th>invoice_no</th>\n",
       "      <th>stock_code</th>\n",
       "      <th>description</th>\n",
       "      <th>quantity</th>\n",
       "      <th>invoice_date</th>\n",
       "      <th>unit_price</th>\n",
       "      <th>customer_id</th>\n",
       "      <th>country</th>\n",
       "    </tr>\n",
       "  </thead>\n",
       "  <tbody>\n",
       "    <tr>\n",
       "      <th>0</th>\n",
       "      <td>536365</td>\n",
       "      <td>85123A</td>\n",
       "      <td>WHITE HANGING HEART T-LIGHT HOLDER</td>\n",
       "      <td>6</td>\n",
       "      <td>29-Nov-16</td>\n",
       "      <td>2.55</td>\n",
       "      <td>17,850.00</td>\n",
       "      <td>United Kingdom</td>\n",
       "    </tr>\n",
       "    <tr>\n",
       "      <th>1</th>\n",
       "      <td>536365</td>\n",
       "      <td>71053</td>\n",
       "      <td>WHITE METAL LANTERN</td>\n",
       "      <td>6</td>\n",
       "      <td>29-Nov-16</td>\n",
       "      <td>3.39</td>\n",
       "      <td>17,850.00</td>\n",
       "      <td>United Kingdom</td>\n",
       "    </tr>\n",
       "    <tr>\n",
       "      <th>2</th>\n",
       "      <td>536365</td>\n",
       "      <td>84406B</td>\n",
       "      <td>CREAM CUPID HEARTS COAT HANGER</td>\n",
       "      <td>8</td>\n",
       "      <td>29-Nov-16</td>\n",
       "      <td>2.75</td>\n",
       "      <td>17,850.00</td>\n",
       "      <td>United Kingdom</td>\n",
       "    </tr>\n",
       "    <tr>\n",
       "      <th>3</th>\n",
       "      <td>536365</td>\n",
       "      <td>84029G</td>\n",
       "      <td>KNITTED UNION FLAG HOT WATER BOTTLE</td>\n",
       "      <td>6</td>\n",
       "      <td>29-Nov-16</td>\n",
       "      <td>3.39</td>\n",
       "      <td>17,850.00</td>\n",
       "      <td>United Kingdom</td>\n",
       "    </tr>\n",
       "    <tr>\n",
       "      <th>4</th>\n",
       "      <td>536365</td>\n",
       "      <td>84029E</td>\n",
       "      <td>RED WOOLLY HOTTIE WHITE HEART.</td>\n",
       "      <td>6</td>\n",
       "      <td>29-Nov-16</td>\n",
       "      <td>3.39</td>\n",
       "      <td>17,850.00</td>\n",
       "      <td>United Kingdom</td>\n",
       "    </tr>\n",
       "  </tbody>\n",
       "</table>\n",
       "</div>"
      ],
      "text/plain": [
       "  invoice_no stock_code                          description  quantity invoice_date  unit_price  customer_id         country\n",
       "0     536365     85123A   WHITE HANGING HEART T-LIGHT HOLDER         6    29-Nov-16        2.55    17,850.00  United Kingdom\n",
       "1     536365      71053                  WHITE METAL LANTERN         6    29-Nov-16        3.39    17,850.00  United Kingdom\n",
       "2     536365     84406B       CREAM CUPID HEARTS COAT HANGER         8    29-Nov-16        2.75    17,850.00  United Kingdom\n",
       "3     536365     84029G  KNITTED UNION FLAG HOT WATER BOTTLE         6    29-Nov-16        3.39    17,850.00  United Kingdom\n",
       "4     536365     84029E       RED WOOLLY HOTTIE WHITE HEART.         6    29-Nov-16        3.39    17,850.00  United Kingdom"
      ]
     },
     "execution_count": 11,
     "metadata": {},
     "output_type": "execute_result"
    }
   ],
   "source": [
    "df1.head()"
   ]
  },
  {
   "cell_type": "markdown",
   "id": "peaceful-scholarship",
   "metadata": {
    "heading_collapsed": true,
    "hidden": true
   },
   "source": [
    "## Check NA"
   ]
  },
  {
   "cell_type": "code",
   "execution_count": 12,
   "id": "chemical-straight",
   "metadata": {
    "ExecuteTime": {
     "end_time": "2021-06-08T18:17:55.917611Z",
     "start_time": "2021-06-08T18:17:55.822525Z"
    },
    "hidden": true
   },
   "outputs": [
    {
     "data": {
      "text/plain": [
       "invoice_no           0\n",
       "stock_code           0\n",
       "description       1454\n",
       "quantity             0\n",
       "invoice_date         0\n",
       "unit_price           0\n",
       "customer_id     135080\n",
       "country              0\n",
       "dtype: int64"
      ]
     },
     "execution_count": 12,
     "metadata": {},
     "output_type": "execute_result"
    }
   ],
   "source": [
    "df1.isna().sum()"
   ]
  },
  {
   "cell_type": "code",
   "execution_count": null,
   "id": "classified-history",
   "metadata": {
    "hidden": true
   },
   "outputs": [],
   "source": []
  },
  {
   "cell_type": "markdown",
   "id": "separate-tissue",
   "metadata": {
    "heading_collapsed": true,
    "hidden": true
   },
   "source": [
    "## Replace NA"
   ]
  },
  {
   "cell_type": "code",
   "execution_count": 13,
   "id": "pressed-scenario",
   "metadata": {
    "ExecuteTime": {
     "end_time": "2021-06-08T18:17:55.933626Z",
     "start_time": "2021-06-08T18:17:55.917611Z"
    },
    "hidden": true
   },
   "outputs": [],
   "source": [
    "# c0.1 - remove NA\n",
    "# df1 = df1.dropna(subset=['description','customer_id'])\n",
    "# print ('Removed data: {:.2f}'.format(1 - df1.shape[0]/df_raw.shape[0]))"
   ]
  },
  {
   "cell_type": "code",
   "execution_count": 14,
   "id": "unusual-public",
   "metadata": {
    "ExecuteTime": {
     "end_time": "2021-06-08T18:17:55.997684Z",
     "start_time": "2021-06-08T18:17:55.934627Z"
    },
    "hidden": true
   },
   "outputs": [
    {
     "name": "stdout",
     "output_type": "stream",
     "text": [
      "Number of transitions without 'customer_id': 135080\n",
      "Number of transitions with 'customer_id': 406829 \n",
      "\n",
      "\n",
      "Checking if there is 'invoice_no' from dataset without 'customer_id' on the dataset that has 'customer_id'\n",
      "\n",
      "Empty DataFrame\n",
      "Columns: [invoice_no, stock_code, description, quantity, invoice_date, unit_price, customer_id, country]\n",
      "Index: []\n",
      "\n",
      "No values found\n"
     ]
    }
   ],
   "source": [
    "# c.04 - FE I - checking if there is the same 'invoice_no' with and without 'customer_id'\n",
    "df_missingID = df1.loc[df1['customer_id'].isna(),:]\n",
    "df_notmissingID = df1.loc[~df1['customer_id'].isna(),:]\n",
    "\n",
    "print(\"Number of transitions without 'customer_id':\", df_missingID.shape[0])\n",
    "print(\"Number of transitions with 'customer_id':\", df_notmissingID.shape[0], \"\\n\\n\")\n",
    "\n",
    "# creating a list of 'invoice_no' that doesn't have 'customer_id'\n",
    "missingID_invoice = df_missingID['invoice_no'].drop_duplicates().tolist()\n",
    "\n",
    "# checking values from 'missingID_invoice' in 'df_missingID' dataset\n",
    "print(\"Checking if there is 'invoice_no' from dataset without 'customer_id' on the dataset that has 'customer_id'\\n\")\n",
    "print( df_notmissingID.loc[df_notmissingID['invoice_no'].isin(missingID_invoice),:] )\n",
    "print(\"\\nNo values found\")"
   ]
  },
  {
   "cell_type": "code",
   "execution_count": 15,
   "id": "devoted-running",
   "metadata": {
    "ExecuteTime": {
     "end_time": "2021-06-08T18:17:56.253917Z",
     "start_time": "2021-06-08T18:17:55.997684Z"
    },
    "hidden": true
   },
   "outputs": [
    {
     "data": {
      "text/html": [
       "<div>\n",
       "<style scoped>\n",
       "    .dataframe tbody tr th:only-of-type {\n",
       "        vertical-align: middle;\n",
       "    }\n",
       "\n",
       "    .dataframe tbody tr th {\n",
       "        vertical-align: top;\n",
       "    }\n",
       "\n",
       "    .dataframe thead th {\n",
       "        text-align: right;\n",
       "    }\n",
       "</style>\n",
       "<table border=\"1\" class=\"dataframe\">\n",
       "  <thead>\n",
       "    <tr style=\"text-align: right;\">\n",
       "      <th></th>\n",
       "      <th>invoice_no</th>\n",
       "      <th>stock_code</th>\n",
       "      <th>description</th>\n",
       "      <th>quantity</th>\n",
       "      <th>invoice_date</th>\n",
       "      <th>unit_price</th>\n",
       "      <th>customer_id</th>\n",
       "      <th>country</th>\n",
       "    </tr>\n",
       "  </thead>\n",
       "  <tbody>\n",
       "    <tr>\n",
       "      <th>0</th>\n",
       "      <td>536365</td>\n",
       "      <td>85123A</td>\n",
       "      <td>WHITE HANGING HEART T-LIGHT HOLDER</td>\n",
       "      <td>6</td>\n",
       "      <td>29-Nov-16</td>\n",
       "      <td>2.55</td>\n",
       "      <td>17,850.00</td>\n",
       "      <td>United Kingdom</td>\n",
       "    </tr>\n",
       "    <tr>\n",
       "      <th>1</th>\n",
       "      <td>536365</td>\n",
       "      <td>71053</td>\n",
       "      <td>WHITE METAL LANTERN</td>\n",
       "      <td>6</td>\n",
       "      <td>29-Nov-16</td>\n",
       "      <td>3.39</td>\n",
       "      <td>17,850.00</td>\n",
       "      <td>United Kingdom</td>\n",
       "    </tr>\n",
       "    <tr>\n",
       "      <th>2</th>\n",
       "      <td>536365</td>\n",
       "      <td>84406B</td>\n",
       "      <td>CREAM CUPID HEARTS COAT HANGER</td>\n",
       "      <td>8</td>\n",
       "      <td>29-Nov-16</td>\n",
       "      <td>2.75</td>\n",
       "      <td>17,850.00</td>\n",
       "      <td>United Kingdom</td>\n",
       "    </tr>\n",
       "    <tr>\n",
       "      <th>3</th>\n",
       "      <td>536365</td>\n",
       "      <td>84029G</td>\n",
       "      <td>KNITTED UNION FLAG HOT WATER BOTTLE</td>\n",
       "      <td>6</td>\n",
       "      <td>29-Nov-16</td>\n",
       "      <td>3.39</td>\n",
       "      <td>17,850.00</td>\n",
       "      <td>United Kingdom</td>\n",
       "    </tr>\n",
       "    <tr>\n",
       "      <th>4</th>\n",
       "      <td>536365</td>\n",
       "      <td>84029E</td>\n",
       "      <td>RED WOOLLY HOTTIE WHITE HEART.</td>\n",
       "      <td>6</td>\n",
       "      <td>29-Nov-16</td>\n",
       "      <td>3.39</td>\n",
       "      <td>17,850.00</td>\n",
       "      <td>United Kingdom</td>\n",
       "    </tr>\n",
       "  </tbody>\n",
       "</table>\n",
       "</div>"
      ],
      "text/plain": [
       "  invoice_no stock_code                          description  quantity invoice_date  unit_price  customer_id         country\n",
       "0     536365     85123A   WHITE HANGING HEART T-LIGHT HOLDER         6    29-Nov-16        2.55    17,850.00  United Kingdom\n",
       "1     536365      71053                  WHITE METAL LANTERN         6    29-Nov-16        3.39    17,850.00  United Kingdom\n",
       "2     536365     84406B       CREAM CUPID HEARTS COAT HANGER         8    29-Nov-16        2.75    17,850.00  United Kingdom\n",
       "3     536365     84029G  KNITTED UNION FLAG HOT WATER BOTTLE         6    29-Nov-16        3.39    17,850.00  United Kingdom\n",
       "4     536365     84029E       RED WOOLLY HOTTIE WHITE HEART.         6    29-Nov-16        3.39    17,850.00  United Kingdom"
      ]
     },
     "execution_count": 15,
     "metadata": {},
     "output_type": "execute_result"
    }
   ],
   "source": [
    "# c.04 - FE I - creating new 'customer_id'\n",
    "\n",
    "# creating reference\n",
    "df_invoices_noID = pd.DataFrame(df_missingID['invoice_no'].drop_duplicates())\n",
    "df_invoices_noID['new_customer_id'] = np.arange(19000, 19000+len(df_invoices_noID), 1)\n",
    "df_invoices_noID.head()\n",
    "\n",
    "# merging original (df1) with reference (df_invoices_noID)\n",
    "df1 = pd.merge(df1, df_invoices_noID, on='invoice_no', how='left')\n",
    "\n",
    "# combining the id's columns and dropping 'new_customer_id' column\n",
    "df1['customer_id'] = df1['customer_id'].combine_first(df1['new_customer_id'])\n",
    "df1 = df1.drop (columns=['new_customer_id'], axis=1)\n",
    "df1.head()"
   ]
  },
  {
   "cell_type": "code",
   "execution_count": 16,
   "id": "handled-speaking",
   "metadata": {
    "ExecuteTime": {
     "end_time": "2021-06-08T18:17:56.350004Z",
     "start_time": "2021-06-08T18:17:56.254918Z"
    },
    "hidden": true
   },
   "outputs": [
    {
     "data": {
      "text/plain": [
       "invoice_no         0\n",
       "stock_code         0\n",
       "description     1454\n",
       "quantity           0\n",
       "invoice_date       0\n",
       "unit_price         0\n",
       "customer_id        0\n",
       "country            0\n",
       "dtype: int64"
      ]
     },
     "execution_count": 16,
     "metadata": {},
     "output_type": "execute_result"
    }
   ],
   "source": [
    "df1.isna().sum()"
   ]
  },
  {
   "cell_type": "code",
   "execution_count": null,
   "id": "severe-speaker",
   "metadata": {
    "hidden": true
   },
   "outputs": [],
   "source": []
  },
  {
   "cell_type": "markdown",
   "id": "cordless-london",
   "metadata": {
    "heading_collapsed": true,
    "hidden": true
   },
   "source": [
    "## Change dtypes"
   ]
  },
  {
   "cell_type": "code",
   "execution_count": 17,
   "id": "harmful-creation",
   "metadata": {
    "ExecuteTime": {
     "end_time": "2021-06-08T18:17:56.366018Z",
     "start_time": "2021-06-08T18:17:56.350004Z"
    },
    "hidden": true
   },
   "outputs": [
    {
     "data": {
      "text/plain": [
       "invoice_no       object\n",
       "stock_code       object\n",
       "description      object\n",
       "quantity          int64\n",
       "invoice_date     object\n",
       "unit_price      float64\n",
       "customer_id     float64\n",
       "country          object\n",
       "dtype: object"
      ]
     },
     "execution_count": 17,
     "metadata": {},
     "output_type": "execute_result"
    }
   ],
   "source": [
    "df1.dtypes"
   ]
  },
  {
   "cell_type": "code",
   "execution_count": 18,
   "id": "preliminary-reality",
   "metadata": {
    "ExecuteTime": {
     "end_time": "2021-06-08T18:17:56.382033Z",
     "start_time": "2021-06-08T18:17:56.367020Z"
    },
    "hidden": true
   },
   "outputs": [
    {
     "data": {
      "text/html": [
       "<div>\n",
       "<style scoped>\n",
       "    .dataframe tbody tr th:only-of-type {\n",
       "        vertical-align: middle;\n",
       "    }\n",
       "\n",
       "    .dataframe tbody tr th {\n",
       "        vertical-align: top;\n",
       "    }\n",
       "\n",
       "    .dataframe thead th {\n",
       "        text-align: right;\n",
       "    }\n",
       "</style>\n",
       "<table border=\"1\" class=\"dataframe\">\n",
       "  <thead>\n",
       "    <tr style=\"text-align: right;\">\n",
       "      <th></th>\n",
       "      <th>invoice_no</th>\n",
       "      <th>stock_code</th>\n",
       "      <th>description</th>\n",
       "      <th>quantity</th>\n",
       "      <th>invoice_date</th>\n",
       "      <th>unit_price</th>\n",
       "      <th>customer_id</th>\n",
       "      <th>country</th>\n",
       "    </tr>\n",
       "  </thead>\n",
       "  <tbody>\n",
       "    <tr>\n",
       "      <th>0</th>\n",
       "      <td>536365</td>\n",
       "      <td>85123A</td>\n",
       "      <td>WHITE HANGING HEART T-LIGHT HOLDER</td>\n",
       "      <td>6</td>\n",
       "      <td>29-Nov-16</td>\n",
       "      <td>2.55</td>\n",
       "      <td>17,850.00</td>\n",
       "      <td>United Kingdom</td>\n",
       "    </tr>\n",
       "    <tr>\n",
       "      <th>1</th>\n",
       "      <td>536365</td>\n",
       "      <td>71053</td>\n",
       "      <td>WHITE METAL LANTERN</td>\n",
       "      <td>6</td>\n",
       "      <td>29-Nov-16</td>\n",
       "      <td>3.39</td>\n",
       "      <td>17,850.00</td>\n",
       "      <td>United Kingdom</td>\n",
       "    </tr>\n",
       "    <tr>\n",
       "      <th>2</th>\n",
       "      <td>536365</td>\n",
       "      <td>84406B</td>\n",
       "      <td>CREAM CUPID HEARTS COAT HANGER</td>\n",
       "      <td>8</td>\n",
       "      <td>29-Nov-16</td>\n",
       "      <td>2.75</td>\n",
       "      <td>17,850.00</td>\n",
       "      <td>United Kingdom</td>\n",
       "    </tr>\n",
       "    <tr>\n",
       "      <th>3</th>\n",
       "      <td>536365</td>\n",
       "      <td>84029G</td>\n",
       "      <td>KNITTED UNION FLAG HOT WATER BOTTLE</td>\n",
       "      <td>6</td>\n",
       "      <td>29-Nov-16</td>\n",
       "      <td>3.39</td>\n",
       "      <td>17,850.00</td>\n",
       "      <td>United Kingdom</td>\n",
       "    </tr>\n",
       "    <tr>\n",
       "      <th>4</th>\n",
       "      <td>536365</td>\n",
       "      <td>84029E</td>\n",
       "      <td>RED WOOLLY HOTTIE WHITE HEART.</td>\n",
       "      <td>6</td>\n",
       "      <td>29-Nov-16</td>\n",
       "      <td>3.39</td>\n",
       "      <td>17,850.00</td>\n",
       "      <td>United Kingdom</td>\n",
       "    </tr>\n",
       "  </tbody>\n",
       "</table>\n",
       "</div>"
      ],
      "text/plain": [
       "  invoice_no stock_code                          description  quantity invoice_date  unit_price  customer_id         country\n",
       "0     536365     85123A   WHITE HANGING HEART T-LIGHT HOLDER         6    29-Nov-16        2.55    17,850.00  United Kingdom\n",
       "1     536365      71053                  WHITE METAL LANTERN         6    29-Nov-16        3.39    17,850.00  United Kingdom\n",
       "2     536365     84406B       CREAM CUPID HEARTS COAT HANGER         8    29-Nov-16        2.75    17,850.00  United Kingdom\n",
       "3     536365     84029G  KNITTED UNION FLAG HOT WATER BOTTLE         6    29-Nov-16        3.39    17,850.00  United Kingdom\n",
       "4     536365     84029E       RED WOOLLY HOTTIE WHITE HEART.         6    29-Nov-16        3.39    17,850.00  United Kingdom"
      ]
     },
     "execution_count": 18,
     "metadata": {},
     "output_type": "execute_result"
    }
   ],
   "source": [
    "df1.head()"
   ]
  },
  {
   "cell_type": "code",
   "execution_count": 19,
   "id": "soviet-lightning",
   "metadata": {
    "ExecuteTime": {
     "end_time": "2021-06-08T18:17:56.462106Z",
     "start_time": "2021-06-08T18:17:56.383034Z"
    },
    "hidden": true
   },
   "outputs": [
    {
     "data": {
      "text/html": [
       "<div>\n",
       "<style scoped>\n",
       "    .dataframe tbody tr th:only-of-type {\n",
       "        vertical-align: middle;\n",
       "    }\n",
       "\n",
       "    .dataframe tbody tr th {\n",
       "        vertical-align: top;\n",
       "    }\n",
       "\n",
       "    .dataframe thead th {\n",
       "        text-align: right;\n",
       "    }\n",
       "</style>\n",
       "<table border=\"1\" class=\"dataframe\">\n",
       "  <thead>\n",
       "    <tr style=\"text-align: right;\">\n",
       "      <th></th>\n",
       "      <th>invoice_no</th>\n",
       "      <th>stock_code</th>\n",
       "      <th>description</th>\n",
       "      <th>quantity</th>\n",
       "      <th>invoice_date</th>\n",
       "      <th>unit_price</th>\n",
       "      <th>customer_id</th>\n",
       "      <th>country</th>\n",
       "    </tr>\n",
       "  </thead>\n",
       "  <tbody>\n",
       "    <tr>\n",
       "      <th>0</th>\n",
       "      <td>536365</td>\n",
       "      <td>85123A</td>\n",
       "      <td>WHITE HANGING HEART T-LIGHT HOLDER</td>\n",
       "      <td>6</td>\n",
       "      <td>2016-11-29</td>\n",
       "      <td>2.55</td>\n",
       "      <td>17,850.00</td>\n",
       "      <td>United Kingdom</td>\n",
       "    </tr>\n",
       "    <tr>\n",
       "      <th>1</th>\n",
       "      <td>536365</td>\n",
       "      <td>71053</td>\n",
       "      <td>WHITE METAL LANTERN</td>\n",
       "      <td>6</td>\n",
       "      <td>2016-11-29</td>\n",
       "      <td>3.39</td>\n",
       "      <td>17,850.00</td>\n",
       "      <td>United Kingdom</td>\n",
       "    </tr>\n",
       "    <tr>\n",
       "      <th>2</th>\n",
       "      <td>536365</td>\n",
       "      <td>84406B</td>\n",
       "      <td>CREAM CUPID HEARTS COAT HANGER</td>\n",
       "      <td>8</td>\n",
       "      <td>2016-11-29</td>\n",
       "      <td>2.75</td>\n",
       "      <td>17,850.00</td>\n",
       "      <td>United Kingdom</td>\n",
       "    </tr>\n",
       "    <tr>\n",
       "      <th>3</th>\n",
       "      <td>536365</td>\n",
       "      <td>84029G</td>\n",
       "      <td>KNITTED UNION FLAG HOT WATER BOTTLE</td>\n",
       "      <td>6</td>\n",
       "      <td>2016-11-29</td>\n",
       "      <td>3.39</td>\n",
       "      <td>17,850.00</td>\n",
       "      <td>United Kingdom</td>\n",
       "    </tr>\n",
       "    <tr>\n",
       "      <th>4</th>\n",
       "      <td>536365</td>\n",
       "      <td>84029E</td>\n",
       "      <td>RED WOOLLY HOTTIE WHITE HEART.</td>\n",
       "      <td>6</td>\n",
       "      <td>2016-11-29</td>\n",
       "      <td>3.39</td>\n",
       "      <td>17,850.00</td>\n",
       "      <td>United Kingdom</td>\n",
       "    </tr>\n",
       "  </tbody>\n",
       "</table>\n",
       "</div>"
      ],
      "text/plain": [
       "  invoice_no stock_code                          description  quantity invoice_date  unit_price  customer_id         country\n",
       "0     536365     85123A   WHITE HANGING HEART T-LIGHT HOLDER         6   2016-11-29        2.55    17,850.00  United Kingdom\n",
       "1     536365      71053                  WHITE METAL LANTERN         6   2016-11-29        3.39    17,850.00  United Kingdom\n",
       "2     536365     84406B       CREAM CUPID HEARTS COAT HANGER         8   2016-11-29        2.75    17,850.00  United Kingdom\n",
       "3     536365     84029G  KNITTED UNION FLAG HOT WATER BOTTLE         6   2016-11-29        3.39    17,850.00  United Kingdom\n",
       "4     536365     84029E       RED WOOLLY HOTTIE WHITE HEART.         6   2016-11-29        3.39    17,850.00  United Kingdom"
      ]
     },
     "execution_count": 19,
     "metadata": {},
     "output_type": "execute_result"
    }
   ],
   "source": [
    "# changing 'invoice_date'\n",
    "df1['invoice_date'] = pd.to_datetime (df1['invoice_date'], format='%d-%b-%y')\n",
    "df1.head()"
   ]
  },
  {
   "cell_type": "code",
   "execution_count": 20,
   "id": "uniform-therapy",
   "metadata": {
    "ExecuteTime": {
     "end_time": "2021-06-08T18:17:56.478120Z",
     "start_time": "2021-06-08T18:17:56.462106Z"
    },
    "hidden": true
   },
   "outputs": [],
   "source": [
    "# changing 'customer_id'\n",
    "df1['customer_id'] = df1['customer_id'].astype('int64')"
   ]
  },
  {
   "cell_type": "code",
   "execution_count": 21,
   "id": "corrected-berlin",
   "metadata": {
    "ExecuteTime": {
     "end_time": "2021-06-08T18:17:56.494135Z",
     "start_time": "2021-06-08T18:17:56.478120Z"
    },
    "hidden": true
   },
   "outputs": [
    {
     "data": {
      "text/html": [
       "<div>\n",
       "<style scoped>\n",
       "    .dataframe tbody tr th:only-of-type {\n",
       "        vertical-align: middle;\n",
       "    }\n",
       "\n",
       "    .dataframe tbody tr th {\n",
       "        vertical-align: top;\n",
       "    }\n",
       "\n",
       "    .dataframe thead th {\n",
       "        text-align: right;\n",
       "    }\n",
       "</style>\n",
       "<table border=\"1\" class=\"dataframe\">\n",
       "  <thead>\n",
       "    <tr style=\"text-align: right;\">\n",
       "      <th></th>\n",
       "      <th>invoice_no</th>\n",
       "      <th>stock_code</th>\n",
       "      <th>description</th>\n",
       "      <th>quantity</th>\n",
       "      <th>invoice_date</th>\n",
       "      <th>unit_price</th>\n",
       "      <th>customer_id</th>\n",
       "      <th>country</th>\n",
       "    </tr>\n",
       "  </thead>\n",
       "  <tbody>\n",
       "    <tr>\n",
       "      <th>0</th>\n",
       "      <td>536365</td>\n",
       "      <td>85123A</td>\n",
       "      <td>WHITE HANGING HEART T-LIGHT HOLDER</td>\n",
       "      <td>6</td>\n",
       "      <td>2016-11-29</td>\n",
       "      <td>2.55</td>\n",
       "      <td>17850</td>\n",
       "      <td>United Kingdom</td>\n",
       "    </tr>\n",
       "    <tr>\n",
       "      <th>1</th>\n",
       "      <td>536365</td>\n",
       "      <td>71053</td>\n",
       "      <td>WHITE METAL LANTERN</td>\n",
       "      <td>6</td>\n",
       "      <td>2016-11-29</td>\n",
       "      <td>3.39</td>\n",
       "      <td>17850</td>\n",
       "      <td>United Kingdom</td>\n",
       "    </tr>\n",
       "    <tr>\n",
       "      <th>2</th>\n",
       "      <td>536365</td>\n",
       "      <td>84406B</td>\n",
       "      <td>CREAM CUPID HEARTS COAT HANGER</td>\n",
       "      <td>8</td>\n",
       "      <td>2016-11-29</td>\n",
       "      <td>2.75</td>\n",
       "      <td>17850</td>\n",
       "      <td>United Kingdom</td>\n",
       "    </tr>\n",
       "    <tr>\n",
       "      <th>3</th>\n",
       "      <td>536365</td>\n",
       "      <td>84029G</td>\n",
       "      <td>KNITTED UNION FLAG HOT WATER BOTTLE</td>\n",
       "      <td>6</td>\n",
       "      <td>2016-11-29</td>\n",
       "      <td>3.39</td>\n",
       "      <td>17850</td>\n",
       "      <td>United Kingdom</td>\n",
       "    </tr>\n",
       "    <tr>\n",
       "      <th>4</th>\n",
       "      <td>536365</td>\n",
       "      <td>84029E</td>\n",
       "      <td>RED WOOLLY HOTTIE WHITE HEART.</td>\n",
       "      <td>6</td>\n",
       "      <td>2016-11-29</td>\n",
       "      <td>3.39</td>\n",
       "      <td>17850</td>\n",
       "      <td>United Kingdom</td>\n",
       "    </tr>\n",
       "  </tbody>\n",
       "</table>\n",
       "</div>"
      ],
      "text/plain": [
       "  invoice_no stock_code                          description  quantity invoice_date  unit_price  customer_id         country\n",
       "0     536365     85123A   WHITE HANGING HEART T-LIGHT HOLDER         6   2016-11-29        2.55        17850  United Kingdom\n",
       "1     536365      71053                  WHITE METAL LANTERN         6   2016-11-29        3.39        17850  United Kingdom\n",
       "2     536365     84406B       CREAM CUPID HEARTS COAT HANGER         8   2016-11-29        2.75        17850  United Kingdom\n",
       "3     536365     84029G  KNITTED UNION FLAG HOT WATER BOTTLE         6   2016-11-29        3.39        17850  United Kingdom\n",
       "4     536365     84029E       RED WOOLLY HOTTIE WHITE HEART.         6   2016-11-29        3.39        17850  United Kingdom"
      ]
     },
     "execution_count": 21,
     "metadata": {},
     "output_type": "execute_result"
    }
   ],
   "source": [
    "df1.head()"
   ]
  },
  {
   "cell_type": "code",
   "execution_count": 22,
   "id": "coastal-mistake",
   "metadata": {
    "ExecuteTime": {
     "end_time": "2021-06-08T18:17:56.510149Z",
     "start_time": "2021-06-08T18:17:56.495136Z"
    },
    "hidden": true
   },
   "outputs": [
    {
     "data": {
      "text/plain": [
       "invoice_no              object\n",
       "stock_code              object\n",
       "description             object\n",
       "quantity                 int64\n",
       "invoice_date    datetime64[ns]\n",
       "unit_price             float64\n",
       "customer_id              int64\n",
       "country                 object\n",
       "dtype: object"
      ]
     },
     "execution_count": 22,
     "metadata": {},
     "output_type": "execute_result"
    }
   ],
   "source": [
    "df1.dtypes"
   ]
  },
  {
   "cell_type": "markdown",
   "id": "balanced-moisture",
   "metadata": {
    "heading_collapsed": true,
    "hidden": true
   },
   "source": [
    "## Descriptive Statistics"
   ]
  },
  {
   "cell_type": "code",
   "execution_count": 23,
   "id": "sweet-cannon",
   "metadata": {
    "ExecuteTime": {
     "end_time": "2021-06-08T18:17:56.542179Z",
     "start_time": "2021-06-08T18:17:56.513153Z"
    },
    "hidden": true
   },
   "outputs": [],
   "source": [
    "num_df1 = df1.select_dtypes(include=['int64','float64'])\n",
    "cat_df1 = df1.select_dtypes(exclude=['int64','float64','datetime64[ns]'])"
   ]
  },
  {
   "cell_type": "markdown",
   "id": "agricultural-haven",
   "metadata": {
    "heading_collapsed": true,
    "hidden": true
   },
   "source": [
    "### Numerical Attributes"
   ]
  },
  {
   "cell_type": "code",
   "execution_count": 24,
   "id": "coordinated-deployment",
   "metadata": {
    "ExecuteTime": {
     "end_time": "2021-06-08T18:17:56.893498Z",
     "start_time": "2021-06-08T18:17:56.543180Z"
    },
    "hidden": true
   },
   "outputs": [
    {
     "data": {
      "text/html": [
       "<div>\n",
       "<style scoped>\n",
       "    .dataframe tbody tr th:only-of-type {\n",
       "        vertical-align: middle;\n",
       "    }\n",
       "\n",
       "    .dataframe tbody tr th {\n",
       "        vertical-align: top;\n",
       "    }\n",
       "\n",
       "    .dataframe thead th {\n",
       "        text-align: right;\n",
       "    }\n",
       "</style>\n",
       "<table border=\"1\" class=\"dataframe\">\n",
       "  <thead>\n",
       "    <tr style=\"text-align: right;\">\n",
       "      <th></th>\n",
       "      <th>attributes</th>\n",
       "      <th>min</th>\n",
       "      <th>max</th>\n",
       "      <th>range</th>\n",
       "      <th>mean</th>\n",
       "      <th>median</th>\n",
       "      <th>std</th>\n",
       "      <th>skew</th>\n",
       "      <th>kurtosis</th>\n",
       "    </tr>\n",
       "  </thead>\n",
       "  <tbody>\n",
       "    <tr>\n",
       "      <th>0</th>\n",
       "      <td>quantity</td>\n",
       "      <td>-80,995.00</td>\n",
       "      <td>80,995.00</td>\n",
       "      <td>161,990.00</td>\n",
       "      <td>9.55</td>\n",
       "      <td>3.00</td>\n",
       "      <td>218.08</td>\n",
       "      <td>-0.26</td>\n",
       "      <td>119,769.16</td>\n",
       "    </tr>\n",
       "    <tr>\n",
       "      <th>1</th>\n",
       "      <td>unit_price</td>\n",
       "      <td>-11,062.06</td>\n",
       "      <td>38,970.00</td>\n",
       "      <td>50,032.06</td>\n",
       "      <td>4.61</td>\n",
       "      <td>2.08</td>\n",
       "      <td>96.76</td>\n",
       "      <td>186.51</td>\n",
       "      <td>59,005.72</td>\n",
       "    </tr>\n",
       "    <tr>\n",
       "      <th>2</th>\n",
       "      <td>customer_id</td>\n",
       "      <td>12,346.00</td>\n",
       "      <td>22,709.00</td>\n",
       "      <td>10,363.00</td>\n",
       "      <td>16,688.84</td>\n",
       "      <td>16,249.00</td>\n",
       "      <td>2,911.41</td>\n",
       "      <td>0.49</td>\n",
       "      <td>-0.80</td>\n",
       "    </tr>\n",
       "  </tbody>\n",
       "</table>\n",
       "</div>"
      ],
      "text/plain": [
       "    attributes        min       max      range      mean    median      std   skew   kurtosis\n",
       "0     quantity -80,995.00 80,995.00 161,990.00      9.55      3.00   218.08  -0.26 119,769.16\n",
       "1   unit_price -11,062.06 38,970.00  50,032.06      4.61      2.08    96.76 186.51  59,005.72\n",
       "2  customer_id  12,346.00 22,709.00  10,363.00 16,688.84 16,249.00 2,911.41   0.49      -0.80"
      ]
     },
     "execution_count": 24,
     "metadata": {},
     "output_type": "execute_result"
    }
   ],
   "source": [
    "# central tendendy - mean, median\n",
    "ct1 = pd.DataFrame(num_df1.apply(np.mean)).T\n",
    "ct2 = pd.DataFrame(num_df1.apply(np.median)).T\n",
    "\n",
    "# dispersion - std, min, max, range, skew, kurtosis\n",
    "d1 = pd.DataFrame(num_df1.apply(np.std)).T\n",
    "d2 = pd.DataFrame(num_df1.apply(min)).T\n",
    "d3 = pd.DataFrame(num_df1.apply(max)).T\n",
    "d4 = pd.DataFrame(num_df1.apply(lambda x: x.max() - x.min())).T\n",
    "d5 = pd.DataFrame(num_df1.apply(lambda x: x.skew())).T\n",
    "d6 = pd.DataFrame(num_df1.apply(lambda x: x.kurtosis())).T\n",
    "\n",
    "# concatenate \n",
    "m = pd.concat([d2,d3,d4,ct1,ct2,d1,d5,d6]).T.reset_index()\n",
    "m.columns = ['attributes','min','max','range','mean','median','std','skew','kurtosis']\n",
    "m"
   ]
  },
  {
   "cell_type": "markdown",
   "id": "dressed-alliance",
   "metadata": {
    "heading_collapsed": true,
    "hidden": true
   },
   "source": [
    "#### <font color='red' >Numerical Attributes Investigating"
   ]
  },
  {
   "cell_type": "code",
   "execution_count": 25,
   "id": "ecological-fiction",
   "metadata": {
    "ExecuteTime": {
     "end_time": "2021-06-08T18:17:56.909512Z",
     "start_time": "2021-06-08T18:17:56.894499Z"
    },
    "hidden": true
   },
   "outputs": [],
   "source": [
    "# Negative quantity means devolution?\n",
    "\n",
    "# Unit price 0 means promotion?"
   ]
  },
  {
   "cell_type": "markdown",
   "id": "existing-strategy",
   "metadata": {
    "heading_collapsed": true,
    "hidden": true
   },
   "source": [
    "### Categorical Atributtes "
   ]
  },
  {
   "cell_type": "code",
   "execution_count": 26,
   "id": "placed-mounting",
   "metadata": {
    "ExecuteTime": {
     "end_time": "2021-06-08T18:17:56.925527Z",
     "start_time": "2021-06-08T18:17:56.910513Z"
    },
    "hidden": true
   },
   "outputs": [
    {
     "data": {
      "text/html": [
       "<div>\n",
       "<style scoped>\n",
       "    .dataframe tbody tr th:only-of-type {\n",
       "        vertical-align: middle;\n",
       "    }\n",
       "\n",
       "    .dataframe tbody tr th {\n",
       "        vertical-align: top;\n",
       "    }\n",
       "\n",
       "    .dataframe thead th {\n",
       "        text-align: right;\n",
       "    }\n",
       "</style>\n",
       "<table border=\"1\" class=\"dataframe\">\n",
       "  <thead>\n",
       "    <tr style=\"text-align: right;\">\n",
       "      <th></th>\n",
       "      <th>invoice_no</th>\n",
       "      <th>stock_code</th>\n",
       "      <th>description</th>\n",
       "      <th>country</th>\n",
       "    </tr>\n",
       "  </thead>\n",
       "  <tbody>\n",
       "    <tr>\n",
       "      <th>0</th>\n",
       "      <td>536365</td>\n",
       "      <td>85123A</td>\n",
       "      <td>WHITE HANGING HEART T-LIGHT HOLDER</td>\n",
       "      <td>United Kingdom</td>\n",
       "    </tr>\n",
       "    <tr>\n",
       "      <th>1</th>\n",
       "      <td>536365</td>\n",
       "      <td>71053</td>\n",
       "      <td>WHITE METAL LANTERN</td>\n",
       "      <td>United Kingdom</td>\n",
       "    </tr>\n",
       "    <tr>\n",
       "      <th>2</th>\n",
       "      <td>536365</td>\n",
       "      <td>84406B</td>\n",
       "      <td>CREAM CUPID HEARTS COAT HANGER</td>\n",
       "      <td>United Kingdom</td>\n",
       "    </tr>\n",
       "    <tr>\n",
       "      <th>3</th>\n",
       "      <td>536365</td>\n",
       "      <td>84029G</td>\n",
       "      <td>KNITTED UNION FLAG HOT WATER BOTTLE</td>\n",
       "      <td>United Kingdom</td>\n",
       "    </tr>\n",
       "    <tr>\n",
       "      <th>4</th>\n",
       "      <td>536365</td>\n",
       "      <td>84029E</td>\n",
       "      <td>RED WOOLLY HOTTIE WHITE HEART.</td>\n",
       "      <td>United Kingdom</td>\n",
       "    </tr>\n",
       "  </tbody>\n",
       "</table>\n",
       "</div>"
      ],
      "text/plain": [
       "  invoice_no stock_code                          description         country\n",
       "0     536365     85123A   WHITE HANGING HEART T-LIGHT HOLDER  United Kingdom\n",
       "1     536365      71053                  WHITE METAL LANTERN  United Kingdom\n",
       "2     536365     84406B       CREAM CUPID HEARTS COAT HANGER  United Kingdom\n",
       "3     536365     84029G  KNITTED UNION FLAG HOT WATER BOTTLE  United Kingdom\n",
       "4     536365     84029E       RED WOOLLY HOTTIE WHITE HEART.  United Kingdom"
      ]
     },
     "execution_count": 26,
     "metadata": {},
     "output_type": "execute_result"
    }
   ],
   "source": [
    "cat_df1.head()"
   ]
  },
  {
   "cell_type": "code",
   "execution_count": 27,
   "id": "instant-thesaurus",
   "metadata": {
    "ExecuteTime": {
     "end_time": "2021-06-08T18:17:58.362123Z",
     "start_time": "2021-06-08T18:17:56.925527Z"
    },
    "hidden": true
   },
   "outputs": [
    {
     "name": "stdout",
     "output_type": "stream",
     "text": [
      "Number of invoices that have at least on letter: 9291\n",
      "Number of invoices that have at least on letter and have NEGATIVE \"quantity\": 9288 \n",
      "\n"
     ]
    }
   ],
   "source": [
    "# === 'invoice_no' \n",
    "\n",
    "# checking invoice_no' that have at least one letter\n",
    "invoice_no_oneletter = df1.loc[df1['invoice_no'].apply (lambda x: bool(re.search('[^0-9]+', x))),:]\n",
    "print('Number of invoices that have at least on letter:', invoice_no_oneletter.shape[0])\n",
    "print('Number of invoices that have at least on letter and have NEGATIVE \"quantity\":', invoice_no_oneletter[invoice_no_oneletter['quantity']<0].shape[0],'\\n')"
   ]
  },
  {
   "cell_type": "code",
   "execution_count": 28,
   "id": "helpful-wagon",
   "metadata": {
    "ExecuteTime": {
     "end_time": "2021-06-08T18:18:01.282776Z",
     "start_time": "2021-06-08T18:17:58.363124Z"
    },
    "hidden": true
   },
   "outputs": [
    {
     "name": "stdout",
     "output_type": "stream",
     "text": [
      "Number of stock codes that have at least one letter: 54873\n",
      "Number of stock codes that have at least one letter and have NEGATIVE \"quantity\": 1637 \n",
      "\n",
      "Number of stock codes that have only letters: 2759 \n",
      "\n",
      "Unique values of stock codes that have only letters: \n",
      " ['POST' 'D' 'DOT' 'M' 'S' 'AMAZONFEE' 'm' 'DCGSSBOY' 'DCGSSGIRL' 'PADS'\n",
      " 'B' 'CRUK'] \n",
      "\n",
      "Unique values of \"description\" from stock codes that have only letters: \n",
      " ['POSTAGE' 'Discount' 'DOTCOM POSTAGE' 'Manual' 'SAMPLES' 'AMAZON FEE' nan\n",
      " 'BOYS PARTY BAG' 'GIRLS PARTY BAG' 'PADS TO MATCH ALL CUSHIONS'\n",
      " 'Adjust bad debt' 'CRUK Commission']\n"
     ]
    }
   ],
   "source": [
    "# === 'stock_code'\n",
    "\n",
    "# checking 'stock_code' that have at least one letter\n",
    "stockcode_oneletter = df1.loc[df1['stock_code'].apply (lambda x: bool(re.search('[^0-9]+', x))),:]\n",
    "print('Number of stock codes that have at least one letter:', stockcode_oneletter.shape[0])\n",
    "print('Number of stock codes that have at least one letter and have NEGATIVE \"quantity\":', stockcode_oneletter[stockcode_oneletter['quantity']<0].shape[0],'\\n')\n",
    "\n",
    "# checking 'stock_code' that have only letter\n",
    "stockcode_onlyletter = df1.loc[cat_df1['stock_code'].apply (lambda x: bool(re.search('^[a-zA-Z]+$', x))),:]\n",
    "print('Number of stock codes that have only letters:', stockcode_onlyletter.shape[0],'\\n')\n",
    "print('Unique values of stock codes that have only letters: \\n', stockcode_onlyletter['stock_code'].unique(),'\\n')\n",
    "print('Unique values of \"description\" from stock codes that have only letters: \\n', stockcode_onlyletter['description'].unique())\n",
    "\n",
    "# next cycle, remove stockcode_onlyletter: ['POST' 'D' 'M' 'PADS' 'DOT' 'CRUK'] "
   ]
  },
  {
   "cell_type": "code",
   "execution_count": 29,
   "id": "collectible-automation",
   "metadata": {
    "ExecuteTime": {
     "end_time": "2021-06-08T18:18:01.298791Z",
     "start_time": "2021-06-08T18:18:01.282776Z"
    },
    "hidden": true
   },
   "outputs": [],
   "source": [
    "# === 'description\n",
    "# next cycle, delete this column"
   ]
  },
  {
   "cell_type": "code",
   "execution_count": 30,
   "id": "sitting-watch",
   "metadata": {
    "ExecuteTime": {
     "end_time": "2021-06-08T18:18:01.394878Z",
     "start_time": "2021-06-08T18:18:01.299792Z"
    },
    "hidden": true,
    "scrolled": true
   },
   "outputs": [
    {
     "name": "stdout",
     "output_type": "stream",
     "text": [
      "Number of countries in the dataset: 38\n"
     ]
    },
    {
     "data": {
      "text/html": [
       "<div>\n",
       "<style scoped>\n",
       "    .dataframe tbody tr th:only-of-type {\n",
       "        vertical-align: middle;\n",
       "    }\n",
       "\n",
       "    .dataframe tbody tr th {\n",
       "        vertical-align: top;\n",
       "    }\n",
       "\n",
       "    .dataframe thead th {\n",
       "        text-align: right;\n",
       "    }\n",
       "</style>\n",
       "<table border=\"1\" class=\"dataframe\">\n",
       "  <thead>\n",
       "    <tr style=\"text-align: right;\">\n",
       "      <th></th>\n",
       "      <th>country</th>\n",
       "      <th>customer_id</th>\n",
       "    </tr>\n",
       "  </thead>\n",
       "  <tbody>\n",
       "    <tr>\n",
       "      <th>36</th>\n",
       "      <td>United Kingdom</td>\n",
       "      <td>7587</td>\n",
       "    </tr>\n",
       "    <tr>\n",
       "      <th>14</th>\n",
       "      <td>Germany</td>\n",
       "      <td>95</td>\n",
       "    </tr>\n",
       "    <tr>\n",
       "      <th>13</th>\n",
       "      <td>France</td>\n",
       "      <td>90</td>\n",
       "    </tr>\n",
       "    <tr>\n",
       "      <th>10</th>\n",
       "      <td>EIRE</td>\n",
       "      <td>44</td>\n",
       "    </tr>\n",
       "    <tr>\n",
       "      <th>31</th>\n",
       "      <td>Spain</td>\n",
       "      <td>31</td>\n",
       "    </tr>\n",
       "    <tr>\n",
       "      <th>3</th>\n",
       "      <td>Belgium</td>\n",
       "      <td>25</td>\n",
       "    </tr>\n",
       "    <tr>\n",
       "      <th>33</th>\n",
       "      <td>Switzerland</td>\n",
       "      <td>24</td>\n",
       "    </tr>\n",
       "    <tr>\n",
       "      <th>27</th>\n",
       "      <td>Portugal</td>\n",
       "      <td>20</td>\n",
       "    </tr>\n",
       "    <tr>\n",
       "      <th>19</th>\n",
       "      <td>Italy</td>\n",
       "      <td>15</td>\n",
       "    </tr>\n",
       "    <tr>\n",
       "      <th>16</th>\n",
       "      <td>Hong Kong</td>\n",
       "      <td>15</td>\n",
       "    </tr>\n",
       "    <tr>\n",
       "      <th>12</th>\n",
       "      <td>Finland</td>\n",
       "      <td>12</td>\n",
       "    </tr>\n",
       "    <tr>\n",
       "      <th>1</th>\n",
       "      <td>Austria</td>\n",
       "      <td>11</td>\n",
       "    </tr>\n",
       "    <tr>\n",
       "      <th>25</th>\n",
       "      <td>Norway</td>\n",
       "      <td>10</td>\n",
       "    </tr>\n",
       "    <tr>\n",
       "      <th>24</th>\n",
       "      <td>Netherlands</td>\n",
       "      <td>9</td>\n",
       "    </tr>\n",
       "    <tr>\n",
       "      <th>0</th>\n",
       "      <td>Australia</td>\n",
       "      <td>9</td>\n",
       "    </tr>\n",
       "    <tr>\n",
       "      <th>37</th>\n",
       "      <td>Unspecified</td>\n",
       "      <td>9</td>\n",
       "    </tr>\n",
       "    <tr>\n",
       "      <th>9</th>\n",
       "      <td>Denmark</td>\n",
       "      <td>9</td>\n",
       "    </tr>\n",
       "    <tr>\n",
       "      <th>6</th>\n",
       "      <td>Channel Islands</td>\n",
       "      <td>9</td>\n",
       "    </tr>\n",
       "    <tr>\n",
       "      <th>7</th>\n",
       "      <td>Cyprus</td>\n",
       "      <td>8</td>\n",
       "    </tr>\n",
       "    <tr>\n",
       "      <th>32</th>\n",
       "      <td>Sweden</td>\n",
       "      <td>8</td>\n",
       "    </tr>\n",
       "    <tr>\n",
       "      <th>20</th>\n",
       "      <td>Japan</td>\n",
       "      <td>8</td>\n",
       "    </tr>\n",
       "    <tr>\n",
       "      <th>18</th>\n",
       "      <td>Israel</td>\n",
       "      <td>7</td>\n",
       "    </tr>\n",
       "    <tr>\n",
       "      <th>26</th>\n",
       "      <td>Poland</td>\n",
       "      <td>6</td>\n",
       "    </tr>\n",
       "    <tr>\n",
       "      <th>5</th>\n",
       "      <td>Canada</td>\n",
       "      <td>4</td>\n",
       "    </tr>\n",
       "    <tr>\n",
       "      <th>34</th>\n",
       "      <td>USA</td>\n",
       "      <td>4</td>\n",
       "    </tr>\n",
       "    <tr>\n",
       "      <th>2</th>\n",
       "      <td>Bahrain</td>\n",
       "      <td>4</td>\n",
       "    </tr>\n",
       "    <tr>\n",
       "      <th>15</th>\n",
       "      <td>Greece</td>\n",
       "      <td>4</td>\n",
       "    </tr>\n",
       "    <tr>\n",
       "      <th>23</th>\n",
       "      <td>Malta</td>\n",
       "      <td>2</td>\n",
       "    </tr>\n",
       "    <tr>\n",
       "      <th>35</th>\n",
       "      <td>United Arab Emirates</td>\n",
       "      <td>2</td>\n",
       "    </tr>\n",
       "    <tr>\n",
       "      <th>8</th>\n",
       "      <td>Czech Republic</td>\n",
       "      <td>1</td>\n",
       "    </tr>\n",
       "    <tr>\n",
       "      <th>22</th>\n",
       "      <td>Lithuania</td>\n",
       "      <td>1</td>\n",
       "    </tr>\n",
       "    <tr>\n",
       "      <th>11</th>\n",
       "      <td>European Community</td>\n",
       "      <td>1</td>\n",
       "    </tr>\n",
       "    <tr>\n",
       "      <th>21</th>\n",
       "      <td>Lebanon</td>\n",
       "      <td>1</td>\n",
       "    </tr>\n",
       "    <tr>\n",
       "      <th>28</th>\n",
       "      <td>RSA</td>\n",
       "      <td>1</td>\n",
       "    </tr>\n",
       "    <tr>\n",
       "      <th>29</th>\n",
       "      <td>Saudi Arabia</td>\n",
       "      <td>1</td>\n",
       "    </tr>\n",
       "    <tr>\n",
       "      <th>30</th>\n",
       "      <td>Singapore</td>\n",
       "      <td>1</td>\n",
       "    </tr>\n",
       "    <tr>\n",
       "      <th>17</th>\n",
       "      <td>Iceland</td>\n",
       "      <td>1</td>\n",
       "    </tr>\n",
       "    <tr>\n",
       "      <th>4</th>\n",
       "      <td>Brazil</td>\n",
       "      <td>1</td>\n",
       "    </tr>\n",
       "  </tbody>\n",
       "</table>\n",
       "</div>"
      ],
      "text/plain": [
       "                 country  customer_id\n",
       "36        United Kingdom         7587\n",
       "14               Germany           95\n",
       "13                France           90\n",
       "10                  EIRE           44\n",
       "31                 Spain           31\n",
       "3                Belgium           25\n",
       "33           Switzerland           24\n",
       "27              Portugal           20\n",
       "19                 Italy           15\n",
       "16             Hong Kong           15\n",
       "12               Finland           12\n",
       "1                Austria           11\n",
       "25                Norway           10\n",
       "24           Netherlands            9\n",
       "0              Australia            9\n",
       "37           Unspecified            9\n",
       "9                Denmark            9\n",
       "6        Channel Islands            9\n",
       "7                 Cyprus            8\n",
       "32                Sweden            8\n",
       "20                 Japan            8\n",
       "18                Israel            7\n",
       "26                Poland            6\n",
       "5                 Canada            4\n",
       "34                   USA            4\n",
       "2                Bahrain            4\n",
       "15                Greece            4\n",
       "23                 Malta            2\n",
       "35  United Arab Emirates            2\n",
       "8         Czech Republic            1\n",
       "22             Lithuania            1\n",
       "11    European Community            1\n",
       "21               Lebanon            1\n",
       "28                   RSA            1\n",
       "29          Saudi Arabia            1\n",
       "30             Singapore            1\n",
       "17               Iceland            1\n",
       "4                 Brazil            1"
      ]
     },
     "execution_count": 30,
     "metadata": {},
     "output_type": "execute_result"
    }
   ],
   "source": [
    "# === 'country'\n",
    "print('Number of countries in the dataset:',df1['country'].unique().shape[0])\n",
    "# df1['country'].value_counts(normalize=True)\n",
    "df1[['customer_id','country']].drop_duplicates().groupby('country').count().reset_index().sort_values('customer_id', ascending=False)"
   ]
  },
  {
   "cell_type": "code",
   "execution_count": null,
   "id": "sweet-albuquerque",
   "metadata": {
    "hidden": true
   },
   "outputs": [],
   "source": []
  },
  {
   "cell_type": "markdown",
   "id": "organized-nicaragua",
   "metadata": {
    "heading_collapsed": true
   },
   "source": [
    "# Variable Filtering"
   ]
  },
  {
   "cell_type": "code",
   "execution_count": 31,
   "id": "numeric-wales",
   "metadata": {
    "ExecuteTime": {
     "end_time": "2021-06-08T18:18:01.410893Z",
     "start_time": "2021-06-08T18:18:01.395879Z"
    },
    "hidden": true
   },
   "outputs": [],
   "source": [
    "df2 = df1.copy()"
   ]
  },
  {
   "cell_type": "code",
   "execution_count": 32,
   "id": "spatial-absolute",
   "metadata": {
    "ExecuteTime": {
     "end_time": "2021-06-08T18:18:01.426907Z",
     "start_time": "2021-06-08T18:18:01.411894Z"
    },
    "hidden": true
   },
   "outputs": [
    {
     "data": {
      "text/plain": [
       "invoice_no              object\n",
       "stock_code              object\n",
       "description             object\n",
       "quantity                 int64\n",
       "invoice_date    datetime64[ns]\n",
       "unit_price             float64\n",
       "customer_id              int64\n",
       "country                 object\n",
       "dtype: object"
      ]
     },
     "execution_count": 32,
     "metadata": {},
     "output_type": "execute_result"
    }
   ],
   "source": [
    "df2.dtypes"
   ]
  },
  {
   "cell_type": "code",
   "execution_count": 33,
   "id": "ecological-latest",
   "metadata": {
    "ExecuteTime": {
     "end_time": "2021-06-08T18:18:01.618081Z",
     "start_time": "2021-06-08T18:18:01.427909Z"
    },
    "hidden": true
   },
   "outputs": [],
   "source": [
    "# ==== NUMERICAL ATTRIBUTES\n",
    "\n",
    "# 'unit_price' > 0.004\n",
    "df2 = df2.loc[df2['unit_price']>=0.004,:]\n",
    "\n",
    "# 'stock_code' - selecting stock codes doesn't have only letters\n",
    "df2 = df2[~df2['stock_code'].isin(stockcode_onlyletter['stock_code'].unique())] # '~' is a negation for 'isin'\n",
    "\n",
    "# 'description' - dropping column\n",
    "df2 = df2.drop(columns='description', axis =1) \n",
    "\n",
    "# 'country' - dropping certain values\n",
    "df2 = df2[~df2['country'].isin(['European Community', 'Unspecified'])]\n",
    "\n",
    "# 'quantity' is negative/positive\n",
    "df2_returns = df2.loc[df2['quantity']<0,:]\n",
    "df2_purchases = df2.loc[df2['quantity']>0,:]"
   ]
  },
  {
   "cell_type": "markdown",
   "id": "increased-overhead",
   "metadata": {},
   "source": [
    "# Feature Engineering"
   ]
  },
  {
   "cell_type": "code",
   "execution_count": 34,
   "id": "compact-granny",
   "metadata": {
    "ExecuteTime": {
     "end_time": "2021-06-08T18:18:01.634095Z",
     "start_time": "2021-06-08T18:18:01.619082Z"
    }
   },
   "outputs": [],
   "source": [
    "df3 = df2.copy()"
   ]
  },
  {
   "cell_type": "markdown",
   "id": "other-poetry",
   "metadata": {},
   "source": [
    "## Feature Creation"
   ]
  },
  {
   "cell_type": "code",
   "execution_count": 35,
   "id": "pressed-panic",
   "metadata": {
    "ExecuteTime": {
     "end_time": "2021-06-08T18:18:01.666124Z",
     "start_time": "2021-06-08T18:18:01.635096Z"
    },
    "code_folding": []
   },
   "outputs": [
    {
     "name": "stdout",
     "output_type": "stream",
     "text": [
      "Data reference shape: (5787, 1)\n"
     ]
    },
    {
     "data": {
      "text/html": [
       "<div>\n",
       "<style scoped>\n",
       "    .dataframe tbody tr th:only-of-type {\n",
       "        vertical-align: middle;\n",
       "    }\n",
       "\n",
       "    .dataframe tbody tr th {\n",
       "        vertical-align: top;\n",
       "    }\n",
       "\n",
       "    .dataframe thead th {\n",
       "        text-align: right;\n",
       "    }\n",
       "</style>\n",
       "<table border=\"1\" class=\"dataframe\">\n",
       "  <thead>\n",
       "    <tr style=\"text-align: right;\">\n",
       "      <th></th>\n",
       "      <th>customer_id</th>\n",
       "    </tr>\n",
       "  </thead>\n",
       "  <tbody>\n",
       "    <tr>\n",
       "      <th>0</th>\n",
       "      <td>17850</td>\n",
       "    </tr>\n",
       "    <tr>\n",
       "      <th>1</th>\n",
       "      <td>13047</td>\n",
       "    </tr>\n",
       "    <tr>\n",
       "      <th>2</th>\n",
       "      <td>12583</td>\n",
       "    </tr>\n",
       "    <tr>\n",
       "      <th>3</th>\n",
       "      <td>13748</td>\n",
       "    </tr>\n",
       "    <tr>\n",
       "      <th>4</th>\n",
       "      <td>15100</td>\n",
       "    </tr>\n",
       "  </tbody>\n",
       "</table>\n",
       "</div>"
      ],
      "text/plain": [
       "   customer_id\n",
       "0        17850\n",
       "1        13047\n",
       "2        12583\n",
       "3        13748\n",
       "4        15100"
      ]
     },
     "execution_count": 35,
     "metadata": {},
     "output_type": "execute_result"
    }
   ],
   "source": [
    "# df_ref = data reference\n",
    "df_ref = df3.drop (['invoice_no','stock_code','quantity','invoice_date','unit_price','country'],\n",
    "                   axis=1).drop_duplicates(ignore_index=True) # selecting 'customer_id' and droping duplicates\n",
    "print('Data reference shape:', df_ref.shape)\n",
    "df_ref.head()"
   ]
  },
  {
   "cell_type": "markdown",
   "id": "corresponding-brave",
   "metadata": {
    "heading_collapsed": true
   },
   "source": [
    "### Gross Revenue"
   ]
  },
  {
   "cell_type": "code",
   "execution_count": 36,
   "id": "developing-juice",
   "metadata": {
    "ExecuteTime": {
     "end_time": "2021-06-08T18:18:01.729182Z",
     "start_time": "2021-06-08T18:18:01.666124Z"
    },
    "code_folding": [],
    "hidden": true
   },
   "outputs": [
    {
     "name": "stdout",
     "output_type": "stream",
     "text": [
      "Checking NA:\n",
      "\n",
      "customer_id       0\n",
      "gross_revenue    91\n",
      "dtype: int64 \n",
      "\n",
      "\n",
      "Data reference shape: (5787, 2)\n"
     ]
    },
    {
     "name": "stderr",
     "output_type": "stream",
     "text": [
      "C:\\Users\\Mariana\\Documents\\anaconda3\\envs\\pa005_customerclustering\\lib\\site-packages\\pandas\\core\\indexing.py:1597: SettingWithCopyWarning: \n",
      "A value is trying to be set on a copy of a slice from a DataFrame.\n",
      "Try using .loc[row_indexer,col_indexer] = value instead\n",
      "\n",
      "See the caveats in the documentation: https://pandas.pydata.org/pandas-docs/stable/user_guide/indexing.html#returning-a-view-versus-a-copy\n",
      "  self.obj[key] = value\n",
      "C:\\Users\\Mariana\\Documents\\anaconda3\\envs\\pa005_customerclustering\\lib\\site-packages\\pandas\\core\\indexing.py:1676: SettingWithCopyWarning: \n",
      "A value is trying to be set on a copy of a slice from a DataFrame.\n",
      "Try using .loc[row_indexer,col_indexer] = value instead\n",
      "\n",
      "See the caveats in the documentation: https://pandas.pydata.org/pandas-docs/stable/user_guide/indexing.html#returning-a-view-versus-a-copy\n",
      "  self._setitem_single_column(ilocs[0], value, pi)\n"
     ]
    },
    {
     "data": {
      "text/html": [
       "<div>\n",
       "<style scoped>\n",
       "    .dataframe tbody tr th:only-of-type {\n",
       "        vertical-align: middle;\n",
       "    }\n",
       "\n",
       "    .dataframe tbody tr th {\n",
       "        vertical-align: top;\n",
       "    }\n",
       "\n",
       "    .dataframe thead th {\n",
       "        text-align: right;\n",
       "    }\n",
       "</style>\n",
       "<table border=\"1\" class=\"dataframe\">\n",
       "  <thead>\n",
       "    <tr style=\"text-align: right;\">\n",
       "      <th></th>\n",
       "      <th>customer_id</th>\n",
       "      <th>gross_revenue</th>\n",
       "    </tr>\n",
       "  </thead>\n",
       "  <tbody>\n",
       "    <tr>\n",
       "      <th>0</th>\n",
       "      <td>17850</td>\n",
       "      <td>5,391.21</td>\n",
       "    </tr>\n",
       "    <tr>\n",
       "      <th>1</th>\n",
       "      <td>13047</td>\n",
       "      <td>3,232.59</td>\n",
       "    </tr>\n",
       "    <tr>\n",
       "      <th>2</th>\n",
       "      <td>12583</td>\n",
       "      <td>6,705.38</td>\n",
       "    </tr>\n",
       "    <tr>\n",
       "      <th>3</th>\n",
       "      <td>13748</td>\n",
       "      <td>948.25</td>\n",
       "    </tr>\n",
       "    <tr>\n",
       "      <th>4</th>\n",
       "      <td>15100</td>\n",
       "      <td>876.00</td>\n",
       "    </tr>\n",
       "  </tbody>\n",
       "</table>\n",
       "</div>"
      ],
      "text/plain": [
       "   customer_id  gross_revenue\n",
       "0        17850       5,391.21\n",
       "1        13047       3,232.59\n",
       "2        12583       6,705.38\n",
       "3        13748         948.25\n",
       "4        15100         876.00"
      ]
     },
     "execution_count": 36,
     "metadata": {},
     "output_type": "execute_result"
    }
   ],
   "source": [
    "# === GROSS REVENUE - how much each 'customer_id' spent (quantity * price)\n",
    "\n",
    "# calculating gross revenue on 'df2_purchases'\n",
    "df2_purchases.loc[:, 'gross_revenue'] = df2_purchases.loc[:,'quantity']*df2_purchases.loc[:,'unit_price']\n",
    "\n",
    "# grouping 'gross_revenue' by 'customer_id'\n",
    "df_gross_revenue = df2_purchases.loc[:, ['customer_id','gross_revenue']].groupby('customer_id').sum().reset_index()\n",
    "\n",
    "\n",
    "# === merging dataframes\n",
    "df_ref = pd.merge(df_ref, df_gross_revenue, on='customer_id', how='left')\n",
    "print('Checking NA:\\n')\n",
    "print(df_ref.isna().sum(),'\\n\\n')\n",
    "print('Data reference shape:', df_ref.shape)\n",
    "df_ref.head()"
   ]
  },
  {
   "cell_type": "markdown",
   "id": "together-apple",
   "metadata": {
    "heading_collapsed": true
   },
   "source": [
    "### Recency "
   ]
  },
  {
   "cell_type": "code",
   "execution_count": 37,
   "id": "hourly-short",
   "metadata": {
    "ExecuteTime": {
     "end_time": "2021-06-08T18:18:01.777225Z",
     "start_time": "2021-06-08T18:18:01.730183Z"
    },
    "code_folding": [],
    "hidden": true
   },
   "outputs": [
    {
     "name": "stdout",
     "output_type": "stream",
     "text": [
      "Checking NA:\n",
      "\n",
      "customer_id       0\n",
      "gross_revenue    91\n",
      "recency_days     91\n",
      "dtype: int64 \n",
      "\n",
      "\n",
      "Data reference shape: (5787, 3)\n"
     ]
    },
    {
     "data": {
      "text/html": [
       "<div>\n",
       "<style scoped>\n",
       "    .dataframe tbody tr th:only-of-type {\n",
       "        vertical-align: middle;\n",
       "    }\n",
       "\n",
       "    .dataframe tbody tr th {\n",
       "        vertical-align: top;\n",
       "    }\n",
       "\n",
       "    .dataframe thead th {\n",
       "        text-align: right;\n",
       "    }\n",
       "</style>\n",
       "<table border=\"1\" class=\"dataframe\">\n",
       "  <thead>\n",
       "    <tr style=\"text-align: right;\">\n",
       "      <th></th>\n",
       "      <th>customer_id</th>\n",
       "      <th>gross_revenue</th>\n",
       "      <th>recency_days</th>\n",
       "    </tr>\n",
       "  </thead>\n",
       "  <tbody>\n",
       "    <tr>\n",
       "      <th>0</th>\n",
       "      <td>17850</td>\n",
       "      <td>5,391.21</td>\n",
       "      <td>372.00</td>\n",
       "    </tr>\n",
       "    <tr>\n",
       "      <th>1</th>\n",
       "      <td>13047</td>\n",
       "      <td>3,232.59</td>\n",
       "      <td>56.00</td>\n",
       "    </tr>\n",
       "    <tr>\n",
       "      <th>2</th>\n",
       "      <td>12583</td>\n",
       "      <td>6,705.38</td>\n",
       "      <td>2.00</td>\n",
       "    </tr>\n",
       "    <tr>\n",
       "      <th>3</th>\n",
       "      <td>13748</td>\n",
       "      <td>948.25</td>\n",
       "      <td>95.00</td>\n",
       "    </tr>\n",
       "    <tr>\n",
       "      <th>4</th>\n",
       "      <td>15100</td>\n",
       "      <td>876.00</td>\n",
       "      <td>333.00</td>\n",
       "    </tr>\n",
       "  </tbody>\n",
       "</table>\n",
       "</div>"
      ],
      "text/plain": [
       "   customer_id  gross_revenue  recency_days\n",
       "0        17850       5,391.21        372.00\n",
       "1        13047       3,232.59         56.00\n",
       "2        12583       6,705.38          2.00\n",
       "3        13748         948.25         95.00\n",
       "4        15100         876.00        333.00"
      ]
     },
     "execution_count": 37,
     "metadata": {},
     "output_type": "execute_result"
    }
   ],
   "source": [
    "# === RECENCY - last day of purchase of each 'customer_id'\n",
    "\n",
    "# selecting last 'invoice_date by 'customer_id'\n",
    "df_recency = df2_purchases.loc[:, ['customer_id','invoice_date']].groupby('customer_id').max().reset_index()\n",
    "\n",
    "# calculating 'recency_days'\n",
    "df_recency ['recency_days'] = (df2_purchases['invoice_date'].max() - df_recency['invoice_date']).dt.days # dt vectorizes the series to apply 'days' command\n",
    "\n",
    "# droping 'invoice_date' column\n",
    "df_recency = df_recency[['customer_id','recency_days']].copy()\n",
    "\n",
    "# df_recency.head()\n",
    "\n",
    "\n",
    "# === merging dataframes\n",
    "df_ref = pd.merge(df_ref, df_recency, on='customer_id', how='left')\n",
    "print('Checking NA:\\n')\n",
    "print(df_ref.isna().sum(),'\\n\\n')\n",
    "print('Data reference shape:', df_ref.shape)\n",
    "df_ref.head()"
   ]
  },
  {
   "cell_type": "markdown",
   "id": "pleasant-security",
   "metadata": {
    "heading_collapsed": true
   },
   "source": [
    "### Quantity of baskets "
   ]
  },
  {
   "cell_type": "code",
   "execution_count": 38,
   "id": "vietnamese-republican",
   "metadata": {
    "ExecuteTime": {
     "end_time": "2021-06-08T18:18:01.857298Z",
     "start_time": "2021-06-08T18:18:01.778226Z"
    },
    "code_folding": [],
    "hidden": true
   },
   "outputs": [
    {
     "name": "stdout",
     "output_type": "stream",
     "text": [
      "Checking NA:\n",
      "\n",
      "customer_id       0\n",
      "gross_revenue    91\n",
      "recency_days     91\n",
      "qty_baskets      91\n",
      "dtype: int64 \n",
      "\n",
      "\n",
      "Data reference shape: (5787, 4)\n"
     ]
    },
    {
     "data": {
      "text/html": [
       "<div>\n",
       "<style scoped>\n",
       "    .dataframe tbody tr th:only-of-type {\n",
       "        vertical-align: middle;\n",
       "    }\n",
       "\n",
       "    .dataframe tbody tr th {\n",
       "        vertical-align: top;\n",
       "    }\n",
       "\n",
       "    .dataframe thead th {\n",
       "        text-align: right;\n",
       "    }\n",
       "</style>\n",
       "<table border=\"1\" class=\"dataframe\">\n",
       "  <thead>\n",
       "    <tr style=\"text-align: right;\">\n",
       "      <th></th>\n",
       "      <th>customer_id</th>\n",
       "      <th>gross_revenue</th>\n",
       "      <th>recency_days</th>\n",
       "      <th>qty_baskets</th>\n",
       "    </tr>\n",
       "  </thead>\n",
       "  <tbody>\n",
       "    <tr>\n",
       "      <th>0</th>\n",
       "      <td>17850</td>\n",
       "      <td>5,391.21</td>\n",
       "      <td>372.00</td>\n",
       "      <td>34.00</td>\n",
       "    </tr>\n",
       "    <tr>\n",
       "      <th>1</th>\n",
       "      <td>13047</td>\n",
       "      <td>3,232.59</td>\n",
       "      <td>56.00</td>\n",
       "      <td>9.00</td>\n",
       "    </tr>\n",
       "    <tr>\n",
       "      <th>2</th>\n",
       "      <td>12583</td>\n",
       "      <td>6,705.38</td>\n",
       "      <td>2.00</td>\n",
       "      <td>15.00</td>\n",
       "    </tr>\n",
       "    <tr>\n",
       "      <th>3</th>\n",
       "      <td>13748</td>\n",
       "      <td>948.25</td>\n",
       "      <td>95.00</td>\n",
       "      <td>5.00</td>\n",
       "    </tr>\n",
       "    <tr>\n",
       "      <th>4</th>\n",
       "      <td>15100</td>\n",
       "      <td>876.00</td>\n",
       "      <td>333.00</td>\n",
       "      <td>3.00</td>\n",
       "    </tr>\n",
       "  </tbody>\n",
       "</table>\n",
       "</div>"
      ],
      "text/plain": [
       "   customer_id  gross_revenue  recency_days  qty_baskets\n",
       "0        17850       5,391.21        372.00        34.00\n",
       "1        13047       3,232.59         56.00         9.00\n",
       "2        12583       6,705.38          2.00        15.00\n",
       "3        13748         948.25         95.00         5.00\n",
       "4        15100         876.00        333.00         3.00"
      ]
     },
     "execution_count": 38,
     "metadata": {},
     "output_type": "execute_result"
    }
   ],
   "source": [
    "# === QUANTITY OF BASKETS - number of purchases per 'customer_id'\n",
    "\n",
    "# grouping 'invoice_no' by 'customer_id'\n",
    "df_qty_baskets = df2_purchases.loc[:, ['customer_id','invoice_no']].drop_duplicates().groupby('customer_id').count().reset_index()\n",
    "df_qty_baskets = df_qty_baskets.rename(columns={'customer_id': 'customer_id','invoice_no': 'qty_baskets'}) # changing columns names\n",
    "df_qty_baskets.head()\n",
    "\n",
    "\n",
    "# === merging dataframes\n",
    "df_ref = pd.merge(df_ref, df_qty_baskets, on='customer_id', how='left')\n",
    "print('Checking NA:\\n')\n",
    "print(df_ref.isna().sum(),'\\n\\n')\n",
    "print('Data reference shape:', df_ref.shape)\n",
    "df_ref.head()"
   ]
  },
  {
   "cell_type": "markdown",
   "id": "still-width",
   "metadata": {
    "heading_collapsed": true
   },
   "source": [
    "### Quantity of items"
   ]
  },
  {
   "cell_type": "code",
   "execution_count": 39,
   "id": "amazing-plymouth",
   "metadata": {
    "ExecuteTime": {
     "end_time": "2021-06-08T18:18:01.905342Z",
     "start_time": "2021-06-08T18:18:01.858299Z"
    },
    "hidden": true
   },
   "outputs": [
    {
     "name": "stdout",
     "output_type": "stream",
     "text": [
      "Checking NA:\n",
      "\n",
      "customer_id       0\n",
      "gross_revenue    91\n",
      "recency_days     91\n",
      "qty_baskets      91\n",
      "qty_items        91\n",
      "dtype: int64 \n",
      "\n",
      "\n",
      "Data reference shape: (5787, 5)\n"
     ]
    },
    {
     "data": {
      "text/html": [
       "<div>\n",
       "<style scoped>\n",
       "    .dataframe tbody tr th:only-of-type {\n",
       "        vertical-align: middle;\n",
       "    }\n",
       "\n",
       "    .dataframe tbody tr th {\n",
       "        vertical-align: top;\n",
       "    }\n",
       "\n",
       "    .dataframe thead th {\n",
       "        text-align: right;\n",
       "    }\n",
       "</style>\n",
       "<table border=\"1\" class=\"dataframe\">\n",
       "  <thead>\n",
       "    <tr style=\"text-align: right;\">\n",
       "      <th></th>\n",
       "      <th>customer_id</th>\n",
       "      <th>gross_revenue</th>\n",
       "      <th>recency_days</th>\n",
       "      <th>qty_baskets</th>\n",
       "      <th>qty_items</th>\n",
       "    </tr>\n",
       "  </thead>\n",
       "  <tbody>\n",
       "    <tr>\n",
       "      <th>0</th>\n",
       "      <td>17850</td>\n",
       "      <td>5,391.21</td>\n",
       "      <td>372.00</td>\n",
       "      <td>34.00</td>\n",
       "      <td>1,733.00</td>\n",
       "    </tr>\n",
       "    <tr>\n",
       "      <th>1</th>\n",
       "      <td>13047</td>\n",
       "      <td>3,232.59</td>\n",
       "      <td>56.00</td>\n",
       "      <td>9.00</td>\n",
       "      <td>1,390.00</td>\n",
       "    </tr>\n",
       "    <tr>\n",
       "      <th>2</th>\n",
       "      <td>12583</td>\n",
       "      <td>6,705.38</td>\n",
       "      <td>2.00</td>\n",
       "      <td>15.00</td>\n",
       "      <td>5,028.00</td>\n",
       "    </tr>\n",
       "    <tr>\n",
       "      <th>3</th>\n",
       "      <td>13748</td>\n",
       "      <td>948.25</td>\n",
       "      <td>95.00</td>\n",
       "      <td>5.00</td>\n",
       "      <td>439.00</td>\n",
       "    </tr>\n",
       "    <tr>\n",
       "      <th>4</th>\n",
       "      <td>15100</td>\n",
       "      <td>876.00</td>\n",
       "      <td>333.00</td>\n",
       "      <td>3.00</td>\n",
       "      <td>80.00</td>\n",
       "    </tr>\n",
       "  </tbody>\n",
       "</table>\n",
       "</div>"
      ],
      "text/plain": [
       "   customer_id  gross_revenue  recency_days  qty_baskets  qty_items\n",
       "0        17850       5,391.21        372.00        34.00   1,733.00\n",
       "1        13047       3,232.59         56.00         9.00   1,390.00\n",
       "2        12583       6,705.38          2.00        15.00   5,028.00\n",
       "3        13748         948.25         95.00         5.00     439.00\n",
       "4        15100         876.00        333.00         3.00      80.00"
      ]
     },
     "execution_count": 39,
     "metadata": {},
     "output_type": "execute_result"
    }
   ],
   "source": [
    "# === QUANTITY OF ITEMS - sum of number of produts per 'customer_id'\n",
    "\n",
    "# grouping 'quantity' by 'customer_id'\n",
    "df_qty_items = df2_purchases.loc[:, ['customer_id','quantity']].groupby('customer_id').sum().reset_index()\n",
    "df_qty_items = df_qty_items.rename(columns={'customer_id': 'customer_id','quantity': 'qty_items'}) # changing columns names\n",
    "df_qty_items.head()\n",
    "\n",
    "\n",
    "# # === merging dataframes\n",
    "df_ref = pd.merge(df_ref, df_qty_items, on='customer_id', how='left')\n",
    "print('Checking NA:\\n')\n",
    "print(df_ref.isna().sum(),'\\n\\n')\n",
    "print('Data reference shape:', df_ref.shape)\n",
    "df_ref.head()"
   ]
  },
  {
   "cell_type": "markdown",
   "id": "toxic-quebec",
   "metadata": {
    "heading_collapsed": true
   },
   "source": [
    "### Quantity of Stock Code (Unique Products)"
   ]
  },
  {
   "cell_type": "code",
   "execution_count": 40,
   "id": "adverse-clone",
   "metadata": {
    "ExecuteTime": {
     "end_time": "2021-06-08T18:18:01.969400Z",
     "start_time": "2021-06-08T18:18:01.906343Z"
    },
    "hidden": true
   },
   "outputs": [
    {
     "name": "stdout",
     "output_type": "stream",
     "text": [
      "Checking NA:\n",
      "\n",
      "customer_id       0\n",
      "gross_revenue    91\n",
      "recency_days     91\n",
      "qty_baskets      91\n",
      "qty_items        91\n",
      "qty_stockcode    91\n",
      "dtype: int64 \n",
      "\n",
      "\n",
      "Data reference shape: (5787, 6)\n"
     ]
    },
    {
     "data": {
      "text/html": [
       "<div>\n",
       "<style scoped>\n",
       "    .dataframe tbody tr th:only-of-type {\n",
       "        vertical-align: middle;\n",
       "    }\n",
       "\n",
       "    .dataframe tbody tr th {\n",
       "        vertical-align: top;\n",
       "    }\n",
       "\n",
       "    .dataframe thead th {\n",
       "        text-align: right;\n",
       "    }\n",
       "</style>\n",
       "<table border=\"1\" class=\"dataframe\">\n",
       "  <thead>\n",
       "    <tr style=\"text-align: right;\">\n",
       "      <th></th>\n",
       "      <th>customer_id</th>\n",
       "      <th>gross_revenue</th>\n",
       "      <th>recency_days</th>\n",
       "      <th>qty_baskets</th>\n",
       "      <th>qty_items</th>\n",
       "      <th>qty_stockcode</th>\n",
       "    </tr>\n",
       "  </thead>\n",
       "  <tbody>\n",
       "    <tr>\n",
       "      <th>0</th>\n",
       "      <td>17850</td>\n",
       "      <td>5,391.21</td>\n",
       "      <td>372.00</td>\n",
       "      <td>34.00</td>\n",
       "      <td>1,733.00</td>\n",
       "      <td>297.00</td>\n",
       "    </tr>\n",
       "    <tr>\n",
       "      <th>1</th>\n",
       "      <td>13047</td>\n",
       "      <td>3,232.59</td>\n",
       "      <td>56.00</td>\n",
       "      <td>9.00</td>\n",
       "      <td>1,390.00</td>\n",
       "      <td>171.00</td>\n",
       "    </tr>\n",
       "    <tr>\n",
       "      <th>2</th>\n",
       "      <td>12583</td>\n",
       "      <td>6,705.38</td>\n",
       "      <td>2.00</td>\n",
       "      <td>15.00</td>\n",
       "      <td>5,028.00</td>\n",
       "      <td>232.00</td>\n",
       "    </tr>\n",
       "    <tr>\n",
       "      <th>3</th>\n",
       "      <td>13748</td>\n",
       "      <td>948.25</td>\n",
       "      <td>95.00</td>\n",
       "      <td>5.00</td>\n",
       "      <td>439.00</td>\n",
       "      <td>28.00</td>\n",
       "    </tr>\n",
       "    <tr>\n",
       "      <th>4</th>\n",
       "      <td>15100</td>\n",
       "      <td>876.00</td>\n",
       "      <td>333.00</td>\n",
       "      <td>3.00</td>\n",
       "      <td>80.00</td>\n",
       "      <td>3.00</td>\n",
       "    </tr>\n",
       "  </tbody>\n",
       "</table>\n",
       "</div>"
      ],
      "text/plain": [
       "   customer_id  gross_revenue  recency_days  qty_baskets  qty_items  qty_stockcode\n",
       "0        17850       5,391.21        372.00        34.00   1,733.00         297.00\n",
       "1        13047       3,232.59         56.00         9.00   1,390.00         171.00\n",
       "2        12583       6,705.38          2.00        15.00   5,028.00         232.00\n",
       "3        13748         948.25         95.00         5.00     439.00          28.00\n",
       "4        15100         876.00        333.00         3.00      80.00           3.00"
      ]
     },
     "execution_count": 40,
     "metadata": {},
     "output_type": "execute_result"
    }
   ],
   "source": [
    "# === QUANTITY OF STOCK CODE - quantity of unique 'stock_code' per 'customer_id'\n",
    "\n",
    "# grouping 'stock_code' by 'customer_id'\n",
    "df_qty_stockcode = df2_purchases.loc[:, ['customer_id','stock_code']].groupby('customer_id').count().reset_index()\n",
    "df_qty_stockcode = df_qty_stockcode.rename(columns={'customer_id': 'customer_id','stock_code': 'qty_stockcode'}) # changing columns names\n",
    "df_qty_stockcode.head()\n",
    "\n",
    "\n",
    "# # === merging dataframes\n",
    "df_ref = pd.merge(df_ref, df_qty_stockcode, on='customer_id', how='left')\n",
    "print('Checking NA:\\n')\n",
    "print(df_ref.isna().sum(),'\\n\\n')\n",
    "print('Data reference shape:', df_ref.shape)\n",
    "df_ref.head()"
   ]
  },
  {
   "cell_type": "markdown",
   "id": "abroad-holmes",
   "metadata": {
    "heading_collapsed": true
   },
   "source": [
    "### Avg Ticket"
   ]
  },
  {
   "cell_type": "code",
   "execution_count": 41,
   "id": "joint-review",
   "metadata": {
    "ExecuteTime": {
     "end_time": "2021-06-08T18:18:02.017444Z",
     "start_time": "2021-06-08T18:18:01.970401Z"
    },
    "hidden": true
   },
   "outputs": [
    {
     "name": "stdout",
     "output_type": "stream",
     "text": [
      "Checking NA:\n",
      "\n",
      "customer_id       0\n",
      "gross_revenue    91\n",
      "recency_days     91\n",
      "qty_baskets      91\n",
      "qty_items        91\n",
      "qty_stockcode    91\n",
      "avg_ticket       91\n",
      "dtype: int64 \n",
      "\n",
      "\n",
      "Data reference shape: (5787, 7)\n"
     ]
    },
    {
     "data": {
      "text/html": [
       "<div>\n",
       "<style scoped>\n",
       "    .dataframe tbody tr th:only-of-type {\n",
       "        vertical-align: middle;\n",
       "    }\n",
       "\n",
       "    .dataframe tbody tr th {\n",
       "        vertical-align: top;\n",
       "    }\n",
       "\n",
       "    .dataframe thead th {\n",
       "        text-align: right;\n",
       "    }\n",
       "</style>\n",
       "<table border=\"1\" class=\"dataframe\">\n",
       "  <thead>\n",
       "    <tr style=\"text-align: right;\">\n",
       "      <th></th>\n",
       "      <th>customer_id</th>\n",
       "      <th>gross_revenue</th>\n",
       "      <th>recency_days</th>\n",
       "      <th>qty_baskets</th>\n",
       "      <th>qty_items</th>\n",
       "      <th>qty_stockcode</th>\n",
       "      <th>avg_ticket</th>\n",
       "    </tr>\n",
       "  </thead>\n",
       "  <tbody>\n",
       "    <tr>\n",
       "      <th>0</th>\n",
       "      <td>17850</td>\n",
       "      <td>5,391.21</td>\n",
       "      <td>372.00</td>\n",
       "      <td>34.00</td>\n",
       "      <td>1,733.00</td>\n",
       "      <td>297.00</td>\n",
       "      <td>18.15</td>\n",
       "    </tr>\n",
       "    <tr>\n",
       "      <th>1</th>\n",
       "      <td>13047</td>\n",
       "      <td>3,232.59</td>\n",
       "      <td>56.00</td>\n",
       "      <td>9.00</td>\n",
       "      <td>1,390.00</td>\n",
       "      <td>171.00</td>\n",
       "      <td>18.90</td>\n",
       "    </tr>\n",
       "    <tr>\n",
       "      <th>2</th>\n",
       "      <td>12583</td>\n",
       "      <td>6,705.38</td>\n",
       "      <td>2.00</td>\n",
       "      <td>15.00</td>\n",
       "      <td>5,028.00</td>\n",
       "      <td>232.00</td>\n",
       "      <td>28.90</td>\n",
       "    </tr>\n",
       "    <tr>\n",
       "      <th>3</th>\n",
       "      <td>13748</td>\n",
       "      <td>948.25</td>\n",
       "      <td>95.00</td>\n",
       "      <td>5.00</td>\n",
       "      <td>439.00</td>\n",
       "      <td>28.00</td>\n",
       "      <td>33.87</td>\n",
       "    </tr>\n",
       "    <tr>\n",
       "      <th>4</th>\n",
       "      <td>15100</td>\n",
       "      <td>876.00</td>\n",
       "      <td>333.00</td>\n",
       "      <td>3.00</td>\n",
       "      <td>80.00</td>\n",
       "      <td>3.00</td>\n",
       "      <td>292.00</td>\n",
       "    </tr>\n",
       "  </tbody>\n",
       "</table>\n",
       "</div>"
      ],
      "text/plain": [
       "   customer_id  gross_revenue  recency_days  qty_baskets  qty_items  qty_stockcode  avg_ticket\n",
       "0        17850       5,391.21        372.00        34.00   1,733.00         297.00       18.15\n",
       "1        13047       3,232.59         56.00         9.00   1,390.00         171.00       18.90\n",
       "2        12583       6,705.38          2.00        15.00   5,028.00         232.00       28.90\n",
       "3        13748         948.25         95.00         5.00     439.00          28.00       33.87\n",
       "4        15100         876.00        333.00         3.00      80.00           3.00      292.00"
      ]
     },
     "execution_count": 41,
     "metadata": {},
     "output_type": "execute_result"
    }
   ],
   "source": [
    "# === AVG TICKET - how much is spend in average per 'customer_id'\n",
    "\n",
    "# grouping 'gross_revenue' by 'customer_id'\n",
    "df_avgticket = df2_purchases[['customer_id','gross_revenue']].groupby('customer_id').mean().reset_index()\n",
    "df_avgticket = df_avgticket.rename(columns={'gross_revenue':'avg_ticket'})\n",
    "df_avgticket.head()\n",
    "\n",
    "# merging dataframes\n",
    "df_ref = pd.merge(df_ref, df_avgticket, on='customer_id', how='left')\n",
    "print('Checking NA:\\n')\n",
    "print(df_ref.isna().sum(),'\\n\\n')\n",
    "print('Data reference shape:', df_ref.shape)\n",
    "df_ref.head()"
   ]
  },
  {
   "cell_type": "markdown",
   "id": "registered-riverside",
   "metadata": {
    "ExecuteTime": {
     "end_time": "2021-05-22T18:26:16.480000Z",
     "start_time": "2021-05-22T18:26:16.463985Z"
    },
    "heading_collapsed": true
   },
   "source": [
    "### Avg Recency Days"
   ]
  },
  {
   "cell_type": "code",
   "execution_count": 42,
   "id": "affecting-conservative",
   "metadata": {
    "ExecuteTime": {
     "end_time": "2021-06-08T18:18:02.624995Z",
     "start_time": "2021-06-08T18:18:02.018445Z"
    },
    "hidden": true
   },
   "outputs": [
    {
     "name": "stdout",
     "output_type": "stream",
     "text": [
      "Checking NA:\n",
      "\n",
      "customer_id            0\n",
      "gross_revenue         91\n",
      "recency_days          91\n",
      "qty_baskets           91\n",
      "qty_items             91\n",
      "qty_stockcode         91\n",
      "avg_ticket            91\n",
      "avg_recency_days    2816\n",
      "dtype: int64 \n",
      "\n",
      "\n",
      "Data reference shape: (5787, 8)\n"
     ]
    },
    {
     "data": {
      "text/html": [
       "<div>\n",
       "<style scoped>\n",
       "    .dataframe tbody tr th:only-of-type {\n",
       "        vertical-align: middle;\n",
       "    }\n",
       "\n",
       "    .dataframe tbody tr th {\n",
       "        vertical-align: top;\n",
       "    }\n",
       "\n",
       "    .dataframe thead th {\n",
       "        text-align: right;\n",
       "    }\n",
       "</style>\n",
       "<table border=\"1\" class=\"dataframe\">\n",
       "  <thead>\n",
       "    <tr style=\"text-align: right;\">\n",
       "      <th></th>\n",
       "      <th>customer_id</th>\n",
       "      <th>gross_revenue</th>\n",
       "      <th>recency_days</th>\n",
       "      <th>qty_baskets</th>\n",
       "      <th>qty_items</th>\n",
       "      <th>qty_stockcode</th>\n",
       "      <th>avg_ticket</th>\n",
       "      <th>avg_recency_days</th>\n",
       "    </tr>\n",
       "  </thead>\n",
       "  <tbody>\n",
       "    <tr>\n",
       "      <th>0</th>\n",
       "      <td>17850</td>\n",
       "      <td>5,391.21</td>\n",
       "      <td>372.00</td>\n",
       "      <td>34.00</td>\n",
       "      <td>1,733.00</td>\n",
       "      <td>297.00</td>\n",
       "      <td>18.15</td>\n",
       "      <td>35.50</td>\n",
       "    </tr>\n",
       "    <tr>\n",
       "      <th>1</th>\n",
       "      <td>13047</td>\n",
       "      <td>3,232.59</td>\n",
       "      <td>56.00</td>\n",
       "      <td>9.00</td>\n",
       "      <td>1,390.00</td>\n",
       "      <td>171.00</td>\n",
       "      <td>18.90</td>\n",
       "      <td>27.25</td>\n",
       "    </tr>\n",
       "    <tr>\n",
       "      <th>2</th>\n",
       "      <td>12583</td>\n",
       "      <td>6,705.38</td>\n",
       "      <td>2.00</td>\n",
       "      <td>15.00</td>\n",
       "      <td>5,028.00</td>\n",
       "      <td>232.00</td>\n",
       "      <td>28.90</td>\n",
       "      <td>23.19</td>\n",
       "    </tr>\n",
       "    <tr>\n",
       "      <th>3</th>\n",
       "      <td>13748</td>\n",
       "      <td>948.25</td>\n",
       "      <td>95.00</td>\n",
       "      <td>5.00</td>\n",
       "      <td>439.00</td>\n",
       "      <td>28.00</td>\n",
       "      <td>33.87</td>\n",
       "      <td>92.67</td>\n",
       "    </tr>\n",
       "    <tr>\n",
       "      <th>4</th>\n",
       "      <td>15100</td>\n",
       "      <td>876.00</td>\n",
       "      <td>333.00</td>\n",
       "      <td>3.00</td>\n",
       "      <td>80.00</td>\n",
       "      <td>3.00</td>\n",
       "      <td>292.00</td>\n",
       "      <td>8.60</td>\n",
       "    </tr>\n",
       "  </tbody>\n",
       "</table>\n",
       "</div>"
      ],
      "text/plain": [
       "   customer_id  gross_revenue  recency_days  qty_baskets  qty_items  qty_stockcode  avg_ticket  avg_recency_days\n",
       "0        17850       5,391.21        372.00        34.00   1,733.00         297.00       18.15             35.50\n",
       "1        13047       3,232.59         56.00         9.00   1,390.00         171.00       18.90             27.25\n",
       "2        12583       6,705.38          2.00        15.00   5,028.00         232.00       28.90             23.19\n",
       "3        13748         948.25         95.00         5.00     439.00          28.00       33.87             92.67\n",
       "4        15100         876.00        333.00         3.00      80.00           3.00      292.00              8.60"
      ]
     },
     "execution_count": 42,
     "metadata": {},
     "output_type": "execute_result"
    }
   ],
   "source": [
    "# AVG RECENCY DAYS - how many days between purchases (baskets)\n",
    "\n",
    "# selecting  'invoice_date'\n",
    "df_last_recency = df3[['customer_id', 'invoice_date']].drop_duplicates().sort_values(['customer_id', 'invoice_date'], ascending=['False', 'False'])\n",
    "\n",
    "# shifting 'customer_id' and 'invoice_date' to next lines below\n",
    "df_last_recency['customer_id_shift'] = df_last_recency['customer_id'].shift()\n",
    "df_last_recency['invoice_date_shift'] = df_last_recency['invoice_date'].shift()\n",
    "\n",
    "# calculating days between invoices if same 'customer_id'\n",
    "df_last_recency['last_recency'] = df_last_recency.apply(lambda x: (x['invoice_date'] - x['invoice_date_shift']).days if x['customer_id']==x['customer_id_shift'] else np.nan, axis=1)\n",
    "\n",
    "# dropping selected columns and NaN\n",
    "df_last_recency = df_last_recency.drop(['invoice_date', 'customer_id_shift', 'invoice_date_shift'], axis=1).dropna()\n",
    "\n",
    "df_last_recency.head(20)\n",
    "\n",
    "\n",
    "# === avg recency days\n",
    "# grouping 'last_recency' by 'customer_id'\n",
    "df_avg_recency_days = df_last_recency.groupby('customer_id').mean().reset_index()\n",
    "df_avg_recency_days = df_avg_recency_days.rename(columns={'customer_id':'customer_id','last_recency':'avg_recency_days'})\n",
    "df_avg_recency_days.head()\n",
    "\n",
    "\n",
    "# # merging on Data Reference (df_ref)\n",
    "df_ref = pd.merge(df_ref, df_avg_recency_days, on='customer_id', how='left')\n",
    "print('Checking NA:\\n')\n",
    "print(df_ref.isna().sum(),'\\n\\n')\n",
    "print('Data reference shape:', df_ref.shape)\n",
    "df_ref.head()"
   ]
  },
  {
   "cell_type": "markdown",
   "id": "adopted-memory",
   "metadata": {
    "heading_collapsed": true
   },
   "source": [
    "### Purchase Frequency "
   ]
  },
  {
   "cell_type": "code",
   "execution_count": 43,
   "id": "applicable-comment",
   "metadata": {
    "ExecuteTime": {
     "end_time": "2021-06-08T18:18:03.544831Z",
     "start_time": "2021-06-08T18:18:02.625997Z"
    },
    "hidden": true
   },
   "outputs": [
    {
     "name": "stdout",
     "output_type": "stream",
     "text": [
      "Checking NA:\n",
      "\n",
      "customer_id            0\n",
      "gross_revenue         91\n",
      "recency_days          91\n",
      "qty_baskets           91\n",
      "qty_items             91\n",
      "qty_stockcode         91\n",
      "avg_ticket            91\n",
      "avg_recency_days    2816\n",
      "frequency             91\n",
      "dtype: int64 \n",
      "\n",
      "\n",
      "Data reference shape: (5787, 9)\n"
     ]
    },
    {
     "data": {
      "text/html": [
       "<div>\n",
       "<style scoped>\n",
       "    .dataframe tbody tr th:only-of-type {\n",
       "        vertical-align: middle;\n",
       "    }\n",
       "\n",
       "    .dataframe tbody tr th {\n",
       "        vertical-align: top;\n",
       "    }\n",
       "\n",
       "    .dataframe thead th {\n",
       "        text-align: right;\n",
       "    }\n",
       "</style>\n",
       "<table border=\"1\" class=\"dataframe\">\n",
       "  <thead>\n",
       "    <tr style=\"text-align: right;\">\n",
       "      <th></th>\n",
       "      <th>customer_id</th>\n",
       "      <th>gross_revenue</th>\n",
       "      <th>recency_days</th>\n",
       "      <th>qty_baskets</th>\n",
       "      <th>qty_items</th>\n",
       "      <th>qty_stockcode</th>\n",
       "      <th>avg_ticket</th>\n",
       "      <th>avg_recency_days</th>\n",
       "      <th>frequency</th>\n",
       "    </tr>\n",
       "  </thead>\n",
       "  <tbody>\n",
       "    <tr>\n",
       "      <th>0</th>\n",
       "      <td>17850</td>\n",
       "      <td>5,391.21</td>\n",
       "      <td>372.00</td>\n",
       "      <td>34.00</td>\n",
       "      <td>1,733.00</td>\n",
       "      <td>297.00</td>\n",
       "      <td>18.15</td>\n",
       "      <td>35.50</td>\n",
       "      <td>17.00</td>\n",
       "    </tr>\n",
       "    <tr>\n",
       "      <th>1</th>\n",
       "      <td>13047</td>\n",
       "      <td>3,232.59</td>\n",
       "      <td>56.00</td>\n",
       "      <td>9.00</td>\n",
       "      <td>1,390.00</td>\n",
       "      <td>171.00</td>\n",
       "      <td>18.90</td>\n",
       "      <td>27.25</td>\n",
       "      <td>0.03</td>\n",
       "    </tr>\n",
       "    <tr>\n",
       "      <th>2</th>\n",
       "      <td>12583</td>\n",
       "      <td>6,705.38</td>\n",
       "      <td>2.00</td>\n",
       "      <td>15.00</td>\n",
       "      <td>5,028.00</td>\n",
       "      <td>232.00</td>\n",
       "      <td>28.90</td>\n",
       "      <td>23.19</td>\n",
       "      <td>0.04</td>\n",
       "    </tr>\n",
       "    <tr>\n",
       "      <th>3</th>\n",
       "      <td>13748</td>\n",
       "      <td>948.25</td>\n",
       "      <td>95.00</td>\n",
       "      <td>5.00</td>\n",
       "      <td>439.00</td>\n",
       "      <td>28.00</td>\n",
       "      <td>33.87</td>\n",
       "      <td>92.67</td>\n",
       "      <td>0.02</td>\n",
       "    </tr>\n",
       "    <tr>\n",
       "      <th>4</th>\n",
       "      <td>15100</td>\n",
       "      <td>876.00</td>\n",
       "      <td>333.00</td>\n",
       "      <td>3.00</td>\n",
       "      <td>80.00</td>\n",
       "      <td>3.00</td>\n",
       "      <td>292.00</td>\n",
       "      <td>8.60</td>\n",
       "      <td>0.07</td>\n",
       "    </tr>\n",
       "  </tbody>\n",
       "</table>\n",
       "</div>"
      ],
      "text/plain": [
       "   customer_id  gross_revenue  recency_days  qty_baskets  qty_items  qty_stockcode  avg_ticket  avg_recency_days  frequency\n",
       "0        17850       5,391.21        372.00        34.00   1,733.00         297.00       18.15             35.50      17.00\n",
       "1        13047       3,232.59         56.00         9.00   1,390.00         171.00       18.90             27.25       0.03\n",
       "2        12583       6,705.38          2.00        15.00   5,028.00         232.00       28.90             23.19       0.04\n",
       "3        13748         948.25         95.00         5.00     439.00          28.00       33.87             92.67       0.02\n",
       "4        15100         876.00        333.00         3.00      80.00           3.00      292.00              8.60       0.07"
      ]
     },
     "execution_count": 43,
     "metadata": {},
     "output_type": "execute_result"
    }
   ],
   "source": [
    "# PURCHASE FREQUENCY - number of purchases per 'customer_id\n",
    "\n",
    "# grouping by 'customer_id', selecting min/max 'invoice_date', and counting 'invoice_no'\n",
    "df_purchasefreq = ( df2_purchases[['customer_id','invoice_no', 'invoice_date']].drop_duplicates().groupby('customer_id')\n",
    "                                                                     .agg( max_      = ('invoice_date', 'max'),\n",
    "                                                                           min_      = ('invoice_date', 'max'),\n",
    "                                                                           days_     = ('invoice_date', lambda x: ((x.max() - x.min()).days) + 1),\n",
    "                                                                           purchases = ('invoice_no', 'count') ) ).reset_index()\n",
    "\n",
    "# calculating 'frequency'\n",
    "df_purchasefreq['frequency'] = df_purchasefreq[['purchases','days_']].apply(lambda x: (x['purchases']/x['days_']) if x['days_']!=0 else 0, axis=1)\n",
    "# ????? df_purchasefreq.sort_values('frequency', ascending=False) ??????\n",
    "df_purchasefreq.head(10)\n",
    "\n",
    "\n",
    "# === merging on Data Reference (df_ref)\n",
    "df_ref = pd.merge(df_ref, df_purchasefreq[['customer_id','frequency']], on='customer_id', how='left')\n",
    "print('Checking NA:\\n')\n",
    "print(df_ref.isna().sum(),'\\n\\n')\n",
    "print('Data reference shape:', df_ref.shape)\n",
    "df_ref.head()"
   ]
  },
  {
   "cell_type": "markdown",
   "id": "pending-shark",
   "metadata": {
    "heading_collapsed": true
   },
   "source": [
    "### Returns"
   ]
  },
  {
   "cell_type": "code",
   "execution_count": 44,
   "id": "covered-virginia",
   "metadata": {
    "ExecuteTime": {
     "end_time": "2021-06-08T18:18:03.576860Z",
     "start_time": "2021-06-08T18:18:03.545832Z"
    },
    "hidden": true
   },
   "outputs": [
    {
     "name": "stdout",
     "output_type": "stream",
     "text": [
      "Checking NA:\n",
      "\n",
      "customer_id            0\n",
      "gross_revenue         91\n",
      "recency_days          91\n",
      "qty_baskets           91\n",
      "qty_items             91\n",
      "qty_stockcode         91\n",
      "avg_ticket            91\n",
      "avg_recency_days    2816\n",
      "frequency             91\n",
      "qty_prod_returns       0\n",
      "dtype: int64 \n",
      "\n",
      "\n",
      "Data reference shape: (5787, 10)\n"
     ]
    },
    {
     "data": {
      "text/html": [
       "<div>\n",
       "<style scoped>\n",
       "    .dataframe tbody tr th:only-of-type {\n",
       "        vertical-align: middle;\n",
       "    }\n",
       "\n",
       "    .dataframe tbody tr th {\n",
       "        vertical-align: top;\n",
       "    }\n",
       "\n",
       "    .dataframe thead th {\n",
       "        text-align: right;\n",
       "    }\n",
       "</style>\n",
       "<table border=\"1\" class=\"dataframe\">\n",
       "  <thead>\n",
       "    <tr style=\"text-align: right;\">\n",
       "      <th></th>\n",
       "      <th>customer_id</th>\n",
       "      <th>gross_revenue</th>\n",
       "      <th>recency_days</th>\n",
       "      <th>qty_baskets</th>\n",
       "      <th>qty_items</th>\n",
       "      <th>qty_stockcode</th>\n",
       "      <th>avg_ticket</th>\n",
       "      <th>avg_recency_days</th>\n",
       "      <th>frequency</th>\n",
       "      <th>qty_prod_returns</th>\n",
       "    </tr>\n",
       "  </thead>\n",
       "  <tbody>\n",
       "    <tr>\n",
       "      <th>0</th>\n",
       "      <td>17850</td>\n",
       "      <td>5,391.21</td>\n",
       "      <td>372.00</td>\n",
       "      <td>34.00</td>\n",
       "      <td>1,733.00</td>\n",
       "      <td>297.00</td>\n",
       "      <td>18.15</td>\n",
       "      <td>35.50</td>\n",
       "      <td>17.00</td>\n",
       "      <td>40.00</td>\n",
       "    </tr>\n",
       "    <tr>\n",
       "      <th>1</th>\n",
       "      <td>13047</td>\n",
       "      <td>3,232.59</td>\n",
       "      <td>56.00</td>\n",
       "      <td>9.00</td>\n",
       "      <td>1,390.00</td>\n",
       "      <td>171.00</td>\n",
       "      <td>18.90</td>\n",
       "      <td>27.25</td>\n",
       "      <td>0.03</td>\n",
       "      <td>35.00</td>\n",
       "    </tr>\n",
       "    <tr>\n",
       "      <th>2</th>\n",
       "      <td>12583</td>\n",
       "      <td>6,705.38</td>\n",
       "      <td>2.00</td>\n",
       "      <td>15.00</td>\n",
       "      <td>5,028.00</td>\n",
       "      <td>232.00</td>\n",
       "      <td>28.90</td>\n",
       "      <td>23.19</td>\n",
       "      <td>0.04</td>\n",
       "      <td>50.00</td>\n",
       "    </tr>\n",
       "    <tr>\n",
       "      <th>3</th>\n",
       "      <td>13748</td>\n",
       "      <td>948.25</td>\n",
       "      <td>95.00</td>\n",
       "      <td>5.00</td>\n",
       "      <td>439.00</td>\n",
       "      <td>28.00</td>\n",
       "      <td>33.87</td>\n",
       "      <td>92.67</td>\n",
       "      <td>0.02</td>\n",
       "      <td>0.00</td>\n",
       "    </tr>\n",
       "    <tr>\n",
       "      <th>4</th>\n",
       "      <td>15100</td>\n",
       "      <td>876.00</td>\n",
       "      <td>333.00</td>\n",
       "      <td>3.00</td>\n",
       "      <td>80.00</td>\n",
       "      <td>3.00</td>\n",
       "      <td>292.00</td>\n",
       "      <td>8.60</td>\n",
       "      <td>0.07</td>\n",
       "      <td>22.00</td>\n",
       "    </tr>\n",
       "  </tbody>\n",
       "</table>\n",
       "</div>"
      ],
      "text/plain": [
       "   customer_id  gross_revenue  recency_days  qty_baskets  qty_items  qty_stockcode  avg_ticket  avg_recency_days  frequency  qty_prod_returns\n",
       "0        17850       5,391.21        372.00        34.00   1,733.00         297.00       18.15             35.50      17.00             40.00\n",
       "1        13047       3,232.59         56.00         9.00   1,390.00         171.00       18.90             27.25       0.03             35.00\n",
       "2        12583       6,705.38          2.00        15.00   5,028.00         232.00       28.90             23.19       0.04             50.00\n",
       "3        13748         948.25         95.00         5.00     439.00          28.00       33.87             92.67       0.02              0.00\n",
       "4        15100         876.00        333.00         3.00      80.00           3.00      292.00              8.60       0.07             22.00"
      ]
     },
     "execution_count": 44,
     "metadata": {},
     "output_type": "execute_result"
    }
   ],
   "source": [
    "# === RETURNS - number of products devolutions\n",
    "\n",
    "# grouping 'quantity' by 'customer_id'\n",
    "df_returns = df2_returns[['customer_id','quantity']].groupby('customer_id').sum().reset_index().rename(columns={'customer_id':'customer_id', 'quantity': 'qty_prod_returns'})\n",
    "df_returns['qty_prod_returns'] = df_returns['qty_prod_returns']*-1 # turning quantities into positive numbers\n",
    "df_returns.head(20)\n",
    "\n",
    "# merging dataframes\n",
    "df_ref = pd.merge(df_ref, df_returns, how='left', on='customer_id')\n",
    "df_ref.loc[df_ref['qty_prod_returns'].isna(), 'qty_prod_returns'] = 0\n",
    "print('Checking NA:\\n')\n",
    "print(df_ref.isna().sum(),'\\n\\n')\n",
    "print('Data reference shape:', df_ref.shape)\n",
    "df_ref.head()"
   ]
  },
  {
   "cell_type": "markdown",
   "id": "square-throw",
   "metadata": {},
   "source": [
    "### Avg Basket Size"
   ]
  },
  {
   "cell_type": "code",
   "execution_count": 45,
   "id": "sacred-commission",
   "metadata": {
    "ExecuteTime": {
     "end_time": "2021-06-08T18:18:03.703976Z",
     "start_time": "2021-06-08T18:18:03.577861Z"
    }
   },
   "outputs": [
    {
     "name": "stdout",
     "output_type": "stream",
     "text": [
      "Checking NA:\n",
      "\n",
      "customer_id            0\n",
      "gross_revenue         91\n",
      "recency_days          91\n",
      "qty_baskets           91\n",
      "qty_items             91\n",
      "qty_stockcode         91\n",
      "avg_ticket            91\n",
      "avg_recency_days    2816\n",
      "frequency             91\n",
      "qty_prod_returns       0\n",
      "avg_basket_size       91\n",
      "dtype: int64 \n",
      "\n",
      "\n",
      "Data reference shape: (5787, 11)\n"
     ]
    },
    {
     "data": {
      "text/html": [
       "<div>\n",
       "<style scoped>\n",
       "    .dataframe tbody tr th:only-of-type {\n",
       "        vertical-align: middle;\n",
       "    }\n",
       "\n",
       "    .dataframe tbody tr th {\n",
       "        vertical-align: top;\n",
       "    }\n",
       "\n",
       "    .dataframe thead th {\n",
       "        text-align: right;\n",
       "    }\n",
       "</style>\n",
       "<table border=\"1\" class=\"dataframe\">\n",
       "  <thead>\n",
       "    <tr style=\"text-align: right;\">\n",
       "      <th></th>\n",
       "      <th>customer_id</th>\n",
       "      <th>gross_revenue</th>\n",
       "      <th>recency_days</th>\n",
       "      <th>qty_baskets</th>\n",
       "      <th>qty_items</th>\n",
       "      <th>qty_stockcode</th>\n",
       "      <th>avg_ticket</th>\n",
       "      <th>avg_recency_days</th>\n",
       "      <th>frequency</th>\n",
       "      <th>qty_prod_returns</th>\n",
       "      <th>avg_basket_size</th>\n",
       "    </tr>\n",
       "  </thead>\n",
       "  <tbody>\n",
       "    <tr>\n",
       "      <th>0</th>\n",
       "      <td>17850</td>\n",
       "      <td>5,391.21</td>\n",
       "      <td>372.00</td>\n",
       "      <td>34.00</td>\n",
       "      <td>1,733.00</td>\n",
       "      <td>297.00</td>\n",
       "      <td>18.15</td>\n",
       "      <td>35.50</td>\n",
       "      <td>17.00</td>\n",
       "      <td>40.00</td>\n",
       "      <td>50.97</td>\n",
       "    </tr>\n",
       "    <tr>\n",
       "      <th>1</th>\n",
       "      <td>13047</td>\n",
       "      <td>3,232.59</td>\n",
       "      <td>56.00</td>\n",
       "      <td>9.00</td>\n",
       "      <td>1,390.00</td>\n",
       "      <td>171.00</td>\n",
       "      <td>18.90</td>\n",
       "      <td>27.25</td>\n",
       "      <td>0.03</td>\n",
       "      <td>35.00</td>\n",
       "      <td>154.44</td>\n",
       "    </tr>\n",
       "    <tr>\n",
       "      <th>2</th>\n",
       "      <td>12583</td>\n",
       "      <td>6,705.38</td>\n",
       "      <td>2.00</td>\n",
       "      <td>15.00</td>\n",
       "      <td>5,028.00</td>\n",
       "      <td>232.00</td>\n",
       "      <td>28.90</td>\n",
       "      <td>23.19</td>\n",
       "      <td>0.04</td>\n",
       "      <td>50.00</td>\n",
       "      <td>335.20</td>\n",
       "    </tr>\n",
       "    <tr>\n",
       "      <th>3</th>\n",
       "      <td>13748</td>\n",
       "      <td>948.25</td>\n",
       "      <td>95.00</td>\n",
       "      <td>5.00</td>\n",
       "      <td>439.00</td>\n",
       "      <td>28.00</td>\n",
       "      <td>33.87</td>\n",
       "      <td>92.67</td>\n",
       "      <td>0.02</td>\n",
       "      <td>0.00</td>\n",
       "      <td>87.80</td>\n",
       "    </tr>\n",
       "    <tr>\n",
       "      <th>4</th>\n",
       "      <td>15100</td>\n",
       "      <td>876.00</td>\n",
       "      <td>333.00</td>\n",
       "      <td>3.00</td>\n",
       "      <td>80.00</td>\n",
       "      <td>3.00</td>\n",
       "      <td>292.00</td>\n",
       "      <td>8.60</td>\n",
       "      <td>0.07</td>\n",
       "      <td>22.00</td>\n",
       "      <td>26.67</td>\n",
       "    </tr>\n",
       "  </tbody>\n",
       "</table>\n",
       "</div>"
      ],
      "text/plain": [
       "   customer_id  gross_revenue  recency_days  qty_baskets  qty_items  qty_stockcode  avg_ticket  avg_recency_days  frequency  qty_prod_returns  avg_basket_size\n",
       "0        17850       5,391.21        372.00        34.00   1,733.00         297.00       18.15             35.50      17.00             40.00            50.97\n",
       "1        13047       3,232.59         56.00         9.00   1,390.00         171.00       18.90             27.25       0.03             35.00           154.44\n",
       "2        12583       6,705.38          2.00        15.00   5,028.00         232.00       28.90             23.19       0.04             50.00           335.20\n",
       "3        13748         948.25         95.00         5.00     439.00          28.00       33.87             92.67       0.02              0.00            87.80\n",
       "4        15100         876.00        333.00         3.00      80.00           3.00      292.00              8.60       0.07             22.00            26.67"
      ]
     },
     "execution_count": 45,
     "metadata": {},
     "output_type": "execute_result"
    }
   ],
   "source": [
    "# === AVG BASKET SIZE - average sum of 'quantity' per 'invoice_no'\n",
    "\n",
    "# grouping by 'customer_id', counting unique 'invoice_no' and the sum of 'quantity'\n",
    "df_basket_size = ( df2_purchases.loc [:, ['customer_id', 'invoice_no', 'quantity']].groupby('customer_id')\n",
    "                                                                                   .agg( qty_baskets_b  = ('invoice_no', 'nunique'),\n",
    "                                                                                         qty_products_b = ('quantity', 'sum') ) \n",
    "                                                                                   .reset_index() )\n",
    "\n",
    "# calculating avg basket size\n",
    "df_basket_size['avg_basket_size'] = df_basket_size['qty_products_b'] / df_basket_size['qty_baskets_b']\n",
    "\n",
    "df_basket_size.head()\n",
    "\n",
    "# === merging dataframes\n",
    "df_ref = pd.merge(df_ref, df_basket_size[['customer_id', 'avg_basket_size']], on='customer_id', how='left')\n",
    "print('Checking NA:\\n')\n",
    "print(df_ref.isna().sum(),'\\n\\n')\n",
    "print('Data reference shape:', df_ref.shape)\n",
    "df_ref.head()\n",
    "\n",
    "\n",
    "# === notes\n",
    "# (‘invoice_no’, 'nunique') = feature 3) Quantity of baskets (quantity of purchased)\n",
    "# (‘quantity’, ‘sum’) = feature 4)  Quantity of products (quantity of products purchased)\n",
    "# Já tendo essas duas colunas/features no df_ref, poderíamos criar a coluna ‘avg_basket_size’ direto, certo? \n",
    "# df_aux = df_ref.copy()\n",
    "# df_aux ['test'] = df_ref['qty_products']/df_ref['qty_baskets']\n",
    "# df_aux.sort_values('customer_id', ascending=True).head()"
   ]
  },
  {
   "cell_type": "markdown",
   "id": "wireless-yacht",
   "metadata": {
    "heading_collapsed": true
   },
   "source": [
    "### Avg Unique Products per Basket"
   ]
  },
  {
   "cell_type": "code",
   "execution_count": 46,
   "id": "natural-approach",
   "metadata": {
    "ExecuteTime": {
     "end_time": "2021-06-08T18:18:03.831091Z",
     "start_time": "2021-06-08T18:18:03.704977Z"
    },
    "hidden": true
   },
   "outputs": [
    {
     "name": "stdout",
     "output_type": "stream",
     "text": [
      "Checking NA:\n",
      "\n",
      "customer_id               0\n",
      "gross_revenue            91\n",
      "recency_days             91\n",
      "qty_baskets              91\n",
      "qty_items                91\n",
      "qty_stockcode            91\n",
      "avg_ticket               91\n",
      "avg_recency_days       2816\n",
      "frequency                91\n",
      "qty_prod_returns          0\n",
      "avg_basket_size          91\n",
      "avg_unique_products      91\n",
      "dtype: int64 \n",
      "\n",
      "\n",
      "Data reference shape: (5787, 12)\n"
     ]
    },
    {
     "data": {
      "text/html": [
       "<div>\n",
       "<style scoped>\n",
       "    .dataframe tbody tr th:only-of-type {\n",
       "        vertical-align: middle;\n",
       "    }\n",
       "\n",
       "    .dataframe tbody tr th {\n",
       "        vertical-align: top;\n",
       "    }\n",
       "\n",
       "    .dataframe thead th {\n",
       "        text-align: right;\n",
       "    }\n",
       "</style>\n",
       "<table border=\"1\" class=\"dataframe\">\n",
       "  <thead>\n",
       "    <tr style=\"text-align: right;\">\n",
       "      <th></th>\n",
       "      <th>customer_id</th>\n",
       "      <th>gross_revenue</th>\n",
       "      <th>recency_days</th>\n",
       "      <th>qty_baskets</th>\n",
       "      <th>qty_items</th>\n",
       "      <th>qty_stockcode</th>\n",
       "      <th>avg_ticket</th>\n",
       "      <th>avg_recency_days</th>\n",
       "      <th>frequency</th>\n",
       "      <th>qty_prod_returns</th>\n",
       "      <th>avg_basket_size</th>\n",
       "      <th>avg_unique_products</th>\n",
       "    </tr>\n",
       "  </thead>\n",
       "  <tbody>\n",
       "    <tr>\n",
       "      <th>0</th>\n",
       "      <td>17850</td>\n",
       "      <td>5,391.21</td>\n",
       "      <td>372.00</td>\n",
       "      <td>34.00</td>\n",
       "      <td>1,733.00</td>\n",
       "      <td>297.00</td>\n",
       "      <td>18.15</td>\n",
       "      <td>35.50</td>\n",
       "      <td>17.00</td>\n",
       "      <td>40.00</td>\n",
       "      <td>50.97</td>\n",
       "      <td>8.74</td>\n",
       "    </tr>\n",
       "    <tr>\n",
       "      <th>1</th>\n",
       "      <td>13047</td>\n",
       "      <td>3,232.59</td>\n",
       "      <td>56.00</td>\n",
       "      <td>9.00</td>\n",
       "      <td>1,390.00</td>\n",
       "      <td>171.00</td>\n",
       "      <td>18.90</td>\n",
       "      <td>27.25</td>\n",
       "      <td>0.03</td>\n",
       "      <td>35.00</td>\n",
       "      <td>154.44</td>\n",
       "      <td>19.00</td>\n",
       "    </tr>\n",
       "    <tr>\n",
       "      <th>2</th>\n",
       "      <td>12583</td>\n",
       "      <td>6,705.38</td>\n",
       "      <td>2.00</td>\n",
       "      <td>15.00</td>\n",
       "      <td>5,028.00</td>\n",
       "      <td>232.00</td>\n",
       "      <td>28.90</td>\n",
       "      <td>23.19</td>\n",
       "      <td>0.04</td>\n",
       "      <td>50.00</td>\n",
       "      <td>335.20</td>\n",
       "      <td>15.47</td>\n",
       "    </tr>\n",
       "    <tr>\n",
       "      <th>3</th>\n",
       "      <td>13748</td>\n",
       "      <td>948.25</td>\n",
       "      <td>95.00</td>\n",
       "      <td>5.00</td>\n",
       "      <td>439.00</td>\n",
       "      <td>28.00</td>\n",
       "      <td>33.87</td>\n",
       "      <td>92.67</td>\n",
       "      <td>0.02</td>\n",
       "      <td>0.00</td>\n",
       "      <td>87.80</td>\n",
       "      <td>5.60</td>\n",
       "    </tr>\n",
       "    <tr>\n",
       "      <th>4</th>\n",
       "      <td>15100</td>\n",
       "      <td>876.00</td>\n",
       "      <td>333.00</td>\n",
       "      <td>3.00</td>\n",
       "      <td>80.00</td>\n",
       "      <td>3.00</td>\n",
       "      <td>292.00</td>\n",
       "      <td>8.60</td>\n",
       "      <td>0.07</td>\n",
       "      <td>22.00</td>\n",
       "      <td>26.67</td>\n",
       "      <td>1.00</td>\n",
       "    </tr>\n",
       "  </tbody>\n",
       "</table>\n",
       "</div>"
      ],
      "text/plain": [
       "   customer_id  gross_revenue  recency_days  qty_baskets  qty_items  qty_stockcode  avg_ticket  avg_recency_days  frequency  qty_prod_returns  avg_basket_size  avg_unique_products\n",
       "0        17850       5,391.21        372.00        34.00   1,733.00         297.00       18.15             35.50      17.00             40.00            50.97                 8.74\n",
       "1        13047       3,232.59         56.00         9.00   1,390.00         171.00       18.90             27.25       0.03             35.00           154.44                19.00\n",
       "2        12583       6,705.38          2.00        15.00   5,028.00         232.00       28.90             23.19       0.04             50.00           335.20                15.47\n",
       "3        13748         948.25         95.00         5.00     439.00          28.00       33.87             92.67       0.02              0.00            87.80                 5.60\n",
       "4        15100         876.00        333.00         3.00      80.00           3.00      292.00              8.60       0.07             22.00            26.67                 1.00"
      ]
     },
     "execution_count": 46,
     "metadata": {},
     "output_type": "execute_result"
    }
   ],
   "source": [
    "# === AVG UNIQUE PRODUCTS PER BASKET - average quantity of unique 'stock_code' per basket\n",
    "\n",
    "# grouping by 'customer_id', counting unique 'invoice_no' and counting unique 'stock_code'\n",
    "df_avg_unique_products = ( df2_purchases.loc [:, ['customer_id', 'invoice_no', 'stock_code']].groupby('customer_id')\n",
    "                                                                                            .agg( qty_baskets_up = ('invoice_no', 'nunique'),\n",
    "                                                                                                  qty_unique_products_up = ('stock_code', 'count') ) \n",
    "                                                                                            .reset_index() )\n",
    "# calculating avg unique products per basket\n",
    "df_avg_unique_products['avg_unique_products'] = df_avg_unique_products['qty_unique_products_up'] / df_avg_unique_products['qty_baskets_up']\n",
    "\n",
    "\n",
    "df_avg_unique_products.head()\n",
    "\n",
    "\n",
    "# === merging dataframes\n",
    "df_ref = pd.merge(df_ref, df_avg_unique_products[['customer_id', 'avg_unique_products']], on='customer_id', how='left')\n",
    "print('Checking NA:\\n')\n",
    "print(df_ref.isna().sum(),'\\n\\n')\n",
    "print('Data reference shape:', df_ref.shape)\n",
    "df_ref.head()"
   ]
  },
  {
   "cell_type": "code",
   "execution_count": 47,
   "id": "weighted-wellington",
   "metadata": {
    "ExecuteTime": {
     "end_time": "2021-06-08T18:18:03.847106Z",
     "start_time": "2021-06-08T18:18:03.832092Z"
    },
    "hidden": true
   },
   "outputs": [],
   "source": [
    "# faturamento\n",
    "    # alto ticket médio\n",
    "    # alto LTV (lifetime value = valor do tempo de vida do cliente) // soma de gastos\n",
    "    # baixa recência (menor tempo desde a última compra)\n",
    "    # alto basket size (cesta de compras)\n",
    "    # baixa probabilidade de churn (cliente que a empresa perde) // outro modelo\n",
    "    # previsão de LTV // fazer outro modelo (saída) para usar como input\n",
    "    # alta propensão de compra // outro modelo\n",
    "# custo\n",
    "    # baixa taxa de devolução // algumas empresas tem o objetivo desta métrica no business plan\n",
    "# experiência de compra\n",
    "    # média alta das avaliações\n"
   ]
  },
  {
   "cell_type": "markdown",
   "id": "martial-contract",
   "metadata": {
    "heading_collapsed": true
   },
   "source": [
    "### Features Creation before separating df in returns and purchases"
   ]
  },
  {
   "cell_type": "code",
   "execution_count": 48,
   "id": "expanded-header",
   "metadata": {
    "ExecuteTime": {
     "end_time": "2021-06-08T18:18:03.863120Z",
     "start_time": "2021-06-08T18:18:03.848107Z"
    },
    "code_folding": [],
    "hidden": true
   },
   "outputs": [],
   "source": [
    "# # df_ref = data reference\n",
    "# df_ref = df3.drop (['invoice_no','stock_code','description','quantity','invoice_date','unit_price','country'],\n",
    "#                    axis=1).drop_duplicates(ignore_index=True) # selecting 'customer_id' and droping duplicates\n",
    "# print('Data reference shape:', df_ref.shape)\n",
    "# df_ref.head()"
   ]
  },
  {
   "cell_type": "code",
   "execution_count": 49,
   "id": "wound-format",
   "metadata": {
    "ExecuteTime": {
     "end_time": "2021-06-08T18:18:03.879135Z",
     "start_time": "2021-06-08T18:18:03.864121Z"
    },
    "code_folding": [],
    "hidden": true
   },
   "outputs": [],
   "source": [
    "# # === MONETARY \n",
    "\n",
    "# # creating 'gross revenue' (= quantity*price)\n",
    "# df3['gross_revenue'] = df3['quantity']*df3['unit_price']\n",
    "\n",
    "# # creating 'monetary'\n",
    "# df_monetary = df3[['customer_id','gross_revenue']].groupby('customer_id').sum().reset_index()\n",
    "\n",
    "# # merging dataframes\n",
    "# df_ref = pd.merge(df_ref, df_monetary, on='customer_id', how='left')\n",
    "# print('Checking NA: \\n\\n', df_ref.isna().sum(),'\\n\\n')\n",
    "# print('Data reference shape:', df_ref.shape)\n",
    "# df_ref.head()"
   ]
  },
  {
   "cell_type": "code",
   "execution_count": 50,
   "id": "bronze-fourth",
   "metadata": {
    "ExecuteTime": {
     "end_time": "2021-06-08T18:18:03.895149Z",
     "start_time": "2021-06-08T18:18:03.880136Z"
    },
    "code_folding": [],
    "hidden": true,
    "scrolled": true
   },
   "outputs": [],
   "source": [
    "# # === RECENCY (last day of purchase)\n",
    "# df_recency = df3[['customer_id','invoice_date']].groupby('customer_id').max().reset_index()\n",
    "# df_recency ['recency_days'] = (df3['invoice_date'].max() - df_recency['invoice_date']).dt.days # dt vectorize the series to apply 'days' command\n",
    "# df_recency = df_recency[['customer_id','recency_days']].copy()\n",
    "\n",
    "# # merging dataframes\n",
    "# df_ref = pd.merge(df_ref, df_recency, on='customer_id',how='left')\n",
    "# print('Checking NA: \\n\\n', df_ref.isna().sum(),'\\n\\n')\n",
    "# print('Data reference shape:', df_ref.shape)\n",
    "# df_ref.head()"
   ]
  },
  {
   "cell_type": "code",
   "execution_count": 51,
   "id": "electoral-belarus",
   "metadata": {
    "ExecuteTime": {
     "end_time": "2021-06-08T18:18:03.911164Z",
     "start_time": "2021-06-08T18:18:03.896150Z"
    },
    "code_folding": [],
    "hidden": true,
    "scrolled": true
   },
   "outputs": [],
   "source": [
    "# # === FREQUENCY (purchase periodicity)\n",
    "# df_freq = df3[['customer_id','invoice_no']].drop_duplicates().groupby('customer_id').count().reset_index()\n",
    "# df_freq = df_freq.rename(columns={'customer_id': 'customer_id','invoice_no': 'invoice_freq'}) # changing columns names\n",
    "\n",
    "# # merging dataframes\n",
    "# df_ref = pd.merge(df_ref, df_freq, on='customer_id', how='left')\n",
    "# print('Checking NA: \\n\\n', df_ref.isna().sum(),'\\n\\n')\n",
    "# print('Data reference shape:', df_ref.shape)\n",
    "# df_ref.head()"
   ]
  },
  {
   "cell_type": "code",
   "execution_count": 52,
   "id": "innovative-invasion",
   "metadata": {
    "ExecuteTime": {
     "end_time": "2021-06-08T18:18:03.926177Z",
     "start_time": "2021-06-08T18:18:03.912165Z"
    },
    "code_folding": [],
    "hidden": true,
    "scrolled": true
   },
   "outputs": [],
   "source": [
    "# # === AVG TICKET (how much is spend)\n",
    "# df_avgticket = df3[['customer_id','gross_revenue']].groupby('customer_id').mean().reset_index()\n",
    "# df_avgticket = df_avgticket.rename(columns={'gross_revenue':'avg_ticket'})\n",
    "\n",
    "# # merging dataframes\n",
    "# df_ref = pd.merge(df_ref, df_avgticket, on='customer_id', how='left')\n",
    "# print('Checking NA: \\n\\n', df_ref.isna().sum(),'\\n\\n')\n",
    "# print('Data reference shape:', df_ref.shape)\n",
    "# df_ref.head()"
   ]
  },
  {
   "cell_type": "markdown",
   "id": "based-surgery",
   "metadata": {
    "heading_collapsed": true
   },
   "source": [
    "# EDA (Exploratory Data Analysis)"
   ]
  },
  {
   "cell_type": "code",
   "execution_count": 78,
   "id": "activated-front",
   "metadata": {
    "ExecuteTime": {
     "end_time": "2021-06-08T18:57:10.082488Z",
     "start_time": "2021-06-08T18:57:10.069476Z"
    },
    "hidden": true
   },
   "outputs": [
    {
     "data": {
      "text/plain": [
       "customer_id            0\n",
       "gross_revenue          0\n",
       "recency_days           0\n",
       "qty_baskets            0\n",
       "qty_items              0\n",
       "qty_stockcode          0\n",
       "avg_ticket             0\n",
       "avg_recency_days       0\n",
       "frequency              0\n",
       "qty_prod_returns       0\n",
       "avg_basket_size        0\n",
       "avg_unique_products    0\n",
       "dtype: int64"
      ]
     },
     "execution_count": 78,
     "metadata": {},
     "output_type": "execute_result"
    }
   ],
   "source": [
    "df4 = df_ref.dropna().copy()\n",
    "df4.isna().sum()"
   ]
  },
  {
   "cell_type": "markdown",
   "id": "amended-claim",
   "metadata": {
    "heading_collapsed": true,
    "hidden": true
   },
   "source": [
    "## Univariate Analysis"
   ]
  },
  {
   "cell_type": "code",
   "execution_count": 54,
   "id": "unlikely-producer",
   "metadata": {
    "ExecuteTime": {
     "end_time": "2021-06-08T18:18:37.600888Z",
     "start_time": "2021-06-08T18:18:03.943193Z"
    },
    "collapsed": true,
    "hidden": true
   },
   "outputs": [
    {
     "data": {
      "application/vnd.jupyter.widget-view+json": {
       "model_id": "599e4f8747b74cdf99afa8fd7c406cd3",
       "version_major": 2,
       "version_minor": 0
      },
      "text/plain": [
       "Summarize dataset:   0%|          | 0/27 [00:00<?, ?it/s]"
      ]
     },
     "metadata": {},
     "output_type": "display_data"
    },
    {
     "data": {
      "application/vnd.jupyter.widget-view+json": {
       "model_id": "0e133a6d2a744516a765a92ab40823e7",
       "version_major": 2,
       "version_minor": 0
      },
      "text/plain": [
       "Generate report structure:   0%|          | 0/1 [00:00<?, ?it/s]"
      ]
     },
     "metadata": {},
     "output_type": "display_data"
    },
    {
     "data": {
      "application/vnd.jupyter.widget-view+json": {
       "model_id": "a2dd024ab5c940798b3120bf290e7f64",
       "version_major": 2,
       "version_minor": 0
      },
      "text/plain": [
       "Render HTML:   0%|          | 0/1 [00:00<?, ?it/s]"
      ]
     },
     "metadata": {},
     "output_type": "display_data"
    },
    {
     "data": {
      "application/vnd.jupyter.widget-view+json": {
       "model_id": "9f43e81a4c8442dda074c3b6533fce15",
       "version_major": 2,
       "version_minor": 0
      },
      "text/plain": [
       "Export report to file:   0%|          | 0/1 [00:00<?, ?it/s]"
      ]
     },
     "metadata": {},
     "output_type": "display_data"
    }
   ],
   "source": [
    "profile = ProfileReport(df4)\n",
    "profile.to_file('../data/interim/EDA_output_v1.html')"
   ]
  },
  {
   "cell_type": "markdown",
   "id": "aggressive-manhattan",
   "metadata": {
    "heading_collapsed": true,
    "hidden": true
   },
   "source": [
    "### Gross Revenue"
   ]
  },
  {
   "cell_type": "code",
   "execution_count": 55,
   "id": "complicated-beginning",
   "metadata": {
    "ExecuteTime": {
     "end_time": "2021-06-08T18:18:37.616903Z",
     "start_time": "2021-06-08T18:18:37.601890Z"
    },
    "hidden": true
   },
   "outputs": [
    {
     "data": {
      "text/html": [
       "<div>\n",
       "<style scoped>\n",
       "    .dataframe tbody tr th:only-of-type {\n",
       "        vertical-align: middle;\n",
       "    }\n",
       "\n",
       "    .dataframe tbody tr th {\n",
       "        vertical-align: top;\n",
       "    }\n",
       "\n",
       "    .dataframe thead th {\n",
       "        text-align: right;\n",
       "    }\n",
       "</style>\n",
       "<table border=\"1\" class=\"dataframe\">\n",
       "  <thead>\n",
       "    <tr style=\"text-align: right;\">\n",
       "      <th></th>\n",
       "      <th>customer_id</th>\n",
       "      <th>gross_revenue</th>\n",
       "      <th>recency_days</th>\n",
       "      <th>qty_baskets</th>\n",
       "      <th>qty_items</th>\n",
       "      <th>qty_stockcode</th>\n",
       "      <th>avg_ticket</th>\n",
       "      <th>avg_recency_days</th>\n",
       "      <th>frequency</th>\n",
       "      <th>qty_prod_returns</th>\n",
       "      <th>avg_basket_size</th>\n",
       "      <th>avg_unique_products</th>\n",
       "    </tr>\n",
       "  </thead>\n",
       "  <tbody>\n",
       "    <tr>\n",
       "      <th>1017</th>\n",
       "      <td>14646</td>\n",
       "      <td>279,138.02</td>\n",
       "      <td>1.00</td>\n",
       "      <td>72.00</td>\n",
       "      <td>196,844.00</td>\n",
       "      <td>2,060.00</td>\n",
       "      <td>135.50</td>\n",
       "      <td>7.84</td>\n",
       "      <td>0.20</td>\n",
       "      <td>288.00</td>\n",
       "      <td>2,733.94</td>\n",
       "      <td>28.61</td>\n",
       "    </tr>\n",
       "    <tr>\n",
       "      <th>492</th>\n",
       "      <td>18102</td>\n",
       "      <td>259,657.30</td>\n",
       "      <td>0.00</td>\n",
       "      <td>60.00</td>\n",
       "      <td>64,124.00</td>\n",
       "      <td>431.00</td>\n",
       "      <td>602.45</td>\n",
       "      <td>14.68</td>\n",
       "      <td>0.16</td>\n",
       "      <td>0.00</td>\n",
       "      <td>1,068.73</td>\n",
       "      <td>7.18</td>\n",
       "    </tr>\n",
       "    <tr>\n",
       "      <th>434</th>\n",
       "      <td>17450</td>\n",
       "      <td>194,550.79</td>\n",
       "      <td>8.00</td>\n",
       "      <td>46.00</td>\n",
       "      <td>69,993.00</td>\n",
       "      <td>337.00</td>\n",
       "      <td>577.30</td>\n",
       "      <td>12.82</td>\n",
       "      <td>0.13</td>\n",
       "      <td>952.00</td>\n",
       "      <td>1,521.59</td>\n",
       "      <td>7.33</td>\n",
       "    </tr>\n",
       "    <tr>\n",
       "      <th>3338</th>\n",
       "      <td>16446</td>\n",
       "      <td>168,472.50</td>\n",
       "      <td>0.00</td>\n",
       "      <td>2.00</td>\n",
       "      <td>80,997.00</td>\n",
       "      <td>3.00</td>\n",
       "      <td>56,157.50</td>\n",
       "      <td>205.00</td>\n",
       "      <td>0.01</td>\n",
       "      <td>80,995.00</td>\n",
       "      <td>40,498.50</td>\n",
       "      <td>1.50</td>\n",
       "    </tr>\n",
       "    <tr>\n",
       "      <th>66</th>\n",
       "      <td>14911</td>\n",
       "      <td>140,450.72</td>\n",
       "      <td>1.00</td>\n",
       "      <td>199.00</td>\n",
       "      <td>80,263.00</td>\n",
       "      <td>5,673.00</td>\n",
       "      <td>24.76</td>\n",
       "      <td>2.60</td>\n",
       "      <td>0.53</td>\n",
       "      <td>3,332.00</td>\n",
       "      <td>403.33</td>\n",
       "      <td>28.51</td>\n",
       "    </tr>\n",
       "  </tbody>\n",
       "</table>\n",
       "</div>"
      ],
      "text/plain": [
       "      customer_id  gross_revenue  recency_days  qty_baskets  qty_items  qty_stockcode  avg_ticket  avg_recency_days  frequency  qty_prod_returns  avg_basket_size  avg_unique_products\n",
       "1017        14646     279,138.02          1.00        72.00 196,844.00       2,060.00      135.50              7.84       0.20            288.00         2,733.94                28.61\n",
       "492         18102     259,657.30          0.00        60.00  64,124.00         431.00      602.45             14.68       0.16              0.00         1,068.73                 7.18\n",
       "434         17450     194,550.79          8.00        46.00  69,993.00         337.00      577.30             12.82       0.13            952.00         1,521.59                 7.33\n",
       "3338        16446     168,472.50          0.00         2.00  80,997.00           3.00   56,157.50            205.00       0.01         80,995.00        40,498.50                 1.50\n",
       "66          14911     140,450.72          1.00       199.00  80,263.00       5,673.00       24.76              2.60       0.53          3,332.00           403.33                28.51"
      ]
     },
     "execution_count": 55,
     "metadata": {},
     "output_type": "execute_result"
    }
   ],
   "source": [
    "df4.sort_values('gross_revenue', ascending=False).head()"
   ]
  },
  {
   "cell_type": "code",
   "execution_count": 56,
   "id": "binary-valentine",
   "metadata": {
    "ExecuteTime": {
     "end_time": "2021-06-08T18:18:37.632917Z",
     "start_time": "2021-06-08T18:18:37.617903Z"
    },
    "hidden": true
   },
   "outputs": [
    {
     "data": {
      "text/html": [
       "<div>\n",
       "<style scoped>\n",
       "    .dataframe tbody tr th:only-of-type {\n",
       "        vertical-align: middle;\n",
       "    }\n",
       "\n",
       "    .dataframe tbody tr th {\n",
       "        vertical-align: top;\n",
       "    }\n",
       "\n",
       "    .dataframe thead th {\n",
       "        text-align: right;\n",
       "    }\n",
       "</style>\n",
       "<table border=\"1\" class=\"dataframe\">\n",
       "  <thead>\n",
       "    <tr style=\"text-align: right;\">\n",
       "      <th></th>\n",
       "      <th>customer_id</th>\n",
       "      <th>gross_revenue</th>\n",
       "      <th>recency_days</th>\n",
       "      <th>qty_baskets</th>\n",
       "      <th>qty_items</th>\n",
       "      <th>qty_stockcode</th>\n",
       "      <th>avg_ticket</th>\n",
       "      <th>avg_recency_days</th>\n",
       "      <th>frequency</th>\n",
       "      <th>qty_prod_returns</th>\n",
       "      <th>avg_basket_size</th>\n",
       "      <th>avg_unique_products</th>\n",
       "    </tr>\n",
       "  </thead>\n",
       "  <tbody>\n",
       "    <tr>\n",
       "      <th>1017</th>\n",
       "      <td>14646</td>\n",
       "      <td>279,138.02</td>\n",
       "      <td>1.00</td>\n",
       "      <td>72.00</td>\n",
       "      <td>196,844.00</td>\n",
       "      <td>2,060.00</td>\n",
       "      <td>135.50</td>\n",
       "      <td>7.84</td>\n",
       "      <td>0.20</td>\n",
       "      <td>288.00</td>\n",
       "      <td>2,733.94</td>\n",
       "      <td>28.61</td>\n",
       "    </tr>\n",
       "  </tbody>\n",
       "</table>\n",
       "</div>"
      ],
      "text/plain": [
       "      customer_id  gross_revenue  recency_days  qty_baskets  qty_items  qty_stockcode  avg_ticket  avg_recency_days  frequency  qty_prod_returns  avg_basket_size  avg_unique_products\n",
       "1017        14646     279,138.02          1.00        72.00 196,844.00       2,060.00      135.50              7.84       0.20            288.00         2,733.94                28.61"
      ]
     },
     "execution_count": 56,
     "metadata": {},
     "output_type": "execute_result"
    }
   ],
   "source": [
    "# df4[df4['gross_revenue']==279138.02]\n",
    "df4[df4['customer_id'] == 14646]"
   ]
  },
  {
   "cell_type": "markdown",
   "id": "waiting-freedom",
   "metadata": {
    "heading_collapsed": true,
    "hidden": true
   },
   "source": [
    "### Quantity of Items"
   ]
  },
  {
   "cell_type": "code",
   "execution_count": 57,
   "id": "urban-convergence",
   "metadata": {
    "ExecuteTime": {
     "end_time": "2021-06-08T18:18:37.648932Z",
     "start_time": "2021-06-08T18:18:37.633918Z"
    },
    "hidden": true
   },
   "outputs": [
    {
     "data": {
      "text/html": [
       "<div>\n",
       "<style scoped>\n",
       "    .dataframe tbody tr th:only-of-type {\n",
       "        vertical-align: middle;\n",
       "    }\n",
       "\n",
       "    .dataframe tbody tr th {\n",
       "        vertical-align: top;\n",
       "    }\n",
       "\n",
       "    .dataframe thead th {\n",
       "        text-align: right;\n",
       "    }\n",
       "</style>\n",
       "<table border=\"1\" class=\"dataframe\">\n",
       "  <thead>\n",
       "    <tr style=\"text-align: right;\">\n",
       "      <th></th>\n",
       "      <th>invoice_no</th>\n",
       "      <th>stock_code</th>\n",
       "      <th>quantity</th>\n",
       "      <th>invoice_date</th>\n",
       "      <th>unit_price</th>\n",
       "      <th>customer_id</th>\n",
       "      <th>country</th>\n",
       "    </tr>\n",
       "  </thead>\n",
       "  <tbody>\n",
       "    <tr>\n",
       "      <th>37952</th>\n",
       "      <td>539491</td>\n",
       "      <td>21981</td>\n",
       "      <td>12</td>\n",
       "      <td>2016-12-18</td>\n",
       "      <td>0.29</td>\n",
       "      <td>14646</td>\n",
       "      <td>Netherlands</td>\n",
       "    </tr>\n",
       "    <tr>\n",
       "      <th>37953</th>\n",
       "      <td>539491</td>\n",
       "      <td>21986</td>\n",
       "      <td>12</td>\n",
       "      <td>2016-12-18</td>\n",
       "      <td>0.29</td>\n",
       "      <td>14646</td>\n",
       "      <td>Netherlands</td>\n",
       "    </tr>\n",
       "    <tr>\n",
       "      <th>37954</th>\n",
       "      <td>539491</td>\n",
       "      <td>22720</td>\n",
       "      <td>2</td>\n",
       "      <td>2016-12-18</td>\n",
       "      <td>4.95</td>\n",
       "      <td>14646</td>\n",
       "      <td>Netherlands</td>\n",
       "    </tr>\n",
       "    <tr>\n",
       "      <th>37955</th>\n",
       "      <td>539491</td>\n",
       "      <td>21931</td>\n",
       "      <td>1</td>\n",
       "      <td>2016-12-18</td>\n",
       "      <td>1.95</td>\n",
       "      <td>14646</td>\n",
       "      <td>Netherlands</td>\n",
       "    </tr>\n",
       "    <tr>\n",
       "      <th>37956</th>\n",
       "      <td>539491</td>\n",
       "      <td>22613</td>\n",
       "      <td>2</td>\n",
       "      <td>2016-12-18</td>\n",
       "      <td>0.85</td>\n",
       "      <td>14646</td>\n",
       "      <td>Netherlands</td>\n",
       "    </tr>\n",
       "    <tr>\n",
       "      <th>37957</th>\n",
       "      <td>539491</td>\n",
       "      <td>20751</td>\n",
       "      <td>1</td>\n",
       "      <td>2016-12-18</td>\n",
       "      <td>2.10</td>\n",
       "      <td>14646</td>\n",
       "      <td>Netherlands</td>\n",
       "    </tr>\n",
       "    <tr>\n",
       "      <th>37958</th>\n",
       "      <td>539491</td>\n",
       "      <td>21246</td>\n",
       "      <td>2</td>\n",
       "      <td>2016-12-18</td>\n",
       "      <td>4.95</td>\n",
       "      <td>14646</td>\n",
       "      <td>Netherlands</td>\n",
       "    </tr>\n",
       "    <tr>\n",
       "      <th>37959</th>\n",
       "      <td>539491</td>\n",
       "      <td>22960</td>\n",
       "      <td>1</td>\n",
       "      <td>2016-12-18</td>\n",
       "      <td>4.25</td>\n",
       "      <td>14646</td>\n",
       "      <td>Netherlands</td>\n",
       "    </tr>\n",
       "    <tr>\n",
       "      <th>37960</th>\n",
       "      <td>539491</td>\n",
       "      <td>22355</td>\n",
       "      <td>2</td>\n",
       "      <td>2016-12-18</td>\n",
       "      <td>0.85</td>\n",
       "      <td>14646</td>\n",
       "      <td>Netherlands</td>\n",
       "    </tr>\n",
       "    <tr>\n",
       "      <th>37961</th>\n",
       "      <td>539491</td>\n",
       "      <td>21123</td>\n",
       "      <td>2</td>\n",
       "      <td>2016-12-18</td>\n",
       "      <td>1.25</td>\n",
       "      <td>14646</td>\n",
       "      <td>Netherlands</td>\n",
       "    </tr>\n",
       "  </tbody>\n",
       "</table>\n",
       "</div>"
      ],
      "text/plain": [
       "      invoice_no stock_code  quantity invoice_date  unit_price  customer_id      country\n",
       "37952     539491      21981        12   2016-12-18        0.29        14646  Netherlands\n",
       "37953     539491      21986        12   2016-12-18        0.29        14646  Netherlands\n",
       "37954     539491      22720         2   2016-12-18        4.95        14646  Netherlands\n",
       "37955     539491      21931         1   2016-12-18        1.95        14646  Netherlands\n",
       "37956     539491      22613         2   2016-12-18        0.85        14646  Netherlands\n",
       "37957     539491      20751         1   2016-12-18        2.10        14646  Netherlands\n",
       "37958     539491      21246         2   2016-12-18        4.95        14646  Netherlands\n",
       "37959     539491      22960         1   2016-12-18        4.25        14646  Netherlands\n",
       "37960     539491      22355         2   2016-12-18        0.85        14646  Netherlands\n",
       "37961     539491      21123         2   2016-12-18        1.25        14646  Netherlands"
      ]
     },
     "execution_count": 57,
     "metadata": {},
     "output_type": "execute_result"
    }
   ],
   "source": [
    "df3[df3['customer_id'] == 14646].head(10)"
   ]
  },
  {
   "cell_type": "code",
   "execution_count": 58,
   "id": "romantic-intelligence",
   "metadata": {
    "ExecuteTime": {
     "end_time": "2021-06-08T18:18:37.664946Z",
     "start_time": "2021-06-08T18:18:37.649932Z"
    },
    "hidden": true
   },
   "outputs": [
    {
     "data": {
      "text/html": [
       "<div>\n",
       "<style scoped>\n",
       "    .dataframe tbody tr th:only-of-type {\n",
       "        vertical-align: middle;\n",
       "    }\n",
       "\n",
       "    .dataframe tbody tr th {\n",
       "        vertical-align: top;\n",
       "    }\n",
       "\n",
       "    .dataframe thead th {\n",
       "        text-align: right;\n",
       "    }\n",
       "</style>\n",
       "<table border=\"1\" class=\"dataframe\">\n",
       "  <thead>\n",
       "    <tr style=\"text-align: right;\">\n",
       "      <th></th>\n",
       "      <th>customer_id</th>\n",
       "      <th>gross_revenue</th>\n",
       "      <th>recency_days</th>\n",
       "      <th>qty_baskets</th>\n",
       "      <th>qty_items</th>\n",
       "      <th>qty_stockcode</th>\n",
       "      <th>avg_ticket</th>\n",
       "      <th>avg_recency_days</th>\n",
       "      <th>frequency</th>\n",
       "      <th>qty_prod_returns</th>\n",
       "      <th>avg_basket_size</th>\n",
       "      <th>avg_unique_products</th>\n",
       "    </tr>\n",
       "  </thead>\n",
       "  <tbody>\n",
       "    <tr>\n",
       "      <th>68</th>\n",
       "      <td>17841</td>\n",
       "      <td>40,967.72</td>\n",
       "      <td>1.00</td>\n",
       "      <td>124.00</td>\n",
       "      <td>23,053.00</td>\n",
       "      <td>7,838.00</td>\n",
       "      <td>5.23</td>\n",
       "      <td>3.32</td>\n",
       "      <td>0.33</td>\n",
       "      <td>203.00</td>\n",
       "      <td>185.91</td>\n",
       "      <td>63.21</td>\n",
       "    </tr>\n",
       "  </tbody>\n",
       "</table>\n",
       "</div>"
      ],
      "text/plain": [
       "    customer_id  gross_revenue  recency_days  qty_baskets  qty_items  qty_stockcode  avg_ticket  avg_recency_days  frequency  qty_prod_returns  avg_basket_size  avg_unique_products\n",
       "68        17841      40,967.72          1.00       124.00  23,053.00       7,838.00        5.23              3.32       0.33            203.00           185.91                63.21"
      ]
     },
     "execution_count": 58,
     "metadata": {},
     "output_type": "execute_result"
    }
   ],
   "source": [
    "df4[df4['qty_stockcode'] == 7838]"
   ]
  },
  {
   "cell_type": "markdown",
   "id": "entitled-validation",
   "metadata": {
    "heading_collapsed": true,
    "hidden": true
   },
   "source": [
    "### Avg Ticket"
   ]
  },
  {
   "cell_type": "code",
   "execution_count": 59,
   "id": "equal-illinois",
   "metadata": {
    "ExecuteTime": {
     "end_time": "2021-06-08T18:18:37.680961Z",
     "start_time": "2021-06-08T18:18:37.665947Z"
    },
    "hidden": true
   },
   "outputs": [
    {
     "data": {
      "text/html": [
       "<div>\n",
       "<style scoped>\n",
       "    .dataframe tbody tr th:only-of-type {\n",
       "        vertical-align: middle;\n",
       "    }\n",
       "\n",
       "    .dataframe tbody tr th {\n",
       "        vertical-align: top;\n",
       "    }\n",
       "\n",
       "    .dataframe thead th {\n",
       "        text-align: right;\n",
       "    }\n",
       "</style>\n",
       "<table border=\"1\" class=\"dataframe\">\n",
       "  <thead>\n",
       "    <tr style=\"text-align: right;\">\n",
       "      <th></th>\n",
       "      <th>customer_id</th>\n",
       "      <th>gross_revenue</th>\n",
       "      <th>recency_days</th>\n",
       "      <th>qty_baskets</th>\n",
       "      <th>qty_items</th>\n",
       "      <th>qty_stockcode</th>\n",
       "      <th>avg_ticket</th>\n",
       "      <th>avg_recency_days</th>\n",
       "      <th>frequency</th>\n",
       "      <th>qty_prod_returns</th>\n",
       "      <th>avg_basket_size</th>\n",
       "      <th>avg_unique_products</th>\n",
       "    </tr>\n",
       "  </thead>\n",
       "  <tbody>\n",
       "    <tr>\n",
       "      <th>3338</th>\n",
       "      <td>16446</td>\n",
       "      <td>168,472.50</td>\n",
       "      <td>0.00</td>\n",
       "      <td>2.00</td>\n",
       "      <td>80,997.00</td>\n",
       "      <td>3.00</td>\n",
       "      <td>56,157.50</td>\n",
       "      <td>205.00</td>\n",
       "      <td>0.01</td>\n",
       "      <td>80,995.00</td>\n",
       "      <td>40,498.50</td>\n",
       "      <td>1.50</td>\n",
       "    </tr>\n",
       "  </tbody>\n",
       "</table>\n",
       "</div>"
      ],
      "text/plain": [
       "      customer_id  gross_revenue  recency_days  qty_baskets  qty_items  qty_stockcode  avg_ticket  avg_recency_days  frequency  qty_prod_returns  avg_basket_size  avg_unique_products\n",
       "3338        16446     168,472.50          0.00         2.00  80,997.00           3.00   56,157.50            205.00       0.01         80,995.00        40,498.50                 1.50"
      ]
     },
     "execution_count": 59,
     "metadata": {},
     "output_type": "execute_result"
    }
   ],
   "source": [
    "df4[df4['avg_ticket'] == 56157.5]"
   ]
  },
  {
   "cell_type": "code",
   "execution_count": 60,
   "id": "orange-delay",
   "metadata": {
    "ExecuteTime": {
     "end_time": "2021-06-08T18:18:37.696975Z",
     "start_time": "2021-06-08T18:18:37.681962Z"
    },
    "hidden": true
   },
   "outputs": [
    {
     "data": {
      "text/html": [
       "<div>\n",
       "<style scoped>\n",
       "    .dataframe tbody tr th:only-of-type {\n",
       "        vertical-align: middle;\n",
       "    }\n",
       "\n",
       "    .dataframe tbody tr th {\n",
       "        vertical-align: top;\n",
       "    }\n",
       "\n",
       "    .dataframe thead th {\n",
       "        text-align: right;\n",
       "    }\n",
       "</style>\n",
       "<table border=\"1\" class=\"dataframe\">\n",
       "  <thead>\n",
       "    <tr style=\"text-align: right;\">\n",
       "      <th></th>\n",
       "      <th>invoice_no</th>\n",
       "      <th>stock_code</th>\n",
       "      <th>quantity</th>\n",
       "      <th>invoice_date</th>\n",
       "      <th>unit_price</th>\n",
       "      <th>customer_id</th>\n",
       "      <th>country</th>\n",
       "    </tr>\n",
       "  </thead>\n",
       "  <tbody>\n",
       "    <tr>\n",
       "      <th>194354</th>\n",
       "      <td>553573</td>\n",
       "      <td>22980</td>\n",
       "      <td>1</td>\n",
       "      <td>2017-05-16</td>\n",
       "      <td>1.65</td>\n",
       "      <td>16446</td>\n",
       "      <td>United Kingdom</td>\n",
       "    </tr>\n",
       "    <tr>\n",
       "      <th>194355</th>\n",
       "      <td>553573</td>\n",
       "      <td>22982</td>\n",
       "      <td>1</td>\n",
       "      <td>2017-05-16</td>\n",
       "      <td>1.25</td>\n",
       "      <td>16446</td>\n",
       "      <td>United Kingdom</td>\n",
       "    </tr>\n",
       "    <tr>\n",
       "      <th>540421</th>\n",
       "      <td>581483</td>\n",
       "      <td>23843</td>\n",
       "      <td>80995</td>\n",
       "      <td>2017-12-07</td>\n",
       "      <td>2.08</td>\n",
       "      <td>16446</td>\n",
       "      <td>United Kingdom</td>\n",
       "    </tr>\n",
       "    <tr>\n",
       "      <th>540422</th>\n",
       "      <td>C581484</td>\n",
       "      <td>23843</td>\n",
       "      <td>-80995</td>\n",
       "      <td>2017-12-07</td>\n",
       "      <td>2.08</td>\n",
       "      <td>16446</td>\n",
       "      <td>United Kingdom</td>\n",
       "    </tr>\n",
       "  </tbody>\n",
       "</table>\n",
       "</div>"
      ],
      "text/plain": [
       "       invoice_no stock_code  quantity invoice_date  unit_price  customer_id         country\n",
       "194354     553573      22980         1   2017-05-16        1.65        16446  United Kingdom\n",
       "194355     553573      22982         1   2017-05-16        1.25        16446  United Kingdom\n",
       "540421     581483      23843     80995   2017-12-07        2.08        16446  United Kingdom\n",
       "540422    C581484      23843    -80995   2017-12-07        2.08        16446  United Kingdom"
      ]
     },
     "execution_count": 60,
     "metadata": {},
     "output_type": "execute_result"
    }
   ],
   "source": [
    "df3[df3['customer_id'] == 16446]"
   ]
  },
  {
   "cell_type": "code",
   "execution_count": null,
   "id": "determined-times",
   "metadata": {
    "hidden": true
   },
   "outputs": [],
   "source": []
  },
  {
   "cell_type": "markdown",
   "id": "intended-second",
   "metadata": {
    "heading_collapsed": true,
    "hidden": true
   },
   "source": [
    "## Bivariate Analysis"
   ]
  },
  {
   "cell_type": "code",
   "execution_count": 80,
   "id": "dependent-workplace",
   "metadata": {
    "ExecuteTime": {
     "end_time": "2021-06-08T18:57:18.670793Z",
     "start_time": "2021-06-08T18:57:18.660784Z"
    },
    "hidden": true
   },
   "outputs": [
    {
     "data": {
      "text/html": [
       "<div>\n",
       "<style scoped>\n",
       "    .dataframe tbody tr th:only-of-type {\n",
       "        vertical-align: middle;\n",
       "    }\n",
       "\n",
       "    .dataframe tbody tr th {\n",
       "        vertical-align: top;\n",
       "    }\n",
       "\n",
       "    .dataframe thead th {\n",
       "        text-align: right;\n",
       "    }\n",
       "</style>\n",
       "<table border=\"1\" class=\"dataframe\">\n",
       "  <thead>\n",
       "    <tr style=\"text-align: right;\">\n",
       "      <th></th>\n",
       "      <th>gross_revenue</th>\n",
       "      <th>recency_days</th>\n",
       "      <th>qty_baskets</th>\n",
       "      <th>qty_items</th>\n",
       "      <th>qty_stockcode</th>\n",
       "      <th>avg_ticket</th>\n",
       "      <th>avg_recency_days</th>\n",
       "      <th>frequency</th>\n",
       "      <th>qty_prod_returns</th>\n",
       "      <th>avg_basket_size</th>\n",
       "      <th>avg_unique_products</th>\n",
       "    </tr>\n",
       "  </thead>\n",
       "  <tbody>\n",
       "    <tr>\n",
       "      <th>0</th>\n",
       "      <td>5,391.21</td>\n",
       "      <td>372.00</td>\n",
       "      <td>34.00</td>\n",
       "      <td>1,733.00</td>\n",
       "      <td>297.00</td>\n",
       "      <td>18.15</td>\n",
       "      <td>35.50</td>\n",
       "      <td>17.00</td>\n",
       "      <td>40.00</td>\n",
       "      <td>50.97</td>\n",
       "      <td>8.74</td>\n",
       "    </tr>\n",
       "    <tr>\n",
       "      <th>1</th>\n",
       "      <td>3,232.59</td>\n",
       "      <td>56.00</td>\n",
       "      <td>9.00</td>\n",
       "      <td>1,390.00</td>\n",
       "      <td>171.00</td>\n",
       "      <td>18.90</td>\n",
       "      <td>27.25</td>\n",
       "      <td>0.03</td>\n",
       "      <td>35.00</td>\n",
       "      <td>154.44</td>\n",
       "      <td>19.00</td>\n",
       "    </tr>\n",
       "    <tr>\n",
       "      <th>2</th>\n",
       "      <td>6,705.38</td>\n",
       "      <td>2.00</td>\n",
       "      <td>15.00</td>\n",
       "      <td>5,028.00</td>\n",
       "      <td>232.00</td>\n",
       "      <td>28.90</td>\n",
       "      <td>23.19</td>\n",
       "      <td>0.04</td>\n",
       "      <td>50.00</td>\n",
       "      <td>335.20</td>\n",
       "      <td>15.47</td>\n",
       "    </tr>\n",
       "    <tr>\n",
       "      <th>3</th>\n",
       "      <td>948.25</td>\n",
       "      <td>95.00</td>\n",
       "      <td>5.00</td>\n",
       "      <td>439.00</td>\n",
       "      <td>28.00</td>\n",
       "      <td>33.87</td>\n",
       "      <td>92.67</td>\n",
       "      <td>0.02</td>\n",
       "      <td>0.00</td>\n",
       "      <td>87.80</td>\n",
       "      <td>5.60</td>\n",
       "    </tr>\n",
       "    <tr>\n",
       "      <th>4</th>\n",
       "      <td>876.00</td>\n",
       "      <td>333.00</td>\n",
       "      <td>3.00</td>\n",
       "      <td>80.00</td>\n",
       "      <td>3.00</td>\n",
       "      <td>292.00</td>\n",
       "      <td>8.60</td>\n",
       "      <td>0.07</td>\n",
       "      <td>22.00</td>\n",
       "      <td>26.67</td>\n",
       "      <td>1.00</td>\n",
       "    </tr>\n",
       "  </tbody>\n",
       "</table>\n",
       "</div>"
      ],
      "text/plain": [
       "   gross_revenue  recency_days  qty_baskets  qty_items  qty_stockcode  avg_ticket  avg_recency_days  frequency  qty_prod_returns  avg_basket_size  avg_unique_products\n",
       "0       5,391.21        372.00        34.00   1,733.00         297.00       18.15             35.50      17.00             40.00            50.97                 8.74\n",
       "1       3,232.59         56.00         9.00   1,390.00         171.00       18.90             27.25       0.03             35.00           154.44                19.00\n",
       "2       6,705.38          2.00        15.00   5,028.00         232.00       28.90             23.19       0.04             50.00           335.20                15.47\n",
       "3         948.25         95.00         5.00     439.00          28.00       33.87             92.67       0.02              0.00            87.80                 5.60\n",
       "4         876.00        333.00         3.00      80.00           3.00      292.00              8.60       0.07             22.00            26.67                 1.00"
      ]
     },
     "execution_count": 80,
     "metadata": {},
     "output_type": "execute_result"
    }
   ],
   "source": [
    "df42 = df4.drop(columns = ['customer_id'], axis=1)\n",
    "df42.head()"
   ]
  },
  {
   "cell_type": "code",
   "execution_count": 82,
   "id": "systematic-macedonia",
   "metadata": {
    "ExecuteTime": {
     "end_time": "2021-06-08T19:10:29.713155Z",
     "start_time": "2021-06-08T19:07:32.203932Z"
    },
    "hidden": true,
    "scrolled": false
   },
   "outputs": [
    {
     "data": {
      "text/plain": [
       "<Figure size 1440x1080 with 0 Axes>"
      ]
     },
     "metadata": {},
     "output_type": "display_data"
    },
    {
     "data": {
      "image/png": "[encoded data removed]",
      "text/plain": [
       "<Figure size 1980x1980 with 132 Axes>"
      ]
     },
     "metadata": {},
     "output_type": "display_data"
    }
   ],
   "source": [
    "plt.figure(figsize=(20,15))\n",
    "sns.pairplot(df42);"
   ]
  },
  {
   "cell_type": "code",
   "execution_count": null,
   "id": "unauthorized-offering",
   "metadata": {
    "hidden": true,
    "scrolled": true
   },
   "outputs": [],
   "source": []
  },
  {
   "cell_type": "code",
   "execution_count": null,
   "id": "assisted-arrival",
   "metadata": {
    "hidden": true,
    "scrolled": true
   },
   "outputs": [],
   "source": []
  },
  {
   "cell_type": "code",
   "execution_count": null,
   "id": "higher-former",
   "metadata": {
    "hidden": true,
    "scrolled": true
   },
   "outputs": [],
   "source": []
  },
  {
   "cell_type": "markdown",
   "id": "fuzzy-reaction",
   "metadata": {
    "heading_collapsed": true
   },
   "source": [
    "# Data Preparation"
   ]
  },
  {
   "cell_type": "code",
   "execution_count": 64,
   "id": "synthetic-delight",
   "metadata": {
    "ExecuteTime": {
     "end_time": "2021-06-08T18:49:01.722229Z",
     "start_time": "2021-06-08T18:49:01.715223Z"
    },
    "hidden": true,
    "scrolled": true
   },
   "outputs": [],
   "source": [
    "df5 = df4.copy()"
   ]
  },
  {
   "cell_type": "code",
   "execution_count": 65,
   "id": "alive-turkish",
   "metadata": {
    "ExecuteTime": {
     "end_time": "2021-06-08T18:49:02.756168Z",
     "start_time": "2021-06-08T18:49:02.739153Z"
    },
    "hidden": true,
    "scrolled": true
   },
   "outputs": [
    {
     "data": {
      "text/html": [
       "<div>\n",
       "<style scoped>\n",
       "    .dataframe tbody tr th:only-of-type {\n",
       "        vertical-align: middle;\n",
       "    }\n",
       "\n",
       "    .dataframe tbody tr th {\n",
       "        vertical-align: top;\n",
       "    }\n",
       "\n",
       "    .dataframe thead th {\n",
       "        text-align: right;\n",
       "    }\n",
       "</style>\n",
       "<table border=\"1\" class=\"dataframe\">\n",
       "  <thead>\n",
       "    <tr style=\"text-align: right;\">\n",
       "      <th></th>\n",
       "      <th>customer_id</th>\n",
       "      <th>gross_revenue</th>\n",
       "      <th>recency_days</th>\n",
       "      <th>qty_baskets</th>\n",
       "      <th>qty_items</th>\n",
       "      <th>qty_stockcode</th>\n",
       "      <th>avg_ticket</th>\n",
       "      <th>avg_recency_days</th>\n",
       "      <th>frequency</th>\n",
       "      <th>qty_prod_returns</th>\n",
       "      <th>avg_basket_size</th>\n",
       "      <th>avg_unique_products</th>\n",
       "    </tr>\n",
       "  </thead>\n",
       "  <tbody>\n",
       "    <tr>\n",
       "      <th>0</th>\n",
       "      <td>17850</td>\n",
       "      <td>5,391.21</td>\n",
       "      <td>372.00</td>\n",
       "      <td>34.00</td>\n",
       "      <td>1,733.00</td>\n",
       "      <td>297.00</td>\n",
       "      <td>18.15</td>\n",
       "      <td>35.50</td>\n",
       "      <td>17.00</td>\n",
       "      <td>40.00</td>\n",
       "      <td>50.97</td>\n",
       "      <td>8.74</td>\n",
       "    </tr>\n",
       "    <tr>\n",
       "      <th>1</th>\n",
       "      <td>13047</td>\n",
       "      <td>3,232.59</td>\n",
       "      <td>56.00</td>\n",
       "      <td>9.00</td>\n",
       "      <td>1,390.00</td>\n",
       "      <td>171.00</td>\n",
       "      <td>18.90</td>\n",
       "      <td>27.25</td>\n",
       "      <td>0.03</td>\n",
       "      <td>35.00</td>\n",
       "      <td>154.44</td>\n",
       "      <td>19.00</td>\n",
       "    </tr>\n",
       "    <tr>\n",
       "      <th>2</th>\n",
       "      <td>12583</td>\n",
       "      <td>6,705.38</td>\n",
       "      <td>2.00</td>\n",
       "      <td>15.00</td>\n",
       "      <td>5,028.00</td>\n",
       "      <td>232.00</td>\n",
       "      <td>28.90</td>\n",
       "      <td>23.19</td>\n",
       "      <td>0.04</td>\n",
       "      <td>50.00</td>\n",
       "      <td>335.20</td>\n",
       "      <td>15.47</td>\n",
       "    </tr>\n",
       "    <tr>\n",
       "      <th>3</th>\n",
       "      <td>13748</td>\n",
       "      <td>948.25</td>\n",
       "      <td>95.00</td>\n",
       "      <td>5.00</td>\n",
       "      <td>439.00</td>\n",
       "      <td>28.00</td>\n",
       "      <td>33.87</td>\n",
       "      <td>92.67</td>\n",
       "      <td>0.02</td>\n",
       "      <td>0.00</td>\n",
       "      <td>87.80</td>\n",
       "      <td>5.60</td>\n",
       "    </tr>\n",
       "    <tr>\n",
       "      <th>4</th>\n",
       "      <td>15100</td>\n",
       "      <td>876.00</td>\n",
       "      <td>333.00</td>\n",
       "      <td>3.00</td>\n",
       "      <td>80.00</td>\n",
       "      <td>3.00</td>\n",
       "      <td>292.00</td>\n",
       "      <td>8.60</td>\n",
       "      <td>0.07</td>\n",
       "      <td>22.00</td>\n",
       "      <td>26.67</td>\n",
       "      <td>1.00</td>\n",
       "    </tr>\n",
       "  </tbody>\n",
       "</table>\n",
       "</div>"
      ],
      "text/plain": [
       "   customer_id  gross_revenue  recency_days  qty_baskets  qty_items  qty_stockcode  avg_ticket  avg_recency_days  frequency  qty_prod_returns  avg_basket_size  avg_unique_products\n",
       "0        17850       5,391.21        372.00        34.00   1,733.00         297.00       18.15             35.50      17.00             40.00            50.97                 8.74\n",
       "1        13047       3,232.59         56.00         9.00   1,390.00         171.00       18.90             27.25       0.03             35.00           154.44                19.00\n",
       "2        12583       6,705.38          2.00        15.00   5,028.00         232.00       28.90             23.19       0.04             50.00           335.20                15.47\n",
       "3        13748         948.25         95.00         5.00     439.00          28.00       33.87             92.67       0.02              0.00            87.80                 5.60\n",
       "4        15100         876.00        333.00         3.00      80.00           3.00      292.00              8.60       0.07             22.00            26.67                 1.00"
      ]
     },
     "execution_count": 65,
     "metadata": {},
     "output_type": "execute_result"
    }
   ],
   "source": [
    "df5.head()"
   ]
  },
  {
   "cell_type": "code",
   "execution_count": 66,
   "id": "cooperative-belly",
   "metadata": {
    "ExecuteTime": {
     "end_time": "2021-06-08T18:49:04.909629Z",
     "start_time": "2021-06-08T18:49:04.889611Z"
    },
    "hidden": true,
    "scrolled": true
   },
   "outputs": [
    {
     "ename": "KeyError",
     "evalue": "\"None of [Index(['invoice_freq'], dtype='object')] are in the [columns]\"",
     "output_type": "error",
     "traceback": [
      "\u001b[1;31m---------------------------------------------------------------------------\u001b[0m",
      "\u001b[1;31mKeyError\u001b[0m                                  Traceback (most recent call last)",
      "\u001b[1;32m<ipython-input-66-c1c0eb56d8f8>\u001b[0m in \u001b[0;36m<module>\u001b[1;34m\u001b[0m\n\u001b[0;32m      3\u001b[0m \u001b[0mdf5\u001b[0m\u001b[1;33m[\u001b[0m\u001b[1;34m'gross_revenue'\u001b[0m\u001b[1;33m]\u001b[0m \u001b[1;33m=\u001b[0m \u001b[0mss\u001b[0m\u001b[1;33m.\u001b[0m\u001b[0mfit_transform\u001b[0m\u001b[1;33m(\u001b[0m\u001b[0mdf5\u001b[0m\u001b[1;33m[\u001b[0m\u001b[1;33m[\u001b[0m\u001b[1;34m'gross_revenue'\u001b[0m\u001b[1;33m]\u001b[0m\u001b[1;33m]\u001b[0m\u001b[1;33m)\u001b[0m\u001b[1;33m\u001b[0m\u001b[1;33m\u001b[0m\u001b[0m\n\u001b[0;32m      4\u001b[0m \u001b[0mdf5\u001b[0m\u001b[1;33m[\u001b[0m\u001b[1;34m'recency_days'\u001b[0m\u001b[1;33m]\u001b[0m \u001b[1;33m=\u001b[0m \u001b[0mss\u001b[0m\u001b[1;33m.\u001b[0m\u001b[0mfit_transform\u001b[0m\u001b[1;33m(\u001b[0m\u001b[0mdf5\u001b[0m\u001b[1;33m[\u001b[0m\u001b[1;33m[\u001b[0m\u001b[1;34m'recency_days'\u001b[0m\u001b[1;33m]\u001b[0m\u001b[1;33m]\u001b[0m\u001b[1;33m)\u001b[0m\u001b[1;33m\u001b[0m\u001b[1;33m\u001b[0m\u001b[0m\n\u001b[1;32m----> 5\u001b[1;33m \u001b[0mdf5\u001b[0m\u001b[1;33m[\u001b[0m\u001b[1;34m'invoice_freq'\u001b[0m\u001b[1;33m]\u001b[0m \u001b[1;33m=\u001b[0m \u001b[0mss\u001b[0m\u001b[1;33m.\u001b[0m\u001b[0mfit_transform\u001b[0m\u001b[1;33m(\u001b[0m\u001b[0mdf5\u001b[0m\u001b[1;33m[\u001b[0m\u001b[1;33m[\u001b[0m\u001b[1;34m'invoice_freq'\u001b[0m\u001b[1;33m]\u001b[0m\u001b[1;33m]\u001b[0m\u001b[1;33m)\u001b[0m\u001b[1;33m\u001b[0m\u001b[1;33m\u001b[0m\u001b[0m\n\u001b[0m\u001b[0;32m      6\u001b[0m \u001b[0mdf5\u001b[0m\u001b[1;33m[\u001b[0m\u001b[1;34m'avg_ticket'\u001b[0m\u001b[1;33m]\u001b[0m \u001b[1;33m=\u001b[0m \u001b[0mss\u001b[0m\u001b[1;33m.\u001b[0m\u001b[0mfit_transform\u001b[0m\u001b[1;33m(\u001b[0m\u001b[0mdf5\u001b[0m\u001b[1;33m[\u001b[0m\u001b[1;33m[\u001b[0m\u001b[1;34m'avg_ticket'\u001b[0m\u001b[1;33m]\u001b[0m\u001b[1;33m]\u001b[0m\u001b[1;33m)\u001b[0m\u001b[1;33m\u001b[0m\u001b[1;33m\u001b[0m\u001b[0m\n\u001b[0;32m      7\u001b[0m \u001b[1;31m#df5['returns'] = ss.fit_transform(df5[['returns']])\u001b[0m\u001b[1;33m\u001b[0m\u001b[1;33m\u001b[0m\u001b[1;33m\u001b[0m\u001b[0m\n",
      "\u001b[1;32m~\\Documents\\anaconda3\\envs\\pa005_customerclustering\\lib\\site-packages\\pandas\\core\\frame.py\u001b[0m in \u001b[0;36m__getitem__\u001b[1;34m(self, key)\u001b[0m\n\u001b[0;32m   3028\u001b[0m             \u001b[1;32mif\u001b[0m \u001b[0mis_iterator\u001b[0m\u001b[1;33m(\u001b[0m\u001b[0mkey\u001b[0m\u001b[1;33m)\u001b[0m\u001b[1;33m:\u001b[0m\u001b[1;33m\u001b[0m\u001b[1;33m\u001b[0m\u001b[0m\n\u001b[0;32m   3029\u001b[0m                 \u001b[0mkey\u001b[0m \u001b[1;33m=\u001b[0m \u001b[0mlist\u001b[0m\u001b[1;33m(\u001b[0m\u001b[0mkey\u001b[0m\u001b[1;33m)\u001b[0m\u001b[1;33m\u001b[0m\u001b[1;33m\u001b[0m\u001b[0m\n\u001b[1;32m-> 3030\u001b[1;33m             \u001b[0mindexer\u001b[0m \u001b[1;33m=\u001b[0m \u001b[0mself\u001b[0m\u001b[1;33m.\u001b[0m\u001b[0mloc\u001b[0m\u001b[1;33m.\u001b[0m\u001b[0m_get_listlike_indexer\u001b[0m\u001b[1;33m(\u001b[0m\u001b[0mkey\u001b[0m\u001b[1;33m,\u001b[0m \u001b[0maxis\u001b[0m\u001b[1;33m=\u001b[0m\u001b[1;36m1\u001b[0m\u001b[1;33m,\u001b[0m \u001b[0mraise_missing\u001b[0m\u001b[1;33m=\u001b[0m\u001b[1;32mTrue\u001b[0m\u001b[1;33m)\u001b[0m\u001b[1;33m[\u001b[0m\u001b[1;36m1\u001b[0m\u001b[1;33m]\u001b[0m\u001b[1;33m\u001b[0m\u001b[1;33m\u001b[0m\u001b[0m\n\u001b[0m\u001b[0;32m   3031\u001b[0m \u001b[1;33m\u001b[0m\u001b[0m\n\u001b[0;32m   3032\u001b[0m         \u001b[1;31m# take() does not accept boolean indexers\u001b[0m\u001b[1;33m\u001b[0m\u001b[1;33m\u001b[0m\u001b[1;33m\u001b[0m\u001b[0m\n",
      "\u001b[1;32m~\\Documents\\anaconda3\\envs\\pa005_customerclustering\\lib\\site-packages\\pandas\\core\\indexing.py\u001b[0m in \u001b[0;36m_get_listlike_indexer\u001b[1;34m(self, key, axis, raise_missing)\u001b[0m\n\u001b[0;32m   1264\u001b[0m             \u001b[0mkeyarr\u001b[0m\u001b[1;33m,\u001b[0m \u001b[0mindexer\u001b[0m\u001b[1;33m,\u001b[0m \u001b[0mnew_indexer\u001b[0m \u001b[1;33m=\u001b[0m \u001b[0max\u001b[0m\u001b[1;33m.\u001b[0m\u001b[0m_reindex_non_unique\u001b[0m\u001b[1;33m(\u001b[0m\u001b[0mkeyarr\u001b[0m\u001b[1;33m)\u001b[0m\u001b[1;33m\u001b[0m\u001b[1;33m\u001b[0m\u001b[0m\n\u001b[0;32m   1265\u001b[0m \u001b[1;33m\u001b[0m\u001b[0m\n\u001b[1;32m-> 1266\u001b[1;33m         \u001b[0mself\u001b[0m\u001b[1;33m.\u001b[0m\u001b[0m_validate_read_indexer\u001b[0m\u001b[1;33m(\u001b[0m\u001b[0mkeyarr\u001b[0m\u001b[1;33m,\u001b[0m \u001b[0mindexer\u001b[0m\u001b[1;33m,\u001b[0m \u001b[0maxis\u001b[0m\u001b[1;33m,\u001b[0m \u001b[0mraise_missing\u001b[0m\u001b[1;33m=\u001b[0m\u001b[0mraise_missing\u001b[0m\u001b[1;33m)\u001b[0m\u001b[1;33m\u001b[0m\u001b[1;33m\u001b[0m\u001b[0m\n\u001b[0m\u001b[0;32m   1267\u001b[0m         \u001b[1;32mreturn\u001b[0m \u001b[0mkeyarr\u001b[0m\u001b[1;33m,\u001b[0m \u001b[0mindexer\u001b[0m\u001b[1;33m\u001b[0m\u001b[1;33m\u001b[0m\u001b[0m\n\u001b[0;32m   1268\u001b[0m \u001b[1;33m\u001b[0m\u001b[0m\n",
      "\u001b[1;32m~\\Documents\\anaconda3\\envs\\pa005_customerclustering\\lib\\site-packages\\pandas\\core\\indexing.py\u001b[0m in \u001b[0;36m_validate_read_indexer\u001b[1;34m(self, key, indexer, axis, raise_missing)\u001b[0m\n\u001b[0;32m   1306\u001b[0m             \u001b[1;32mif\u001b[0m \u001b[0mmissing\u001b[0m \u001b[1;33m==\u001b[0m \u001b[0mlen\u001b[0m\u001b[1;33m(\u001b[0m\u001b[0mindexer\u001b[0m\u001b[1;33m)\u001b[0m\u001b[1;33m:\u001b[0m\u001b[1;33m\u001b[0m\u001b[1;33m\u001b[0m\u001b[0m\n\u001b[0;32m   1307\u001b[0m                 \u001b[0maxis_name\u001b[0m \u001b[1;33m=\u001b[0m \u001b[0mself\u001b[0m\u001b[1;33m.\u001b[0m\u001b[0mobj\u001b[0m\u001b[1;33m.\u001b[0m\u001b[0m_get_axis_name\u001b[0m\u001b[1;33m(\u001b[0m\u001b[0maxis\u001b[0m\u001b[1;33m)\u001b[0m\u001b[1;33m\u001b[0m\u001b[1;33m\u001b[0m\u001b[0m\n\u001b[1;32m-> 1308\u001b[1;33m                 \u001b[1;32mraise\u001b[0m \u001b[0mKeyError\u001b[0m\u001b[1;33m(\u001b[0m\u001b[1;34mf\"None of [{key}] are in the [{axis_name}]\"\u001b[0m\u001b[1;33m)\u001b[0m\u001b[1;33m\u001b[0m\u001b[1;33m\u001b[0m\u001b[0m\n\u001b[0m\u001b[0;32m   1309\u001b[0m \u001b[1;33m\u001b[0m\u001b[0m\n\u001b[0;32m   1310\u001b[0m             \u001b[0max\u001b[0m \u001b[1;33m=\u001b[0m \u001b[0mself\u001b[0m\u001b[1;33m.\u001b[0m\u001b[0mobj\u001b[0m\u001b[1;33m.\u001b[0m\u001b[0m_get_axis\u001b[0m\u001b[1;33m(\u001b[0m\u001b[0maxis\u001b[0m\u001b[1;33m)\u001b[0m\u001b[1;33m\u001b[0m\u001b[1;33m\u001b[0m\u001b[0m\n",
      "\u001b[1;31mKeyError\u001b[0m: \"None of [Index(['invoice_freq'], dtype='object')] are in the [columns]\""
     ]
    }
   ],
   "source": [
    "ss = pp.StandardScaler()\n",
    "\n",
    "df5['gross_revenue'] = ss.fit_transform(df5[['gross_revenue']])\n",
    "df5['recency_days'] = ss.fit_transform(df5[['recency_days']])\n",
    "df5['invoice_freq'] = ss.fit_transform(df5[['invoice_freq']])\n",
    "df5['avg_ticket'] = ss.fit_transform(df5[['avg_ticket']])\n",
    "#df5['returns'] = ss.fit_transform(df5[['returns']])"
   ]
  },
  {
   "cell_type": "code",
   "execution_count": 67,
   "id": "dental-alias",
   "metadata": {
    "ExecuteTime": {
     "end_time": "2021-06-08T18:49:08.145569Z",
     "start_time": "2021-06-08T18:49:08.133558Z"
    },
    "hidden": true,
    "scrolled": true
   },
   "outputs": [],
   "source": [
    "# ss = pp.MinMaxScaler()\n",
    "\n",
    "# df5['gross_revenue'] = ss.fit_transform(df5[['gross_revenue']])\n",
    "# df5['recency_days'] = ss.fit_transform(df5[['recency_days']])\n",
    "# df5['invoice_freq'] = ss.fit_transform(df5[['invoice_freq']])\n",
    "# df5['avg_ticket'] = ss.fit_transform(df5[['avg_ticket']])\n",
    "# #df5['returns'] = ss.fit_transform(df5[['returns']])"
   ]
  },
  {
   "cell_type": "code",
   "execution_count": 68,
   "id": "least-wound",
   "metadata": {
    "ExecuteTime": {
     "end_time": "2021-06-08T18:49:08.590973Z",
     "start_time": "2021-06-08T18:49:08.572957Z"
    },
    "hidden": true,
    "scrolled": true
   },
   "outputs": [
    {
     "data": {
      "text/html": [
       "<div>\n",
       "<style scoped>\n",
       "    .dataframe tbody tr th:only-of-type {\n",
       "        vertical-align: middle;\n",
       "    }\n",
       "\n",
       "    .dataframe tbody tr th {\n",
       "        vertical-align: top;\n",
       "    }\n",
       "\n",
       "    .dataframe thead th {\n",
       "        text-align: right;\n",
       "    }\n",
       "</style>\n",
       "<table border=\"1\" class=\"dataframe\">\n",
       "  <thead>\n",
       "    <tr style=\"text-align: right;\">\n",
       "      <th></th>\n",
       "      <th>customer_id</th>\n",
       "      <th>gross_revenue</th>\n",
       "      <th>recency_days</th>\n",
       "      <th>qty_baskets</th>\n",
       "      <th>qty_items</th>\n",
       "      <th>qty_stockcode</th>\n",
       "      <th>avg_ticket</th>\n",
       "      <th>avg_recency_days</th>\n",
       "      <th>frequency</th>\n",
       "      <th>qty_prod_returns</th>\n",
       "      <th>avg_basket_size</th>\n",
       "      <th>avg_unique_products</th>\n",
       "    </tr>\n",
       "  </thead>\n",
       "  <tbody>\n",
       "    <tr>\n",
       "      <th>0</th>\n",
       "      <td>17850</td>\n",
       "      <td>0.25</td>\n",
       "      <td>3.96</td>\n",
       "      <td>34.00</td>\n",
       "      <td>1,733.00</td>\n",
       "      <td>297.00</td>\n",
       "      <td>18.15</td>\n",
       "      <td>35.50</td>\n",
       "      <td>17.00</td>\n",
       "      <td>40.00</td>\n",
       "      <td>50.97</td>\n",
       "      <td>8.74</td>\n",
       "    </tr>\n",
       "    <tr>\n",
       "      <th>1</th>\n",
       "      <td>13047</td>\n",
       "      <td>0.05</td>\n",
       "      <td>-0.11</td>\n",
       "      <td>9.00</td>\n",
       "      <td>1,390.00</td>\n",
       "      <td>171.00</td>\n",
       "      <td>18.90</td>\n",
       "      <td>27.25</td>\n",
       "      <td>0.03</td>\n",
       "      <td>35.00</td>\n",
       "      <td>154.44</td>\n",
       "      <td>19.00</td>\n",
       "    </tr>\n",
       "    <tr>\n",
       "      <th>2</th>\n",
       "      <td>12583</td>\n",
       "      <td>0.37</td>\n",
       "      <td>-0.80</td>\n",
       "      <td>15.00</td>\n",
       "      <td>5,028.00</td>\n",
       "      <td>232.00</td>\n",
       "      <td>28.90</td>\n",
       "      <td>23.19</td>\n",
       "      <td>0.04</td>\n",
       "      <td>50.00</td>\n",
       "      <td>335.20</td>\n",
       "      <td>15.47</td>\n",
       "    </tr>\n",
       "    <tr>\n",
       "      <th>3</th>\n",
       "      <td>13748</td>\n",
       "      <td>-0.17</td>\n",
       "      <td>0.40</td>\n",
       "      <td>5.00</td>\n",
       "      <td>439.00</td>\n",
       "      <td>28.00</td>\n",
       "      <td>33.87</td>\n",
       "      <td>92.67</td>\n",
       "      <td>0.02</td>\n",
       "      <td>0.00</td>\n",
       "      <td>87.80</td>\n",
       "      <td>5.60</td>\n",
       "    </tr>\n",
       "    <tr>\n",
       "      <th>4</th>\n",
       "      <td>15100</td>\n",
       "      <td>-0.18</td>\n",
       "      <td>3.46</td>\n",
       "      <td>3.00</td>\n",
       "      <td>80.00</td>\n",
       "      <td>3.00</td>\n",
       "      <td>292.00</td>\n",
       "      <td>8.60</td>\n",
       "      <td>0.07</td>\n",
       "      <td>22.00</td>\n",
       "      <td>26.67</td>\n",
       "      <td>1.00</td>\n",
       "    </tr>\n",
       "  </tbody>\n",
       "</table>\n",
       "</div>"
      ],
      "text/plain": [
       "   customer_id  gross_revenue  recency_days  qty_baskets  qty_items  qty_stockcode  avg_ticket  avg_recency_days  frequency  qty_prod_returns  avg_basket_size  avg_unique_products\n",
       "0        17850           0.25          3.96        34.00   1,733.00         297.00       18.15             35.50      17.00             40.00            50.97                 8.74\n",
       "1        13047           0.05         -0.11         9.00   1,390.00         171.00       18.90             27.25       0.03             35.00           154.44                19.00\n",
       "2        12583           0.37         -0.80        15.00   5,028.00         232.00       28.90             23.19       0.04             50.00           335.20                15.47\n",
       "3        13748          -0.17          0.40         5.00     439.00          28.00       33.87             92.67       0.02              0.00            87.80                 5.60\n",
       "4        15100          -0.18          3.46         3.00      80.00           3.00      292.00              8.60       0.07             22.00            26.67                 1.00"
      ]
     },
     "execution_count": 68,
     "metadata": {},
     "output_type": "execute_result"
    }
   ],
   "source": [
    "df5.head()"
   ]
  },
  {
   "cell_type": "markdown",
   "id": "incorporated-brass",
   "metadata": {
    "heading_collapsed": true
   },
   "source": [
    "# Feature Selection"
   ]
  },
  {
   "cell_type": "code",
   "execution_count": null,
   "id": "competitive-society",
   "metadata": {
    "ExecuteTime": {
     "end_time": "2021-06-08T18:18:38.240469Z",
     "start_time": "2021-06-08T18:17:41.840Z"
    },
    "hidden": true,
    "scrolled": true
   },
   "outputs": [],
   "source": [
    "df6 = df5.copy()"
   ]
  },
  {
   "cell_type": "markdown",
   "id": "double-audience",
   "metadata": {
    "heading_collapsed": true
   },
   "source": [
    "# Hypermarameter Fine-Tunning"
   ]
  },
  {
   "cell_type": "code",
   "execution_count": null,
   "id": "transsexual-likelihood",
   "metadata": {
    "ExecuteTime": {
     "end_time": "2021-06-08T18:18:38.240469Z",
     "start_time": "2021-06-08T18:17:41.842Z"
    },
    "hidden": true,
    "scrolled": true
   },
   "outputs": [],
   "source": [
    "df7 = df6.copy()\n",
    "X =df7.drop(columns=['customer_id'])\n",
    "X.head()"
   ]
  },
  {
   "cell_type": "code",
   "execution_count": null,
   "id": "proof-booking",
   "metadata": {
    "ExecuteTime": {
     "end_time": "2021-06-08T18:18:38.241470Z",
     "start_time": "2021-06-08T18:17:41.844Z"
    },
    "hidden": true,
    "scrolled": true
   },
   "outputs": [],
   "source": [
    "clusters = [2,3,4,5,6,7]"
   ]
  },
  {
   "cell_type": "markdown",
   "id": "faced-hazard",
   "metadata": {
    "ExecuteTime": {
     "end_time": "2021-05-10T22:06:18.835557Z",
     "start_time": "2021-05-10T22:06:18.827550Z"
    },
    "heading_collapsed": true,
    "hidden": true
   },
   "source": [
    "## Within-Cluster Sum of Square (WSS)"
   ]
  },
  {
   "cell_type": "code",
   "execution_count": null,
   "id": "critical-korean",
   "metadata": {
    "ExecuteTime": {
     "end_time": "2021-06-08T18:18:38.241470Z",
     "start_time": "2021-06-08T18:17:41.846Z"
    },
    "cell_style": "center",
    "code_folding": [
     2
    ],
    "hidden": true,
    "scrolled": true
   },
   "outputs": [],
   "source": [
    "wss = []\n",
    "\n",
    "for k in clusters:\n",
    "    # model definition\n",
    "    kmeans = c.KMeans (init='random', \n",
    "                       n_clusters=k, \n",
    "                       n_init=10, #init random inicia o centroide aleatoriamente, n_init \n",
    "                       max_iter = 300, \n",
    "                       random_state =42) # random state define um estado aleatório fixo\n",
    "    \n",
    "    # model training\n",
    "    kmeans.fit( X )\n",
    "    \n",
    "    # validation\n",
    "    wss.append(kmeans.inertia_) # generates a wss value for each k\n",
    "    \n",
    "# wss plot - elbow method\n",
    "plt.plot (clusters, wss, linestyle='--', marker='o', color='b')\n",
    "plt.xlabel('K')\n",
    "plt.ylabel('Within-Cluster Sum of Square')\n",
    "plt.title('WSS vs. K')\n",
    "\n",
    "print(wss)"
   ]
  },
  {
   "cell_type": "markdown",
   "id": "stretch-worth",
   "metadata": {
    "cell_style": "center",
    "heading_collapsed": true,
    "hidden": true
   },
   "source": [
    "## Within-Cluster Sum of Square (WSS) vs. Silhouette Score"
   ]
  },
  {
   "cell_type": "code",
   "execution_count": null,
   "id": "understood-boundary",
   "metadata": {
    "ExecuteTime": {
     "end_time": "2021-06-08T18:18:38.242471Z",
     "start_time": "2021-06-08T18:17:41.848Z"
    },
    "cell_style": "split",
    "code_folding": [],
    "hidden": true,
    "scrolled": true
   },
   "outputs": [],
   "source": [
    "# yellow brick\n",
    "\n",
    "kmeans_y= KElbowVisualizer(c.KMeans(), k=clusters, timings=False);\n",
    "kmeans_y.fit(X);\n",
    "kmeans_y.show();"
   ]
  },
  {
   "cell_type": "code",
   "execution_count": null,
   "id": "requested-dressing",
   "metadata": {
    "ExecuteTime": {
     "end_time": "2021-06-08T18:18:38.243471Z",
     "start_time": "2021-06-08T18:17:41.849Z"
    },
    "cell_style": "split",
    "hidden": true,
    "scrolled": true
   },
   "outputs": [],
   "source": [
    "# yellow brick\n",
    "\n",
    "kmeans_y= KElbowVisualizer(c.KMeans(), k=clusters, metric='silhouette', timings=False);\n",
    "kmeans_y.fit(X);\n",
    "kmeans_y.show();\n"
   ]
  },
  {
   "cell_type": "markdown",
   "id": "quiet-swedish",
   "metadata": {
    "heading_collapsed": true,
    "hidden": true
   },
   "source": [
    "## Silhouette Analysis"
   ]
  },
  {
   "cell_type": "code",
   "execution_count": null,
   "id": "limited-shame",
   "metadata": {
    "ExecuteTime": {
     "end_time": "2021-06-08T18:18:38.243471Z",
     "start_time": "2021-06-08T18:17:41.851Z"
    },
    "hidden": true,
    "scrolled": true
   },
   "outputs": [],
   "source": [
    "# divmod input parameters are numerator and denomitor\n",
    "# divmod outputs are quotient and remainder\n",
    "x,y=divmod(5,2)\n",
    "print(x,y)"
   ]
  },
  {
   "cell_type": "code",
   "execution_count": null,
   "id": "developing-massage",
   "metadata": {
    "ExecuteTime": {
     "end_time": "2021-06-08T18:18:38.244472Z",
     "start_time": "2021-06-08T18:17:41.853Z"
    },
    "hidden": true,
    "scrolled": true
   },
   "outputs": [],
   "source": [
    "fig, ax = plt.subplots(3,2, figsize=(25,18))\n",
    "\n",
    "for k in clusters:\n",
    "    km = c.KMeans (n_clusters=k, init='random', n_init=10, max_iter=100, random_state=42)\n",
    "    q, r = divmod(k,2)\n",
    "    visualizer = SilhouetteVisualizer(km, colors='yellowbrick',ax=ax[q-1][r])\n",
    "    visualizer.fit(X)\n",
    "    visualizer.finalize()"
   ]
  },
  {
   "cell_type": "markdown",
   "id": "white-overall",
   "metadata": {
    "heading_collapsed": true
   },
   "source": [
    "# Model training"
   ]
  },
  {
   "cell_type": "code",
   "execution_count": null,
   "id": "polished-insured",
   "metadata": {
    "ExecuteTime": {
     "end_time": "2021-06-08T18:18:38.244472Z",
     "start_time": "2021-06-08T18:17:41.855Z"
    },
    "hidden": true,
    "scrolled": true
   },
   "outputs": [],
   "source": [
    "df8 = df7.copy()"
   ]
  },
  {
   "cell_type": "markdown",
   "id": "increasing-stomach",
   "metadata": {
    "heading_collapsed": true,
    "hidden": true
   },
   "source": [
    "## K-Means"
   ]
  },
  {
   "cell_type": "code",
   "execution_count": null,
   "id": "hispanic-residence",
   "metadata": {
    "ExecuteTime": {
     "end_time": "2021-06-08T18:18:38.245473Z",
     "start_time": "2021-06-08T18:17:41.857Z"
    },
    "hidden": true,
    "scrolled": true
   },
   "outputs": [],
   "source": [
    "# model definition\n",
    "k = 3\n",
    "kmeans = c.KMeans(init='random', n_clusters=k, n_init=10, max_iter=300, random_state=42)\n",
    "\n",
    "# model training\n",
    "kmeans.fit(X)\n",
    "\n",
    "# model clustering\n",
    "# labels = kmeans.predict(X) # outra maneira de fazer\n",
    "labels = kmeans.labels_\n",
    "print(labels)"
   ]
  },
  {
   "cell_type": "markdown",
   "id": "average-sally",
   "metadata": {
    "heading_collapsed": true,
    "hidden": true
   },
   "source": [
    "## Cluster Validation"
   ]
  },
  {
   "cell_type": "code",
   "execution_count": null,
   "id": "packed-faculty",
   "metadata": {
    "ExecuteTime": {
     "end_time": "2021-06-08T18:18:38.245473Z",
     "start_time": "2021-06-08T18:17:41.860Z"
    },
    "hidden": true,
    "scrolled": true
   },
   "outputs": [],
   "source": [
    "# WSS \n",
    "print('WSS value: {}'.format(kmeans.inertia_))\n",
    "\n",
    "# SS \n",
    "print('SS value:  {}'.format(m.silhouette_score(X, labels, metric='euclidean')))"
   ]
  },
  {
   "cell_type": "markdown",
   "id": "wrapped-victorian",
   "metadata": {
    "heading_collapsed": true
   },
   "source": [
    "# Cluster Analysis"
   ]
  },
  {
   "cell_type": "code",
   "execution_count": null,
   "id": "ignored-speaking",
   "metadata": {
    "ExecuteTime": {
     "end_time": "2021-06-08T18:18:38.246474Z",
     "start_time": "2021-06-08T18:17:41.862Z"
    },
    "hidden": true,
    "scrolled": true
   },
   "outputs": [],
   "source": [
    "df9 = df8.copy()\n",
    "df9['cluster']=labels\n",
    "df9.head()"
   ]
  },
  {
   "cell_type": "markdown",
   "id": "senior-finnish",
   "metadata": {
    "ExecuteTime": {
     "end_time": "2021-05-13T22:54:18.054519Z",
     "start_time": "2021-05-13T22:54:18.048514Z"
    },
    "heading_collapsed": true,
    "hidden": true
   },
   "source": [
    "## Visualization Inspection"
   ]
  },
  {
   "cell_type": "code",
   "execution_count": null,
   "id": "animated-grammar",
   "metadata": {
    "ExecuteTime": {
     "end_time": "2021-06-08T18:18:38.247475Z",
     "start_time": "2021-06-08T18:17:41.864Z"
    },
    "hidden": true,
    "scrolled": true
   },
   "outputs": [],
   "source": [
    "visualizer = SilhouetteVisualizer(kmeans, colors='yellowbrick')\n",
    "visualizer.fit(X)\n",
    "visualizer.finalize()\n"
   ]
  },
  {
   "cell_type": "markdown",
   "id": "aware-price",
   "metadata": {
    "heading_collapsed": true,
    "hidden": true
   },
   "source": [
    "## 2d Plot"
   ]
  },
  {
   "cell_type": "code",
   "execution_count": null,
   "id": "governing-starter",
   "metadata": {
    "ExecuteTime": {
     "end_time": "2021-06-08T18:18:38.247475Z",
     "start_time": "2021-06-08T18:17:41.866Z"
    },
    "hidden": true,
    "scrolled": true
   },
   "outputs": [],
   "source": [
    "df9.head()"
   ]
  },
  {
   "cell_type": "code",
   "execution_count": null,
   "id": "based-supplier",
   "metadata": {
    "ExecuteTime": {
     "end_time": "2021-06-08T18:18:38.248476Z",
     "start_time": "2021-06-08T18:17:41.868Z"
    },
    "hidden": true,
    "scrolled": true
   },
   "outputs": [],
   "source": [
    "# df_viz = df9.drop(columns='customer_id', axis=1)\n",
    "# sns.pairplot(df_viz, hue='cluster')"
   ]
  },
  {
   "cell_type": "markdown",
   "id": "exciting-ecology",
   "metadata": {
    "heading_collapsed": true,
    "hidden": true
   },
   "source": [
    "## UMAP"
   ]
  },
  {
   "cell_type": "code",
   "execution_count": null,
   "id": "hungry-technical",
   "metadata": {
    "ExecuteTime": {
     "end_time": "2021-06-08T18:18:38.249477Z",
     "start_time": "2021-06-08T18:17:41.870Z"
    },
    "hidden": true,
    "scrolled": true
   },
   "outputs": [],
   "source": [
    "X.head()"
   ]
  },
  {
   "cell_type": "code",
   "execution_count": null,
   "id": "associate-education",
   "metadata": {
    "ExecuteTime": {
     "end_time": "2021-06-08T18:18:38.249477Z",
     "start_time": "2021-06-08T18:17:41.872Z"
    },
    "hidden": true,
    "scrolled": true
   },
   "outputs": [],
   "source": [
    "reducer = umap.UMAP (n_neighbors=40, random_state=42) # n_neighbors = altera a visualização do cluster, meio que \"zoom in/zoom out\"\n",
    "embedding = reducer.fit_transform(X)"
   ]
  },
  {
   "cell_type": "code",
   "execution_count": null,
   "id": "unexpected-trust",
   "metadata": {
    "ExecuteTime": {
     "end_time": "2021-06-08T18:18:38.250478Z",
     "start_time": "2021-06-08T18:17:41.873Z"
    },
    "hidden": true,
    "scrolled": true
   },
   "outputs": [],
   "source": [
    "# embedding\n",
    "df_viz['embedding_x'] = embedding[:,0]\n",
    "df_viz['embedding_y'] = embedding[:,1]\n",
    "\n",
    "# plot UMAP\n",
    "sns.scatterplot(x='embedding_x', y='embedding_y',\n",
    "                hue='cluster',\n",
    "                palette=sns.color_palette('hls', n_colors=len(df_viz['cluster'].unique())),\n",
    "                data=df_viz)"
   ]
  },
  {
   "cell_type": "markdown",
   "id": "original-belarus",
   "metadata": {
    "heading_collapsed": true,
    "hidden": true
   },
   "source": [
    "## Cluster Profile"
   ]
  },
  {
   "cell_type": "code",
   "execution_count": null,
   "id": "psychological-advantage",
   "metadata": {
    "ExecuteTime": {
     "end_time": "2021-06-08T18:18:38.251478Z",
     "start_time": "2021-06-08T18:17:41.876Z"
    },
    "hidden": true,
    "scrolled": true
   },
   "outputs": [],
   "source": [
    "df9.head()"
   ]
  },
  {
   "cell_type": "code",
   "execution_count": null,
   "id": "destroyed-directory",
   "metadata": {
    "ExecuteTime": {
     "end_time": "2021-06-08T18:18:38.251478Z",
     "start_time": "2021-06-08T18:17:41.877Z"
    },
    "hidden": true,
    "scrolled": true
   },
   "outputs": [],
   "source": [
    "# number of customers on each cluster\n",
    "df_cluster = df9[['customer_id','cluster']].groupby('cluster').count().reset_index()\n",
    "df_cluster['customer_percentage'] = (df_cluster['customer_id'] / df_cluster['customer_id'].sum())*100\n",
    "\n",
    "# avg gross_revenue\n",
    "df_avg_grossrevenue = df9[['gross_revenue','cluster']].groupby('cluster').mean().reset_index()\n",
    "df_cluster = pd.merge(df_cluster, df_avg_grossrevenue, how='inner', on='cluster')\n",
    "\n",
    "# avg recency_days\n",
    "df_avg_recencydays = df9[['recency_days','cluster']].groupby('cluster').mean().reset_index()\n",
    "df_cluster = pd.merge(df_cluster, df_avg_recencydays, how='inner', on='cluster')\n",
    "\n",
    "# avg incoive_freq\n",
    "df_avg_invoicefreq = df9[['invoice_freq','cluster']].groupby('cluster').mean().reset_index()\n",
    "df_cluster = pd.merge(df_cluster, df_avg_invoicefreq, how='inner', on='cluster')\n",
    "\n",
    "#avg ticket\n",
    "df_avg_ticket = df9[['avg_ticket','cluster']].groupby('cluster').mean().reset_index()\n",
    "df_cluster = pd.merge(df_cluster, df_avg_ticket, how='inner', on='cluster')\n",
    "\n",
    "df_cluster"
   ]
  },
  {
   "cell_type": "markdown",
   "id": "processed-geometry",
   "metadata": {
    "ExecuteTime": {
     "end_time": "2021-05-13T21:38:45.906893Z",
     "start_time": "2021-05-13T21:38:45.896884Z"
    },
    "heading_collapsed": true,
    "hidden": true
   },
   "source": [
    "### Cluster 01:  ( Candidato à Insider ) ** ATUALIZAR **\n",
    "    - Número de customers: 6 (0.14% do customers )\n",
    "    - Recência em média: 7 dias\n",
    "    - Compras em média: 89 compras\n",
    "    - Receita em média: $182.182,00 dólares\n",
    "        \n",
    "### Cluster 02:\n",
    "    - Número de customers: 31 (0.71% do customers )\n",
    "    - Recência em média: 14 dias\n",
    "    - Compras em média: 53 compras\n",
    "    - Receita em média: $40.543,52 dólares\n",
    "\n",
    "### Cluster 00:\n",
    "    - Número de customers: 4.335 (99% do customers )\n",
    "    - Recência em média: 92 dias\n",
    "    - Compras em média: 5 compras\n",
    "    - Receita em média: $1.372,57 dólares"
   ]
  },
  {
   "cell_type": "code",
   "execution_count": null,
   "id": "natural-contributor",
   "metadata": {
    "hidden": true,
    "scrolled": true
   },
   "outputs": [],
   "source": []
  },
  {
   "cell_type": "markdown",
   "id": "hindu-congo",
   "metadata": {
    "heading_collapsed": true
   },
   "source": [
    "# Deploy to Production"
   ]
  },
  {
   "cell_type": "code",
   "execution_count": null,
   "id": "honest-south",
   "metadata": {
    "hidden": true,
    "scrolled": true
   },
   "outputs": [],
   "source": []
  },
  {
   "cell_type": "code",
   "execution_count": null,
   "id": "alpha-bathroom",
   "metadata": {
    "hidden": true,
    "scrolled": true
   },
   "outputs": [],
   "source": []
  }
 ],
 "metadata": {
  "hide_input": false,
  "kernelspec": {
   "display_name": "Python 3",
   "language": "python",
   "name": "python3"
  },
  "language_info": {
   "codemirror_mode": {
    "name": "ipython",
    "version": 3
   },
   "file_extension": ".py",
   "mimetype": "text/x-python",
   "name": "python",
   "nbconvert_exporter": "python",
   "pygments_lexer": "ipython3",
   "version": "3.9.1"
  },
  "notify_time": "10",
  "toc": {
   "base_numbering": "0",
   "nav_menu": {
    "height": "298.993px",
    "width": "160px"
   },
   "number_sections": true,
   "sideBar": false,
   "skip_h1_title": false,
   "title_cell": "Table of Contents",
   "title_sidebar": "Contents",
   "toc_cell": false,
   "toc_position": {
    "height": "375px",
    "left": "1333.78px",
    "top": "110.284px",
    "width": "350.994px"
   },
   "toc_section_display": true,
   "toc_window_display": true
  },
  "varInspector": {
   "cols": {
    "lenName": 16,
    "lenType": 16,
    "lenVar": 40
   },
   "kernels_config": {
    "python": {
     "delete_cmd_postfix": "",
     "delete_cmd_prefix": "del ",
     "library": "var_list.py",
     "varRefreshCmd": "print(var_dic_list())"
    },
    "r": {
     "delete_cmd_postfix": ") ",
     "delete_cmd_prefix": "rm(",
     "library": "var_list.r",
     "varRefreshCmd": "cat(var_dic_list()) "
    }
   },
   "oldHeight": 201,
   "position": {
    "height": "586px",
    "left": "865px",
    "right": "20px",
    "top": "115px",
    "width": "400px"
   },
   "types_to_exclude": [
    "module",
    "function",
    "builtin_function_or_method",
    "instance",
    "_Feature"
   ],
   "varInspector_section_display": "block",
   "window_display": true
  }
 },
 "nbformat": 4,
 "nbformat_minor": 5
}
