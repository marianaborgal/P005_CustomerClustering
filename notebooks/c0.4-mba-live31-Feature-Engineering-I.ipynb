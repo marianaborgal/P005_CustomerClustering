{
 "cells": [
  {
   "cell_type": "code",
   "execution_count": null,
   "id": "premier-output",
   "metadata": {},
   "outputs": [],
   "source": []
  },
  {
   "cell_type": "markdown",
   "id": "specified-terry",
   "metadata": {
    "heading_collapsed": true
   },
   "source": [
    "# Imports"
   ]
  },
  {
   "cell_type": "code",
   "execution_count": 94,
   "id": "collected-costa",
   "metadata": {
    "ExecuteTime": {
     "end_time": "2021-05-27T22:20:02.713964Z",
     "start_time": "2021-05-27T22:20:02.695948Z"
    },
    "hidden": true
   },
   "outputs": [],
   "source": [
    "import numpy      as np\n",
    "import regex      as re\n",
    "import pandas     as pd\n",
    "import seaborn    as sns\n",
    "import umap.umap_ as umap\n",
    "\n",
    "from plotly              import express         as px\n",
    "from sklearn             import cluster         as c\n",
    "from sklearn             import preprocessing   as pp\n",
    "from sklearn             import metrics         as m\n",
    "from matplotlib          import pyplot          as plt\n",
    "from IPython.display     import HTML\n",
    "from yellowbrick.cluster import KElbowVisualizer, SilhouetteVisualizer\n",
    "from pandas_profiling    import ProfileReport"
   ]
  },
  {
   "cell_type": "markdown",
   "id": "ranking-irrigation",
   "metadata": {
    "heading_collapsed": true,
    "hidden": true
   },
   "source": [
    "## Helper Functions"
   ]
  },
  {
   "cell_type": "code",
   "execution_count": 2,
   "id": "reverse-johnston",
   "metadata": {
    "ExecuteTime": {
     "end_time": "2021-05-27T20:56:39.459799Z",
     "start_time": "2021-05-27T20:56:39.453794Z"
    },
    "hidden": true
   },
   "outputs": [
    {
     "data": {
      "text/html": [
       "<style>.container { width:100% !important; }</style>"
      ],
      "text/plain": [
       "<IPython.core.display.HTML object>"
      ]
     },
     "metadata": {},
     "output_type": "display_data"
    }
   ],
   "source": [
    "def jupyter_settings():\n",
    "#     %matplotlib inline\n",
    "#     %pylab inline\n",
    "#     %config InlineBackend.figure_format = 'retina'\n",
    "\n",
    "    plt.style.use('ggplot')\n",
    "    plt.rcParams['figure.figsize'] = [15, 7]\n",
    "    plt.rcParams['font.size'] = 24\n",
    "\n",
    "    display(HTML('<style>.container { width:100% !important; }</style>'))\n",
    "    pd.options.display.max_columns = None\n",
    "    pd.options.display.max_rows = None\n",
    "    pd.options.display.float_format = '{:,.2f}'.format\n",
    "    pd.set_option('display.expand_frame_repr', False)\n",
    "    pd.set_option('display.max_columns', None)\n",
    "    pd.set_option('display.max_rows', None)\n",
    "\n",
    "    sns.set()\n",
    "    \n",
    "jupyter_settings()"
   ]
  },
  {
   "cell_type": "markdown",
   "id": "raised-ordering",
   "metadata": {
    "heading_collapsed": true,
    "hidden": true
   },
   "source": [
    "## Load Dataset"
   ]
  },
  {
   "cell_type": "code",
   "execution_count": 3,
   "id": "registered-farming",
   "metadata": {
    "ExecuteTime": {
     "end_time": "2021-05-27T20:56:41.265437Z",
     "start_time": "2021-05-27T20:56:40.752973Z"
    },
    "hidden": true
   },
   "outputs": [],
   "source": [
    "df_raw = pd.read_csv(r'../data/raw/ecommerce.csv')"
   ]
  },
  {
   "cell_type": "code",
   "execution_count": 4,
   "id": "manual-shipping",
   "metadata": {
    "ExecuteTime": {
     "end_time": "2021-05-27T20:56:41.281451Z",
     "start_time": "2021-05-27T20:56:41.266438Z"
    },
    "hidden": true
   },
   "outputs": [
    {
     "data": {
      "text/html": [
       "<div>\n",
       "<style scoped>\n",
       "    .dataframe tbody tr th:only-of-type {\n",
       "        vertical-align: middle;\n",
       "    }\n",
       "\n",
       "    .dataframe tbody tr th {\n",
       "        vertical-align: top;\n",
       "    }\n",
       "\n",
       "    .dataframe thead th {\n",
       "        text-align: right;\n",
       "    }\n",
       "</style>\n",
       "<table border=\"1\" class=\"dataframe\">\n",
       "  <thead>\n",
       "    <tr style=\"text-align: right;\">\n",
       "      <th></th>\n",
       "      <th>InvoiceNo</th>\n",
       "      <th>StockCode</th>\n",
       "      <th>Description</th>\n",
       "      <th>Quantity</th>\n",
       "      <th>InvoiceDate</th>\n",
       "      <th>UnitPrice</th>\n",
       "      <th>CustomerID</th>\n",
       "      <th>Country</th>\n",
       "      <th>Unnamed: 8</th>\n",
       "    </tr>\n",
       "  </thead>\n",
       "  <tbody>\n",
       "    <tr>\n",
       "      <th>0</th>\n",
       "      <td>536365</td>\n",
       "      <td>85123A</td>\n",
       "      <td>WHITE HANGING HEART T-LIGHT HOLDER</td>\n",
       "      <td>6</td>\n",
       "      <td>29-Nov-16</td>\n",
       "      <td>2.55</td>\n",
       "      <td>17,850.00</td>\n",
       "      <td>United Kingdom</td>\n",
       "      <td>NaN</td>\n",
       "    </tr>\n",
       "    <tr>\n",
       "      <th>1</th>\n",
       "      <td>536365</td>\n",
       "      <td>71053</td>\n",
       "      <td>WHITE METAL LANTERN</td>\n",
       "      <td>6</td>\n",
       "      <td>29-Nov-16</td>\n",
       "      <td>3.39</td>\n",
       "      <td>17,850.00</td>\n",
       "      <td>United Kingdom</td>\n",
       "      <td>NaN</td>\n",
       "    </tr>\n",
       "    <tr>\n",
       "      <th>2</th>\n",
       "      <td>536365</td>\n",
       "      <td>84406B</td>\n",
       "      <td>CREAM CUPID HEARTS COAT HANGER</td>\n",
       "      <td>8</td>\n",
       "      <td>29-Nov-16</td>\n",
       "      <td>2.75</td>\n",
       "      <td>17,850.00</td>\n",
       "      <td>United Kingdom</td>\n",
       "      <td>NaN</td>\n",
       "    </tr>\n",
       "    <tr>\n",
       "      <th>3</th>\n",
       "      <td>536365</td>\n",
       "      <td>84029G</td>\n",
       "      <td>KNITTED UNION FLAG HOT WATER BOTTLE</td>\n",
       "      <td>6</td>\n",
       "      <td>29-Nov-16</td>\n",
       "      <td>3.39</td>\n",
       "      <td>17,850.00</td>\n",
       "      <td>United Kingdom</td>\n",
       "      <td>NaN</td>\n",
       "    </tr>\n",
       "    <tr>\n",
       "      <th>4</th>\n",
       "      <td>536365</td>\n",
       "      <td>84029E</td>\n",
       "      <td>RED WOOLLY HOTTIE WHITE HEART.</td>\n",
       "      <td>6</td>\n",
       "      <td>29-Nov-16</td>\n",
       "      <td>3.39</td>\n",
       "      <td>17,850.00</td>\n",
       "      <td>United Kingdom</td>\n",
       "      <td>NaN</td>\n",
       "    </tr>\n",
       "  </tbody>\n",
       "</table>\n",
       "</div>"
      ],
      "text/plain": [
       "  InvoiceNo StockCode                          Description  Quantity InvoiceDate  UnitPrice  CustomerID         Country  Unnamed: 8\n",
       "0    536365    85123A   WHITE HANGING HEART T-LIGHT HOLDER         6   29-Nov-16       2.55   17,850.00  United Kingdom         NaN\n",
       "1    536365     71053                  WHITE METAL LANTERN         6   29-Nov-16       3.39   17,850.00  United Kingdom         NaN\n",
       "2    536365    84406B       CREAM CUPID HEARTS COAT HANGER         8   29-Nov-16       2.75   17,850.00  United Kingdom         NaN\n",
       "3    536365    84029G  KNITTED UNION FLAG HOT WATER BOTTLE         6   29-Nov-16       3.39   17,850.00  United Kingdom         NaN\n",
       "4    536365    84029E       RED WOOLLY HOTTIE WHITE HEART.         6   29-Nov-16       3.39   17,850.00  United Kingdom         NaN"
      ]
     },
     "execution_count": 4,
     "metadata": {},
     "output_type": "execute_result"
    }
   ],
   "source": [
    "df_raw.head()"
   ]
  },
  {
   "cell_type": "code",
   "execution_count": 5,
   "id": "innovative-salmon",
   "metadata": {
    "ExecuteTime": {
     "end_time": "2021-05-27T20:56:41.537684Z",
     "start_time": "2021-05-27T20:56:41.512661Z"
    },
    "hidden": true
   },
   "outputs": [],
   "source": [
    "# drop 'unnamed: 8' column\n",
    "df_raw = df_raw.drop(columns=['Unnamed: 8'], axis =1)"
   ]
  },
  {
   "cell_type": "markdown",
   "id": "incorporated-casting",
   "metadata": {
    "ExecuteTime": {
     "end_time": "2021-05-10T20:38:59.394034Z",
     "start_time": "2021-05-10T20:38:59.382023Z"
    },
    "heading_collapsed": true
   },
   "source": [
    "# Data Description"
   ]
  },
  {
   "cell_type": "code",
   "execution_count": 6,
   "id": "minor-reservoir",
   "metadata": {
    "ExecuteTime": {
     "end_time": "2021-05-27T20:56:42.289366Z",
     "start_time": "2021-05-27T20:56:42.269348Z"
    },
    "hidden": true
   },
   "outputs": [],
   "source": [
    "df1 = df_raw.copy()"
   ]
  },
  {
   "cell_type": "markdown",
   "id": "floating-nigeria",
   "metadata": {
    "heading_collapsed": true,
    "hidden": true
   },
   "source": [
    "## Rename Columns"
   ]
  },
  {
   "cell_type": "code",
   "execution_count": 7,
   "id": "needed-husband",
   "metadata": {
    "ExecuteTime": {
     "end_time": "2021-05-27T20:56:42.960975Z",
     "start_time": "2021-05-27T20:56:42.944960Z"
    },
    "hidden": true
   },
   "outputs": [
    {
     "data": {
      "text/plain": [
       "Index(['InvoiceNo', 'StockCode', 'Description', 'Quantity', 'InvoiceDate',\n",
       "       'UnitPrice', 'CustomerID', 'Country'],\n",
       "      dtype='object')"
      ]
     },
     "execution_count": 7,
     "metadata": {},
     "output_type": "execute_result"
    }
   ],
   "source": [
    "df_raw.columns"
   ]
  },
  {
   "cell_type": "code",
   "execution_count": 8,
   "id": "combined-chicken",
   "metadata": {
    "ExecuteTime": {
     "end_time": "2021-05-27T20:56:43.632584Z",
     "start_time": "2021-05-27T20:56:43.612566Z"
    },
    "hidden": true
   },
   "outputs": [
    {
     "data": {
      "text/html": [
       "<div>\n",
       "<style scoped>\n",
       "    .dataframe tbody tr th:only-of-type {\n",
       "        vertical-align: middle;\n",
       "    }\n",
       "\n",
       "    .dataframe tbody tr th {\n",
       "        vertical-align: top;\n",
       "    }\n",
       "\n",
       "    .dataframe thead th {\n",
       "        text-align: right;\n",
       "    }\n",
       "</style>\n",
       "<table border=\"1\" class=\"dataframe\">\n",
       "  <thead>\n",
       "    <tr style=\"text-align: right;\">\n",
       "      <th></th>\n",
       "      <th>invoice_no</th>\n",
       "      <th>stock_code</th>\n",
       "      <th>description</th>\n",
       "      <th>quantity</th>\n",
       "      <th>invoice_date</th>\n",
       "      <th>unit_price</th>\n",
       "      <th>customer_id</th>\n",
       "      <th>country</th>\n",
       "    </tr>\n",
       "  </thead>\n",
       "  <tbody>\n",
       "    <tr>\n",
       "      <th>0</th>\n",
       "      <td>536365</td>\n",
       "      <td>85123A</td>\n",
       "      <td>WHITE HANGING HEART T-LIGHT HOLDER</td>\n",
       "      <td>6</td>\n",
       "      <td>29-Nov-16</td>\n",
       "      <td>2.55</td>\n",
       "      <td>17,850.00</td>\n",
       "      <td>United Kingdom</td>\n",
       "    </tr>\n",
       "    <tr>\n",
       "      <th>1</th>\n",
       "      <td>536365</td>\n",
       "      <td>71053</td>\n",
       "      <td>WHITE METAL LANTERN</td>\n",
       "      <td>6</td>\n",
       "      <td>29-Nov-16</td>\n",
       "      <td>3.39</td>\n",
       "      <td>17,850.00</td>\n",
       "      <td>United Kingdom</td>\n",
       "    </tr>\n",
       "    <tr>\n",
       "      <th>2</th>\n",
       "      <td>536365</td>\n",
       "      <td>84406B</td>\n",
       "      <td>CREAM CUPID HEARTS COAT HANGER</td>\n",
       "      <td>8</td>\n",
       "      <td>29-Nov-16</td>\n",
       "      <td>2.75</td>\n",
       "      <td>17,850.00</td>\n",
       "      <td>United Kingdom</td>\n",
       "    </tr>\n",
       "    <tr>\n",
       "      <th>3</th>\n",
       "      <td>536365</td>\n",
       "      <td>84029G</td>\n",
       "      <td>KNITTED UNION FLAG HOT WATER BOTTLE</td>\n",
       "      <td>6</td>\n",
       "      <td>29-Nov-16</td>\n",
       "      <td>3.39</td>\n",
       "      <td>17,850.00</td>\n",
       "      <td>United Kingdom</td>\n",
       "    </tr>\n",
       "    <tr>\n",
       "      <th>4</th>\n",
       "      <td>536365</td>\n",
       "      <td>84029E</td>\n",
       "      <td>RED WOOLLY HOTTIE WHITE HEART.</td>\n",
       "      <td>6</td>\n",
       "      <td>29-Nov-16</td>\n",
       "      <td>3.39</td>\n",
       "      <td>17,850.00</td>\n",
       "      <td>United Kingdom</td>\n",
       "    </tr>\n",
       "  </tbody>\n",
       "</table>\n",
       "</div>"
      ],
      "text/plain": [
       "  invoice_no stock_code                          description  quantity invoice_date  unit_price  customer_id         country\n",
       "0     536365     85123A   WHITE HANGING HEART T-LIGHT HOLDER         6    29-Nov-16        2.55    17,850.00  United Kingdom\n",
       "1     536365      71053                  WHITE METAL LANTERN         6    29-Nov-16        3.39    17,850.00  United Kingdom\n",
       "2     536365     84406B       CREAM CUPID HEARTS COAT HANGER         8    29-Nov-16        2.75    17,850.00  United Kingdom\n",
       "3     536365     84029G  KNITTED UNION FLAG HOT WATER BOTTLE         6    29-Nov-16        3.39    17,850.00  United Kingdom\n",
       "4     536365     84029E       RED WOOLLY HOTTIE WHITE HEART.         6    29-Nov-16        3.39    17,850.00  United Kingdom"
      ]
     },
     "execution_count": 8,
     "metadata": {},
     "output_type": "execute_result"
    }
   ],
   "source": [
    "cols_new = ['invoice_no','stock_code','description','quantity','invoice_date','unit_price','customer_id','country']\n",
    "df1.columns = cols_new\n",
    "df1.head()"
   ]
  },
  {
   "cell_type": "markdown",
   "id": "genetic-hazard",
   "metadata": {
    "heading_collapsed": true,
    "hidden": true
   },
   "source": [
    "## Data Dimensions"
   ]
  },
  {
   "cell_type": "code",
   "execution_count": 9,
   "id": "communist-township",
   "metadata": {
    "ExecuteTime": {
     "end_time": "2021-05-27T20:56:44.464338Z",
     "start_time": "2021-05-27T20:56:44.448324Z"
    },
    "hidden": true
   },
   "outputs": [
    {
     "name": "stdout",
     "output_type": "stream",
     "text": [
      "Number of rows: 541909\n",
      "Number of cols: 8\n"
     ]
    }
   ],
   "source": [
    "print('Number of rows: {}'.format(df1.shape[0]))\n",
    "print('Number of cols: {}'.format(df1.shape[1]))"
   ]
  },
  {
   "cell_type": "code",
   "execution_count": null,
   "id": "copyrighted-lafayette",
   "metadata": {
    "hidden": true
   },
   "outputs": [],
   "source": []
  },
  {
   "cell_type": "markdown",
   "id": "settled-uganda",
   "metadata": {
    "heading_collapsed": true,
    "hidden": true
   },
   "source": [
    "## Data Types"
   ]
  },
  {
   "cell_type": "code",
   "execution_count": 10,
   "id": "medieval-complaint",
   "metadata": {
    "ExecuteTime": {
     "end_time": "2021-05-27T20:56:45.504282Z",
     "start_time": "2021-05-27T20:56:45.494273Z"
    },
    "hidden": true
   },
   "outputs": [
    {
     "data": {
      "text/plain": [
       "invoice_no       object\n",
       "stock_code       object\n",
       "description      object\n",
       "quantity          int64\n",
       "invoice_date     object\n",
       "unit_price      float64\n",
       "customer_id     float64\n",
       "country          object\n",
       "dtype: object"
      ]
     },
     "execution_count": 10,
     "metadata": {},
     "output_type": "execute_result"
    }
   ],
   "source": [
    "df1.dtypes"
   ]
  },
  {
   "cell_type": "code",
   "execution_count": 11,
   "id": "identified-concert",
   "metadata": {
    "ExecuteTime": {
     "end_time": "2021-05-27T20:56:45.839586Z",
     "start_time": "2021-05-27T20:56:45.820569Z"
    },
    "hidden": true
   },
   "outputs": [
    {
     "data": {
      "text/html": [
       "<div>\n",
       "<style scoped>\n",
       "    .dataframe tbody tr th:only-of-type {\n",
       "        vertical-align: middle;\n",
       "    }\n",
       "\n",
       "    .dataframe tbody tr th {\n",
       "        vertical-align: top;\n",
       "    }\n",
       "\n",
       "    .dataframe thead th {\n",
       "        text-align: right;\n",
       "    }\n",
       "</style>\n",
       "<table border=\"1\" class=\"dataframe\">\n",
       "  <thead>\n",
       "    <tr style=\"text-align: right;\">\n",
       "      <th></th>\n",
       "      <th>invoice_no</th>\n",
       "      <th>stock_code</th>\n",
       "      <th>description</th>\n",
       "      <th>quantity</th>\n",
       "      <th>invoice_date</th>\n",
       "      <th>unit_price</th>\n",
       "      <th>customer_id</th>\n",
       "      <th>country</th>\n",
       "    </tr>\n",
       "  </thead>\n",
       "  <tbody>\n",
       "    <tr>\n",
       "      <th>0</th>\n",
       "      <td>536365</td>\n",
       "      <td>85123A</td>\n",
       "      <td>WHITE HANGING HEART T-LIGHT HOLDER</td>\n",
       "      <td>6</td>\n",
       "      <td>29-Nov-16</td>\n",
       "      <td>2.55</td>\n",
       "      <td>17,850.00</td>\n",
       "      <td>United Kingdom</td>\n",
       "    </tr>\n",
       "    <tr>\n",
       "      <th>1</th>\n",
       "      <td>536365</td>\n",
       "      <td>71053</td>\n",
       "      <td>WHITE METAL LANTERN</td>\n",
       "      <td>6</td>\n",
       "      <td>29-Nov-16</td>\n",
       "      <td>3.39</td>\n",
       "      <td>17,850.00</td>\n",
       "      <td>United Kingdom</td>\n",
       "    </tr>\n",
       "    <tr>\n",
       "      <th>2</th>\n",
       "      <td>536365</td>\n",
       "      <td>84406B</td>\n",
       "      <td>CREAM CUPID HEARTS COAT HANGER</td>\n",
       "      <td>8</td>\n",
       "      <td>29-Nov-16</td>\n",
       "      <td>2.75</td>\n",
       "      <td>17,850.00</td>\n",
       "      <td>United Kingdom</td>\n",
       "    </tr>\n",
       "    <tr>\n",
       "      <th>3</th>\n",
       "      <td>536365</td>\n",
       "      <td>84029G</td>\n",
       "      <td>KNITTED UNION FLAG HOT WATER BOTTLE</td>\n",
       "      <td>6</td>\n",
       "      <td>29-Nov-16</td>\n",
       "      <td>3.39</td>\n",
       "      <td>17,850.00</td>\n",
       "      <td>United Kingdom</td>\n",
       "    </tr>\n",
       "    <tr>\n",
       "      <th>4</th>\n",
       "      <td>536365</td>\n",
       "      <td>84029E</td>\n",
       "      <td>RED WOOLLY HOTTIE WHITE HEART.</td>\n",
       "      <td>6</td>\n",
       "      <td>29-Nov-16</td>\n",
       "      <td>3.39</td>\n",
       "      <td>17,850.00</td>\n",
       "      <td>United Kingdom</td>\n",
       "    </tr>\n",
       "  </tbody>\n",
       "</table>\n",
       "</div>"
      ],
      "text/plain": [
       "  invoice_no stock_code                          description  quantity invoice_date  unit_price  customer_id         country\n",
       "0     536365     85123A   WHITE HANGING HEART T-LIGHT HOLDER         6    29-Nov-16        2.55    17,850.00  United Kingdom\n",
       "1     536365      71053                  WHITE METAL LANTERN         6    29-Nov-16        3.39    17,850.00  United Kingdom\n",
       "2     536365     84406B       CREAM CUPID HEARTS COAT HANGER         8    29-Nov-16        2.75    17,850.00  United Kingdom\n",
       "3     536365     84029G  KNITTED UNION FLAG HOT WATER BOTTLE         6    29-Nov-16        3.39    17,850.00  United Kingdom\n",
       "4     536365     84029E       RED WOOLLY HOTTIE WHITE HEART.         6    29-Nov-16        3.39    17,850.00  United Kingdom"
      ]
     },
     "execution_count": 11,
     "metadata": {},
     "output_type": "execute_result"
    }
   ],
   "source": [
    "df1.head()"
   ]
  },
  {
   "cell_type": "markdown",
   "id": "peaceful-scholarship",
   "metadata": {
    "heading_collapsed": true,
    "hidden": true
   },
   "source": [
    "## Check NA"
   ]
  },
  {
   "cell_type": "code",
   "execution_count": 12,
   "id": "chemical-straight",
   "metadata": {
    "ExecuteTime": {
     "end_time": "2021-05-27T20:56:46.591267Z",
     "start_time": "2021-05-27T20:56:46.497183Z"
    },
    "hidden": true
   },
   "outputs": [
    {
     "data": {
      "text/plain": [
       "invoice_no           0\n",
       "stock_code           0\n",
       "description       1454\n",
       "quantity             0\n",
       "invoice_date         0\n",
       "unit_price           0\n",
       "customer_id     135080\n",
       "country              0\n",
       "dtype: int64"
      ]
     },
     "execution_count": 12,
     "metadata": {},
     "output_type": "execute_result"
    }
   ],
   "source": [
    "df1.isna().sum()"
   ]
  },
  {
   "cell_type": "code",
   "execution_count": null,
   "id": "classified-history",
   "metadata": {
    "hidden": true
   },
   "outputs": [],
   "source": []
  },
  {
   "cell_type": "markdown",
   "id": "separate-tissue",
   "metadata": {
    "heading_collapsed": true,
    "hidden": true
   },
   "source": [
    "## Replace NA"
   ]
  },
  {
   "cell_type": "code",
   "execution_count": 13,
   "id": "pressed-scenario",
   "metadata": {
    "ExecuteTime": {
     "end_time": "2021-05-27T20:56:47.565151Z",
     "start_time": "2021-05-27T20:56:47.551138Z"
    },
    "hidden": true
   },
   "outputs": [],
   "source": [
    "# c0.1 - remove NA\n",
    "# df1 = df1.dropna(subset=['description','customer_id'])\n",
    "# print ('Removed data: {:.2f}'.format(1 - df1.shape[0]/df_raw.shape[0]))"
   ]
  },
  {
   "cell_type": "code",
   "execution_count": 14,
   "id": "unusual-public",
   "metadata": {
    "ExecuteTime": {
     "end_time": "2021-05-27T20:56:48.365877Z",
     "start_time": "2021-05-27T20:56:48.302820Z"
    },
    "hidden": true
   },
   "outputs": [
    {
     "name": "stdout",
     "output_type": "stream",
     "text": [
      "Number of transitions without 'customer_id': 135080\n",
      "Number of transitions with 'customer_id': 406829 \n",
      "\n",
      "\n",
      "Checking if there is 'invoice_no' from dataset without 'customer_id' on the dataset that has 'customer_id'\n",
      "\n",
      "Empty DataFrame\n",
      "Columns: [invoice_no, stock_code, description, quantity, invoice_date, unit_price, customer_id, country]\n",
      "Index: []\n",
      "\n",
      "No values found\n"
     ]
    }
   ],
   "source": [
    "# c.04 - FE I - checking if there is the same 'invoice_no' with and without 'customer_id'\n",
    "df_missingID = df1.loc[df1['customer_id'].isna(),:]\n",
    "df_notmissingID = df1.loc[~df1['customer_id'].isna(),:]\n",
    "\n",
    "print(\"Number of transitions without 'customer_id':\", df_missingID.shape[0])\n",
    "print(\"Number of transitions with 'customer_id':\", df_notmissingID.shape[0], \"\\n\\n\")\n",
    "\n",
    "# creating a list of 'invoice_no' that doesn't have 'customer_id'\n",
    "missingID_invoice = df_missingID['invoice_no'].drop_duplicates().tolist()\n",
    "\n",
    "# checking values from 'missingID_invoice' in 'df_missingID' dataset\n",
    "print(\"Checking if there is 'invoice_no' from dataset without 'customer_id' on the dataset that has 'customer_id'\\n\")\n",
    "print( df_notmissingID.loc[df_notmissingID['invoice_no'].isin(missingID_invoice),:] )\n",
    "print(\"\\nNo values found\")"
   ]
  },
  {
   "cell_type": "code",
   "execution_count": 15,
   "id": "devoted-running",
   "metadata": {
    "ExecuteTime": {
     "end_time": "2021-05-27T20:56:54.968866Z",
     "start_time": "2021-05-27T20:56:54.716637Z"
    },
    "hidden": true
   },
   "outputs": [
    {
     "data": {
      "text/html": [
       "<div>\n",
       "<style scoped>\n",
       "    .dataframe tbody tr th:only-of-type {\n",
       "        vertical-align: middle;\n",
       "    }\n",
       "\n",
       "    .dataframe tbody tr th {\n",
       "        vertical-align: top;\n",
       "    }\n",
       "\n",
       "    .dataframe thead th {\n",
       "        text-align: right;\n",
       "    }\n",
       "</style>\n",
       "<table border=\"1\" class=\"dataframe\">\n",
       "  <thead>\n",
       "    <tr style=\"text-align: right;\">\n",
       "      <th></th>\n",
       "      <th>invoice_no</th>\n",
       "      <th>stock_code</th>\n",
       "      <th>description</th>\n",
       "      <th>quantity</th>\n",
       "      <th>invoice_date</th>\n",
       "      <th>unit_price</th>\n",
       "      <th>customer_id</th>\n",
       "      <th>country</th>\n",
       "    </tr>\n",
       "  </thead>\n",
       "  <tbody>\n",
       "    <tr>\n",
       "      <th>0</th>\n",
       "      <td>536365</td>\n",
       "      <td>85123A</td>\n",
       "      <td>WHITE HANGING HEART T-LIGHT HOLDER</td>\n",
       "      <td>6</td>\n",
       "      <td>29-Nov-16</td>\n",
       "      <td>2.55</td>\n",
       "      <td>17,850.00</td>\n",
       "      <td>United Kingdom</td>\n",
       "    </tr>\n",
       "    <tr>\n",
       "      <th>1</th>\n",
       "      <td>536365</td>\n",
       "      <td>71053</td>\n",
       "      <td>WHITE METAL LANTERN</td>\n",
       "      <td>6</td>\n",
       "      <td>29-Nov-16</td>\n",
       "      <td>3.39</td>\n",
       "      <td>17,850.00</td>\n",
       "      <td>United Kingdom</td>\n",
       "    </tr>\n",
       "    <tr>\n",
       "      <th>2</th>\n",
       "      <td>536365</td>\n",
       "      <td>84406B</td>\n",
       "      <td>CREAM CUPID HEARTS COAT HANGER</td>\n",
       "      <td>8</td>\n",
       "      <td>29-Nov-16</td>\n",
       "      <td>2.75</td>\n",
       "      <td>17,850.00</td>\n",
       "      <td>United Kingdom</td>\n",
       "    </tr>\n",
       "    <tr>\n",
       "      <th>3</th>\n",
       "      <td>536365</td>\n",
       "      <td>84029G</td>\n",
       "      <td>KNITTED UNION FLAG HOT WATER BOTTLE</td>\n",
       "      <td>6</td>\n",
       "      <td>29-Nov-16</td>\n",
       "      <td>3.39</td>\n",
       "      <td>17,850.00</td>\n",
       "      <td>United Kingdom</td>\n",
       "    </tr>\n",
       "    <tr>\n",
       "      <th>4</th>\n",
       "      <td>536365</td>\n",
       "      <td>84029E</td>\n",
       "      <td>RED WOOLLY HOTTIE WHITE HEART.</td>\n",
       "      <td>6</td>\n",
       "      <td>29-Nov-16</td>\n",
       "      <td>3.39</td>\n",
       "      <td>17,850.00</td>\n",
       "      <td>United Kingdom</td>\n",
       "    </tr>\n",
       "  </tbody>\n",
       "</table>\n",
       "</div>"
      ],
      "text/plain": [
       "  invoice_no stock_code                          description  quantity invoice_date  unit_price  customer_id         country\n",
       "0     536365     85123A   WHITE HANGING HEART T-LIGHT HOLDER         6    29-Nov-16        2.55    17,850.00  United Kingdom\n",
       "1     536365      71053                  WHITE METAL LANTERN         6    29-Nov-16        3.39    17,850.00  United Kingdom\n",
       "2     536365     84406B       CREAM CUPID HEARTS COAT HANGER         8    29-Nov-16        2.75    17,850.00  United Kingdom\n",
       "3     536365     84029G  KNITTED UNION FLAG HOT WATER BOTTLE         6    29-Nov-16        3.39    17,850.00  United Kingdom\n",
       "4     536365     84029E       RED WOOLLY HOTTIE WHITE HEART.         6    29-Nov-16        3.39    17,850.00  United Kingdom"
      ]
     },
     "execution_count": 15,
     "metadata": {},
     "output_type": "execute_result"
    }
   ],
   "source": [
    "# c.04 - FE I - creating new 'customer_id'\n",
    "\n",
    "# creating reference\n",
    "df_invoices_noID = pd.DataFrame(df_missingID['invoice_no'].drop_duplicates())\n",
    "df_invoices_noID['new_customer_id'] = np.arange(19000, 19000+len(df_invoices_noID), 1)\n",
    "df_invoices_noID.head()\n",
    "\n",
    "# merging original (df1) with reference (df_invoices_noID)\n",
    "df1 = pd.merge(df1, df_invoices_noID, on='invoice_no', how='left')\n",
    "\n",
    "# combining the id's columns and dropping 'new_customer_id' column\n",
    "df1['customer_id'] = df1['customer_id'].combine_first(df1['new_customer_id'])\n",
    "df1 = df1.drop (columns=['new_customer_id'], axis=1)\n",
    "df1.head()"
   ]
  },
  {
   "cell_type": "code",
   "execution_count": 16,
   "id": "handled-speaking",
   "metadata": {
    "ExecuteTime": {
     "end_time": "2021-05-27T20:57:05.536451Z",
     "start_time": "2021-05-27T20:57:05.458381Z"
    },
    "hidden": true
   },
   "outputs": [
    {
     "data": {
      "text/plain": [
       "invoice_no         0\n",
       "stock_code         0\n",
       "description     1454\n",
       "quantity           0\n",
       "invoice_date       0\n",
       "unit_price         0\n",
       "customer_id        0\n",
       "country            0\n",
       "dtype: int64"
      ]
     },
     "execution_count": 16,
     "metadata": {},
     "output_type": "execute_result"
    }
   ],
   "source": [
    "df1.isna().sum()"
   ]
  },
  {
   "cell_type": "code",
   "execution_count": null,
   "id": "severe-speaker",
   "metadata": {
    "hidden": true
   },
   "outputs": [],
   "source": []
  },
  {
   "cell_type": "markdown",
   "id": "cordless-london",
   "metadata": {
    "heading_collapsed": true,
    "hidden": true
   },
   "source": [
    "## Change dtypes"
   ]
  },
  {
   "cell_type": "code",
   "execution_count": 17,
   "id": "harmful-creation",
   "metadata": {
    "ExecuteTime": {
     "end_time": "2021-05-27T20:57:08.719338Z",
     "start_time": "2021-05-27T20:57:08.709329Z"
    },
    "hidden": true
   },
   "outputs": [
    {
     "data": {
      "text/plain": [
       "invoice_no       object\n",
       "stock_code       object\n",
       "description      object\n",
       "quantity          int64\n",
       "invoice_date     object\n",
       "unit_price      float64\n",
       "customer_id     float64\n",
       "country          object\n",
       "dtype: object"
      ]
     },
     "execution_count": 17,
     "metadata": {},
     "output_type": "execute_result"
    }
   ],
   "source": [
    "df1.dtypes"
   ]
  },
  {
   "cell_type": "code",
   "execution_count": 18,
   "id": "preliminary-reality",
   "metadata": {
    "ExecuteTime": {
     "end_time": "2021-05-27T20:57:09.373932Z",
     "start_time": "2021-05-27T20:57:09.362922Z"
    },
    "hidden": true
   },
   "outputs": [
    {
     "data": {
      "text/html": [
       "<div>\n",
       "<style scoped>\n",
       "    .dataframe tbody tr th:only-of-type {\n",
       "        vertical-align: middle;\n",
       "    }\n",
       "\n",
       "    .dataframe tbody tr th {\n",
       "        vertical-align: top;\n",
       "    }\n",
       "\n",
       "    .dataframe thead th {\n",
       "        text-align: right;\n",
       "    }\n",
       "</style>\n",
       "<table border=\"1\" class=\"dataframe\">\n",
       "  <thead>\n",
       "    <tr style=\"text-align: right;\">\n",
       "      <th></th>\n",
       "      <th>invoice_no</th>\n",
       "      <th>stock_code</th>\n",
       "      <th>description</th>\n",
       "      <th>quantity</th>\n",
       "      <th>invoice_date</th>\n",
       "      <th>unit_price</th>\n",
       "      <th>customer_id</th>\n",
       "      <th>country</th>\n",
       "    </tr>\n",
       "  </thead>\n",
       "  <tbody>\n",
       "    <tr>\n",
       "      <th>0</th>\n",
       "      <td>536365</td>\n",
       "      <td>85123A</td>\n",
       "      <td>WHITE HANGING HEART T-LIGHT HOLDER</td>\n",
       "      <td>6</td>\n",
       "      <td>29-Nov-16</td>\n",
       "      <td>2.55</td>\n",
       "      <td>17,850.00</td>\n",
       "      <td>United Kingdom</td>\n",
       "    </tr>\n",
       "    <tr>\n",
       "      <th>1</th>\n",
       "      <td>536365</td>\n",
       "      <td>71053</td>\n",
       "      <td>WHITE METAL LANTERN</td>\n",
       "      <td>6</td>\n",
       "      <td>29-Nov-16</td>\n",
       "      <td>3.39</td>\n",
       "      <td>17,850.00</td>\n",
       "      <td>United Kingdom</td>\n",
       "    </tr>\n",
       "    <tr>\n",
       "      <th>2</th>\n",
       "      <td>536365</td>\n",
       "      <td>84406B</td>\n",
       "      <td>CREAM CUPID HEARTS COAT HANGER</td>\n",
       "      <td>8</td>\n",
       "      <td>29-Nov-16</td>\n",
       "      <td>2.75</td>\n",
       "      <td>17,850.00</td>\n",
       "      <td>United Kingdom</td>\n",
       "    </tr>\n",
       "    <tr>\n",
       "      <th>3</th>\n",
       "      <td>536365</td>\n",
       "      <td>84029G</td>\n",
       "      <td>KNITTED UNION FLAG HOT WATER BOTTLE</td>\n",
       "      <td>6</td>\n",
       "      <td>29-Nov-16</td>\n",
       "      <td>3.39</td>\n",
       "      <td>17,850.00</td>\n",
       "      <td>United Kingdom</td>\n",
       "    </tr>\n",
       "    <tr>\n",
       "      <th>4</th>\n",
       "      <td>536365</td>\n",
       "      <td>84029E</td>\n",
       "      <td>RED WOOLLY HOTTIE WHITE HEART.</td>\n",
       "      <td>6</td>\n",
       "      <td>29-Nov-16</td>\n",
       "      <td>3.39</td>\n",
       "      <td>17,850.00</td>\n",
       "      <td>United Kingdom</td>\n",
       "    </tr>\n",
       "  </tbody>\n",
       "</table>\n",
       "</div>"
      ],
      "text/plain": [
       "  invoice_no stock_code                          description  quantity invoice_date  unit_price  customer_id         country\n",
       "0     536365     85123A   WHITE HANGING HEART T-LIGHT HOLDER         6    29-Nov-16        2.55    17,850.00  United Kingdom\n",
       "1     536365      71053                  WHITE METAL LANTERN         6    29-Nov-16        3.39    17,850.00  United Kingdom\n",
       "2     536365     84406B       CREAM CUPID HEARTS COAT HANGER         8    29-Nov-16        2.75    17,850.00  United Kingdom\n",
       "3     536365     84029G  KNITTED UNION FLAG HOT WATER BOTTLE         6    29-Nov-16        3.39    17,850.00  United Kingdom\n",
       "4     536365     84029E       RED WOOLLY HOTTIE WHITE HEART.         6    29-Nov-16        3.39    17,850.00  United Kingdom"
      ]
     },
     "execution_count": 18,
     "metadata": {},
     "output_type": "execute_result"
    }
   ],
   "source": [
    "df1.head()"
   ]
  },
  {
   "cell_type": "code",
   "execution_count": 19,
   "id": "soviet-lightning",
   "metadata": {
    "ExecuteTime": {
     "end_time": "2021-05-27T20:57:09.630164Z",
     "start_time": "2021-05-27T20:57:09.566106Z"
    },
    "hidden": true
   },
   "outputs": [
    {
     "data": {
      "text/html": [
       "<div>\n",
       "<style scoped>\n",
       "    .dataframe tbody tr th:only-of-type {\n",
       "        vertical-align: middle;\n",
       "    }\n",
       "\n",
       "    .dataframe tbody tr th {\n",
       "        vertical-align: top;\n",
       "    }\n",
       "\n",
       "    .dataframe thead th {\n",
       "        text-align: right;\n",
       "    }\n",
       "</style>\n",
       "<table border=\"1\" class=\"dataframe\">\n",
       "  <thead>\n",
       "    <tr style=\"text-align: right;\">\n",
       "      <th></th>\n",
       "      <th>invoice_no</th>\n",
       "      <th>stock_code</th>\n",
       "      <th>description</th>\n",
       "      <th>quantity</th>\n",
       "      <th>invoice_date</th>\n",
       "      <th>unit_price</th>\n",
       "      <th>customer_id</th>\n",
       "      <th>country</th>\n",
       "    </tr>\n",
       "  </thead>\n",
       "  <tbody>\n",
       "    <tr>\n",
       "      <th>0</th>\n",
       "      <td>536365</td>\n",
       "      <td>85123A</td>\n",
       "      <td>WHITE HANGING HEART T-LIGHT HOLDER</td>\n",
       "      <td>6</td>\n",
       "      <td>2016-11-29</td>\n",
       "      <td>2.55</td>\n",
       "      <td>17,850.00</td>\n",
       "      <td>United Kingdom</td>\n",
       "    </tr>\n",
       "    <tr>\n",
       "      <th>1</th>\n",
       "      <td>536365</td>\n",
       "      <td>71053</td>\n",
       "      <td>WHITE METAL LANTERN</td>\n",
       "      <td>6</td>\n",
       "      <td>2016-11-29</td>\n",
       "      <td>3.39</td>\n",
       "      <td>17,850.00</td>\n",
       "      <td>United Kingdom</td>\n",
       "    </tr>\n",
       "    <tr>\n",
       "      <th>2</th>\n",
       "      <td>536365</td>\n",
       "      <td>84406B</td>\n",
       "      <td>CREAM CUPID HEARTS COAT HANGER</td>\n",
       "      <td>8</td>\n",
       "      <td>2016-11-29</td>\n",
       "      <td>2.75</td>\n",
       "      <td>17,850.00</td>\n",
       "      <td>United Kingdom</td>\n",
       "    </tr>\n",
       "    <tr>\n",
       "      <th>3</th>\n",
       "      <td>536365</td>\n",
       "      <td>84029G</td>\n",
       "      <td>KNITTED UNION FLAG HOT WATER BOTTLE</td>\n",
       "      <td>6</td>\n",
       "      <td>2016-11-29</td>\n",
       "      <td>3.39</td>\n",
       "      <td>17,850.00</td>\n",
       "      <td>United Kingdom</td>\n",
       "    </tr>\n",
       "    <tr>\n",
       "      <th>4</th>\n",
       "      <td>536365</td>\n",
       "      <td>84029E</td>\n",
       "      <td>RED WOOLLY HOTTIE WHITE HEART.</td>\n",
       "      <td>6</td>\n",
       "      <td>2016-11-29</td>\n",
       "      <td>3.39</td>\n",
       "      <td>17,850.00</td>\n",
       "      <td>United Kingdom</td>\n",
       "    </tr>\n",
       "  </tbody>\n",
       "</table>\n",
       "</div>"
      ],
      "text/plain": [
       "  invoice_no stock_code                          description  quantity invoice_date  unit_price  customer_id         country\n",
       "0     536365     85123A   WHITE HANGING HEART T-LIGHT HOLDER         6   2016-11-29        2.55    17,850.00  United Kingdom\n",
       "1     536365      71053                  WHITE METAL LANTERN         6   2016-11-29        3.39    17,850.00  United Kingdom\n",
       "2     536365     84406B       CREAM CUPID HEARTS COAT HANGER         8   2016-11-29        2.75    17,850.00  United Kingdom\n",
       "3     536365     84029G  KNITTED UNION FLAG HOT WATER BOTTLE         6   2016-11-29        3.39    17,850.00  United Kingdom\n",
       "4     536365     84029E       RED WOOLLY HOTTIE WHITE HEART.         6   2016-11-29        3.39    17,850.00  United Kingdom"
      ]
     },
     "execution_count": 19,
     "metadata": {},
     "output_type": "execute_result"
    }
   ],
   "source": [
    "# changing 'invoice_date'\n",
    "df1['invoice_date'] = pd.to_datetime (df1['invoice_date'], format='%d-%b-%y')\n",
    "df1.head()"
   ]
  },
  {
   "cell_type": "code",
   "execution_count": 20,
   "id": "uniform-therapy",
   "metadata": {
    "ExecuteTime": {
     "end_time": "2021-05-27T20:57:13.160366Z",
     "start_time": "2021-05-27T20:57:13.145353Z"
    },
    "hidden": true
   },
   "outputs": [],
   "source": [
    "# changing 'customer_id'\n",
    "df1['customer_id'] = df1['customer_id'].astype('int64')"
   ]
  },
  {
   "cell_type": "code",
   "execution_count": 21,
   "id": "corrected-berlin",
   "metadata": {
    "ExecuteTime": {
     "end_time": "2021-05-27T20:57:13.352540Z",
     "start_time": "2021-05-27T20:57:13.341531Z"
    },
    "hidden": true
   },
   "outputs": [
    {
     "data": {
      "text/html": [
       "<div>\n",
       "<style scoped>\n",
       "    .dataframe tbody tr th:only-of-type {\n",
       "        vertical-align: middle;\n",
       "    }\n",
       "\n",
       "    .dataframe tbody tr th {\n",
       "        vertical-align: top;\n",
       "    }\n",
       "\n",
       "    .dataframe thead th {\n",
       "        text-align: right;\n",
       "    }\n",
       "</style>\n",
       "<table border=\"1\" class=\"dataframe\">\n",
       "  <thead>\n",
       "    <tr style=\"text-align: right;\">\n",
       "      <th></th>\n",
       "      <th>invoice_no</th>\n",
       "      <th>stock_code</th>\n",
       "      <th>description</th>\n",
       "      <th>quantity</th>\n",
       "      <th>invoice_date</th>\n",
       "      <th>unit_price</th>\n",
       "      <th>customer_id</th>\n",
       "      <th>country</th>\n",
       "    </tr>\n",
       "  </thead>\n",
       "  <tbody>\n",
       "    <tr>\n",
       "      <th>0</th>\n",
       "      <td>536365</td>\n",
       "      <td>85123A</td>\n",
       "      <td>WHITE HANGING HEART T-LIGHT HOLDER</td>\n",
       "      <td>6</td>\n",
       "      <td>2016-11-29</td>\n",
       "      <td>2.55</td>\n",
       "      <td>17850</td>\n",
       "      <td>United Kingdom</td>\n",
       "    </tr>\n",
       "    <tr>\n",
       "      <th>1</th>\n",
       "      <td>536365</td>\n",
       "      <td>71053</td>\n",
       "      <td>WHITE METAL LANTERN</td>\n",
       "      <td>6</td>\n",
       "      <td>2016-11-29</td>\n",
       "      <td>3.39</td>\n",
       "      <td>17850</td>\n",
       "      <td>United Kingdom</td>\n",
       "    </tr>\n",
       "    <tr>\n",
       "      <th>2</th>\n",
       "      <td>536365</td>\n",
       "      <td>84406B</td>\n",
       "      <td>CREAM CUPID HEARTS COAT HANGER</td>\n",
       "      <td>8</td>\n",
       "      <td>2016-11-29</td>\n",
       "      <td>2.75</td>\n",
       "      <td>17850</td>\n",
       "      <td>United Kingdom</td>\n",
       "    </tr>\n",
       "    <tr>\n",
       "      <th>3</th>\n",
       "      <td>536365</td>\n",
       "      <td>84029G</td>\n",
       "      <td>KNITTED UNION FLAG HOT WATER BOTTLE</td>\n",
       "      <td>6</td>\n",
       "      <td>2016-11-29</td>\n",
       "      <td>3.39</td>\n",
       "      <td>17850</td>\n",
       "      <td>United Kingdom</td>\n",
       "    </tr>\n",
       "    <tr>\n",
       "      <th>4</th>\n",
       "      <td>536365</td>\n",
       "      <td>84029E</td>\n",
       "      <td>RED WOOLLY HOTTIE WHITE HEART.</td>\n",
       "      <td>6</td>\n",
       "      <td>2016-11-29</td>\n",
       "      <td>3.39</td>\n",
       "      <td>17850</td>\n",
       "      <td>United Kingdom</td>\n",
       "    </tr>\n",
       "  </tbody>\n",
       "</table>\n",
       "</div>"
      ],
      "text/plain": [
       "  invoice_no stock_code                          description  quantity invoice_date  unit_price  customer_id         country\n",
       "0     536365     85123A   WHITE HANGING HEART T-LIGHT HOLDER         6   2016-11-29        2.55        17850  United Kingdom\n",
       "1     536365      71053                  WHITE METAL LANTERN         6   2016-11-29        3.39        17850  United Kingdom\n",
       "2     536365     84406B       CREAM CUPID HEARTS COAT HANGER         8   2016-11-29        2.75        17850  United Kingdom\n",
       "3     536365     84029G  KNITTED UNION FLAG HOT WATER BOTTLE         6   2016-11-29        3.39        17850  United Kingdom\n",
       "4     536365     84029E       RED WOOLLY HOTTIE WHITE HEART.         6   2016-11-29        3.39        17850  United Kingdom"
      ]
     },
     "execution_count": 21,
     "metadata": {},
     "output_type": "execute_result"
    }
   ],
   "source": [
    "df1.head()"
   ]
  },
  {
   "cell_type": "code",
   "execution_count": 22,
   "id": "coastal-mistake",
   "metadata": {
    "ExecuteTime": {
     "end_time": "2021-05-27T20:57:15.991934Z",
     "start_time": "2021-05-27T20:57:15.974919Z"
    },
    "hidden": true
   },
   "outputs": [
    {
     "data": {
      "text/plain": [
       "invoice_no              object\n",
       "stock_code              object\n",
       "description             object\n",
       "quantity                 int64\n",
       "invoice_date    datetime64[ns]\n",
       "unit_price             float64\n",
       "customer_id              int64\n",
       "country                 object\n",
       "dtype: object"
      ]
     },
     "execution_count": 22,
     "metadata": {},
     "output_type": "execute_result"
    }
   ],
   "source": [
    "df1.dtypes"
   ]
  },
  {
   "cell_type": "markdown",
   "id": "balanced-moisture",
   "metadata": {
    "heading_collapsed": true,
    "hidden": true
   },
   "source": [
    "## Descriptive Statistics"
   ]
  },
  {
   "cell_type": "code",
   "execution_count": 23,
   "id": "sweet-cannon",
   "metadata": {
    "ExecuteTime": {
     "end_time": "2021-05-27T20:57:34.072334Z",
     "start_time": "2021-05-27T20:57:34.045309Z"
    },
    "hidden": true
   },
   "outputs": [],
   "source": [
    "num_df1 = df1.select_dtypes(include=['int64','float64'])\n",
    "cat_df1 = df1.select_dtypes(exclude=['int64','float64','datetime64[ns]'])"
   ]
  },
  {
   "cell_type": "markdown",
   "id": "agricultural-haven",
   "metadata": {
    "heading_collapsed": true,
    "hidden": true
   },
   "source": [
    "### Numerical Attributes"
   ]
  },
  {
   "cell_type": "code",
   "execution_count": 31,
   "id": "coordinated-deployment",
   "metadata": {
    "ExecuteTime": {
     "end_time": "2021-05-27T21:08:06.345553Z",
     "start_time": "2021-05-27T21:08:05.999239Z"
    },
    "hidden": true
   },
   "outputs": [
    {
     "data": {
      "text/html": [
       "<div>\n",
       "<style scoped>\n",
       "    .dataframe tbody tr th:only-of-type {\n",
       "        vertical-align: middle;\n",
       "    }\n",
       "\n",
       "    .dataframe tbody tr th {\n",
       "        vertical-align: top;\n",
       "    }\n",
       "\n",
       "    .dataframe thead th {\n",
       "        text-align: right;\n",
       "    }\n",
       "</style>\n",
       "<table border=\"1\" class=\"dataframe\">\n",
       "  <thead>\n",
       "    <tr style=\"text-align: right;\">\n",
       "      <th></th>\n",
       "      <th>attributes</th>\n",
       "      <th>min</th>\n",
       "      <th>max</th>\n",
       "      <th>range</th>\n",
       "      <th>mean</th>\n",
       "      <th>median</th>\n",
       "      <th>std</th>\n",
       "      <th>skew</th>\n",
       "      <th>kurtosis</th>\n",
       "    </tr>\n",
       "  </thead>\n",
       "  <tbody>\n",
       "    <tr>\n",
       "      <th>0</th>\n",
       "      <td>quantity</td>\n",
       "      <td>-80,995.00</td>\n",
       "      <td>80,995.00</td>\n",
       "      <td>161,990.00</td>\n",
       "      <td>9.55</td>\n",
       "      <td>3.00</td>\n",
       "      <td>218.08</td>\n",
       "      <td>-0.26</td>\n",
       "      <td>119,769.16</td>\n",
       "    </tr>\n",
       "    <tr>\n",
       "      <th>1</th>\n",
       "      <td>unit_price</td>\n",
       "      <td>-11,062.06</td>\n",
       "      <td>38,970.00</td>\n",
       "      <td>50,032.06</td>\n",
       "      <td>4.61</td>\n",
       "      <td>2.08</td>\n",
       "      <td>96.76</td>\n",
       "      <td>186.51</td>\n",
       "      <td>59,005.72</td>\n",
       "    </tr>\n",
       "    <tr>\n",
       "      <th>2</th>\n",
       "      <td>customer_id</td>\n",
       "      <td>12,346.00</td>\n",
       "      <td>22,709.00</td>\n",
       "      <td>10,363.00</td>\n",
       "      <td>16,688.84</td>\n",
       "      <td>16,249.00</td>\n",
       "      <td>2,911.41</td>\n",
       "      <td>0.49</td>\n",
       "      <td>-0.80</td>\n",
       "    </tr>\n",
       "  </tbody>\n",
       "</table>\n",
       "</div>"
      ],
      "text/plain": [
       "    attributes        min       max      range      mean    median      std   skew   kurtosis\n",
       "0     quantity -80,995.00 80,995.00 161,990.00      9.55      3.00   218.08  -0.26 119,769.16\n",
       "1   unit_price -11,062.06 38,970.00  50,032.06      4.61      2.08    96.76 186.51  59,005.72\n",
       "2  customer_id  12,346.00 22,709.00  10,363.00 16,688.84 16,249.00 2,911.41   0.49      -0.80"
      ]
     },
     "execution_count": 31,
     "metadata": {},
     "output_type": "execute_result"
    }
   ],
   "source": [
    "# central tendendy - mean, median\n",
    "ct1 = pd.DataFrame(num_df1.apply(np.mean)).T\n",
    "ct2 = pd.DataFrame(num_df1.apply(np.median)).T\n",
    "\n",
    "# dispersion - std, min, max, range, skew, kurtosis\n",
    "d1 = pd.DataFrame(num_df1.apply(np.std)).T\n",
    "d2 = pd.DataFrame(num_df1.apply(min)).T\n",
    "d3 = pd.DataFrame(num_df1.apply(max)).T\n",
    "d4 = pd.DataFrame(num_df1.apply(lambda x: x.max() - x.min())).T\n",
    "d5 = pd.DataFrame(num_df1.apply(lambda x: x.skew())).T\n",
    "d6 = pd.DataFrame(num_df1.apply(lambda x: x.kurtosis())).T\n",
    "\n",
    "# concatenate \n",
    "m = pd.concat([d2,d3,d4,ct1,ct2,d1,d5,d6]).T.reset_index()\n",
    "m.columns = ['attributes','min','max','range','mean','median','std','skew','kurtosis']\n",
    "m"
   ]
  },
  {
   "cell_type": "markdown",
   "id": "dressed-alliance",
   "metadata": {
    "heading_collapsed": true,
    "hidden": true
   },
   "source": [
    "#### <font color='red' >Numerical Attributes Investigating"
   ]
  },
  {
   "cell_type": "code",
   "execution_count": 32,
   "id": "ecological-fiction",
   "metadata": {
    "ExecuteTime": {
     "end_time": "2021-05-27T21:08:07.062203Z",
     "start_time": "2021-05-27T21:08:07.060201Z"
    },
    "hidden": true
   },
   "outputs": [],
   "source": [
    "# Negative quantity means devolution?\n",
    "\n",
    "# Unit price 0 means promotion?"
   ]
  },
  {
   "cell_type": "markdown",
   "id": "existing-strategy",
   "metadata": {
    "heading_collapsed": true,
    "hidden": true
   },
   "source": [
    "### Categorical Atributtes "
   ]
  },
  {
   "cell_type": "code",
   "execution_count": 33,
   "id": "placed-mounting",
   "metadata": {
    "ExecuteTime": {
     "end_time": "2021-05-27T21:08:07.905472Z",
     "start_time": "2021-05-27T21:08:07.896464Z"
    },
    "hidden": true
   },
   "outputs": [
    {
     "data": {
      "text/html": [
       "<div>\n",
       "<style scoped>\n",
       "    .dataframe tbody tr th:only-of-type {\n",
       "        vertical-align: middle;\n",
       "    }\n",
       "\n",
       "    .dataframe tbody tr th {\n",
       "        vertical-align: top;\n",
       "    }\n",
       "\n",
       "    .dataframe thead th {\n",
       "        text-align: right;\n",
       "    }\n",
       "</style>\n",
       "<table border=\"1\" class=\"dataframe\">\n",
       "  <thead>\n",
       "    <tr style=\"text-align: right;\">\n",
       "      <th></th>\n",
       "      <th>invoice_no</th>\n",
       "      <th>stock_code</th>\n",
       "      <th>description</th>\n",
       "      <th>country</th>\n",
       "    </tr>\n",
       "  </thead>\n",
       "  <tbody>\n",
       "    <tr>\n",
       "      <th>0</th>\n",
       "      <td>536365</td>\n",
       "      <td>85123A</td>\n",
       "      <td>WHITE HANGING HEART T-LIGHT HOLDER</td>\n",
       "      <td>United Kingdom</td>\n",
       "    </tr>\n",
       "    <tr>\n",
       "      <th>1</th>\n",
       "      <td>536365</td>\n",
       "      <td>71053</td>\n",
       "      <td>WHITE METAL LANTERN</td>\n",
       "      <td>United Kingdom</td>\n",
       "    </tr>\n",
       "    <tr>\n",
       "      <th>2</th>\n",
       "      <td>536365</td>\n",
       "      <td>84406B</td>\n",
       "      <td>CREAM CUPID HEARTS COAT HANGER</td>\n",
       "      <td>United Kingdom</td>\n",
       "    </tr>\n",
       "    <tr>\n",
       "      <th>3</th>\n",
       "      <td>536365</td>\n",
       "      <td>84029G</td>\n",
       "      <td>KNITTED UNION FLAG HOT WATER BOTTLE</td>\n",
       "      <td>United Kingdom</td>\n",
       "    </tr>\n",
       "    <tr>\n",
       "      <th>4</th>\n",
       "      <td>536365</td>\n",
       "      <td>84029E</td>\n",
       "      <td>RED WOOLLY HOTTIE WHITE HEART.</td>\n",
       "      <td>United Kingdom</td>\n",
       "    </tr>\n",
       "  </tbody>\n",
       "</table>\n",
       "</div>"
      ],
      "text/plain": [
       "  invoice_no stock_code                          description         country\n",
       "0     536365     85123A   WHITE HANGING HEART T-LIGHT HOLDER  United Kingdom\n",
       "1     536365      71053                  WHITE METAL LANTERN  United Kingdom\n",
       "2     536365     84406B       CREAM CUPID HEARTS COAT HANGER  United Kingdom\n",
       "3     536365     84029G  KNITTED UNION FLAG HOT WATER BOTTLE  United Kingdom\n",
       "4     536365     84029E       RED WOOLLY HOTTIE WHITE HEART.  United Kingdom"
      ]
     },
     "execution_count": 33,
     "metadata": {},
     "output_type": "execute_result"
    }
   ],
   "source": [
    "cat_df1.head()"
   ]
  },
  {
   "cell_type": "code",
   "execution_count": 34,
   "id": "instant-thesaurus",
   "metadata": {
    "ExecuteTime": {
     "end_time": "2021-05-27T21:08:09.566979Z",
     "start_time": "2021-05-27T21:08:08.105654Z"
    },
    "hidden": true
   },
   "outputs": [
    {
     "name": "stdout",
     "output_type": "stream",
     "text": [
      "Number of invoices that have at least on letter: 9291\n",
      "Number of invoices that have at least on letter and have NEGATIVE \"quantity\": 9288 \n",
      "\n"
     ]
    }
   ],
   "source": [
    "# === 'invoice_no' \n",
    "\n",
    "# checking invoice_no' that have at least one letter\n",
    "invoice_no_oneletter = df1.loc[df1['invoice_no'].apply (lambda x: bool(re.search('[^0-9]+', x))),:]\n",
    "print('Number of invoices that have at least on letter:', invoice_no_oneletter.shape[0])\n",
    "print('Number of invoices that have at least on letter and have NEGATIVE \"quantity\":', invoice_no_oneletter[invoice_no_oneletter['quantity']<0].shape[0],'\\n')"
   ]
  },
  {
   "cell_type": "code",
   "execution_count": 35,
   "id": "helpful-wagon",
   "metadata": {
    "ExecuteTime": {
     "end_time": "2021-05-27T21:08:16.946177Z",
     "start_time": "2021-05-27T21:08:13.990991Z"
    },
    "hidden": true
   },
   "outputs": [
    {
     "name": "stdout",
     "output_type": "stream",
     "text": [
      "Number of stock codes that have at least one letter: 54873\n",
      "Number of stock codes that have at least one letter and have NEGATIVE \"quantity\": 1637 \n",
      "\n",
      "Number of stock codes that have only letters: 2759 \n",
      "\n",
      "Unique values of stock codes that have only letters: \n",
      " ['POST' 'D' 'DOT' 'M' 'S' 'AMAZONFEE' 'm' 'DCGSSBOY' 'DCGSSGIRL' 'PADS'\n",
      " 'B' 'CRUK'] \n",
      "\n",
      "Unique values of \"description\" from stock codes that have only letters: \n",
      " ['POSTAGE' 'Discount' 'DOTCOM POSTAGE' 'Manual' 'SAMPLES' 'AMAZON FEE' nan\n",
      " 'BOYS PARTY BAG' 'GIRLS PARTY BAG' 'PADS TO MATCH ALL CUSHIONS'\n",
      " 'Adjust bad debt' 'CRUK Commission']\n"
     ]
    }
   ],
   "source": [
    "# === 'stock_code'\n",
    "\n",
    "# checking 'stock_code' that have at least one letter\n",
    "stockcode_oneletter = df1.loc[df1['stock_code'].apply (lambda x: bool(re.search('[^0-9]+', x))),:]\n",
    "print('Number of stock codes that have at least one letter:', stockcode_oneletter.shape[0])\n",
    "print('Number of stock codes that have at least one letter and have NEGATIVE \"quantity\":', stockcode_oneletter[stockcode_oneletter['quantity']<0].shape[0],'\\n')\n",
    "\n",
    "# checking 'stock_code' that have only letter\n",
    "stockcode_onlyletter = df1.loc[cat_df1['stock_code'].apply (lambda x: bool(re.search('^[a-zA-Z]+$', x))),:]\n",
    "print('Number of stock codes that have only letters:', stockcode_onlyletter.shape[0],'\\n')\n",
    "print('Unique values of stock codes that have only letters: \\n', stockcode_onlyletter['stock_code'].unique(),'\\n')\n",
    "print('Unique values of \"description\" from stock codes that have only letters: \\n', stockcode_onlyletter['description'].unique())\n",
    "\n",
    "# next cycle, remove stockcode_onlyletter: ['POST' 'D' 'M' 'PADS' 'DOT' 'CRUK'] "
   ]
  },
  {
   "cell_type": "code",
   "execution_count": 36,
   "id": "collectible-automation",
   "metadata": {
    "ExecuteTime": {
     "end_time": "2021-05-27T21:08:16.962191Z",
     "start_time": "2021-05-27T21:08:16.947178Z"
    },
    "hidden": true
   },
   "outputs": [],
   "source": [
    "# === 'description\n",
    "# next cycle, delete this column"
   ]
  },
  {
   "cell_type": "code",
   "execution_count": 37,
   "id": "sitting-watch",
   "metadata": {
    "ExecuteTime": {
     "end_time": "2021-05-27T21:08:17.058279Z",
     "start_time": "2021-05-27T21:08:16.963192Z"
    },
    "hidden": true,
    "scrolled": true
   },
   "outputs": [
    {
     "name": "stdout",
     "output_type": "stream",
     "text": [
      "Number of countries in the dataset: 38\n"
     ]
    },
    {
     "data": {
      "text/html": [
       "<div>\n",
       "<style scoped>\n",
       "    .dataframe tbody tr th:only-of-type {\n",
       "        vertical-align: middle;\n",
       "    }\n",
       "\n",
       "    .dataframe tbody tr th {\n",
       "        vertical-align: top;\n",
       "    }\n",
       "\n",
       "    .dataframe thead th {\n",
       "        text-align: right;\n",
       "    }\n",
       "</style>\n",
       "<table border=\"1\" class=\"dataframe\">\n",
       "  <thead>\n",
       "    <tr style=\"text-align: right;\">\n",
       "      <th></th>\n",
       "      <th>country</th>\n",
       "      <th>customer_id</th>\n",
       "    </tr>\n",
       "  </thead>\n",
       "  <tbody>\n",
       "    <tr>\n",
       "      <th>36</th>\n",
       "      <td>United Kingdom</td>\n",
       "      <td>7587</td>\n",
       "    </tr>\n",
       "    <tr>\n",
       "      <th>14</th>\n",
       "      <td>Germany</td>\n",
       "      <td>95</td>\n",
       "    </tr>\n",
       "    <tr>\n",
       "      <th>13</th>\n",
       "      <td>France</td>\n",
       "      <td>90</td>\n",
       "    </tr>\n",
       "    <tr>\n",
       "      <th>10</th>\n",
       "      <td>EIRE</td>\n",
       "      <td>44</td>\n",
       "    </tr>\n",
       "    <tr>\n",
       "      <th>31</th>\n",
       "      <td>Spain</td>\n",
       "      <td>31</td>\n",
       "    </tr>\n",
       "    <tr>\n",
       "      <th>3</th>\n",
       "      <td>Belgium</td>\n",
       "      <td>25</td>\n",
       "    </tr>\n",
       "    <tr>\n",
       "      <th>33</th>\n",
       "      <td>Switzerland</td>\n",
       "      <td>24</td>\n",
       "    </tr>\n",
       "    <tr>\n",
       "      <th>27</th>\n",
       "      <td>Portugal</td>\n",
       "      <td>20</td>\n",
       "    </tr>\n",
       "    <tr>\n",
       "      <th>19</th>\n",
       "      <td>Italy</td>\n",
       "      <td>15</td>\n",
       "    </tr>\n",
       "    <tr>\n",
       "      <th>16</th>\n",
       "      <td>Hong Kong</td>\n",
       "      <td>15</td>\n",
       "    </tr>\n",
       "    <tr>\n",
       "      <th>12</th>\n",
       "      <td>Finland</td>\n",
       "      <td>12</td>\n",
       "    </tr>\n",
       "    <tr>\n",
       "      <th>1</th>\n",
       "      <td>Austria</td>\n",
       "      <td>11</td>\n",
       "    </tr>\n",
       "    <tr>\n",
       "      <th>25</th>\n",
       "      <td>Norway</td>\n",
       "      <td>10</td>\n",
       "    </tr>\n",
       "    <tr>\n",
       "      <th>24</th>\n",
       "      <td>Netherlands</td>\n",
       "      <td>9</td>\n",
       "    </tr>\n",
       "    <tr>\n",
       "      <th>0</th>\n",
       "      <td>Australia</td>\n",
       "      <td>9</td>\n",
       "    </tr>\n",
       "    <tr>\n",
       "      <th>37</th>\n",
       "      <td>Unspecified</td>\n",
       "      <td>9</td>\n",
       "    </tr>\n",
       "    <tr>\n",
       "      <th>9</th>\n",
       "      <td>Denmark</td>\n",
       "      <td>9</td>\n",
       "    </tr>\n",
       "    <tr>\n",
       "      <th>6</th>\n",
       "      <td>Channel Islands</td>\n",
       "      <td>9</td>\n",
       "    </tr>\n",
       "    <tr>\n",
       "      <th>7</th>\n",
       "      <td>Cyprus</td>\n",
       "      <td>8</td>\n",
       "    </tr>\n",
       "    <tr>\n",
       "      <th>32</th>\n",
       "      <td>Sweden</td>\n",
       "      <td>8</td>\n",
       "    </tr>\n",
       "    <tr>\n",
       "      <th>20</th>\n",
       "      <td>Japan</td>\n",
       "      <td>8</td>\n",
       "    </tr>\n",
       "    <tr>\n",
       "      <th>18</th>\n",
       "      <td>Israel</td>\n",
       "      <td>7</td>\n",
       "    </tr>\n",
       "    <tr>\n",
       "      <th>26</th>\n",
       "      <td>Poland</td>\n",
       "      <td>6</td>\n",
       "    </tr>\n",
       "    <tr>\n",
       "      <th>5</th>\n",
       "      <td>Canada</td>\n",
       "      <td>4</td>\n",
       "    </tr>\n",
       "    <tr>\n",
       "      <th>34</th>\n",
       "      <td>USA</td>\n",
       "      <td>4</td>\n",
       "    </tr>\n",
       "    <tr>\n",
       "      <th>2</th>\n",
       "      <td>Bahrain</td>\n",
       "      <td>4</td>\n",
       "    </tr>\n",
       "    <tr>\n",
       "      <th>15</th>\n",
       "      <td>Greece</td>\n",
       "      <td>4</td>\n",
       "    </tr>\n",
       "    <tr>\n",
       "      <th>23</th>\n",
       "      <td>Malta</td>\n",
       "      <td>2</td>\n",
       "    </tr>\n",
       "    <tr>\n",
       "      <th>35</th>\n",
       "      <td>United Arab Emirates</td>\n",
       "      <td>2</td>\n",
       "    </tr>\n",
       "    <tr>\n",
       "      <th>8</th>\n",
       "      <td>Czech Republic</td>\n",
       "      <td>1</td>\n",
       "    </tr>\n",
       "    <tr>\n",
       "      <th>22</th>\n",
       "      <td>Lithuania</td>\n",
       "      <td>1</td>\n",
       "    </tr>\n",
       "    <tr>\n",
       "      <th>11</th>\n",
       "      <td>European Community</td>\n",
       "      <td>1</td>\n",
       "    </tr>\n",
       "    <tr>\n",
       "      <th>21</th>\n",
       "      <td>Lebanon</td>\n",
       "      <td>1</td>\n",
       "    </tr>\n",
       "    <tr>\n",
       "      <th>28</th>\n",
       "      <td>RSA</td>\n",
       "      <td>1</td>\n",
       "    </tr>\n",
       "    <tr>\n",
       "      <th>29</th>\n",
       "      <td>Saudi Arabia</td>\n",
       "      <td>1</td>\n",
       "    </tr>\n",
       "    <tr>\n",
       "      <th>30</th>\n",
       "      <td>Singapore</td>\n",
       "      <td>1</td>\n",
       "    </tr>\n",
       "    <tr>\n",
       "      <th>17</th>\n",
       "      <td>Iceland</td>\n",
       "      <td>1</td>\n",
       "    </tr>\n",
       "    <tr>\n",
       "      <th>4</th>\n",
       "      <td>Brazil</td>\n",
       "      <td>1</td>\n",
       "    </tr>\n",
       "  </tbody>\n",
       "</table>\n",
       "</div>"
      ],
      "text/plain": [
       "                 country  customer_id\n",
       "36        United Kingdom         7587\n",
       "14               Germany           95\n",
       "13                France           90\n",
       "10                  EIRE           44\n",
       "31                 Spain           31\n",
       "3                Belgium           25\n",
       "33           Switzerland           24\n",
       "27              Portugal           20\n",
       "19                 Italy           15\n",
       "16             Hong Kong           15\n",
       "12               Finland           12\n",
       "1                Austria           11\n",
       "25                Norway           10\n",
       "24           Netherlands            9\n",
       "0              Australia            9\n",
       "37           Unspecified            9\n",
       "9                Denmark            9\n",
       "6        Channel Islands            9\n",
       "7                 Cyprus            8\n",
       "32                Sweden            8\n",
       "20                 Japan            8\n",
       "18                Israel            7\n",
       "26                Poland            6\n",
       "5                 Canada            4\n",
       "34                   USA            4\n",
       "2                Bahrain            4\n",
       "15                Greece            4\n",
       "23                 Malta            2\n",
       "35  United Arab Emirates            2\n",
       "8         Czech Republic            1\n",
       "22             Lithuania            1\n",
       "11    European Community            1\n",
       "21               Lebanon            1\n",
       "28                   RSA            1\n",
       "29          Saudi Arabia            1\n",
       "30             Singapore            1\n",
       "17               Iceland            1\n",
       "4                 Brazil            1"
      ]
     },
     "execution_count": 37,
     "metadata": {},
     "output_type": "execute_result"
    }
   ],
   "source": [
    "# === 'country'\n",
    "print('Number of countries in the dataset:',df1['country'].unique().shape[0])\n",
    "# df1['country'].value_counts(normalize=True)\n",
    "df1[['customer_id','country']].drop_duplicates().groupby('country').count().reset_index().sort_values('customer_id', ascending=False)"
   ]
  },
  {
   "cell_type": "code",
   "execution_count": null,
   "id": "sweet-albuquerque",
   "metadata": {
    "hidden": true
   },
   "outputs": [],
   "source": []
  },
  {
   "cell_type": "markdown",
   "id": "organized-nicaragua",
   "metadata": {
    "heading_collapsed": true
   },
   "source": [
    "# Variable Filtering"
   ]
  },
  {
   "cell_type": "code",
   "execution_count": 38,
   "id": "numeric-wales",
   "metadata": {
    "ExecuteTime": {
     "end_time": "2021-05-27T21:08:17.694856Z",
     "start_time": "2021-05-27T21:08:17.673837Z"
    },
    "hidden": true
   },
   "outputs": [],
   "source": [
    "df2 = df1.copy()"
   ]
  },
  {
   "cell_type": "code",
   "execution_count": 39,
   "id": "spatial-absolute",
   "metadata": {
    "ExecuteTime": {
     "end_time": "2021-05-27T21:08:18.076707Z",
     "start_time": "2021-05-27T21:08:18.063695Z"
    },
    "hidden": true
   },
   "outputs": [
    {
     "data": {
      "text/plain": [
       "invoice_no              object\n",
       "stock_code              object\n",
       "description             object\n",
       "quantity                 int64\n",
       "invoice_date    datetime64[ns]\n",
       "unit_price             float64\n",
       "customer_id              int64\n",
       "country                 object\n",
       "dtype: object"
      ]
     },
     "execution_count": 39,
     "metadata": {},
     "output_type": "execute_result"
    }
   ],
   "source": [
    "df2.dtypes"
   ]
  },
  {
   "cell_type": "code",
   "execution_count": 40,
   "id": "ecological-latest",
   "metadata": {
    "ExecuteTime": {
     "end_time": "2021-05-27T21:08:18.876432Z",
     "start_time": "2021-05-27T21:08:18.690263Z"
    },
    "hidden": true
   },
   "outputs": [],
   "source": [
    "# ==== NUMERICAL ATTRIBUTES\n",
    "\n",
    "# 'unit_price' > 0.004\n",
    "df2 = df2.loc[df2['unit_price']>=0.004,:]\n",
    "\n",
    "# 'stock_code' - selecting stock codes doesn't have only letters\n",
    "df2 = df2[~df2['stock_code'].isin(stockcode_onlyletter['stock_code'].unique())] # '~' is a negation for 'isin'\n",
    "\n",
    "# 'description' - dropping column\n",
    "df2 = df2.drop(columns='description', axis =1) \n",
    "\n",
    "# 'country' - dropping certain values\n",
    "df2 = df2[~df2['country'].isin(['European Community', 'Unspecified'])]\n",
    "\n",
    "# 'quantity' is negative/positive\n",
    "df2_returns = df2.loc[df2['quantity']<0,:]\n",
    "df2_purchases = df2.loc[df2['quantity']>0,:]"
   ]
  },
  {
   "cell_type": "markdown",
   "id": "increased-overhead",
   "metadata": {},
   "source": [
    "# Feature Engineering"
   ]
  },
  {
   "cell_type": "code",
   "execution_count": 54,
   "id": "compact-granny",
   "metadata": {
    "ExecuteTime": {
     "end_time": "2021-05-27T21:45:35.229490Z",
     "start_time": "2021-05-27T21:45:35.208471Z"
    }
   },
   "outputs": [],
   "source": [
    "df3 = df2.copy()"
   ]
  },
  {
   "cell_type": "markdown",
   "id": "other-poetry",
   "metadata": {},
   "source": [
    "## Feature Creation"
   ]
  },
  {
   "cell_type": "code",
   "execution_count": 124,
   "id": "pressed-panic",
   "metadata": {
    "ExecuteTime": {
     "end_time": "2021-05-27T22:45:45.849041Z",
     "start_time": "2021-05-27T22:45:45.812008Z"
    },
    "code_folding": []
   },
   "outputs": [
    {
     "name": "stdout",
     "output_type": "stream",
     "text": [
      "Data reference shape: (5787, 1)\n"
     ]
    },
    {
     "data": {
      "text/html": [
       "<div>\n",
       "<style scoped>\n",
       "    .dataframe tbody tr th:only-of-type {\n",
       "        vertical-align: middle;\n",
       "    }\n",
       "\n",
       "    .dataframe tbody tr th {\n",
       "        vertical-align: top;\n",
       "    }\n",
       "\n",
       "    .dataframe thead th {\n",
       "        text-align: right;\n",
       "    }\n",
       "</style>\n",
       "<table border=\"1\" class=\"dataframe\">\n",
       "  <thead>\n",
       "    <tr style=\"text-align: right;\">\n",
       "      <th></th>\n",
       "      <th>customer_id</th>\n",
       "    </tr>\n",
       "  </thead>\n",
       "  <tbody>\n",
       "    <tr>\n",
       "      <th>0</th>\n",
       "      <td>17850</td>\n",
       "    </tr>\n",
       "    <tr>\n",
       "      <th>1</th>\n",
       "      <td>13047</td>\n",
       "    </tr>\n",
       "    <tr>\n",
       "      <th>2</th>\n",
       "      <td>12583</td>\n",
       "    </tr>\n",
       "    <tr>\n",
       "      <th>3</th>\n",
       "      <td>13748</td>\n",
       "    </tr>\n",
       "    <tr>\n",
       "      <th>4</th>\n",
       "      <td>15100</td>\n",
       "    </tr>\n",
       "  </tbody>\n",
       "</table>\n",
       "</div>"
      ],
      "text/plain": [
       "   customer_id\n",
       "0        17850\n",
       "1        13047\n",
       "2        12583\n",
       "3        13748\n",
       "4        15100"
      ]
     },
     "execution_count": 124,
     "metadata": {},
     "output_type": "execute_result"
    }
   ],
   "source": [
    "# df_ref = data reference\n",
    "df_ref = df3.drop (['invoice_no','stock_code','quantity','invoice_date','unit_price','country'],\n",
    "                   axis=1).drop_duplicates(ignore_index=True) # selecting 'customer_id' and droping duplicates\n",
    "print('Data reference shape:', df_ref.shape)\n",
    "df_ref.head()"
   ]
  },
  {
   "cell_type": "markdown",
   "id": "corresponding-brave",
   "metadata": {
    "heading_collapsed": true
   },
   "source": [
    "### Gross Revenue"
   ]
  },
  {
   "cell_type": "code",
   "execution_count": 125,
   "id": "developing-juice",
   "metadata": {
    "ExecuteTime": {
     "end_time": "2021-05-27T22:45:46.137303Z",
     "start_time": "2021-05-27T22:45:46.105274Z"
    },
    "code_folding": [],
    "hidden": true
   },
   "outputs": [
    {
     "name": "stdout",
     "output_type": "stream",
     "text": [
      "Checking NA:\n",
      "\n",
      "customer_id       0\n",
      "gross_revenue    91\n",
      "dtype: int64 \n",
      "\n",
      "\n",
      "Data reference shape: (5787, 2)\n"
     ]
    },
    {
     "name": "stderr",
     "output_type": "stream",
     "text": [
      "C:\\Users\\Mariana\\Documents\\anaconda3\\envs\\pa005_customerclustering\\lib\\site-packages\\pandas\\core\\indexing.py:1676: SettingWithCopyWarning: \n",
      "A value is trying to be set on a copy of a slice from a DataFrame.\n",
      "Try using .loc[row_indexer,col_indexer] = value instead\n",
      "\n",
      "See the caveats in the documentation: https://pandas.pydata.org/pandas-docs/stable/user_guide/indexing.html#returning-a-view-versus-a-copy\n",
      "  self._setitem_single_column(ilocs[0], value, pi)\n"
     ]
    },
    {
     "data": {
      "text/html": [
       "<div>\n",
       "<style scoped>\n",
       "    .dataframe tbody tr th:only-of-type {\n",
       "        vertical-align: middle;\n",
       "    }\n",
       "\n",
       "    .dataframe tbody tr th {\n",
       "        vertical-align: top;\n",
       "    }\n",
       "\n",
       "    .dataframe thead th {\n",
       "        text-align: right;\n",
       "    }\n",
       "</style>\n",
       "<table border=\"1\" class=\"dataframe\">\n",
       "  <thead>\n",
       "    <tr style=\"text-align: right;\">\n",
       "      <th></th>\n",
       "      <th>customer_id</th>\n",
       "      <th>gross_revenue</th>\n",
       "    </tr>\n",
       "  </thead>\n",
       "  <tbody>\n",
       "    <tr>\n",
       "      <th>0</th>\n",
       "      <td>17850</td>\n",
       "      <td>5,391.21</td>\n",
       "    </tr>\n",
       "    <tr>\n",
       "      <th>1</th>\n",
       "      <td>13047</td>\n",
       "      <td>3,232.59</td>\n",
       "    </tr>\n",
       "    <tr>\n",
       "      <th>2</th>\n",
       "      <td>12583</td>\n",
       "      <td>6,705.38</td>\n",
       "    </tr>\n",
       "    <tr>\n",
       "      <th>3</th>\n",
       "      <td>13748</td>\n",
       "      <td>948.25</td>\n",
       "    </tr>\n",
       "    <tr>\n",
       "      <th>4</th>\n",
       "      <td>15100</td>\n",
       "      <td>876.00</td>\n",
       "    </tr>\n",
       "  </tbody>\n",
       "</table>\n",
       "</div>"
      ],
      "text/plain": [
       "   customer_id  gross_revenue\n",
       "0        17850       5,391.21\n",
       "1        13047       3,232.59\n",
       "2        12583       6,705.38\n",
       "3        13748         948.25\n",
       "4        15100         876.00"
      ]
     },
     "execution_count": 125,
     "metadata": {},
     "output_type": "execute_result"
    }
   ],
   "source": [
    "# === GROSS REVENUE - how much each 'customer_id' spent (quantity * price)\n",
    "\n",
    "# calculating gross revenue on 'df2_purchases'\n",
    "df2_purchases.loc[:, 'gross_revenue'] = df2_purchases.loc[:,'quantity']*df2_purchases.loc[:,'unit_price']\n",
    "\n",
    "# grouping 'gross_revenue' by 'customer_id'\n",
    "df_gross_revenue = df2_purchases.loc[:, ['customer_id','gross_revenue']].groupby('customer_id').sum().reset_index()\n",
    "\n",
    "\n",
    "# === merging dataframes\n",
    "df_ref = pd.merge(df_ref, df_gross_revenue, on='customer_id', how='left')\n",
    "print('Checking NA:\\n')\n",
    "print(df_ref.isna().sum(),'\\n\\n')\n",
    "print('Data reference shape:', df_ref.shape)\n",
    "df_ref.head()"
   ]
  },
  {
   "cell_type": "markdown",
   "id": "together-apple",
   "metadata": {
    "heading_collapsed": true
   },
   "source": [
    "### Recency "
   ]
  },
  {
   "cell_type": "code",
   "execution_count": 126,
   "id": "hourly-short",
   "metadata": {
    "ExecuteTime": {
     "end_time": "2021-05-27T22:45:46.425564Z",
     "start_time": "2021-05-27T22:45:46.386529Z"
    },
    "code_folding": [],
    "hidden": true
   },
   "outputs": [
    {
     "name": "stdout",
     "output_type": "stream",
     "text": [
      "Checking NA:\n",
      "\n",
      "customer_id       0\n",
      "gross_revenue    91\n",
      "recency_days     91\n",
      "dtype: int64 \n",
      "\n",
      "\n",
      "Data reference shape: (5787, 3)\n"
     ]
    },
    {
     "data": {
      "text/html": [
       "<div>\n",
       "<style scoped>\n",
       "    .dataframe tbody tr th:only-of-type {\n",
       "        vertical-align: middle;\n",
       "    }\n",
       "\n",
       "    .dataframe tbody tr th {\n",
       "        vertical-align: top;\n",
       "    }\n",
       "\n",
       "    .dataframe thead th {\n",
       "        text-align: right;\n",
       "    }\n",
       "</style>\n",
       "<table border=\"1\" class=\"dataframe\">\n",
       "  <thead>\n",
       "    <tr style=\"text-align: right;\">\n",
       "      <th></th>\n",
       "      <th>customer_id</th>\n",
       "      <th>gross_revenue</th>\n",
       "      <th>recency_days</th>\n",
       "    </tr>\n",
       "  </thead>\n",
       "  <tbody>\n",
       "    <tr>\n",
       "      <th>0</th>\n",
       "      <td>17850</td>\n",
       "      <td>5,391.21</td>\n",
       "      <td>372.00</td>\n",
       "    </tr>\n",
       "    <tr>\n",
       "      <th>1</th>\n",
       "      <td>13047</td>\n",
       "      <td>3,232.59</td>\n",
       "      <td>56.00</td>\n",
       "    </tr>\n",
       "    <tr>\n",
       "      <th>2</th>\n",
       "      <td>12583</td>\n",
       "      <td>6,705.38</td>\n",
       "      <td>2.00</td>\n",
       "    </tr>\n",
       "    <tr>\n",
       "      <th>3</th>\n",
       "      <td>13748</td>\n",
       "      <td>948.25</td>\n",
       "      <td>95.00</td>\n",
       "    </tr>\n",
       "    <tr>\n",
       "      <th>4</th>\n",
       "      <td>15100</td>\n",
       "      <td>876.00</td>\n",
       "      <td>333.00</td>\n",
       "    </tr>\n",
       "  </tbody>\n",
       "</table>\n",
       "</div>"
      ],
      "text/plain": [
       "   customer_id  gross_revenue  recency_days\n",
       "0        17850       5,391.21        372.00\n",
       "1        13047       3,232.59         56.00\n",
       "2        12583       6,705.38          2.00\n",
       "3        13748         948.25         95.00\n",
       "4        15100         876.00        333.00"
      ]
     },
     "execution_count": 126,
     "metadata": {},
     "output_type": "execute_result"
    }
   ],
   "source": [
    "# === RECENCY - last day of purchase of each 'customer_id'\n",
    "\n",
    "# selecting last 'invoice_date by 'customer_id'\n",
    "df_recency = df2_purchases.loc[:, ['customer_id','invoice_date']].groupby('customer_id').max().reset_index()\n",
    "\n",
    "# calculating 'recency_days'\n",
    "df_recency ['recency_days'] = (df2_purchases['invoice_date'].max() - df_recency['invoice_date']).dt.days # dt vectorizes the series to apply 'days' command\n",
    "\n",
    "# droping 'invoice_date' column\n",
    "df_recency = df_recency[['customer_id','recency_days']].copy()\n",
    "\n",
    "# df_recency.head()\n",
    "\n",
    "\n",
    "# === merging dataframes\n",
    "df_ref = pd.merge(df_ref, df_recency, on='customer_id', how='left')\n",
    "print('Checking NA:\\n')\n",
    "print(df_ref.isna().sum(),'\\n\\n')\n",
    "print('Data reference shape:', df_ref.shape)\n",
    "df_ref.head()"
   ]
  },
  {
   "cell_type": "markdown",
   "id": "pleasant-security",
   "metadata": {
    "heading_collapsed": true
   },
   "source": [
    "### Quantity of baskets "
   ]
  },
  {
   "cell_type": "code",
   "execution_count": 127,
   "id": "vietnamese-republican",
   "metadata": {
    "ExecuteTime": {
     "end_time": "2021-05-27T22:45:46.745854Z",
     "start_time": "2021-05-27T22:45:46.674790Z"
    },
    "code_folding": [],
    "hidden": true
   },
   "outputs": [
    {
     "name": "stdout",
     "output_type": "stream",
     "text": [
      "Checking NA:\n",
      "\n",
      "customer_id       0\n",
      "gross_revenue    91\n",
      "recency_days     91\n",
      "qty_baskets      91\n",
      "dtype: int64 \n",
      "\n",
      "\n",
      "Data reference shape: (5787, 4)\n"
     ]
    },
    {
     "data": {
      "text/html": [
       "<div>\n",
       "<style scoped>\n",
       "    .dataframe tbody tr th:only-of-type {\n",
       "        vertical-align: middle;\n",
       "    }\n",
       "\n",
       "    .dataframe tbody tr th {\n",
       "        vertical-align: top;\n",
       "    }\n",
       "\n",
       "    .dataframe thead th {\n",
       "        text-align: right;\n",
       "    }\n",
       "</style>\n",
       "<table border=\"1\" class=\"dataframe\">\n",
       "  <thead>\n",
       "    <tr style=\"text-align: right;\">\n",
       "      <th></th>\n",
       "      <th>customer_id</th>\n",
       "      <th>gross_revenue</th>\n",
       "      <th>recency_days</th>\n",
       "      <th>qty_baskets</th>\n",
       "    </tr>\n",
       "  </thead>\n",
       "  <tbody>\n",
       "    <tr>\n",
       "      <th>0</th>\n",
       "      <td>17850</td>\n",
       "      <td>5,391.21</td>\n",
       "      <td>372.00</td>\n",
       "      <td>34.00</td>\n",
       "    </tr>\n",
       "    <tr>\n",
       "      <th>1</th>\n",
       "      <td>13047</td>\n",
       "      <td>3,232.59</td>\n",
       "      <td>56.00</td>\n",
       "      <td>9.00</td>\n",
       "    </tr>\n",
       "    <tr>\n",
       "      <th>2</th>\n",
       "      <td>12583</td>\n",
       "      <td>6,705.38</td>\n",
       "      <td>2.00</td>\n",
       "      <td>15.00</td>\n",
       "    </tr>\n",
       "    <tr>\n",
       "      <th>3</th>\n",
       "      <td>13748</td>\n",
       "      <td>948.25</td>\n",
       "      <td>95.00</td>\n",
       "      <td>5.00</td>\n",
       "    </tr>\n",
       "    <tr>\n",
       "      <th>4</th>\n",
       "      <td>15100</td>\n",
       "      <td>876.00</td>\n",
       "      <td>333.00</td>\n",
       "      <td>3.00</td>\n",
       "    </tr>\n",
       "  </tbody>\n",
       "</table>\n",
       "</div>"
      ],
      "text/plain": [
       "   customer_id  gross_revenue  recency_days  qty_baskets\n",
       "0        17850       5,391.21        372.00        34.00\n",
       "1        13047       3,232.59         56.00         9.00\n",
       "2        12583       6,705.38          2.00        15.00\n",
       "3        13748         948.25         95.00         5.00\n",
       "4        15100         876.00        333.00         3.00"
      ]
     },
     "execution_count": 127,
     "metadata": {},
     "output_type": "execute_result"
    }
   ],
   "source": [
    "# === QUANTITY OF BASKETS - number of purchases per 'customer_id'\n",
    "\n",
    "# grouping 'invoice_no' by 'customer_id'\n",
    "df_qty_baskets = df2_purchases.loc[:, ['customer_id','invoice_no']].drop_duplicates().groupby('customer_id').count().reset_index()\n",
    "df_qty_baskets = df_qty_baskets.rename(columns={'customer_id': 'customer_id','invoice_no': 'qty_baskets'}) # changing columns names\n",
    "df_qty_baskets.head()\n",
    "\n",
    "\n",
    "# === merging dataframes\n",
    "df_ref = pd.merge(df_ref, df_qty_baskets, on='customer_id', how='left')\n",
    "print('Checking NA:\\n')\n",
    "print(df_ref.isna().sum(),'\\n\\n')\n",
    "print('Data reference shape:', df_ref.shape)\n",
    "df_ref.head()"
   ]
  },
  {
   "cell_type": "markdown",
   "id": "still-width",
   "metadata": {
    "heading_collapsed": true
   },
   "source": [
    "### Quantity of items"
   ]
  },
  {
   "cell_type": "code",
   "execution_count": 128,
   "id": "amazing-plymouth",
   "metadata": {
    "ExecuteTime": {
     "end_time": "2021-05-27T22:45:47.561594Z",
     "start_time": "2021-05-27T22:45:47.528565Z"
    },
    "hidden": true
   },
   "outputs": [
    {
     "name": "stdout",
     "output_type": "stream",
     "text": [
      "Checking NA:\n",
      "\n",
      "customer_id       0\n",
      "gross_revenue    91\n",
      "recency_days     91\n",
      "qty_baskets      91\n",
      "qty_items        91\n",
      "dtype: int64 \n",
      "\n",
      "\n",
      "Data reference shape: (5787, 5)\n"
     ]
    },
    {
     "data": {
      "text/html": [
       "<div>\n",
       "<style scoped>\n",
       "    .dataframe tbody tr th:only-of-type {\n",
       "        vertical-align: middle;\n",
       "    }\n",
       "\n",
       "    .dataframe tbody tr th {\n",
       "        vertical-align: top;\n",
       "    }\n",
       "\n",
       "    .dataframe thead th {\n",
       "        text-align: right;\n",
       "    }\n",
       "</style>\n",
       "<table border=\"1\" class=\"dataframe\">\n",
       "  <thead>\n",
       "    <tr style=\"text-align: right;\">\n",
       "      <th></th>\n",
       "      <th>customer_id</th>\n",
       "      <th>gross_revenue</th>\n",
       "      <th>recency_days</th>\n",
       "      <th>qty_baskets</th>\n",
       "      <th>qty_items</th>\n",
       "    </tr>\n",
       "  </thead>\n",
       "  <tbody>\n",
       "    <tr>\n",
       "      <th>0</th>\n",
       "      <td>17850</td>\n",
       "      <td>5,391.21</td>\n",
       "      <td>372.00</td>\n",
       "      <td>34.00</td>\n",
       "      <td>1,733.00</td>\n",
       "    </tr>\n",
       "    <tr>\n",
       "      <th>1</th>\n",
       "      <td>13047</td>\n",
       "      <td>3,232.59</td>\n",
       "      <td>56.00</td>\n",
       "      <td>9.00</td>\n",
       "      <td>1,390.00</td>\n",
       "    </tr>\n",
       "    <tr>\n",
       "      <th>2</th>\n",
       "      <td>12583</td>\n",
       "      <td>6,705.38</td>\n",
       "      <td>2.00</td>\n",
       "      <td>15.00</td>\n",
       "      <td>5,028.00</td>\n",
       "    </tr>\n",
       "    <tr>\n",
       "      <th>3</th>\n",
       "      <td>13748</td>\n",
       "      <td>948.25</td>\n",
       "      <td>95.00</td>\n",
       "      <td>5.00</td>\n",
       "      <td>439.00</td>\n",
       "    </tr>\n",
       "    <tr>\n",
       "      <th>4</th>\n",
       "      <td>15100</td>\n",
       "      <td>876.00</td>\n",
       "      <td>333.00</td>\n",
       "      <td>3.00</td>\n",
       "      <td>80.00</td>\n",
       "    </tr>\n",
       "  </tbody>\n",
       "</table>\n",
       "</div>"
      ],
      "text/plain": [
       "   customer_id  gross_revenue  recency_days  qty_baskets  qty_items\n",
       "0        17850       5,391.21        372.00        34.00   1,733.00\n",
       "1        13047       3,232.59         56.00         9.00   1,390.00\n",
       "2        12583       6,705.38          2.00        15.00   5,028.00\n",
       "3        13748         948.25         95.00         5.00     439.00\n",
       "4        15100         876.00        333.00         3.00      80.00"
      ]
     },
     "execution_count": 128,
     "metadata": {},
     "output_type": "execute_result"
    }
   ],
   "source": [
    "# === QUANTITY OF ITEMS - sum of number of produts per 'customer_id'\n",
    "\n",
    "# grouping 'quantity' by 'customer_id'\n",
    "df_qty_items = df2_purchases.loc[:, ['customer_id','quantity']].groupby('customer_id').sum().reset_index()\n",
    "df_qty_items = df_qty_items.rename(columns={'customer_id': 'customer_id','quantity': 'qty_items'}) # changing columns names\n",
    "df_qty_items.head()\n",
    "\n",
    "\n",
    "# # === merging dataframes\n",
    "df_ref = pd.merge(df_ref, df_qty_items, on='customer_id', how='left')\n",
    "print('Checking NA:\\n')\n",
    "print(df_ref.isna().sum(),'\\n\\n')\n",
    "print('Data reference shape:', df_ref.shape)\n",
    "df_ref.head()"
   ]
  },
  {
   "cell_type": "markdown",
   "id": "toxic-quebec",
   "metadata": {
    "heading_collapsed": true
   },
   "source": [
    "### Quantity of Products"
   ]
  },
  {
   "cell_type": "code",
   "execution_count": 129,
   "id": "adverse-clone",
   "metadata": {
    "ExecuteTime": {
     "end_time": "2021-05-27T22:45:48.441392Z",
     "start_time": "2021-05-27T22:45:48.386343Z"
    },
    "hidden": true
   },
   "outputs": [
    {
     "name": "stdout",
     "output_type": "stream",
     "text": [
      "Checking NA:\n",
      "\n",
      "customer_id       0\n",
      "gross_revenue    91\n",
      "recency_days     91\n",
      "qty_baskets      91\n",
      "qty_items        91\n",
      "qty_products     91\n",
      "dtype: int64 \n",
      "\n",
      "\n",
      "Data reference shape: (5787, 6)\n"
     ]
    },
    {
     "data": {
      "text/html": [
       "<div>\n",
       "<style scoped>\n",
       "    .dataframe tbody tr th:only-of-type {\n",
       "        vertical-align: middle;\n",
       "    }\n",
       "\n",
       "    .dataframe tbody tr th {\n",
       "        vertical-align: top;\n",
       "    }\n",
       "\n",
       "    .dataframe thead th {\n",
       "        text-align: right;\n",
       "    }\n",
       "</style>\n",
       "<table border=\"1\" class=\"dataframe\">\n",
       "  <thead>\n",
       "    <tr style=\"text-align: right;\">\n",
       "      <th></th>\n",
       "      <th>customer_id</th>\n",
       "      <th>gross_revenue</th>\n",
       "      <th>recency_days</th>\n",
       "      <th>qty_baskets</th>\n",
       "      <th>qty_items</th>\n",
       "      <th>qty_products</th>\n",
       "    </tr>\n",
       "  </thead>\n",
       "  <tbody>\n",
       "    <tr>\n",
       "      <th>0</th>\n",
       "      <td>17850</td>\n",
       "      <td>5,391.21</td>\n",
       "      <td>372.00</td>\n",
       "      <td>34.00</td>\n",
       "      <td>1,733.00</td>\n",
       "      <td>297.00</td>\n",
       "    </tr>\n",
       "    <tr>\n",
       "      <th>1</th>\n",
       "      <td>13047</td>\n",
       "      <td>3,232.59</td>\n",
       "      <td>56.00</td>\n",
       "      <td>9.00</td>\n",
       "      <td>1,390.00</td>\n",
       "      <td>171.00</td>\n",
       "    </tr>\n",
       "    <tr>\n",
       "      <th>2</th>\n",
       "      <td>12583</td>\n",
       "      <td>6,705.38</td>\n",
       "      <td>2.00</td>\n",
       "      <td>15.00</td>\n",
       "      <td>5,028.00</td>\n",
       "      <td>232.00</td>\n",
       "    </tr>\n",
       "    <tr>\n",
       "      <th>3</th>\n",
       "      <td>13748</td>\n",
       "      <td>948.25</td>\n",
       "      <td>95.00</td>\n",
       "      <td>5.00</td>\n",
       "      <td>439.00</td>\n",
       "      <td>28.00</td>\n",
       "    </tr>\n",
       "    <tr>\n",
       "      <th>4</th>\n",
       "      <td>15100</td>\n",
       "      <td>876.00</td>\n",
       "      <td>333.00</td>\n",
       "      <td>3.00</td>\n",
       "      <td>80.00</td>\n",
       "      <td>3.00</td>\n",
       "    </tr>\n",
       "  </tbody>\n",
       "</table>\n",
       "</div>"
      ],
      "text/plain": [
       "   customer_id  gross_revenue  recency_days  qty_baskets  qty_items  qty_products\n",
       "0        17850       5,391.21        372.00        34.00   1,733.00        297.00\n",
       "1        13047       3,232.59         56.00         9.00   1,390.00        171.00\n",
       "2        12583       6,705.38          2.00        15.00   5,028.00        232.00\n",
       "3        13748         948.25         95.00         5.00     439.00         28.00\n",
       "4        15100         876.00        333.00         3.00      80.00          3.00"
      ]
     },
     "execution_count": 129,
     "metadata": {},
     "output_type": "execute_result"
    }
   ],
   "source": [
    "# === QUANTITY OF PRODUCTS - quantity of unique 'stock_code' per 'customer_id'\n",
    "\n",
    "# grouping 'stock_code' by 'customer_id'\n",
    "df_qty_products = df2_purchases.loc[:, ['customer_id','stock_code']].groupby('customer_id').count().reset_index()\n",
    "df_qty_products = df_qty_products.rename(columns={'customer_id': 'customer_id','stock_code': 'qty_products'}) # changing columns names\n",
    "df_qty_products.head()\n",
    "\n",
    "\n",
    "# # === merging dataframes\n",
    "df_ref = pd.merge(df_ref, df_qty_products, on='customer_id', how='left')\n",
    "print('Checking NA:\\n')\n",
    "print(df_ref.isna().sum(),'\\n\\n')\n",
    "print('Data reference shape:', df_ref.shape)\n",
    "df_ref.head()"
   ]
  },
  {
   "cell_type": "markdown",
   "id": "abroad-holmes",
   "metadata": {
    "heading_collapsed": true
   },
   "source": [
    "### Avg Ticket"
   ]
  },
  {
   "cell_type": "code",
   "execution_count": 130,
   "id": "joint-review",
   "metadata": {
    "ExecuteTime": {
     "end_time": "2021-05-27T22:47:23.552691Z",
     "start_time": "2021-05-27T22:47:23.513656Z"
    },
    "hidden": true
   },
   "outputs": [
    {
     "name": "stdout",
     "output_type": "stream",
     "text": [
      "Checking NA:\n",
      "\n",
      "customer_id       0\n",
      "gross_revenue    91\n",
      "recency_days     91\n",
      "qty_baskets      91\n",
      "qty_items        91\n",
      "qty_products     91\n",
      "avg_ticket       91\n",
      "dtype: int64 \n",
      "\n",
      "\n",
      "Data reference shape: (5787, 7)\n"
     ]
    },
    {
     "data": {
      "text/html": [
       "<div>\n",
       "<style scoped>\n",
       "    .dataframe tbody tr th:only-of-type {\n",
       "        vertical-align: middle;\n",
       "    }\n",
       "\n",
       "    .dataframe tbody tr th {\n",
       "        vertical-align: top;\n",
       "    }\n",
       "\n",
       "    .dataframe thead th {\n",
       "        text-align: right;\n",
       "    }\n",
       "</style>\n",
       "<table border=\"1\" class=\"dataframe\">\n",
       "  <thead>\n",
       "    <tr style=\"text-align: right;\">\n",
       "      <th></th>\n",
       "      <th>customer_id</th>\n",
       "      <th>gross_revenue</th>\n",
       "      <th>recency_days</th>\n",
       "      <th>qty_baskets</th>\n",
       "      <th>qty_items</th>\n",
       "      <th>qty_products</th>\n",
       "      <th>avg_ticket</th>\n",
       "    </tr>\n",
       "  </thead>\n",
       "  <tbody>\n",
       "    <tr>\n",
       "      <th>0</th>\n",
       "      <td>17850</td>\n",
       "      <td>5,391.21</td>\n",
       "      <td>372.00</td>\n",
       "      <td>34.00</td>\n",
       "      <td>1,733.00</td>\n",
       "      <td>297.00</td>\n",
       "      <td>18.15</td>\n",
       "    </tr>\n",
       "    <tr>\n",
       "      <th>1</th>\n",
       "      <td>13047</td>\n",
       "      <td>3,232.59</td>\n",
       "      <td>56.00</td>\n",
       "      <td>9.00</td>\n",
       "      <td>1,390.00</td>\n",
       "      <td>171.00</td>\n",
       "      <td>18.90</td>\n",
       "    </tr>\n",
       "    <tr>\n",
       "      <th>2</th>\n",
       "      <td>12583</td>\n",
       "      <td>6,705.38</td>\n",
       "      <td>2.00</td>\n",
       "      <td>15.00</td>\n",
       "      <td>5,028.00</td>\n",
       "      <td>232.00</td>\n",
       "      <td>28.90</td>\n",
       "    </tr>\n",
       "    <tr>\n",
       "      <th>3</th>\n",
       "      <td>13748</td>\n",
       "      <td>948.25</td>\n",
       "      <td>95.00</td>\n",
       "      <td>5.00</td>\n",
       "      <td>439.00</td>\n",
       "      <td>28.00</td>\n",
       "      <td>33.87</td>\n",
       "    </tr>\n",
       "    <tr>\n",
       "      <th>4</th>\n",
       "      <td>15100</td>\n",
       "      <td>876.00</td>\n",
       "      <td>333.00</td>\n",
       "      <td>3.00</td>\n",
       "      <td>80.00</td>\n",
       "      <td>3.00</td>\n",
       "      <td>292.00</td>\n",
       "    </tr>\n",
       "  </tbody>\n",
       "</table>\n",
       "</div>"
      ],
      "text/plain": [
       "   customer_id  gross_revenue  recency_days  qty_baskets  qty_items  qty_products  avg_ticket\n",
       "0        17850       5,391.21        372.00        34.00   1,733.00        297.00       18.15\n",
       "1        13047       3,232.59         56.00         9.00   1,390.00        171.00       18.90\n",
       "2        12583       6,705.38          2.00        15.00   5,028.00        232.00       28.90\n",
       "3        13748         948.25         95.00         5.00     439.00         28.00       33.87\n",
       "4        15100         876.00        333.00         3.00      80.00          3.00      292.00"
      ]
     },
     "execution_count": 130,
     "metadata": {},
     "output_type": "execute_result"
    }
   ],
   "source": [
    "# === AVG TICKET - how much is spend in average per 'customer_id'\n",
    "\n",
    "# grouping 'gross_revenue' by 'customer_id'\n",
    "df_avgticket = df2_purchases[['customer_id','gross_revenue']].groupby('customer_id').mean().reset_index()\n",
    "df_avgticket = df_avgticket.rename(columns={'gross_revenue':'avg_ticket'})\n",
    "df_avgticket.head()\n",
    "\n",
    "# merging dataframes\n",
    "df_ref = pd.merge(df_ref, df_avgticket, on='customer_id', how='left')\n",
    "print('Checking NA:\\n')\n",
    "print(df_ref.isna().sum(),'\\n\\n')\n",
    "print('Data reference shape:', df_ref.shape)\n",
    "df_ref.head()"
   ]
  },
  {
   "cell_type": "markdown",
   "id": "registered-riverside",
   "metadata": {
    "ExecuteTime": {
     "end_time": "2021-05-22T18:26:16.480000Z",
     "start_time": "2021-05-22T18:26:16.463985Z"
    },
    "heading_collapsed": true
   },
   "source": [
    "### Avg Recency Days"
   ]
  },
  {
   "cell_type": "code",
   "execution_count": 131,
   "id": "affecting-conservative",
   "metadata": {
    "ExecuteTime": {
     "end_time": "2021-05-27T22:47:24.832852Z",
     "start_time": "2021-05-27T22:47:24.242317Z"
    },
    "hidden": true
   },
   "outputs": [
    {
     "name": "stdout",
     "output_type": "stream",
     "text": [
      "Checking NA:\n",
      "\n",
      "customer_id            0\n",
      "gross_revenue         91\n",
      "recency_days          91\n",
      "qty_baskets           91\n",
      "qty_items             91\n",
      "qty_products          91\n",
      "avg_ticket            91\n",
      "avg_recency_days    2816\n",
      "dtype: int64 \n",
      "\n",
      "\n",
      "Data reference shape: (5787, 8)\n"
     ]
    },
    {
     "data": {
      "text/html": [
       "<div>\n",
       "<style scoped>\n",
       "    .dataframe tbody tr th:only-of-type {\n",
       "        vertical-align: middle;\n",
       "    }\n",
       "\n",
       "    .dataframe tbody tr th {\n",
       "        vertical-align: top;\n",
       "    }\n",
       "\n",
       "    .dataframe thead th {\n",
       "        text-align: right;\n",
       "    }\n",
       "</style>\n",
       "<table border=\"1\" class=\"dataframe\">\n",
       "  <thead>\n",
       "    <tr style=\"text-align: right;\">\n",
       "      <th></th>\n",
       "      <th>customer_id</th>\n",
       "      <th>gross_revenue</th>\n",
       "      <th>recency_days</th>\n",
       "      <th>qty_baskets</th>\n",
       "      <th>qty_items</th>\n",
       "      <th>qty_products</th>\n",
       "      <th>avg_ticket</th>\n",
       "      <th>avg_recency_days</th>\n",
       "    </tr>\n",
       "  </thead>\n",
       "  <tbody>\n",
       "    <tr>\n",
       "      <th>0</th>\n",
       "      <td>17850</td>\n",
       "      <td>5,391.21</td>\n",
       "      <td>372.00</td>\n",
       "      <td>34.00</td>\n",
       "      <td>1,733.00</td>\n",
       "      <td>297.00</td>\n",
       "      <td>18.15</td>\n",
       "      <td>35.50</td>\n",
       "    </tr>\n",
       "    <tr>\n",
       "      <th>1</th>\n",
       "      <td>13047</td>\n",
       "      <td>3,232.59</td>\n",
       "      <td>56.00</td>\n",
       "      <td>9.00</td>\n",
       "      <td>1,390.00</td>\n",
       "      <td>171.00</td>\n",
       "      <td>18.90</td>\n",
       "      <td>27.25</td>\n",
       "    </tr>\n",
       "    <tr>\n",
       "      <th>2</th>\n",
       "      <td>12583</td>\n",
       "      <td>6,705.38</td>\n",
       "      <td>2.00</td>\n",
       "      <td>15.00</td>\n",
       "      <td>5,028.00</td>\n",
       "      <td>232.00</td>\n",
       "      <td>28.90</td>\n",
       "      <td>23.19</td>\n",
       "    </tr>\n",
       "    <tr>\n",
       "      <th>3</th>\n",
       "      <td>13748</td>\n",
       "      <td>948.25</td>\n",
       "      <td>95.00</td>\n",
       "      <td>5.00</td>\n",
       "      <td>439.00</td>\n",
       "      <td>28.00</td>\n",
       "      <td>33.87</td>\n",
       "      <td>92.67</td>\n",
       "    </tr>\n",
       "    <tr>\n",
       "      <th>4</th>\n",
       "      <td>15100</td>\n",
       "      <td>876.00</td>\n",
       "      <td>333.00</td>\n",
       "      <td>3.00</td>\n",
       "      <td>80.00</td>\n",
       "      <td>3.00</td>\n",
       "      <td>292.00</td>\n",
       "      <td>8.60</td>\n",
       "    </tr>\n",
       "  </tbody>\n",
       "</table>\n",
       "</div>"
      ],
      "text/plain": [
       "   customer_id  gross_revenue  recency_days  qty_baskets  qty_items  qty_products  avg_ticket  avg_recency_days\n",
       "0        17850       5,391.21        372.00        34.00   1,733.00        297.00       18.15             35.50\n",
       "1        13047       3,232.59         56.00         9.00   1,390.00        171.00       18.90             27.25\n",
       "2        12583       6,705.38          2.00        15.00   5,028.00        232.00       28.90             23.19\n",
       "3        13748         948.25         95.00         5.00     439.00         28.00       33.87             92.67\n",
       "4        15100         876.00        333.00         3.00      80.00          3.00      292.00              8.60"
      ]
     },
     "execution_count": 131,
     "metadata": {},
     "output_type": "execute_result"
    }
   ],
   "source": [
    "# AVG RECENCY DAYS - how many days between purchases (baskets)\n",
    "\n",
    "# selecting  'invoice_date'\n",
    "df_last_recency = df3[['customer_id', 'invoice_date']].drop_duplicates().sort_values(['customer_id', 'invoice_date'], ascending=['False', 'False'])\n",
    "\n",
    "# shifting 'customer_id' and 'invoice_date' to next lines below\n",
    "df_last_recency['customer_id_shift'] = df_last_recency['customer_id'].shift()\n",
    "df_last_recency['invoice_date_shift'] = df_last_recency['invoice_date'].shift()\n",
    "\n",
    "# calculating days between invoices if same 'customer_id'\n",
    "df_last_recency['last_recency'] = df_last_recency.apply(lambda x: (x['invoice_date'] - x['invoice_date_shift']).days if x['customer_id']==x['customer_id_shift'] else np.nan, axis=1)\n",
    "\n",
    "# dropping selected columns and NaN\n",
    "df_last_recency = df_last_recency.drop(['invoice_date', 'customer_id_shift', 'invoice_date_shift'], axis=1).dropna()\n",
    "\n",
    "df_last_recency.head(20)\n",
    "\n",
    "\n",
    "# === avg recency days\n",
    "# grouping 'last_recency' by 'customer_id'\n",
    "df_avg_recency_days = df_last_recency.groupby('customer_id').mean().reset_index()\n",
    "df_avg_recency_days = df_avg_recency_days.rename(columns={'customer_id':'customer_id','last_recency':'avg_recency_days'})\n",
    "df_avg_recency_days.head()\n",
    "\n",
    "\n",
    "# # merging on Data Reference (df_ref)\n",
    "df_ref = pd.merge(df_ref, df_avg_recency_days, on='customer_id', how='left')\n",
    "print('Checking NA:\\n')\n",
    "print(df_ref.isna().sum(),'\\n\\n')\n",
    "print('Data reference shape:', df_ref.shape)\n",
    "df_ref.head()"
   ]
  },
  {
   "cell_type": "markdown",
   "id": "adopted-memory",
   "metadata": {},
   "source": [
    "### Purchase Frequency "
   ]
  },
  {
   "cell_type": "code",
   "execution_count": 132,
   "id": "applicable-comment",
   "metadata": {
    "ExecuteTime": {
     "end_time": "2021-05-27T22:47:25.759693Z",
     "start_time": "2021-05-27T22:47:24.833853Z"
    }
   },
   "outputs": [
    {
     "name": "stdout",
     "output_type": "stream",
     "text": [
      "Checking NA:\n",
      "\n",
      "customer_id            0\n",
      "gross_revenue         91\n",
      "recency_days          91\n",
      "qty_baskets           91\n",
      "qty_items             91\n",
      "qty_products          91\n",
      "avg_ticket            91\n",
      "avg_recency_days    2816\n",
      "frequency              0\n",
      "dtype: int64 \n",
      "\n",
      "\n",
      "Data reference shape: (5787, 9)\n"
     ]
    },
    {
     "data": {
      "text/html": [
       "<div>\n",
       "<style scoped>\n",
       "    .dataframe tbody tr th:only-of-type {\n",
       "        vertical-align: middle;\n",
       "    }\n",
       "\n",
       "    .dataframe tbody tr th {\n",
       "        vertical-align: top;\n",
       "    }\n",
       "\n",
       "    .dataframe thead th {\n",
       "        text-align: right;\n",
       "    }\n",
       "</style>\n",
       "<table border=\"1\" class=\"dataframe\">\n",
       "  <thead>\n",
       "    <tr style=\"text-align: right;\">\n",
       "      <th></th>\n",
       "      <th>customer_id</th>\n",
       "      <th>gross_revenue</th>\n",
       "      <th>recency_days</th>\n",
       "      <th>qty_baskets</th>\n",
       "      <th>qty_items</th>\n",
       "      <th>qty_products</th>\n",
       "      <th>avg_ticket</th>\n",
       "      <th>avg_recency_days</th>\n",
       "      <th>frequency</th>\n",
       "    </tr>\n",
       "  </thead>\n",
       "  <tbody>\n",
       "    <tr>\n",
       "      <th>0</th>\n",
       "      <td>17850</td>\n",
       "      <td>5,391.21</td>\n",
       "      <td>372.00</td>\n",
       "      <td>34.00</td>\n",
       "      <td>1,733.00</td>\n",
       "      <td>297.00</td>\n",
       "      <td>18.15</td>\n",
       "      <td>35.50</td>\n",
       "      <td>0.49</td>\n",
       "    </tr>\n",
       "    <tr>\n",
       "      <th>1</th>\n",
       "      <td>13047</td>\n",
       "      <td>3,232.59</td>\n",
       "      <td>56.00</td>\n",
       "      <td>9.00</td>\n",
       "      <td>1,390.00</td>\n",
       "      <td>171.00</td>\n",
       "      <td>18.90</td>\n",
       "      <td>27.25</td>\n",
       "      <td>0.05</td>\n",
       "    </tr>\n",
       "    <tr>\n",
       "      <th>2</th>\n",
       "      <td>12583</td>\n",
       "      <td>6,705.38</td>\n",
       "      <td>2.00</td>\n",
       "      <td>15.00</td>\n",
       "      <td>5,028.00</td>\n",
       "      <td>232.00</td>\n",
       "      <td>28.90</td>\n",
       "      <td>23.19</td>\n",
       "      <td>0.05</td>\n",
       "    </tr>\n",
       "    <tr>\n",
       "      <th>3</th>\n",
       "      <td>13748</td>\n",
       "      <td>948.25</td>\n",
       "      <td>95.00</td>\n",
       "      <td>5.00</td>\n",
       "      <td>439.00</td>\n",
       "      <td>28.00</td>\n",
       "      <td>33.87</td>\n",
       "      <td>92.67</td>\n",
       "      <td>0.02</td>\n",
       "    </tr>\n",
       "    <tr>\n",
       "      <th>4</th>\n",
       "      <td>15100</td>\n",
       "      <td>876.00</td>\n",
       "      <td>333.00</td>\n",
       "      <td>3.00</td>\n",
       "      <td>80.00</td>\n",
       "      <td>3.00</td>\n",
       "      <td>292.00</td>\n",
       "      <td>8.60</td>\n",
       "      <td>0.14</td>\n",
       "    </tr>\n",
       "  </tbody>\n",
       "</table>\n",
       "</div>"
      ],
      "text/plain": [
       "   customer_id  gross_revenue  recency_days  qty_baskets  qty_items  qty_products  avg_ticket  avg_recency_days  frequency\n",
       "0        17850       5,391.21        372.00        34.00   1,733.00        297.00       18.15             35.50       0.49\n",
       "1        13047       3,232.59         56.00         9.00   1,390.00        171.00       18.90             27.25       0.05\n",
       "2        12583       6,705.38          2.00        15.00   5,028.00        232.00       28.90             23.19       0.05\n",
       "3        13748         948.25         95.00         5.00     439.00         28.00       33.87             92.67       0.02\n",
       "4        15100         876.00        333.00         3.00      80.00          3.00      292.00              8.60       0.14"
      ]
     },
     "execution_count": 132,
     "metadata": {},
     "output_type": "execute_result"
    }
   ],
   "source": [
    "# PURCHASE FREQUENCY - number of purchases per 'customer_id\n",
    "\n",
    "# grouping by 'customer_id', selecting min/max 'invoice_date', and counting 'invoice_no'\n",
    "df_purchasefreq = ( df3[['customer_id','invoice_no', 'invoice_date']].drop_duplicates().groupby('customer_id')\n",
    "                                                                     .agg( max_      = ('invoice_date', 'max'),\n",
    "                                                                           min_      = ('invoice_date', 'max'),\n",
    "                                                                           days_     = ('invoice_date', lambda x: ((x.max() - x.min()).days) + 1),\n",
    "                                                                           purchases = ('invoice_no', 'count') ) ).reset_index()\n",
    "\n",
    "# calculating 'frequency'\n",
    "df_purchasefreq['frequency'] = df_purchasefreq[['purchases','days_']].apply(lambda x: (x['purchases']/x['days_']) if x['days_']!=0 else 0, axis=1)\n",
    "# ????? df_purchasefreq.sort_values('frequency', ascending=False) ??????\n",
    "df_purchasefreq.head(10)\n",
    "\n",
    "\n",
    "# === merging on Data Reference (df_ref)\n",
    "df_ref = pd.merge(df_ref, df_purchasefreq[['customer_id','frequency']], on='customer_id', how='left')\n",
    "print('Checking NA:\\n')\n",
    "print(df_ref.isna().sum(),'\\n\\n')\n",
    "print('Data reference shape:', df_ref.shape)\n",
    "df_ref.head()"
   ]
  },
  {
   "cell_type": "markdown",
   "id": "pending-shark",
   "metadata": {
    "heading_collapsed": true
   },
   "source": [
    "### Returns"
   ]
  },
  {
   "cell_type": "code",
   "execution_count": 133,
   "id": "covered-virginia",
   "metadata": {
    "ExecuteTime": {
     "end_time": "2021-05-27T22:47:25.791722Z",
     "start_time": "2021-05-27T22:47:25.760693Z"
    },
    "hidden": true
   },
   "outputs": [
    {
     "name": "stdout",
     "output_type": "stream",
     "text": [
      "Checking NA:\n",
      "\n",
      "customer_id            0\n",
      "gross_revenue         91\n",
      "recency_days          91\n",
      "qty_baskets           91\n",
      "qty_items             91\n",
      "qty_products          91\n",
      "avg_ticket            91\n",
      "avg_recency_days    2816\n",
      "frequency              0\n",
      "qty_prod_returns       0\n",
      "dtype: int64 \n",
      "\n",
      "\n",
      "Data reference shape: (5787, 10)\n"
     ]
    },
    {
     "data": {
      "text/html": [
       "<div>\n",
       "<style scoped>\n",
       "    .dataframe tbody tr th:only-of-type {\n",
       "        vertical-align: middle;\n",
       "    }\n",
       "\n",
       "    .dataframe tbody tr th {\n",
       "        vertical-align: top;\n",
       "    }\n",
       "\n",
       "    .dataframe thead th {\n",
       "        text-align: right;\n",
       "    }\n",
       "</style>\n",
       "<table border=\"1\" class=\"dataframe\">\n",
       "  <thead>\n",
       "    <tr style=\"text-align: right;\">\n",
       "      <th></th>\n",
       "      <th>customer_id</th>\n",
       "      <th>gross_revenue</th>\n",
       "      <th>recency_days</th>\n",
       "      <th>qty_baskets</th>\n",
       "      <th>qty_items</th>\n",
       "      <th>qty_products</th>\n",
       "      <th>avg_ticket</th>\n",
       "      <th>avg_recency_days</th>\n",
       "      <th>frequency</th>\n",
       "      <th>qty_prod_returns</th>\n",
       "    </tr>\n",
       "  </thead>\n",
       "  <tbody>\n",
       "    <tr>\n",
       "      <th>0</th>\n",
       "      <td>17850</td>\n",
       "      <td>5,391.21</td>\n",
       "      <td>372.00</td>\n",
       "      <td>34.00</td>\n",
       "      <td>1,733.00</td>\n",
       "      <td>297.00</td>\n",
       "      <td>18.15</td>\n",
       "      <td>35.50</td>\n",
       "      <td>0.49</td>\n",
       "      <td>40.00</td>\n",
       "    </tr>\n",
       "    <tr>\n",
       "      <th>1</th>\n",
       "      <td>13047</td>\n",
       "      <td>3,232.59</td>\n",
       "      <td>56.00</td>\n",
       "      <td>9.00</td>\n",
       "      <td>1,390.00</td>\n",
       "      <td>171.00</td>\n",
       "      <td>18.90</td>\n",
       "      <td>27.25</td>\n",
       "      <td>0.05</td>\n",
       "      <td>35.00</td>\n",
       "    </tr>\n",
       "    <tr>\n",
       "      <th>2</th>\n",
       "      <td>12583</td>\n",
       "      <td>6,705.38</td>\n",
       "      <td>2.00</td>\n",
       "      <td>15.00</td>\n",
       "      <td>5,028.00</td>\n",
       "      <td>232.00</td>\n",
       "      <td>28.90</td>\n",
       "      <td>23.19</td>\n",
       "      <td>0.05</td>\n",
       "      <td>50.00</td>\n",
       "    </tr>\n",
       "    <tr>\n",
       "      <th>3</th>\n",
       "      <td>13748</td>\n",
       "      <td>948.25</td>\n",
       "      <td>95.00</td>\n",
       "      <td>5.00</td>\n",
       "      <td>439.00</td>\n",
       "      <td>28.00</td>\n",
       "      <td>33.87</td>\n",
       "      <td>92.67</td>\n",
       "      <td>0.02</td>\n",
       "      <td>0.00</td>\n",
       "    </tr>\n",
       "    <tr>\n",
       "      <th>4</th>\n",
       "      <td>15100</td>\n",
       "      <td>876.00</td>\n",
       "      <td>333.00</td>\n",
       "      <td>3.00</td>\n",
       "      <td>80.00</td>\n",
       "      <td>3.00</td>\n",
       "      <td>292.00</td>\n",
       "      <td>8.60</td>\n",
       "      <td>0.14</td>\n",
       "      <td>22.00</td>\n",
       "    </tr>\n",
       "  </tbody>\n",
       "</table>\n",
       "</div>"
      ],
      "text/plain": [
       "   customer_id  gross_revenue  recency_days  qty_baskets  qty_items  qty_products  avg_ticket  avg_recency_days  frequency  qty_prod_returns\n",
       "0        17850       5,391.21        372.00        34.00   1,733.00        297.00       18.15             35.50       0.49             40.00\n",
       "1        13047       3,232.59         56.00         9.00   1,390.00        171.00       18.90             27.25       0.05             35.00\n",
       "2        12583       6,705.38          2.00        15.00   5,028.00        232.00       28.90             23.19       0.05             50.00\n",
       "3        13748         948.25         95.00         5.00     439.00         28.00       33.87             92.67       0.02              0.00\n",
       "4        15100         876.00        333.00         3.00      80.00          3.00      292.00              8.60       0.14             22.00"
      ]
     },
     "execution_count": 133,
     "metadata": {},
     "output_type": "execute_result"
    }
   ],
   "source": [
    "# === RETURNS - number of products devolutions\n",
    "\n",
    "# grouping 'quantity' by 'customer_id'\n",
    "df_returns = df2_returns[['customer_id','quantity']].groupby('customer_id').sum().reset_index().rename(columns={'customer_id':'customer_id', 'quantity': 'qty_prod_returns'})\n",
    "df_returns['qty_prod_returns'] = df_returns['qty_prod_returns']*-1 # turning quantities into positive numbers\n",
    "df_returns.head(20)\n",
    "\n",
    "# merging dataframes\n",
    "df_ref = pd.merge(df_ref, df_returns, how='left', on='customer_id')\n",
    "df_ref.loc[df_ref['qty_prod_returns'].isna(), 'qty_prod_returns'] = 0\n",
    "print('Checking NA:\\n')\n",
    "print(df_ref.isna().sum(),'\\n\\n')\n",
    "print('Data reference shape:', df_ref.shape)\n",
    "df_ref.head()"
   ]
  },
  {
   "cell_type": "markdown",
   "id": "square-throw",
   "metadata": {
    "heading_collapsed": true
   },
   "source": [
    "### Avg Basket Size"
   ]
  },
  {
   "cell_type": "code",
   "execution_count": 134,
   "id": "sacred-commission",
   "metadata": {
    "ExecuteTime": {
     "end_time": "2021-05-27T22:47:27.231027Z",
     "start_time": "2021-05-27T22:47:27.123930Z"
    },
    "hidden": true
   },
   "outputs": [
    {
     "name": "stdout",
     "output_type": "stream",
     "text": [
      "Checking NA:\n",
      "\n",
      "customer_id            0\n",
      "gross_revenue         91\n",
      "recency_days          91\n",
      "qty_baskets           91\n",
      "qty_items             91\n",
      "qty_products          91\n",
      "avg_ticket            91\n",
      "avg_recency_days    2816\n",
      "frequency              0\n",
      "qty_prod_returns       0\n",
      "avg_basket_size       91\n",
      "dtype: int64 \n",
      "\n",
      "\n",
      "Data reference shape: (5787, 11)\n"
     ]
    },
    {
     "data": {
      "text/html": [
       "<div>\n",
       "<style scoped>\n",
       "    .dataframe tbody tr th:only-of-type {\n",
       "        vertical-align: middle;\n",
       "    }\n",
       "\n",
       "    .dataframe tbody tr th {\n",
       "        vertical-align: top;\n",
       "    }\n",
       "\n",
       "    .dataframe thead th {\n",
       "        text-align: right;\n",
       "    }\n",
       "</style>\n",
       "<table border=\"1\" class=\"dataframe\">\n",
       "  <thead>\n",
       "    <tr style=\"text-align: right;\">\n",
       "      <th></th>\n",
       "      <th>customer_id</th>\n",
       "      <th>gross_revenue</th>\n",
       "      <th>recency_days</th>\n",
       "      <th>qty_baskets</th>\n",
       "      <th>qty_items</th>\n",
       "      <th>qty_products</th>\n",
       "      <th>avg_ticket</th>\n",
       "      <th>avg_recency_days</th>\n",
       "      <th>frequency</th>\n",
       "      <th>qty_prod_returns</th>\n",
       "      <th>avg_basket_size</th>\n",
       "    </tr>\n",
       "  </thead>\n",
       "  <tbody>\n",
       "    <tr>\n",
       "      <th>0</th>\n",
       "      <td>17850</td>\n",
       "      <td>5,391.21</td>\n",
       "      <td>372.00</td>\n",
       "      <td>34.00</td>\n",
       "      <td>1,733.00</td>\n",
       "      <td>297.00</td>\n",
       "      <td>18.15</td>\n",
       "      <td>35.50</td>\n",
       "      <td>0.49</td>\n",
       "      <td>40.00</td>\n",
       "      <td>50.97</td>\n",
       "    </tr>\n",
       "    <tr>\n",
       "      <th>1</th>\n",
       "      <td>13047</td>\n",
       "      <td>3,232.59</td>\n",
       "      <td>56.00</td>\n",
       "      <td>9.00</td>\n",
       "      <td>1,390.00</td>\n",
       "      <td>171.00</td>\n",
       "      <td>18.90</td>\n",
       "      <td>27.25</td>\n",
       "      <td>0.05</td>\n",
       "      <td>35.00</td>\n",
       "      <td>154.44</td>\n",
       "    </tr>\n",
       "    <tr>\n",
       "      <th>2</th>\n",
       "      <td>12583</td>\n",
       "      <td>6,705.38</td>\n",
       "      <td>2.00</td>\n",
       "      <td>15.00</td>\n",
       "      <td>5,028.00</td>\n",
       "      <td>232.00</td>\n",
       "      <td>28.90</td>\n",
       "      <td>23.19</td>\n",
       "      <td>0.05</td>\n",
       "      <td>50.00</td>\n",
       "      <td>335.20</td>\n",
       "    </tr>\n",
       "    <tr>\n",
       "      <th>3</th>\n",
       "      <td>13748</td>\n",
       "      <td>948.25</td>\n",
       "      <td>95.00</td>\n",
       "      <td>5.00</td>\n",
       "      <td>439.00</td>\n",
       "      <td>28.00</td>\n",
       "      <td>33.87</td>\n",
       "      <td>92.67</td>\n",
       "      <td>0.02</td>\n",
       "      <td>0.00</td>\n",
       "      <td>87.80</td>\n",
       "    </tr>\n",
       "    <tr>\n",
       "      <th>4</th>\n",
       "      <td>15100</td>\n",
       "      <td>876.00</td>\n",
       "      <td>333.00</td>\n",
       "      <td>3.00</td>\n",
       "      <td>80.00</td>\n",
       "      <td>3.00</td>\n",
       "      <td>292.00</td>\n",
       "      <td>8.60</td>\n",
       "      <td>0.14</td>\n",
       "      <td>22.00</td>\n",
       "      <td>26.67</td>\n",
       "    </tr>\n",
       "  </tbody>\n",
       "</table>\n",
       "</div>"
      ],
      "text/plain": [
       "   customer_id  gross_revenue  recency_days  qty_baskets  qty_items  qty_products  avg_ticket  avg_recency_days  frequency  qty_prod_returns  avg_basket_size\n",
       "0        17850       5,391.21        372.00        34.00   1,733.00        297.00       18.15             35.50       0.49             40.00            50.97\n",
       "1        13047       3,232.59         56.00         9.00   1,390.00        171.00       18.90             27.25       0.05             35.00           154.44\n",
       "2        12583       6,705.38          2.00        15.00   5,028.00        232.00       28.90             23.19       0.05             50.00           335.20\n",
       "3        13748         948.25         95.00         5.00     439.00         28.00       33.87             92.67       0.02              0.00            87.80\n",
       "4        15100         876.00        333.00         3.00      80.00          3.00      292.00              8.60       0.14             22.00            26.67"
      ]
     },
     "execution_count": 134,
     "metadata": {},
     "output_type": "execute_result"
    }
   ],
   "source": [
    "# === AVG BASKET SIZE - average sum of 'quantity' per 'invoice_no'\n",
    "\n",
    "# grouping by 'customer_id', counting unique 'invoice_no' and the sum of 'quantity'\n",
    "df_basket_size = ( df2_purchases.loc [:, ['customer_id', 'invoice_no', 'quantity']].groupby('customer_id')\n",
    "                                                                                   .agg( qty_baskets_b = ('invoice_no', 'nunique'),\n",
    "                                                                                         qty_products_b = ('quantity', 'sum') ) \n",
    "                                                                                    .reset_index() )\n",
    "\n",
    "# calculating avg basket size\n",
    "df_basket_size['avg_basket_size'] = df_basket_size['qty_products_b'] / df_basket_size['qty_baskets_b']\n",
    "\n",
    "df_basket_size.head()\n",
    "\n",
    "# === merging dataframes\n",
    "df_ref = pd.merge(df_ref, df_basket_size[['customer_id', 'avg_basket_size']], on='customer_id', how='left')\n",
    "print('Checking NA:\\n')\n",
    "print(df_ref.isna().sum(),'\\n\\n')\n",
    "print('Data reference shape:', df_ref.shape)\n",
    "df_ref.head()\n",
    "\n",
    "\n",
    "# === notes\n",
    "# (‘invoice_no’, ’nunique) = feature 3) Quantity of baskets (quantity of purchased)\n",
    "# (‘quantity’, ‘sum’) = feature 4)  Quantity of products (quantity of products purchased)\n",
    "# Já tendo essas duas colunas/features no df_ref, poderíamos criar a coluna ‘avg_basket_size’ direto, certo? \n",
    "# df_aux = df_ref.copy()\n",
    "# df_aux ['test'] = df_ref['qty_products']/df_ref['qty_baskets']\n",
    "# df_aux.sort_values('customer_id', ascending=True).head()"
   ]
  },
  {
   "cell_type": "markdown",
   "id": "wireless-yacht",
   "metadata": {
    "heading_collapsed": true
   },
   "source": [
    "### Avg Unique Products per Basket"
   ]
  },
  {
   "cell_type": "code",
   "execution_count": 135,
   "id": "natural-approach",
   "metadata": {
    "ExecuteTime": {
     "end_time": "2021-05-27T22:47:30.076608Z",
     "start_time": "2021-05-27T22:47:29.949493Z"
    },
    "hidden": true
   },
   "outputs": [
    {
     "name": "stdout",
     "output_type": "stream",
     "text": [
      "Checking NA:\n",
      "\n",
      "customer_id               0\n",
      "gross_revenue            91\n",
      "recency_days             91\n",
      "qty_baskets              91\n",
      "qty_items                91\n",
      "qty_products             91\n",
      "avg_ticket               91\n",
      "avg_recency_days       2816\n",
      "frequency                 0\n",
      "qty_prod_returns          0\n",
      "avg_basket_size          91\n",
      "avg_unique_products      91\n",
      "dtype: int64 \n",
      "\n",
      "\n",
      "Data reference shape: (5787, 12)\n"
     ]
    },
    {
     "data": {
      "text/html": [
       "<div>\n",
       "<style scoped>\n",
       "    .dataframe tbody tr th:only-of-type {\n",
       "        vertical-align: middle;\n",
       "    }\n",
       "\n",
       "    .dataframe tbody tr th {\n",
       "        vertical-align: top;\n",
       "    }\n",
       "\n",
       "    .dataframe thead th {\n",
       "        text-align: right;\n",
       "    }\n",
       "</style>\n",
       "<table border=\"1\" class=\"dataframe\">\n",
       "  <thead>\n",
       "    <tr style=\"text-align: right;\">\n",
       "      <th></th>\n",
       "      <th>customer_id</th>\n",
       "      <th>gross_revenue</th>\n",
       "      <th>recency_days</th>\n",
       "      <th>qty_baskets</th>\n",
       "      <th>qty_items</th>\n",
       "      <th>qty_products</th>\n",
       "      <th>avg_ticket</th>\n",
       "      <th>avg_recency_days</th>\n",
       "      <th>frequency</th>\n",
       "      <th>qty_prod_returns</th>\n",
       "      <th>avg_basket_size</th>\n",
       "      <th>avg_unique_products</th>\n",
       "    </tr>\n",
       "  </thead>\n",
       "  <tbody>\n",
       "    <tr>\n",
       "      <th>0</th>\n",
       "      <td>17850</td>\n",
       "      <td>5,391.21</td>\n",
       "      <td>372.00</td>\n",
       "      <td>34.00</td>\n",
       "      <td>1,733.00</td>\n",
       "      <td>297.00</td>\n",
       "      <td>18.15</td>\n",
       "      <td>35.50</td>\n",
       "      <td>0.49</td>\n",
       "      <td>40.00</td>\n",
       "      <td>50.97</td>\n",
       "      <td>8.74</td>\n",
       "    </tr>\n",
       "    <tr>\n",
       "      <th>1</th>\n",
       "      <td>13047</td>\n",
       "      <td>3,232.59</td>\n",
       "      <td>56.00</td>\n",
       "      <td>9.00</td>\n",
       "      <td>1,390.00</td>\n",
       "      <td>171.00</td>\n",
       "      <td>18.90</td>\n",
       "      <td>27.25</td>\n",
       "      <td>0.05</td>\n",
       "      <td>35.00</td>\n",
       "      <td>154.44</td>\n",
       "      <td>19.00</td>\n",
       "    </tr>\n",
       "    <tr>\n",
       "      <th>2</th>\n",
       "      <td>12583</td>\n",
       "      <td>6,705.38</td>\n",
       "      <td>2.00</td>\n",
       "      <td>15.00</td>\n",
       "      <td>5,028.00</td>\n",
       "      <td>232.00</td>\n",
       "      <td>28.90</td>\n",
       "      <td>23.19</td>\n",
       "      <td>0.05</td>\n",
       "      <td>50.00</td>\n",
       "      <td>335.20</td>\n",
       "      <td>15.47</td>\n",
       "    </tr>\n",
       "    <tr>\n",
       "      <th>3</th>\n",
       "      <td>13748</td>\n",
       "      <td>948.25</td>\n",
       "      <td>95.00</td>\n",
       "      <td>5.00</td>\n",
       "      <td>439.00</td>\n",
       "      <td>28.00</td>\n",
       "      <td>33.87</td>\n",
       "      <td>92.67</td>\n",
       "      <td>0.02</td>\n",
       "      <td>0.00</td>\n",
       "      <td>87.80</td>\n",
       "      <td>5.60</td>\n",
       "    </tr>\n",
       "    <tr>\n",
       "      <th>4</th>\n",
       "      <td>15100</td>\n",
       "      <td>876.00</td>\n",
       "      <td>333.00</td>\n",
       "      <td>3.00</td>\n",
       "      <td>80.00</td>\n",
       "      <td>3.00</td>\n",
       "      <td>292.00</td>\n",
       "      <td>8.60</td>\n",
       "      <td>0.14</td>\n",
       "      <td>22.00</td>\n",
       "      <td>26.67</td>\n",
       "      <td>1.00</td>\n",
       "    </tr>\n",
       "  </tbody>\n",
       "</table>\n",
       "</div>"
      ],
      "text/plain": [
       "   customer_id  gross_revenue  recency_days  qty_baskets  qty_items  qty_products  avg_ticket  avg_recency_days  frequency  qty_prod_returns  avg_basket_size  avg_unique_products\n",
       "0        17850       5,391.21        372.00        34.00   1,733.00        297.00       18.15             35.50       0.49             40.00            50.97                 8.74\n",
       "1        13047       3,232.59         56.00         9.00   1,390.00        171.00       18.90             27.25       0.05             35.00           154.44                19.00\n",
       "2        12583       6,705.38          2.00        15.00   5,028.00        232.00       28.90             23.19       0.05             50.00           335.20                15.47\n",
       "3        13748         948.25         95.00         5.00     439.00         28.00       33.87             92.67       0.02              0.00            87.80                 5.60\n",
       "4        15100         876.00        333.00         3.00      80.00          3.00      292.00              8.60       0.14             22.00            26.67                 1.00"
      ]
     },
     "execution_count": 135,
     "metadata": {},
     "output_type": "execute_result"
    }
   ],
   "source": [
    "# === AVG UNIQUE PRODUCTS PER BASKET - average quantity of unique 'stock_code' per basket\n",
    "\n",
    "# grouping by 'customer_id', counting unique 'invoice_no' and counting unique 'stock_code'\n",
    "df_avg_unique_products = ( df2_purchases.loc [:, ['customer_id', 'invoice_no', 'stock_code']].groupby('customer_id')\n",
    "                                                                                            .agg( qty_baskets_up = ('invoice_no', 'nunique'),\n",
    "                                                                                                  qty_unique_products_up = ('stock_code', 'count') ) \n",
    "                                                                                            .reset_index() )\n",
    "# calculating avg unique products per basket\n",
    "df_avg_unique_products['avg_unique_products'] = df_avg_unique_products['qty_unique_products_up'] / df_avg_unique_products['qty_baskets_up']\n",
    "\n",
    "\n",
    "df_avg_unique_products.head()\n",
    "\n",
    "\n",
    "# === merging dataframes\n",
    "df_ref = pd.merge(df_ref, df_avg_unique_products[['customer_id', 'avg_unique_products']], on='customer_id', how='left')\n",
    "print('Checking NA:\\n')\n",
    "print(df_ref.isna().sum(),'\\n\\n')\n",
    "print('Data reference shape:', df_ref.shape)\n",
    "df_ref.head()"
   ]
  },
  {
   "cell_type": "code",
   "execution_count": 82,
   "id": "weighted-wellington",
   "metadata": {
    "ExecuteTime": {
     "end_time": "2021-05-27T22:10:27.849121Z",
     "start_time": "2021-05-27T22:10:27.844116Z"
    },
    "hidden": true
   },
   "outputs": [],
   "source": [
    "# faturamento\n",
    "    # alto ticket médio\n",
    "    # alto LTV (lifetime value = valor do tempo de vida do cliente) // soma de gastos\n",
    "    # baixa recência (menor tempo desde a última compra)\n",
    "    # alto basket size (cesta de compras)\n",
    "    # baixa probabilidade de churn (cliente que a empresa perde) // outro modelo\n",
    "    # previsão de LTV // fazer outro modelo (saída) para usar como input\n",
    "    # alta propensão de compra // outro modelo\n",
    "# custo\n",
    "    # baixa taxa de devolução // algumas empresas tem o objetivo desta métrica no business plan\n",
    "# experiência de compra\n",
    "    # média alta das avaliações\n"
   ]
  },
  {
   "cell_type": "markdown",
   "id": "martial-contract",
   "metadata": {
    "heading_collapsed": true
   },
   "source": [
    "### Features Creation before separating df in returns and purchases"
   ]
  },
  {
   "cell_type": "code",
   "execution_count": 83,
   "id": "expanded-header",
   "metadata": {
    "ExecuteTime": {
     "end_time": "2021-05-27T22:10:28.295526Z",
     "start_time": "2021-05-27T22:10:28.280512Z"
    },
    "code_folding": [],
    "hidden": true
   },
   "outputs": [],
   "source": [
    "# # df_ref = data reference\n",
    "# df_ref = df3.drop (['invoice_no','stock_code','description','quantity','invoice_date','unit_price','country'],\n",
    "#                    axis=1).drop_duplicates(ignore_index=True) # selecting 'customer_id' and droping duplicates\n",
    "# print('Data reference shape:', df_ref.shape)\n",
    "# df_ref.head()"
   ]
  },
  {
   "cell_type": "code",
   "execution_count": 84,
   "id": "wound-format",
   "metadata": {
    "ExecuteTime": {
     "end_time": "2021-05-27T22:10:28.983149Z",
     "start_time": "2021-05-27T22:10:28.977144Z"
    },
    "code_folding": [],
    "hidden": true
   },
   "outputs": [],
   "source": [
    "# # === MONETARY \n",
    "\n",
    "# # creating 'gross revenue' (= quantity*price)\n",
    "# df3['gross_revenue'] = df3['quantity']*df3['unit_price']\n",
    "\n",
    "# # creating 'monetary'\n",
    "# df_monetary = df3[['customer_id','gross_revenue']].groupby('customer_id').sum().reset_index()\n",
    "\n",
    "# # merging dataframes\n",
    "# df_ref = pd.merge(df_ref, df_monetary, on='customer_id', how='left')\n",
    "# print('Checking NA: \\n\\n', df_ref.isna().sum(),'\\n\\n')\n",
    "# print('Data reference shape:', df_ref.shape)\n",
    "# df_ref.head()"
   ]
  },
  {
   "cell_type": "code",
   "execution_count": 212,
   "id": "bronze-fourth",
   "metadata": {
    "ExecuteTime": {
     "end_time": "2021-05-18T20:23:24.280160Z",
     "start_time": "2021-05-18T20:23:24.273154Z"
    },
    "code_folding": [],
    "collapsed": true,
    "hidden": true
   },
   "outputs": [],
   "source": [
    "# # === RECENCY (last day of purchase)\n",
    "# df_recency = df3[['customer_id','invoice_date']].groupby('customer_id').max().reset_index()\n",
    "# df_recency ['recency_days'] = (df3['invoice_date'].max() - df_recency['invoice_date']).dt.days # dt vectorize the series to apply 'days' command\n",
    "# df_recency = df_recency[['customer_id','recency_days']].copy()\n",
    "\n",
    "# # merging dataframes\n",
    "# df_ref = pd.merge(df_ref, df_recency, on='customer_id',how='left')\n",
    "# print('Checking NA: \\n\\n', df_ref.isna().sum(),'\\n\\n')\n",
    "# print('Data reference shape:', df_ref.shape)\n",
    "# df_ref.head()"
   ]
  },
  {
   "cell_type": "code",
   "execution_count": 213,
   "id": "electoral-belarus",
   "metadata": {
    "ExecuteTime": {
     "end_time": "2021-05-18T20:23:24.488349Z",
     "start_time": "2021-05-18T20:23:24.481343Z"
    },
    "code_folding": [],
    "collapsed": true,
    "hidden": true
   },
   "outputs": [],
   "source": [
    "# # === FREQUENCY (purchase periodicity)\n",
    "# df_freq = df3[['customer_id','invoice_no']].drop_duplicates().groupby('customer_id').count().reset_index()\n",
    "# df_freq = df_freq.rename(columns={'customer_id': 'customer_id','invoice_no': 'invoice_freq'}) # changing columns names\n",
    "\n",
    "# # merging dataframes\n",
    "# df_ref = pd.merge(df_ref, df_freq, on='customer_id', how='left')\n",
    "# print('Checking NA: \\n\\n', df_ref.isna().sum(),'\\n\\n')\n",
    "# print('Data reference shape:', df_ref.shape)\n",
    "# df_ref.head()"
   ]
  },
  {
   "cell_type": "code",
   "execution_count": 214,
   "id": "innovative-invasion",
   "metadata": {
    "ExecuteTime": {
     "end_time": "2021-05-18T20:23:24.694537Z",
     "start_time": "2021-05-18T20:23:24.689532Z"
    },
    "code_folding": [],
    "collapsed": true,
    "hidden": true
   },
   "outputs": [],
   "source": [
    "# # === AVG TICKET (how much is spend)\n",
    "# df_avgticket = df3[['customer_id','gross_revenue']].groupby('customer_id').mean().reset_index()\n",
    "# df_avgticket = df_avgticket.rename(columns={'gross_revenue':'avg_ticket'})\n",
    "\n",
    "# # merging dataframes\n",
    "# df_ref = pd.merge(df_ref, df_avgticket, on='customer_id', how='left')\n",
    "# print('Checking NA: \\n\\n', df_ref.isna().sum(),'\\n\\n')\n",
    "# print('Data reference shape:', df_ref.shape)\n",
    "# df_ref.head()"
   ]
  },
  {
   "cell_type": "markdown",
   "id": "based-surgery",
   "metadata": {
    "heading_collapsed": true
   },
   "source": [
    "# EDA (Exploratory Data Analysis)"
   ]
  },
  {
   "cell_type": "code",
   "execution_count": 95,
   "id": "activated-front",
   "metadata": {
    "ExecuteTime": {
     "end_time": "2021-05-27T22:20:11.339788Z",
     "start_time": "2021-05-27T22:20:11.319770Z"
    },
    "hidden": true
   },
   "outputs": [
    {
     "data": {
      "text/plain": [
       "customer_id            0\n",
       "gross_revenue          0\n",
       "recency_days           0\n",
       "qty_baskets            0\n",
       "qty_products           0\n",
       "avg_ticket             0\n",
       "avg_recency_days       0\n",
       "frequency              0\n",
       "qty_prod_returns       0\n",
       "avg_basket_size        0\n",
       "avg_unique_products    0\n",
       "dtype: int64"
      ]
     },
     "execution_count": 95,
     "metadata": {},
     "output_type": "execute_result"
    }
   ],
   "source": [
    "df4 = df_ref.dropna().copy()\n",
    "df4.isna().sum()"
   ]
  },
  {
   "cell_type": "markdown",
   "id": "amended-claim",
   "metadata": {
    "heading_collapsed": true,
    "hidden": true
   },
   "source": [
    "## Univariate Analysis"
   ]
  },
  {
   "cell_type": "code",
   "execution_count": 97,
   "id": "unlikely-producer",
   "metadata": {
    "ExecuteTime": {
     "end_time": "2021-05-27T22:22:33.617542Z",
     "start_time": "2021-05-27T22:22:07.035264Z"
    },
    "hidden": true,
    "scrolled": true
   },
   "outputs": [
    {
     "data": {
      "application/vnd.jupyter.widget-view+json": {
       "model_id": "db3432cafddf443092fc30dde05010b0",
       "version_major": 2,
       "version_minor": 0
      },
      "text/plain": [
       "Summarize dataset:   0%|          | 0/26 [00:00<?, ?it/s]"
      ]
     },
     "metadata": {},
     "output_type": "display_data"
    },
    {
     "data": {
      "application/vnd.jupyter.widget-view+json": {
       "model_id": "c0c61062c7824b89b87c7482d18c2aba",
       "version_major": 2,
       "version_minor": 0
      },
      "text/plain": [
       "Generate report structure:   0%|          | 0/1 [00:00<?, ?it/s]"
      ]
     },
     "metadata": {},
     "output_type": "display_data"
    },
    {
     "data": {
      "application/vnd.jupyter.widget-view+json": {
       "model_id": "c6bbee4c34a24da8a9afaab07145c55c",
       "version_major": 2,
       "version_minor": 0
      },
      "text/plain": [
       "Render HTML:   0%|          | 0/1 [00:00<?, ?it/s]"
      ]
     },
     "metadata": {},
     "output_type": "display_data"
    },
    {
     "data": {
      "application/vnd.jupyter.widget-view+json": {
       "model_id": "40904861a52d4359b42ad5c3bf4780ab",
       "version_major": 2,
       "version_minor": 0
      },
      "text/plain": [
       "Export report to file:   0%|          | 0/1 [00:00<?, ?it/s]"
      ]
     },
     "metadata": {},
     "output_type": "display_data"
    }
   ],
   "source": [
    "profile = ProfileReport(df4)\n",
    "profile.to_file('../data/interim/EDA_output_v1.html')"
   ]
  },
  {
   "cell_type": "markdown",
   "id": "aggressive-manhattan",
   "metadata": {
    "heading_collapsed": true,
    "hidden": true
   },
   "source": [
    "### Gross Revenue"
   ]
  },
  {
   "cell_type": "code",
   "execution_count": 99,
   "id": "complicated-beginning",
   "metadata": {
    "ExecuteTime": {
     "end_time": "2021-05-27T22:30:29.961874Z",
     "start_time": "2021-05-27T22:30:29.943858Z"
    },
    "hidden": true
   },
   "outputs": [
    {
     "data": {
      "text/html": [
       "<div>\n",
       "<style scoped>\n",
       "    .dataframe tbody tr th:only-of-type {\n",
       "        vertical-align: middle;\n",
       "    }\n",
       "\n",
       "    .dataframe tbody tr th {\n",
       "        vertical-align: top;\n",
       "    }\n",
       "\n",
       "    .dataframe thead th {\n",
       "        text-align: right;\n",
       "    }\n",
       "</style>\n",
       "<table border=\"1\" class=\"dataframe\">\n",
       "  <thead>\n",
       "    <tr style=\"text-align: right;\">\n",
       "      <th></th>\n",
       "      <th>customer_id</th>\n",
       "      <th>gross_revenue</th>\n",
       "      <th>recency_days</th>\n",
       "      <th>qty_baskets</th>\n",
       "      <th>qty_products</th>\n",
       "      <th>avg_ticket</th>\n",
       "      <th>avg_recency_days</th>\n",
       "      <th>frequency</th>\n",
       "      <th>qty_prod_returns</th>\n",
       "      <th>avg_basket_size</th>\n",
       "      <th>avg_unique_products</th>\n",
       "    </tr>\n",
       "  </thead>\n",
       "  <tbody>\n",
       "    <tr>\n",
       "      <th>1017</th>\n",
       "      <td>14646</td>\n",
       "      <td>279,138.02</td>\n",
       "      <td>1.00</td>\n",
       "      <td>72.00</td>\n",
       "      <td>196,844.00</td>\n",
       "      <td>135.50</td>\n",
       "      <td>7.84</td>\n",
       "      <td>0.21</td>\n",
       "      <td>288.00</td>\n",
       "      <td>2,733.94</td>\n",
       "      <td>28.61</td>\n",
       "    </tr>\n",
       "    <tr>\n",
       "      <th>492</th>\n",
       "      <td>18102</td>\n",
       "      <td>259,657.30</td>\n",
       "      <td>0.00</td>\n",
       "      <td>60.00</td>\n",
       "      <td>64,124.00</td>\n",
       "      <td>602.45</td>\n",
       "      <td>14.68</td>\n",
       "      <td>0.16</td>\n",
       "      <td>0.00</td>\n",
       "      <td>1,068.73</td>\n",
       "      <td>7.18</td>\n",
       "    </tr>\n",
       "    <tr>\n",
       "      <th>434</th>\n",
       "      <td>17450</td>\n",
       "      <td>194,550.79</td>\n",
       "      <td>8.00</td>\n",
       "      <td>46.00</td>\n",
       "      <td>69,993.00</td>\n",
       "      <td>577.30</td>\n",
       "      <td>12.82</td>\n",
       "      <td>0.14</td>\n",
       "      <td>952.00</td>\n",
       "      <td>1,521.59</td>\n",
       "      <td>7.33</td>\n",
       "    </tr>\n",
       "    <tr>\n",
       "      <th>3338</th>\n",
       "      <td>16446</td>\n",
       "      <td>168,472.50</td>\n",
       "      <td>0.00</td>\n",
       "      <td>2.00</td>\n",
       "      <td>80,997.00</td>\n",
       "      <td>56,157.50</td>\n",
       "      <td>205.00</td>\n",
       "      <td>0.01</td>\n",
       "      <td>80,995.00</td>\n",
       "      <td>40,498.50</td>\n",
       "      <td>1.50</td>\n",
       "    </tr>\n",
       "    <tr>\n",
       "      <th>66</th>\n",
       "      <td>14911</td>\n",
       "      <td>140,450.72</td>\n",
       "      <td>1.00</td>\n",
       "      <td>199.00</td>\n",
       "      <td>80,263.00</td>\n",
       "      <td>24.76</td>\n",
       "      <td>2.60</td>\n",
       "      <td>0.65</td>\n",
       "      <td>3,332.00</td>\n",
       "      <td>403.33</td>\n",
       "      <td>28.51</td>\n",
       "    </tr>\n",
       "  </tbody>\n",
       "</table>\n",
       "</div>"
      ],
      "text/plain": [
       "      customer_id  gross_revenue  recency_days  qty_baskets  qty_products  avg_ticket  avg_recency_days  frequency  qty_prod_returns  avg_basket_size  avg_unique_products\n",
       "1017        14646     279,138.02          1.00        72.00    196,844.00      135.50              7.84       0.21            288.00         2,733.94                28.61\n",
       "492         18102     259,657.30          0.00        60.00     64,124.00      602.45             14.68       0.16              0.00         1,068.73                 7.18\n",
       "434         17450     194,550.79          8.00        46.00     69,993.00      577.30             12.82       0.14            952.00         1,521.59                 7.33\n",
       "3338        16446     168,472.50          0.00         2.00     80,997.00   56,157.50            205.00       0.01         80,995.00        40,498.50                 1.50\n",
       "66          14911     140,450.72          1.00       199.00     80,263.00       24.76              2.60       0.65          3,332.00           403.33                28.51"
      ]
     },
     "execution_count": 99,
     "metadata": {},
     "output_type": "execute_result"
    }
   ],
   "source": [
    "df4.sort_values('gross_revenue', ascending=False).head()"
   ]
  },
  {
   "cell_type": "markdown",
   "id": "intended-second",
   "metadata": {
    "heading_collapsed": true,
    "hidden": true
   },
   "source": [
    "## Bivariate Analysis"
   ]
  },
  {
   "cell_type": "code",
   "execution_count": null,
   "id": "dependent-workplace",
   "metadata": {
    "hidden": true
   },
   "outputs": [],
   "source": []
  },
  {
   "cell_type": "code",
   "execution_count": null,
   "id": "systematic-macedonia",
   "metadata": {
    "collapsed": true,
    "hidden": true
   },
   "outputs": [],
   "source": []
  },
  {
   "cell_type": "markdown",
   "id": "fuzzy-reaction",
   "metadata": {
    "heading_collapsed": true
   },
   "source": [
    "# Data Preparation"
   ]
  },
  {
   "cell_type": "code",
   "execution_count": 62,
   "id": "synthetic-delight",
   "metadata": {
    "ExecuteTime": {
     "end_time": "2021-05-21T00:43:58.948740Z",
     "start_time": "2021-05-21T00:43:58.944737Z"
    },
    "collapsed": true,
    "hidden": true
   },
   "outputs": [],
   "source": [
    "df5 = df4.copy()"
   ]
  },
  {
   "cell_type": "code",
   "execution_count": 63,
   "id": "alive-turkish",
   "metadata": {
    "ExecuteTime": {
     "end_time": "2021-05-21T00:43:59.525264Z",
     "start_time": "2021-05-21T00:43:59.509249Z"
    },
    "collapsed": true,
    "hidden": true
   },
   "outputs": [
    {
     "data": {
      "text/html": [
       "<div>\n",
       "<style scoped>\n",
       "    .dataframe tbody tr th:only-of-type {\n",
       "        vertical-align: middle;\n",
       "    }\n",
       "\n",
       "    .dataframe tbody tr th {\n",
       "        vertical-align: top;\n",
       "    }\n",
       "\n",
       "    .dataframe thead th {\n",
       "        text-align: right;\n",
       "    }\n",
       "</style>\n",
       "<table border=\"1\" class=\"dataframe\">\n",
       "  <thead>\n",
       "    <tr style=\"text-align: right;\">\n",
       "      <th></th>\n",
       "      <th>customer_id</th>\n",
       "      <th>gross_revenue</th>\n",
       "      <th>recency_days</th>\n",
       "      <th>invoice_freq</th>\n",
       "      <th>avg_ticket</th>\n",
       "    </tr>\n",
       "  </thead>\n",
       "  <tbody>\n",
       "    <tr>\n",
       "      <th>0</th>\n",
       "      <td>17850</td>\n",
       "      <td>5,391.21</td>\n",
       "      <td>372.00</td>\n",
       "      <td>34.00</td>\n",
       "      <td>18.15</td>\n",
       "    </tr>\n",
       "    <tr>\n",
       "      <th>1</th>\n",
       "      <td>13047</td>\n",
       "      <td>3,232.59</td>\n",
       "      <td>56.00</td>\n",
       "      <td>9.00</td>\n",
       "      <td>18.90</td>\n",
       "    </tr>\n",
       "    <tr>\n",
       "      <th>2</th>\n",
       "      <td>12583</td>\n",
       "      <td>6,705.38</td>\n",
       "      <td>2.00</td>\n",
       "      <td>15.00</td>\n",
       "      <td>28.90</td>\n",
       "    </tr>\n",
       "    <tr>\n",
       "      <th>3</th>\n",
       "      <td>13748</td>\n",
       "      <td>948.25</td>\n",
       "      <td>95.00</td>\n",
       "      <td>5.00</td>\n",
       "      <td>33.87</td>\n",
       "    </tr>\n",
       "    <tr>\n",
       "      <th>4</th>\n",
       "      <td>15100</td>\n",
       "      <td>876.00</td>\n",
       "      <td>333.00</td>\n",
       "      <td>3.00</td>\n",
       "      <td>292.00</td>\n",
       "    </tr>\n",
       "  </tbody>\n",
       "</table>\n",
       "</div>"
      ],
      "text/plain": [
       "   customer_id  gross_revenue  recency_days  invoice_freq  avg_ticket\n",
       "0        17850       5,391.21        372.00         34.00       18.15\n",
       "1        13047       3,232.59         56.00          9.00       18.90\n",
       "2        12583       6,705.38          2.00         15.00       28.90\n",
       "3        13748         948.25         95.00          5.00       33.87\n",
       "4        15100         876.00        333.00          3.00      292.00"
      ]
     },
     "execution_count": 63,
     "metadata": {},
     "output_type": "execute_result"
    }
   ],
   "source": [
    "df5.head()"
   ]
  },
  {
   "cell_type": "code",
   "execution_count": 64,
   "id": "cooperative-belly",
   "metadata": {
    "ExecuteTime": {
     "end_time": "2021-05-21T00:44:01.711248Z",
     "start_time": "2021-05-21T00:44:01.699237Z"
    },
    "collapsed": true,
    "hidden": true
   },
   "outputs": [],
   "source": [
    "ss = pp.StandardScaler()\n",
    "\n",
    "df5['gross_revenue'] = ss.fit_transform(df5[['gross_revenue']])\n",
    "df5['recency_days'] = ss.fit_transform(df5[['recency_days']])\n",
    "df5['invoice_freq'] = ss.fit_transform(df5[['invoice_freq']])\n",
    "df5['avg_ticket'] = ss.fit_transform(df5[['avg_ticket']])\n",
    "#df5['returns'] = ss.fit_transform(df5[['returns']])"
   ]
  },
  {
   "cell_type": "code",
   "execution_count": 65,
   "id": "dental-alias",
   "metadata": {
    "ExecuteTime": {
     "end_time": "2021-05-21T00:44:05.436630Z",
     "start_time": "2021-05-21T00:44:05.427622Z"
    },
    "collapsed": true,
    "hidden": true
   },
   "outputs": [],
   "source": [
    "# ss = pp.MinMaxScaler()\n",
    "\n",
    "# df5['gross_revenue'] = ss.fit_transform(df5[['gross_revenue']])\n",
    "# df5['recency_days'] = ss.fit_transform(df5[['recency_days']])\n",
    "# df5['invoice_freq'] = ss.fit_transform(df5[['invoice_freq']])\n",
    "# df5['avg_ticket'] = ss.fit_transform(df5[['avg_ticket']])\n",
    "# #df5['returns'] = ss.fit_transform(df5[['returns']])"
   ]
  },
  {
   "cell_type": "code",
   "execution_count": 66,
   "id": "least-wound",
   "metadata": {
    "ExecuteTime": {
     "end_time": "2021-05-21T00:44:06.579667Z",
     "start_time": "2021-05-21T00:44:06.562652Z"
    },
    "collapsed": true,
    "hidden": true
   },
   "outputs": [
    {
     "data": {
      "text/html": [
       "<div>\n",
       "<style scoped>\n",
       "    .dataframe tbody tr th:only-of-type {\n",
       "        vertical-align: middle;\n",
       "    }\n",
       "\n",
       "    .dataframe tbody tr th {\n",
       "        vertical-align: top;\n",
       "    }\n",
       "\n",
       "    .dataframe thead th {\n",
       "        text-align: right;\n",
       "    }\n",
       "</style>\n",
       "<table border=\"1\" class=\"dataframe\">\n",
       "  <thead>\n",
       "    <tr style=\"text-align: right;\">\n",
       "      <th></th>\n",
       "      <th>customer_id</th>\n",
       "      <th>gross_revenue</th>\n",
       "      <th>recency_days</th>\n",
       "      <th>invoice_freq</th>\n",
       "      <th>avg_ticket</th>\n",
       "    </tr>\n",
       "  </thead>\n",
       "  <tbody>\n",
       "    <tr>\n",
       "      <th>0</th>\n",
       "      <td>17850</td>\n",
       "      <td>0.38</td>\n",
       "      <td>2.79</td>\n",
       "      <td>3.89</td>\n",
       "      <td>-0.03</td>\n",
       "    </tr>\n",
       "    <tr>\n",
       "      <th>1</th>\n",
       "      <td>13047</td>\n",
       "      <td>0.14</td>\n",
       "      <td>-0.36</td>\n",
       "      <td>0.62</td>\n",
       "      <td>-0.03</td>\n",
       "    </tr>\n",
       "    <tr>\n",
       "      <th>2</th>\n",
       "      <td>12583</td>\n",
       "      <td>0.52</td>\n",
       "      <td>-0.90</td>\n",
       "      <td>1.41</td>\n",
       "      <td>-0.03</td>\n",
       "    </tr>\n",
       "    <tr>\n",
       "      <th>3</th>\n",
       "      <td>13748</td>\n",
       "      <td>-0.12</td>\n",
       "      <td>0.03</td>\n",
       "      <td>0.10</td>\n",
       "      <td>-0.02</td>\n",
       "    </tr>\n",
       "    <tr>\n",
       "      <th>4</th>\n",
       "      <td>15100</td>\n",
       "      <td>-0.13</td>\n",
       "      <td>2.40</td>\n",
       "      <td>-0.16</td>\n",
       "      <td>0.15</td>\n",
       "    </tr>\n",
       "  </tbody>\n",
       "</table>\n",
       "</div>"
      ],
      "text/plain": [
       "   customer_id  gross_revenue  recency_days  invoice_freq  avg_ticket\n",
       "0        17850           0.38          2.79          3.89       -0.03\n",
       "1        13047           0.14         -0.36          0.62       -0.03\n",
       "2        12583           0.52         -0.90          1.41       -0.03\n",
       "3        13748          -0.12          0.03          0.10       -0.02\n",
       "4        15100          -0.13          2.40         -0.16        0.15"
      ]
     },
     "execution_count": 66,
     "metadata": {},
     "output_type": "execute_result"
    }
   ],
   "source": [
    "df5.head()"
   ]
  },
  {
   "cell_type": "markdown",
   "id": "incorporated-brass",
   "metadata": {
    "heading_collapsed": true
   },
   "source": [
    "# Feature Selection"
   ]
  },
  {
   "cell_type": "code",
   "execution_count": 67,
   "id": "competitive-society",
   "metadata": {
    "ExecuteTime": {
     "end_time": "2021-05-21T00:44:40.037479Z",
     "start_time": "2021-05-21T00:44:40.030473Z"
    },
    "collapsed": true,
    "hidden": true
   },
   "outputs": [],
   "source": [
    "df6 = df5.copy()"
   ]
  },
  {
   "cell_type": "markdown",
   "id": "double-audience",
   "metadata": {
    "heading_collapsed": true
   },
   "source": [
    "# Hypermarameter Fine-Tunning"
   ]
  },
  {
   "cell_type": "code",
   "execution_count": 79,
   "id": "transsexual-likelihood",
   "metadata": {
    "ExecuteTime": {
     "end_time": "2021-05-21T00:47:19.089466Z",
     "start_time": "2021-05-21T00:47:19.083461Z"
    },
    "collapsed": true,
    "hidden": true
   },
   "outputs": [
    {
     "data": {
      "text/html": [
       "<div>\n",
       "<style scoped>\n",
       "    .dataframe tbody tr th:only-of-type {\n",
       "        vertical-align: middle;\n",
       "    }\n",
       "\n",
       "    .dataframe tbody tr th {\n",
       "        vertical-align: top;\n",
       "    }\n",
       "\n",
       "    .dataframe thead th {\n",
       "        text-align: right;\n",
       "    }\n",
       "</style>\n",
       "<table border=\"1\" class=\"dataframe\">\n",
       "  <thead>\n",
       "    <tr style=\"text-align: right;\">\n",
       "      <th></th>\n",
       "      <th>gross_revenue</th>\n",
       "      <th>recency_days</th>\n",
       "      <th>invoice_freq</th>\n",
       "      <th>avg_ticket</th>\n",
       "    </tr>\n",
       "  </thead>\n",
       "  <tbody>\n",
       "    <tr>\n",
       "      <th>0</th>\n",
       "      <td>0.38</td>\n",
       "      <td>2.79</td>\n",
       "      <td>3.89</td>\n",
       "      <td>-0.03</td>\n",
       "    </tr>\n",
       "    <tr>\n",
       "      <th>1</th>\n",
       "      <td>0.14</td>\n",
       "      <td>-0.36</td>\n",
       "      <td>0.62</td>\n",
       "      <td>-0.03</td>\n",
       "    </tr>\n",
       "    <tr>\n",
       "      <th>2</th>\n",
       "      <td>0.52</td>\n",
       "      <td>-0.90</td>\n",
       "      <td>1.41</td>\n",
       "      <td>-0.03</td>\n",
       "    </tr>\n",
       "    <tr>\n",
       "      <th>3</th>\n",
       "      <td>-0.12</td>\n",
       "      <td>0.03</td>\n",
       "      <td>0.10</td>\n",
       "      <td>-0.02</td>\n",
       "    </tr>\n",
       "    <tr>\n",
       "      <th>4</th>\n",
       "      <td>-0.13</td>\n",
       "      <td>2.40</td>\n",
       "      <td>-0.16</td>\n",
       "      <td>0.15</td>\n",
       "    </tr>\n",
       "  </tbody>\n",
       "</table>\n",
       "</div>"
      ],
      "text/plain": [
       "   gross_revenue  recency_days  invoice_freq  avg_ticket\n",
       "0           0.38          2.79          3.89       -0.03\n",
       "1           0.14         -0.36          0.62       -0.03\n",
       "2           0.52         -0.90          1.41       -0.03\n",
       "3          -0.12          0.03          0.10       -0.02\n",
       "4          -0.13          2.40         -0.16        0.15"
      ]
     },
     "execution_count": 79,
     "metadata": {},
     "output_type": "execute_result"
    }
   ],
   "source": [
    "df7 = df6.copy()\n",
    "X =df7.drop(columns=['customer_id'])\n",
    "X.head()"
   ]
  },
  {
   "cell_type": "code",
   "execution_count": 80,
   "id": "proof-booking",
   "metadata": {
    "ExecuteTime": {
     "end_time": "2021-05-21T00:47:20.547790Z",
     "start_time": "2021-05-21T00:47:20.544787Z"
    },
    "collapsed": true,
    "hidden": true
   },
   "outputs": [],
   "source": [
    "clusters = [2,3,4,5,6,7]"
   ]
  },
  {
   "cell_type": "markdown",
   "id": "faced-hazard",
   "metadata": {
    "ExecuteTime": {
     "end_time": "2021-05-10T22:06:18.835557Z",
     "start_time": "2021-05-10T22:06:18.827550Z"
    },
    "heading_collapsed": true,
    "hidden": true
   },
   "source": [
    "## Within-Cluster Sum of Square (WSS)"
   ]
  },
  {
   "cell_type": "code",
   "execution_count": 81,
   "id": "critical-korean",
   "metadata": {
    "ExecuteTime": {
     "end_time": "2021-05-21T00:47:22.392465Z",
     "start_time": "2021-05-21T00:47:21.240419Z"
    },
    "cell_style": "center",
    "code_folding": [
     2
    ],
    "collapsed": true,
    "hidden": true
   },
   "outputs": [
    {
     "name": "stdout",
     "output_type": "stream",
     "text": [
      "[12985.647333169976, 9404.844768603276, 5457.406603090983, 4147.156605086311, 3620.5287103425962, 3184.181233713416]\n"
     ]
    },
    {
     "data": {
      "image/png": "[encoded data removed]",
      "text/plain": [
       "<Figure size 1080x504 with 1 Axes>"
      ]
     },
     "metadata": {},
     "output_type": "display_data"
    }
   ],
   "source": [
    "wss = []\n",
    "\n",
    "for k in clusters:\n",
    "    # model definition\n",
    "    kmeans = c.KMeans (init='random', \n",
    "                       n_clusters=k, \n",
    "                       n_init=10, #init random inicia o centroide aleatoriamente, n_init \n",
    "                       max_iter = 300, \n",
    "                       random_state =42) # random state define um estado aleatório fixo\n",
    "    \n",
    "    # model training\n",
    "    kmeans.fit( X )\n",
    "    \n",
    "    # validation\n",
    "    wss.append(kmeans.inertia_) # generates a wss value for each k\n",
    "    \n",
    "# wss plot - elbow method\n",
    "plt.plot (clusters, wss, linestyle='--', marker='o', color='b')\n",
    "plt.xlabel('K')\n",
    "plt.ylabel('Within-Cluster Sum of Square')\n",
    "plt.title('WSS vs. K')\n",
    "\n",
    "print(wss)"
   ]
  },
  {
   "cell_type": "markdown",
   "id": "stretch-worth",
   "metadata": {
    "cell_style": "center",
    "heading_collapsed": true,
    "hidden": true
   },
   "source": [
    "## Within-Cluster Sum of Square (WSS) vs. Silhouette Score"
   ]
  },
  {
   "cell_type": "code",
   "execution_count": 82,
   "id": "understood-boundary",
   "metadata": {
    "ExecuteTime": {
     "end_time": "2021-05-21T00:47:23.017031Z",
     "start_time": "2021-05-21T00:47:22.393465Z"
    },
    "cell_style": "split",
    "code_folding": [],
    "collapsed": true,
    "hidden": true
   },
   "outputs": [
    {
     "data": {
      "image/png": "[encoded data removed]",
      "text/plain": [
       "<Figure size 1080x504 with 1 Axes>"
      ]
     },
     "metadata": {},
     "output_type": "display_data"
    }
   ],
   "source": [
    "# yellow brick\n",
    "\n",
    "kmeans_y= KElbowVisualizer(c.KMeans(), k=clusters, timings=False);\n",
    "kmeans_y.fit(X);\n",
    "kmeans_y.show();"
   ]
  },
  {
   "cell_type": "code",
   "execution_count": 83,
   "id": "requested-dressing",
   "metadata": {
    "ExecuteTime": {
     "end_time": "2021-05-21T00:47:25.076902Z",
     "start_time": "2021-05-21T00:47:23.018033Z"
    },
    "cell_style": "split",
    "collapsed": true,
    "hidden": true
   },
   "outputs": [
    {
     "data": {
      "image/png": "[encoded data removed]",
      "text/plain": [
       "<Figure size 1080x504 with 1 Axes>"
      ]
     },
     "metadata": {},
     "output_type": "display_data"
    }
   ],
   "source": [
    "# yellow brick\n",
    "\n",
    "kmeans_y= KElbowVisualizer(c.KMeans(), k=clusters, metric='silhouette', timings=False);\n",
    "kmeans_y.fit(X);\n",
    "kmeans_y.show();\n"
   ]
  },
  {
   "cell_type": "markdown",
   "id": "quiet-swedish",
   "metadata": {
    "heading_collapsed": true,
    "hidden": true
   },
   "source": [
    "## Silhouette Analysis"
   ]
  },
  {
   "cell_type": "code",
   "execution_count": 84,
   "id": "limited-shame",
   "metadata": {
    "ExecuteTime": {
     "end_time": "2021-05-21T00:47:27.713294Z",
     "start_time": "2021-05-21T00:47:27.705287Z"
    },
    "collapsed": true,
    "hidden": true
   },
   "outputs": [
    {
     "name": "stdout",
     "output_type": "stream",
     "text": [
      "2 1\n"
     ]
    }
   ],
   "source": [
    "# divmod input parameters are numerator and denomitor\n",
    "# divmod outputs are quotient and remainder\n",
    "x,y=divmod(5,2)\n",
    "print(x,y)"
   ]
  },
  {
   "cell_type": "code",
   "execution_count": 85,
   "id": "developing-massage",
   "metadata": {
    "ExecuteTime": {
     "end_time": "2021-05-21T00:47:33.490539Z",
     "start_time": "2021-05-21T00:47:28.293822Z"
    },
    "collapsed": true,
    "hidden": true
   },
   "outputs": [
    {
     "data": {
      "image/png": "[encoded data removed]",
      "text/plain": [
       "<Figure size 1800x1296 with 6 Axes>"
      ]
     },
     "metadata": {},
     "output_type": "display_data"
    }
   ],
   "source": [
    "fig, ax = plt.subplots(3,2, figsize=(25,18))\n",
    "\n",
    "for k in clusters:\n",
    "    km = c.KMeans (n_clusters=k, init='random', n_init=10, max_iter=100, random_state=42)\n",
    "    q, r = divmod(k,2)\n",
    "    visualizer = SilhouetteVisualizer(km, colors='yellowbrick',ax=ax[q-1][r])\n",
    "    visualizer.fit(X)\n",
    "    visualizer.finalize()"
   ]
  },
  {
   "cell_type": "markdown",
   "id": "white-overall",
   "metadata": {
    "heading_collapsed": true
   },
   "source": [
    "# Model training"
   ]
  },
  {
   "cell_type": "code",
   "execution_count": 86,
   "id": "polished-insured",
   "metadata": {
    "ExecuteTime": {
     "end_time": "2021-05-21T00:47:33.506553Z",
     "start_time": "2021-05-21T00:47:33.491540Z"
    },
    "collapsed": true,
    "hidden": true
   },
   "outputs": [],
   "source": [
    "df8 = df7.copy()"
   ]
  },
  {
   "cell_type": "markdown",
   "id": "increasing-stomach",
   "metadata": {
    "heading_collapsed": true,
    "hidden": true
   },
   "source": [
    "## K-Means"
   ]
  },
  {
   "cell_type": "code",
   "execution_count": 87,
   "id": "hispanic-residence",
   "metadata": {
    "ExecuteTime": {
     "end_time": "2021-05-21T00:47:33.602640Z",
     "start_time": "2021-05-21T00:47:33.507555Z"
    },
    "collapsed": true,
    "hidden": true
   },
   "outputs": [
    {
     "name": "stdout",
     "output_type": "stream",
     "text": [
      "[2 1 1 ... 1 1 1]\n"
     ]
    }
   ],
   "source": [
    "# model definition\n",
    "k = 3\n",
    "kmeans = c.KMeans(init='random', n_clusters=k, n_init=10, max_iter=300, random_state=42)\n",
    "\n",
    "# model training\n",
    "kmeans.fit(X)\n",
    "\n",
    "# model clustering\n",
    "# labels = kmeans.predict(X) # outra maneira de fazer\n",
    "labels = kmeans.labels_\n",
    "print(labels)"
   ]
  },
  {
   "cell_type": "markdown",
   "id": "average-sally",
   "metadata": {
    "heading_collapsed": true,
    "hidden": true
   },
   "source": [
    "## Cluster Validation"
   ]
  },
  {
   "cell_type": "code",
   "execution_count": 88,
   "id": "packed-faculty",
   "metadata": {
    "ExecuteTime": {
     "end_time": "2021-05-21T00:47:45.787701Z",
     "start_time": "2021-05-21T00:47:45.528466Z"
    },
    "collapsed": true,
    "hidden": true
   },
   "outputs": [
    {
     "name": "stdout",
     "output_type": "stream",
     "text": [
      "WSS value: 9404.844768603276\n",
      "SS value:  0.5895273303328359\n"
     ]
    }
   ],
   "source": [
    "# WSS \n",
    "print('WSS value: {}'.format(kmeans.inertia_))\n",
    "\n",
    "# SS \n",
    "print('SS value:  {}'.format(m.silhouette_score(X, labels, metric='euclidean')))"
   ]
  },
  {
   "cell_type": "markdown",
   "id": "wrapped-victorian",
   "metadata": {
    "heading_collapsed": true
   },
   "source": [
    "# Cluster Analysis"
   ]
  },
  {
   "cell_type": "code",
   "execution_count": 89,
   "id": "ignored-speaking",
   "metadata": {
    "ExecuteTime": {
     "end_time": "2021-05-21T00:48:21.167331Z",
     "start_time": "2021-05-21T00:48:21.147313Z"
    },
    "collapsed": true,
    "hidden": true
   },
   "outputs": [
    {
     "data": {
      "text/html": [
       "<div>\n",
       "<style scoped>\n",
       "    .dataframe tbody tr th:only-of-type {\n",
       "        vertical-align: middle;\n",
       "    }\n",
       "\n",
       "    .dataframe tbody tr th {\n",
       "        vertical-align: top;\n",
       "    }\n",
       "\n",
       "    .dataframe thead th {\n",
       "        text-align: right;\n",
       "    }\n",
       "</style>\n",
       "<table border=\"1\" class=\"dataframe\">\n",
       "  <thead>\n",
       "    <tr style=\"text-align: right;\">\n",
       "      <th></th>\n",
       "      <th>customer_id</th>\n",
       "      <th>gross_revenue</th>\n",
       "      <th>recency_days</th>\n",
       "      <th>invoice_freq</th>\n",
       "      <th>avg_ticket</th>\n",
       "      <th>cluster</th>\n",
       "    </tr>\n",
       "  </thead>\n",
       "  <tbody>\n",
       "    <tr>\n",
       "      <th>0</th>\n",
       "      <td>17850</td>\n",
       "      <td>0.38</td>\n",
       "      <td>2.79</td>\n",
       "      <td>3.89</td>\n",
       "      <td>-0.03</td>\n",
       "      <td>2</td>\n",
       "    </tr>\n",
       "    <tr>\n",
       "      <th>1</th>\n",
       "      <td>13047</td>\n",
       "      <td>0.14</td>\n",
       "      <td>-0.36</td>\n",
       "      <td>0.62</td>\n",
       "      <td>-0.03</td>\n",
       "      <td>1</td>\n",
       "    </tr>\n",
       "    <tr>\n",
       "      <th>2</th>\n",
       "      <td>12583</td>\n",
       "      <td>0.52</td>\n",
       "      <td>-0.90</td>\n",
       "      <td>1.41</td>\n",
       "      <td>-0.03</td>\n",
       "      <td>1</td>\n",
       "    </tr>\n",
       "    <tr>\n",
       "      <th>3</th>\n",
       "      <td>13748</td>\n",
       "      <td>-0.12</td>\n",
       "      <td>0.03</td>\n",
       "      <td>0.10</td>\n",
       "      <td>-0.02</td>\n",
       "      <td>1</td>\n",
       "    </tr>\n",
       "    <tr>\n",
       "      <th>4</th>\n",
       "      <td>15100</td>\n",
       "      <td>-0.13</td>\n",
       "      <td>2.40</td>\n",
       "      <td>-0.16</td>\n",
       "      <td>0.15</td>\n",
       "      <td>2</td>\n",
       "    </tr>\n",
       "  </tbody>\n",
       "</table>\n",
       "</div>"
      ],
      "text/plain": [
       "   customer_id  gross_revenue  recency_days  invoice_freq  avg_ticket  cluster\n",
       "0        17850           0.38          2.79          3.89       -0.03        2\n",
       "1        13047           0.14         -0.36          0.62       -0.03        1\n",
       "2        12583           0.52         -0.90          1.41       -0.03        1\n",
       "3        13748          -0.12          0.03          0.10       -0.02        1\n",
       "4        15100          -0.13          2.40         -0.16        0.15        2"
      ]
     },
     "execution_count": 89,
     "metadata": {},
     "output_type": "execute_result"
    }
   ],
   "source": [
    "df9 = df8.copy()\n",
    "df9['cluster']=labels\n",
    "df9.head()"
   ]
  },
  {
   "cell_type": "markdown",
   "id": "senior-finnish",
   "metadata": {
    "ExecuteTime": {
     "end_time": "2021-05-13T22:54:18.054519Z",
     "start_time": "2021-05-13T22:54:18.048514Z"
    },
    "heading_collapsed": true,
    "hidden": true
   },
   "source": [
    "## Visualization Inspection"
   ]
  },
  {
   "cell_type": "code",
   "execution_count": 91,
   "id": "animated-grammar",
   "metadata": {
    "ExecuteTime": {
     "end_time": "2021-05-21T00:48:43.417197Z",
     "start_time": "2021-05-21T00:48:42.707048Z"
    },
    "collapsed": true,
    "hidden": true
   },
   "outputs": [
    {
     "data": {
      "image/png": "[encoded data removed]",
      "text/plain": [
       "<Figure size 1080x504 with 1 Axes>"
      ]
     },
     "metadata": {},
     "output_type": "display_data"
    }
   ],
   "source": [
    "visualizer = SilhouetteVisualizer(kmeans, colors='yellowbrick')\n",
    "visualizer.fit(X)\n",
    "visualizer.finalize()\n"
   ]
  },
  {
   "cell_type": "markdown",
   "id": "aware-price",
   "metadata": {
    "heading_collapsed": true,
    "hidden": true
   },
   "source": [
    "## 2d Plot"
   ]
  },
  {
   "cell_type": "code",
   "execution_count": 92,
   "id": "governing-starter",
   "metadata": {
    "ExecuteTime": {
     "end_time": "2021-05-21T00:48:43.433211Z",
     "start_time": "2021-05-21T00:48:43.418198Z"
    },
    "collapsed": true,
    "hidden": true
   },
   "outputs": [
    {
     "data": {
      "text/html": [
       "<div>\n",
       "<style scoped>\n",
       "    .dataframe tbody tr th:only-of-type {\n",
       "        vertical-align: middle;\n",
       "    }\n",
       "\n",
       "    .dataframe tbody tr th {\n",
       "        vertical-align: top;\n",
       "    }\n",
       "\n",
       "    .dataframe thead th {\n",
       "        text-align: right;\n",
       "    }\n",
       "</style>\n",
       "<table border=\"1\" class=\"dataframe\">\n",
       "  <thead>\n",
       "    <tr style=\"text-align: right;\">\n",
       "      <th></th>\n",
       "      <th>customer_id</th>\n",
       "      <th>gross_revenue</th>\n",
       "      <th>recency_days</th>\n",
       "      <th>invoice_freq</th>\n",
       "      <th>avg_ticket</th>\n",
       "      <th>cluster</th>\n",
       "    </tr>\n",
       "  </thead>\n",
       "  <tbody>\n",
       "    <tr>\n",
       "      <th>0</th>\n",
       "      <td>17850</td>\n",
       "      <td>0.38</td>\n",
       "      <td>2.79</td>\n",
       "      <td>3.89</td>\n",
       "      <td>-0.03</td>\n",
       "      <td>2</td>\n",
       "    </tr>\n",
       "    <tr>\n",
       "      <th>1</th>\n",
       "      <td>13047</td>\n",
       "      <td>0.14</td>\n",
       "      <td>-0.36</td>\n",
       "      <td>0.62</td>\n",
       "      <td>-0.03</td>\n",
       "      <td>1</td>\n",
       "    </tr>\n",
       "    <tr>\n",
       "      <th>2</th>\n",
       "      <td>12583</td>\n",
       "      <td>0.52</td>\n",
       "      <td>-0.90</td>\n",
       "      <td>1.41</td>\n",
       "      <td>-0.03</td>\n",
       "      <td>1</td>\n",
       "    </tr>\n",
       "    <tr>\n",
       "      <th>3</th>\n",
       "      <td>13748</td>\n",
       "      <td>-0.12</td>\n",
       "      <td>0.03</td>\n",
       "      <td>0.10</td>\n",
       "      <td>-0.02</td>\n",
       "      <td>1</td>\n",
       "    </tr>\n",
       "    <tr>\n",
       "      <th>4</th>\n",
       "      <td>15100</td>\n",
       "      <td>-0.13</td>\n",
       "      <td>2.40</td>\n",
       "      <td>-0.16</td>\n",
       "      <td>0.15</td>\n",
       "      <td>2</td>\n",
       "    </tr>\n",
       "  </tbody>\n",
       "</table>\n",
       "</div>"
      ],
      "text/plain": [
       "   customer_id  gross_revenue  recency_days  invoice_freq  avg_ticket  cluster\n",
       "0        17850           0.38          2.79          3.89       -0.03        2\n",
       "1        13047           0.14         -0.36          0.62       -0.03        1\n",
       "2        12583           0.52         -0.90          1.41       -0.03        1\n",
       "3        13748          -0.12          0.03          0.10       -0.02        1\n",
       "4        15100          -0.13          2.40         -0.16        0.15        2"
      ]
     },
     "execution_count": 92,
     "metadata": {},
     "output_type": "execute_result"
    }
   ],
   "source": [
    "df9.head()"
   ]
  },
  {
   "cell_type": "code",
   "execution_count": 93,
   "id": "based-supplier",
   "metadata": {
    "ExecuteTime": {
     "end_time": "2021-05-21T00:48:43.481255Z",
     "start_time": "2021-05-21T00:48:43.475249Z"
    },
    "collapsed": true,
    "hidden": true
   },
   "outputs": [],
   "source": [
    "# df_viz = df9.drop(columns='customer_id', axis=1)\n",
    "# sns.pairplot(df_viz, hue='cluster')"
   ]
  },
  {
   "cell_type": "markdown",
   "id": "exciting-ecology",
   "metadata": {
    "heading_collapsed": true,
    "hidden": true
   },
   "source": [
    "## UMAP"
   ]
  },
  {
   "cell_type": "code",
   "execution_count": 94,
   "id": "hungry-technical",
   "metadata": {
    "ExecuteTime": {
     "end_time": "2021-05-21T00:48:44.996631Z",
     "start_time": "2021-05-21T00:48:44.983618Z"
    },
    "collapsed": true,
    "hidden": true
   },
   "outputs": [
    {
     "data": {
      "text/html": [
       "<div>\n",
       "<style scoped>\n",
       "    .dataframe tbody tr th:only-of-type {\n",
       "        vertical-align: middle;\n",
       "    }\n",
       "\n",
       "    .dataframe tbody tr th {\n",
       "        vertical-align: top;\n",
       "    }\n",
       "\n",
       "    .dataframe thead th {\n",
       "        text-align: right;\n",
       "    }\n",
       "</style>\n",
       "<table border=\"1\" class=\"dataframe\">\n",
       "  <thead>\n",
       "    <tr style=\"text-align: right;\">\n",
       "      <th></th>\n",
       "      <th>gross_revenue</th>\n",
       "      <th>recency_days</th>\n",
       "      <th>invoice_freq</th>\n",
       "      <th>avg_ticket</th>\n",
       "    </tr>\n",
       "  </thead>\n",
       "  <tbody>\n",
       "    <tr>\n",
       "      <th>0</th>\n",
       "      <td>0.38</td>\n",
       "      <td>2.79</td>\n",
       "      <td>3.89</td>\n",
       "      <td>-0.03</td>\n",
       "    </tr>\n",
       "    <tr>\n",
       "      <th>1</th>\n",
       "      <td>0.14</td>\n",
       "      <td>-0.36</td>\n",
       "      <td>0.62</td>\n",
       "      <td>-0.03</td>\n",
       "    </tr>\n",
       "    <tr>\n",
       "      <th>2</th>\n",
       "      <td>0.52</td>\n",
       "      <td>-0.90</td>\n",
       "      <td>1.41</td>\n",
       "      <td>-0.03</td>\n",
       "    </tr>\n",
       "    <tr>\n",
       "      <th>3</th>\n",
       "      <td>-0.12</td>\n",
       "      <td>0.03</td>\n",
       "      <td>0.10</td>\n",
       "      <td>-0.02</td>\n",
       "    </tr>\n",
       "    <tr>\n",
       "      <th>4</th>\n",
       "      <td>-0.13</td>\n",
       "      <td>2.40</td>\n",
       "      <td>-0.16</td>\n",
       "      <td>0.15</td>\n",
       "    </tr>\n",
       "  </tbody>\n",
       "</table>\n",
       "</div>"
      ],
      "text/plain": [
       "   gross_revenue  recency_days  invoice_freq  avg_ticket\n",
       "0           0.38          2.79          3.89       -0.03\n",
       "1           0.14         -0.36          0.62       -0.03\n",
       "2           0.52         -0.90          1.41       -0.03\n",
       "3          -0.12          0.03          0.10       -0.02\n",
       "4          -0.13          2.40         -0.16        0.15"
      ]
     },
     "execution_count": 94,
     "metadata": {},
     "output_type": "execute_result"
    }
   ],
   "source": [
    "X.head()"
   ]
  },
  {
   "cell_type": "code",
   "execution_count": 95,
   "id": "associate-education",
   "metadata": {
    "ExecuteTime": {
     "end_time": "2021-05-21T00:48:54.137814Z",
     "start_time": "2021-05-21T00:48:45.529114Z"
    },
    "collapsed": true,
    "hidden": true
   },
   "outputs": [],
   "source": [
    "reducer = umap.UMAP (n_neighbors=40, random_state=42) # n_neighbors = altera a visualização do cluster, meio que \"zoom in/zoom out\"\n",
    "embedding = reducer.fit_transform(X)"
   ]
  },
  {
   "cell_type": "code",
   "execution_count": 96,
   "id": "unexpected-trust",
   "metadata": {
    "ExecuteTime": {
     "end_time": "2021-05-21T00:48:56.756190Z",
     "start_time": "2021-05-21T00:48:56.384854Z"
    },
    "collapsed": true,
    "hidden": true
   },
   "outputs": [
    {
     "data": {
      "text/plain": [
       "<AxesSubplot:xlabel='embedding_x', ylabel='embedding_y'>"
      ]
     },
     "execution_count": 96,
     "metadata": {},
     "output_type": "execute_result"
    },
    {
     "data": {
      "image/png": "[encoded data removed]",
      "text/plain": [
       "<Figure size 1080x504 with 1 Axes>"
      ]
     },
     "metadata": {},
     "output_type": "display_data"
    }
   ],
   "source": [
    "# embedding\n",
    "df_viz['embedding_x'] = embedding[:,0]\n",
    "df_viz['embedding_y'] = embedding[:,1]\n",
    "\n",
    "# plot UMAP\n",
    "sns.scatterplot(x='embedding_x', y='embedding_y',\n",
    "                hue='cluster',\n",
    "                palette=sns.color_palette('hls', n_colors=len(df_viz['cluster'].unique())),\n",
    "                data=df_viz)"
   ]
  },
  {
   "cell_type": "markdown",
   "id": "original-belarus",
   "metadata": {
    "heading_collapsed": true,
    "hidden": true
   },
   "source": [
    "## Cluster Profile"
   ]
  },
  {
   "cell_type": "code",
   "execution_count": 97,
   "id": "psychological-advantage",
   "metadata": {
    "ExecuteTime": {
     "end_time": "2021-05-21T00:49:35.704448Z",
     "start_time": "2021-05-21T00:49:35.696441Z"
    },
    "collapsed": true,
    "hidden": true
   },
   "outputs": [
    {
     "data": {
      "text/html": [
       "<div>\n",
       "<style scoped>\n",
       "    .dataframe tbody tr th:only-of-type {\n",
       "        vertical-align: middle;\n",
       "    }\n",
       "\n",
       "    .dataframe tbody tr th {\n",
       "        vertical-align: top;\n",
       "    }\n",
       "\n",
       "    .dataframe thead th {\n",
       "        text-align: right;\n",
       "    }\n",
       "</style>\n",
       "<table border=\"1\" class=\"dataframe\">\n",
       "  <thead>\n",
       "    <tr style=\"text-align: right;\">\n",
       "      <th></th>\n",
       "      <th>customer_id</th>\n",
       "      <th>gross_revenue</th>\n",
       "      <th>recency_days</th>\n",
       "      <th>invoice_freq</th>\n",
       "      <th>avg_ticket</th>\n",
       "      <th>cluster</th>\n",
       "    </tr>\n",
       "  </thead>\n",
       "  <tbody>\n",
       "    <tr>\n",
       "      <th>0</th>\n",
       "      <td>17850</td>\n",
       "      <td>0.38</td>\n",
       "      <td>2.79</td>\n",
       "      <td>3.89</td>\n",
       "      <td>-0.03</td>\n",
       "      <td>2</td>\n",
       "    </tr>\n",
       "    <tr>\n",
       "      <th>1</th>\n",
       "      <td>13047</td>\n",
       "      <td>0.14</td>\n",
       "      <td>-0.36</td>\n",
       "      <td>0.62</td>\n",
       "      <td>-0.03</td>\n",
       "      <td>1</td>\n",
       "    </tr>\n",
       "    <tr>\n",
       "      <th>2</th>\n",
       "      <td>12583</td>\n",
       "      <td>0.52</td>\n",
       "      <td>-0.90</td>\n",
       "      <td>1.41</td>\n",
       "      <td>-0.03</td>\n",
       "      <td>1</td>\n",
       "    </tr>\n",
       "    <tr>\n",
       "      <th>3</th>\n",
       "      <td>13748</td>\n",
       "      <td>-0.12</td>\n",
       "      <td>0.03</td>\n",
       "      <td>0.10</td>\n",
       "      <td>-0.02</td>\n",
       "      <td>1</td>\n",
       "    </tr>\n",
       "    <tr>\n",
       "      <th>4</th>\n",
       "      <td>15100</td>\n",
       "      <td>-0.13</td>\n",
       "      <td>2.40</td>\n",
       "      <td>-0.16</td>\n",
       "      <td>0.15</td>\n",
       "      <td>2</td>\n",
       "    </tr>\n",
       "  </tbody>\n",
       "</table>\n",
       "</div>"
      ],
      "text/plain": [
       "   customer_id  gross_revenue  recency_days  invoice_freq  avg_ticket  cluster\n",
       "0        17850           0.38          2.79          3.89       -0.03        2\n",
       "1        13047           0.14         -0.36          0.62       -0.03        1\n",
       "2        12583           0.52         -0.90          1.41       -0.03        1\n",
       "3        13748          -0.12          0.03          0.10       -0.02        1\n",
       "4        15100          -0.13          2.40         -0.16        0.15        2"
      ]
     },
     "execution_count": 97,
     "metadata": {},
     "output_type": "execute_result"
    }
   ],
   "source": [
    "df9.head()"
   ]
  },
  {
   "cell_type": "code",
   "execution_count": 98,
   "id": "destroyed-directory",
   "metadata": {
    "ExecuteTime": {
     "end_time": "2021-05-21T00:49:36.935566Z",
     "start_time": "2021-05-21T00:49:36.895529Z"
    },
    "collapsed": true,
    "hidden": true
   },
   "outputs": [
    {
     "data": {
      "text/html": [
       "<div>\n",
       "<style scoped>\n",
       "    .dataframe tbody tr th:only-of-type {\n",
       "        vertical-align: middle;\n",
       "    }\n",
       "\n",
       "    .dataframe tbody tr th {\n",
       "        vertical-align: top;\n",
       "    }\n",
       "\n",
       "    .dataframe thead th {\n",
       "        text-align: right;\n",
       "    }\n",
       "</style>\n",
       "<table border=\"1\" class=\"dataframe\">\n",
       "  <thead>\n",
       "    <tr style=\"text-align: right;\">\n",
       "      <th></th>\n",
       "      <th>cluster</th>\n",
       "      <th>customer_id</th>\n",
       "      <th>customer_percentage</th>\n",
       "      <th>gross_revenue</th>\n",
       "      <th>recency_days</th>\n",
       "      <th>invoice_freq</th>\n",
       "      <th>avg_ticket</th>\n",
       "    </tr>\n",
       "  </thead>\n",
       "  <tbody>\n",
       "    <tr>\n",
       "      <th>0</th>\n",
       "      <td>0</td>\n",
       "      <td>22</td>\n",
       "      <td>0.51</td>\n",
       "      <td>10.34</td>\n",
       "      <td>-0.72</td>\n",
       "      <td>8.44</td>\n",
       "      <td>4.19</td>\n",
       "    </tr>\n",
       "    <tr>\n",
       "      <th>1</th>\n",
       "      <td>1</td>\n",
       "      <td>3222</td>\n",
       "      <td>74.41</td>\n",
       "      <td>-0.02</td>\n",
       "      <td>-0.51</td>\n",
       "      <td>0.06</td>\n",
       "      <td>-0.03</td>\n",
       "    </tr>\n",
       "    <tr>\n",
       "      <th>2</th>\n",
       "      <td>2</td>\n",
       "      <td>1086</td>\n",
       "      <td>25.08</td>\n",
       "      <td>-0.16</td>\n",
       "      <td>1.54</td>\n",
       "      <td>-0.35</td>\n",
       "      <td>-0.01</td>\n",
       "    </tr>\n",
       "  </tbody>\n",
       "</table>\n",
       "</div>"
      ],
      "text/plain": [
       "   cluster  customer_id  customer_percentage  gross_revenue  recency_days  invoice_freq  avg_ticket\n",
       "0        0           22                 0.51          10.34         -0.72          8.44        4.19\n",
       "1        1         3222                74.41          -0.02         -0.51          0.06       -0.03\n",
       "2        2         1086                25.08          -0.16          1.54         -0.35       -0.01"
      ]
     },
     "execution_count": 98,
     "metadata": {},
     "output_type": "execute_result"
    }
   ],
   "source": [
    "# number of customers on each cluster\n",
    "df_cluster = df9[['customer_id','cluster']].groupby('cluster').count().reset_index()\n",
    "df_cluster['customer_percentage'] = (df_cluster['customer_id'] / df_cluster['customer_id'].sum())*100\n",
    "\n",
    "# avg gross_revenue\n",
    "df_avg_grossrevenue = df9[['gross_revenue','cluster']].groupby('cluster').mean().reset_index()\n",
    "df_cluster = pd.merge(df_cluster, df_avg_grossrevenue, how='inner', on='cluster')\n",
    "\n",
    "# avg recency_days\n",
    "df_avg_recencydays = df9[['recency_days','cluster']].groupby('cluster').mean().reset_index()\n",
    "df_cluster = pd.merge(df_cluster, df_avg_recencydays, how='inner', on='cluster')\n",
    "\n",
    "# avg incoive_freq\n",
    "df_avg_invoicefreq = df9[['invoice_freq','cluster']].groupby('cluster').mean().reset_index()\n",
    "df_cluster = pd.merge(df_cluster, df_avg_invoicefreq, how='inner', on='cluster')\n",
    "\n",
    "#avg ticket\n",
    "df_avg_ticket = df9[['avg_ticket','cluster']].groupby('cluster').mean().reset_index()\n",
    "df_cluster = pd.merge(df_cluster, df_avg_ticket, how='inner', on='cluster')\n",
    "\n",
    "df_cluster"
   ]
  },
  {
   "cell_type": "markdown",
   "id": "processed-geometry",
   "metadata": {
    "ExecuteTime": {
     "end_time": "2021-05-13T21:38:45.906893Z",
     "start_time": "2021-05-13T21:38:45.896884Z"
    },
    "heading_collapsed": true,
    "hidden": true
   },
   "source": [
    "### Cluster 01:  ( Candidato à Insider ) ** ATUALIZAR **\n",
    "    - Número de customers: 6 (0.14% do customers )\n",
    "    - Recência em média: 7 dias\n",
    "    - Compras em média: 89 compras\n",
    "    - Receita em média: $182.182,00 dólares\n",
    "        \n",
    "### Cluster 02:\n",
    "    - Número de customers: 31 (0.71% do customers )\n",
    "    - Recência em média: 14 dias\n",
    "    - Compras em média: 53 compras\n",
    "    - Receita em média: $40.543,52 dólares\n",
    "\n",
    "### Cluster 00:\n",
    "    - Número de customers: 4.335 (99% do customers )\n",
    "    - Recência em média: 92 dias\n",
    "    - Compras em média: 5 compras\n",
    "    - Receita em média: $1.372,57 dólares"
   ]
  },
  {
   "cell_type": "code",
   "execution_count": null,
   "id": "natural-contributor",
   "metadata": {
    "collapsed": true,
    "hidden": true
   },
   "outputs": [],
   "source": []
  },
  {
   "cell_type": "markdown",
   "id": "hindu-congo",
   "metadata": {
    "heading_collapsed": true
   },
   "source": [
    "# Deploy to Production"
   ]
  },
  {
   "cell_type": "code",
   "execution_count": null,
   "id": "honest-south",
   "metadata": {
    "collapsed": true,
    "hidden": true
   },
   "outputs": [],
   "source": []
  },
  {
   "cell_type": "code",
   "execution_count": null,
   "id": "alpha-bathroom",
   "metadata": {
    "collapsed": true,
    "hidden": true
   },
   "outputs": [],
   "source": []
  }
 ],
 "metadata": {
  "kernelspec": {
   "display_name": "Python 3",
   "language": "python",
   "name": "python3"
  },
  "language_info": {
   "codemirror_mode": {
    "name": "ipython",
    "version": 3
   },
   "file_extension": ".py",
   "mimetype": "text/x-python",
   "name": "python",
   "nbconvert_exporter": "python",
   "pygments_lexer": "ipython3",
   "version": "3.9.1"
  },
  "toc": {
   "base_numbering": "0",
   "nav_menu": {
    "height": "298.993px",
    "width": "160px"
   },
   "number_sections": true,
   "sideBar": false,
   "skip_h1_title": false,
   "title_cell": "Table of Contents",
   "title_sidebar": "Contents",
   "toc_cell": false,
   "toc_position": {
    "height": "519px",
    "left": "1481.75px",
    "top": "110px",
    "width": "373.219px"
   },
   "toc_section_display": true,
   "toc_window_display": true
  }
 },
 "nbformat": 4,
 "nbformat_minor": 5
}
