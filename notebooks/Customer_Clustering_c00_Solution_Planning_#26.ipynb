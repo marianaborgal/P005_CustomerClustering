{
 "cells": [
  {
   "cell_type": "markdown",
   "id": "known-choir",
   "metadata": {},
   "source": [
    "<font size=6, font color=blue>**PA005: Customer Clustering**"
   ]
  },
  {
   "cell_type": "markdown",
   "id": "distributed-december",
   "metadata": {},
   "source": [
    "# Solution Planning"
   ]
  },
  {
   "cell_type": "markdown",
   "id": "obvious-frontier",
   "metadata": {},
   "source": [
    "## Input"
   ]
  },
  {
   "cell_type": "markdown",
   "id": "modern-proof",
   "metadata": {},
   "source": [
    "- Business Problem\n",
    "    * Select most valuable customers to create a loyalty program called Insiders\n",
    "\n",
    "\n",
    "- Data\n",
    "    * One year of e-commerce sales"
   ]
  },
  {
   "cell_type": "markdown",
   "id": "comfortable-capability",
   "metadata": {},
   "source": [
    "## Output"
   ]
  },
  {
   "cell_type": "markdown",
   "id": "pursuant-indie",
   "metadata": {
    "ExecuteTime": {
     "end_time": "2021-08-12T14:51:10.727456Z",
     "start_time": "2021-08-12T14:51:10.718448Z"
    }
   },
   "source": [
    "* A list of customers that will be part of Insiders\n",
    "* A report answering business questions\n",
    "    1. Who are the eligible customers to participate in the Insiders program? \n",
    "    2. How many customers will be part of the program?\n",
    "    3. What are the main characteristics of these customers? \n",
    "    4. What revenue percentage comes from Insiders?\n",
    "    5. What is the Insiders' expected revenue for the coming months?\n",
    "    6. What are the conditions for a customer to be eligible for the Insiders program? \n",
    "    7. What are the conditions for a customer to be removed from the Insiders program?\n",
    "    8. What is the guarantee that the Insiders program is better than the regular customer database? \n",
    "    9. What actions can the marketing team make to increase the revenue?"
   ]
  },
  {
   "cell_type": "markdown",
   "id": "valuable-sequence",
   "metadata": {},
   "source": [
    "## Tasks"
   ]
  },
  {
   "cell_type": "markdown",
   "id": "indoor-investigator",
   "metadata": {},
   "source": [
    "* A report answering business questions:\n",
    "    1. Who are the eligible customers to participate in the Insiders program?\n",
    "        - Understand the criteria to a eligible customer. \n",
    "        - Criteria examples:\n",
    "            * Revenue\n",
    "                * High average ticket\n",
    "                * High LTV (lifetime value)\n",
    "                * Low recency\n",
    "                * High basket size\n",
    "                * Low churn probability\n",
    "            * Expenses\n",
    "                * Return rate\n",
    "            * Buying Experience\n",
    "                * High average notes on reviews<br><br>\n",
    "                \n",
    "    2. How many customers will be part of the program?\n",
    "        - Calculate the percentage of customers that belong to Insiders program over the total number of customers.<br><br>\n",
    "                \n",
    "    3. What are the main characteristics of these customers? \n",
    "        - Indicate customer characteristics:\n",
    "            * Age\n",
    "            * City\n",
    "            * Education level\n",
    "            * Localization, etc.\n",
    "        - Indicate consumption characteristics:\n",
    "            * Clusters attributes<br><br>\n",
    "                \n",
    "    4. What revenue percentage comes from Insiders?\n",
    "        - Calculate the percentage of Insiders revenue over the total revenue.<br><br>\n",
    "                \n",
    "    5. What is the Insiders' expected revenue for the coming months?\n",
    "        - Calculate Insiders' LTV\n",
    "        - Calculate Cohort Analysis.<br><br>\n",
    "        \n",
    "    6. What are the conditions for a customer to be eligible for the Insiders program? \n",
    "        - Define verification periodicity (monthly, quarterly, etc.) \n",
    "        - The customer must be similar to a customer on Insiders.<br><br>\n",
    "                \n",
    "    7. What are the conditions for a customer to be removed from the Insiders program?\n",
    "        - Define verification periodicity (monthly, quarterly, etc.) \n",
    "        - The customer must be dissimilar to a customer on Insiders.<br><br>\n",
    "            \n",
    "    8. What is the guarantee that the Insiders program is better than the regular customer database? \n",
    "        - Perform A/B Test\n",
    "        - Perform A/B Bayesian Test  \n",
    "        - Perform Hypothesis Test <br><br>\n",
    "                        \n",
    "    9. What actions can the marketing team make to increase the revenue?\n",
    "        - Discount\n",
    "        - Buying preferences\n",
    "        - Shipping options\n",
    "        - Promote a visit to the company, etc."
   ]
  },
  {
   "cell_type": "markdown",
   "id": "ranking-estimate",
   "metadata": {},
   "source": [
    "* Solution Benchmark\n",
    "    - Desk Research <br>\n",
    "        <font color=red>* INSERIR EXEMPLOS APLICADOS NO MERCADO </font><br>\n",
    "        * "
   ]
  },
  {
   "cell_type": "code",
   "execution_count": null,
   "id": "secret-smith",
   "metadata": {},
   "outputs": [],
   "source": []
  }
 ],
 "metadata": {
  "kernelspec": {
   "display_name": "Python 3",
   "language": "python",
   "name": "python3"
  },
  "language_info": {
   "codemirror_mode": {
    "name": "ipython",
    "version": 3
   },
   "file_extension": ".py",
   "mimetype": "text/x-python",
   "name": "python",
   "nbconvert_exporter": "python",
   "pygments_lexer": "ipython3",
   "version": "3.9.1"
  },
  "toc": {
   "base_numbering": "0",
   "nav_menu": {
    "height": "298.993px",
    "width": "160px"
   },
   "number_sections": true,
   "sideBar": true,
   "skip_h1_title": false,
   "title_cell": "Table of Contents",
   "title_sidebar": "Contents",
   "toc_cell": false,
   "toc_position": {
    "height": "calc(100% - 180px)",
    "left": "10px",
    "top": "150px",
    "width": "235.434px"
   },
   "toc_section_display": true,
   "toc_window_display": true
  }
 },
 "nbformat": 4,
 "nbformat_minor": 5
}
